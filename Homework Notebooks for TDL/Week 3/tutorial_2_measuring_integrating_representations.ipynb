{
 "nbformat": 4,
 "nbformat_minor": 0,
 "metadata": {
  "colab": {
   "name": "tutorial_2_measuring_integrating_representations.ipynb",
   "provenance": [],
   "collapsed_sections": [],
   "machine_shape": "hm"
  },
  "kernelspec": {
   "display_name": "Python 3",
   "language": "python",
   "name": "python3"
  },
  "language_info": {
   "codemirror_mode": {
    "name": "ipython",
    "version": 3
   },
   "file_extension": ".py",
   "mimetype": "text/x-python",
   "name": "python",
   "nbconvert_exporter": "python",
   "pygments_lexer": "ipython3",
   "version": "3.7.6"
  },
  "widgets": {
   "application/vnd.jupyter.widget-state+json": {
    "d87062a54e7546a586d5aa942d515f9a": {
     "model_module": "@jupyter-widgets/controls",
     "model_name": "HBoxModel",
     "state": {
      "_view_name": "HBoxView",
      "_dom_classes": [],
      "_model_name": "HBoxModel",
      "_view_module": "@jupyter-widgets/controls",
      "_model_module_version": "1.5.0",
      "_view_count": null,
      "_view_module_version": "1.5.0",
      "box_style": "",
      "layout": "IPY_MODEL_1f685aff40c84b4b9b4f4e2f52368b5e",
      "_model_module": "@jupyter-widgets/controls",
      "children": [
       "IPY_MODEL_2eeaf0824b3b425198c7fe431f5b0eb9",
       "IPY_MODEL_d05af8179d26418f98d1a12227b495e0"
      ]
     }
    },
    "1f685aff40c84b4b9b4f4e2f52368b5e": {
     "model_module": "@jupyter-widgets/base",
     "model_name": "LayoutModel",
     "state": {
      "_view_name": "LayoutView",
      "grid_template_rows": null,
      "right": null,
      "justify_content": null,
      "_view_module": "@jupyter-widgets/base",
      "overflow": null,
      "_model_module_version": "1.2.0",
      "_view_count": null,
      "flex_flow": null,
      "width": null,
      "min_width": null,
      "border": null,
      "align_items": null,
      "bottom": null,
      "_model_module": "@jupyter-widgets/base",
      "top": null,
      "grid_column": null,
      "overflow_y": null,
      "overflow_x": null,
      "grid_auto_flow": null,
      "grid_area": null,
      "grid_template_columns": null,
      "flex": null,
      "_model_name": "LayoutModel",
      "justify_items": null,
      "grid_row": null,
      "max_height": null,
      "align_content": null,
      "visibility": null,
      "align_self": null,
      "height": null,
      "min_height": null,
      "padding": null,
      "grid_auto_rows": null,
      "grid_gap": null,
      "max_width": null,
      "order": null,
      "_view_module_version": "1.2.0",
      "grid_template_areas": null,
      "object_position": null,
      "object_fit": null,
      "grid_auto_columns": null,
      "margin": null,
      "display": null,
      "left": null
     }
    },
    "2eeaf0824b3b425198c7fe431f5b0eb9": {
     "model_module": "@jupyter-widgets/controls",
     "model_name": "FloatProgressModel",
     "state": {
      "_view_name": "ProgressView",
      "style": "IPY_MODEL_ac905746a7584d0290d8e5418fde3f27",
      "_dom_classes": [],
      "description": "Computing transition probabilities: 100%",
      "_model_name": "FloatProgressModel",
      "bar_style": "success",
      "max": 34,
      "_view_module": "@jupyter-widgets/controls",
      "_model_module_version": "1.5.0",
      "value": 34,
      "_view_count": null,
      "_view_module_version": "1.5.0",
      "orientation": "horizontal",
      "min": 0,
      "description_tooltip": null,
      "_model_module": "@jupyter-widgets/controls",
      "layout": "IPY_MODEL_2bd243b42ba84aae90372958bf33ce48"
     }
    },
    "d05af8179d26418f98d1a12227b495e0": {
     "model_module": "@jupyter-widgets/controls",
     "model_name": "HTMLModel",
     "state": {
      "_view_name": "HTMLView",
      "style": "IPY_MODEL_59cf1b4efaf04e78bd868bf396c0d6fa",
      "_dom_classes": [],
      "description": "",
      "_model_name": "HTMLModel",
      "placeholder": "​",
      "_view_module": "@jupyter-widgets/controls",
      "_model_module_version": "1.5.0",
      "value": " 34/34 [00:06&lt;00:00,  4.89it/s]",
      "_view_count": null,
      "_view_module_version": "1.5.0",
      "description_tooltip": null,
      "_model_module": "@jupyter-widgets/controls",
      "layout": "IPY_MODEL_c14d371a3d384cbd97b3664803433a7e"
     }
    },
    "ac905746a7584d0290d8e5418fde3f27": {
     "model_module": "@jupyter-widgets/controls",
     "model_name": "ProgressStyleModel",
     "state": {
      "_view_name": "StyleView",
      "_model_name": "ProgressStyleModel",
      "description_width": "initial",
      "_view_module": "@jupyter-widgets/base",
      "_model_module_version": "1.5.0",
      "_view_count": null,
      "_view_module_version": "1.2.0",
      "bar_color": null,
      "_model_module": "@jupyter-widgets/controls"
     }
    },
    "2bd243b42ba84aae90372958bf33ce48": {
     "model_module": "@jupyter-widgets/base",
     "model_name": "LayoutModel",
     "state": {
      "_view_name": "LayoutView",
      "grid_template_rows": null,
      "right": null,
      "justify_content": null,
      "_view_module": "@jupyter-widgets/base",
      "overflow": null,
      "_model_module_version": "1.2.0",
      "_view_count": null,
      "flex_flow": null,
      "width": null,
      "min_width": null,
      "border": null,
      "align_items": null,
      "bottom": null,
      "_model_module": "@jupyter-widgets/base",
      "top": null,
      "grid_column": null,
      "overflow_y": null,
      "overflow_x": null,
      "grid_auto_flow": null,
      "grid_area": null,
      "grid_template_columns": null,
      "flex": null,
      "_model_name": "LayoutModel",
      "justify_items": null,
      "grid_row": null,
      "max_height": null,
      "align_content": null,
      "visibility": null,
      "align_self": null,
      "height": null,
      "min_height": null,
      "padding": null,
      "grid_auto_rows": null,
      "grid_gap": null,
      "max_width": null,
      "order": null,
      "_view_module_version": "1.2.0",
      "grid_template_areas": null,
      "object_position": null,
      "object_fit": null,
      "grid_auto_columns": null,
      "margin": null,
      "display": null,
      "left": null
     }
    },
    "59cf1b4efaf04e78bd868bf396c0d6fa": {
     "model_module": "@jupyter-widgets/controls",
     "model_name": "DescriptionStyleModel",
     "state": {
      "_view_name": "StyleView",
      "_model_name": "DescriptionStyleModel",
      "description_width": "",
      "_view_module": "@jupyter-widgets/base",
      "_model_module_version": "1.5.0",
      "_view_count": null,
      "_view_module_version": "1.2.0",
      "_model_module": "@jupyter-widgets/controls"
     }
    },
    "c14d371a3d384cbd97b3664803433a7e": {
     "model_module": "@jupyter-widgets/base",
     "model_name": "LayoutModel",
     "state": {
      "_view_name": "LayoutView",
      "grid_template_rows": null,
      "right": null,
      "justify_content": null,
      "_view_module": "@jupyter-widgets/base",
      "overflow": null,
      "_model_module_version": "1.2.0",
      "_view_count": null,
      "flex_flow": null,
      "width": null,
      "min_width": null,
      "border": null,
      "align_items": null,
      "bottom": null,
      "_model_module": "@jupyter-widgets/base",
      "top": null,
      "grid_column": null,
      "overflow_y": null,
      "overflow_x": null,
      "grid_auto_flow": null,
      "grid_area": null,
      "grid_template_columns": null,
      "flex": null,
      "_model_name": "LayoutModel",
      "justify_items": null,
      "grid_row": null,
      "max_height": null,
      "align_content": null,
      "visibility": null,
      "align_self": null,
      "height": null,
      "min_height": null,
      "padding": null,
      "grid_auto_rows": null,
      "grid_gap": null,
      "max_width": null,
      "order": null,
      "_view_module_version": "1.2.0",
      "grid_template_areas": null,
      "object_position": null,
      "object_fit": null,
      "grid_auto_columns": null,
      "margin": null,
      "display": null,
      "left": null
     }
    },
    "378c679101184dc3bae2b713849db181": {
     "model_module": "@jupyter-widgets/controls",
     "model_name": "HBoxModel",
     "state": {
      "_view_name": "HBoxView",
      "_dom_classes": [],
      "_model_name": "HBoxModel",
      "_view_module": "@jupyter-widgets/controls",
      "_model_module_version": "1.5.0",
      "_view_count": null,
      "_view_module_version": "1.5.0",
      "box_style": "",
      "layout": "IPY_MODEL_d8bd593626c841e38e0c442d0894a161",
      "_model_module": "@jupyter-widgets/controls",
      "children": [
       "IPY_MODEL_456ce5cd5bc14207a586f4b5aca118d0",
       "IPY_MODEL_34bae2aec3e34c32883cd296b96bbdd1"
      ]
     }
    },
    "d8bd593626c841e38e0c442d0894a161": {
     "model_module": "@jupyter-widgets/base",
     "model_name": "LayoutModel",
     "state": {
      "_view_name": "LayoutView",
      "grid_template_rows": null,
      "right": null,
      "justify_content": null,
      "_view_module": "@jupyter-widgets/base",
      "overflow": null,
      "_model_module_version": "1.2.0",
      "_view_count": null,
      "flex_flow": null,
      "width": null,
      "min_width": null,
      "border": null,
      "align_items": null,
      "bottom": null,
      "_model_module": "@jupyter-widgets/base",
      "top": null,
      "grid_column": null,
      "overflow_y": null,
      "overflow_x": null,
      "grid_auto_flow": null,
      "grid_area": null,
      "grid_template_columns": null,
      "flex": null,
      "_model_name": "LayoutModel",
      "justify_items": null,
      "grid_row": null,
      "max_height": null,
      "align_content": null,
      "visibility": null,
      "align_self": null,
      "height": null,
      "min_height": null,
      "padding": null,
      "grid_auto_rows": null,
      "grid_gap": null,
      "max_width": null,
      "order": null,
      "_view_module_version": "1.2.0",
      "grid_template_areas": null,
      "object_position": null,
      "object_fit": null,
      "grid_auto_columns": null,
      "margin": null,
      "display": null,
      "left": null
     }
    },
    "456ce5cd5bc14207a586f4b5aca118d0": {
     "model_module": "@jupyter-widgets/controls",
     "model_name": "FloatProgressModel",
     "state": {
      "_view_name": "ProgressView",
      "style": "IPY_MODEL_447e365eacda42168d862e8df5a94dc4",
      "_dom_classes": [],
      "description": "Downloading: 100%",
      "_model_name": "FloatProgressModel",
      "bar_style": "success",
      "max": 291,
      "_view_module": "@jupyter-widgets/controls",
      "_model_module_version": "1.5.0",
      "value": 291,
      "_view_count": null,
      "_view_module_version": "1.5.0",
      "orientation": "horizontal",
      "min": 0,
      "description_tooltip": null,
      "_model_module": "@jupyter-widgets/controls",
      "layout": "IPY_MODEL_c6055714fb964de98b00e824976f7264"
     }
    },
    "34bae2aec3e34c32883cd296b96bbdd1": {
     "model_module": "@jupyter-widgets/controls",
     "model_name": "HTMLModel",
     "state": {
      "_view_name": "HTMLView",
      "style": "IPY_MODEL_d1c30962faa049928c000a4f67a7a277",
      "_dom_classes": [],
      "description": "",
      "_model_name": "HTMLModel",
      "placeholder": "​",
      "_view_module": "@jupyter-widgets/controls",
      "_model_module_version": "1.5.0",
      "value": " 291/291 [00:02&lt;00:00, 128B/s]",
      "_view_count": null,
      "_view_module_version": "1.5.0",
      "description_tooltip": null,
      "_model_module": "@jupyter-widgets/controls",
      "layout": "IPY_MODEL_d24a87ddea254530ac65c69def2f4aaa"
     }
    },
    "447e365eacda42168d862e8df5a94dc4": {
     "model_module": "@jupyter-widgets/controls",
     "model_name": "ProgressStyleModel",
     "state": {
      "_view_name": "StyleView",
      "_model_name": "ProgressStyleModel",
      "description_width": "initial",
      "_view_module": "@jupyter-widgets/base",
      "_model_module_version": "1.5.0",
      "_view_count": null,
      "_view_module_version": "1.2.0",
      "bar_color": null,
      "_model_module": "@jupyter-widgets/controls"
     }
    },
    "c6055714fb964de98b00e824976f7264": {
     "model_module": "@jupyter-widgets/base",
     "model_name": "LayoutModel",
     "state": {
      "_view_name": "LayoutView",
      "grid_template_rows": null,
      "right": null,
      "justify_content": null,
      "_view_module": "@jupyter-widgets/base",
      "overflow": null,
      "_model_module_version": "1.2.0",
      "_view_count": null,
      "flex_flow": null,
      "width": null,
      "min_width": null,
      "border": null,
      "align_items": null,
      "bottom": null,
      "_model_module": "@jupyter-widgets/base",
      "top": null,
      "grid_column": null,
      "overflow_y": null,
      "overflow_x": null,
      "grid_auto_flow": null,
      "grid_area": null,
      "grid_template_columns": null,
      "flex": null,
      "_model_name": "LayoutModel",
      "justify_items": null,
      "grid_row": null,
      "max_height": null,
      "align_content": null,
      "visibility": null,
      "align_self": null,
      "height": null,
      "min_height": null,
      "padding": null,
      "grid_auto_rows": null,
      "grid_gap": null,
      "max_width": null,
      "order": null,
      "_view_module_version": "1.2.0",
      "grid_template_areas": null,
      "object_position": null,
      "object_fit": null,
      "grid_auto_columns": null,
      "margin": null,
      "display": null,
      "left": null
     }
    },
    "d1c30962faa049928c000a4f67a7a277": {
     "model_module": "@jupyter-widgets/controls",
     "model_name": "DescriptionStyleModel",
     "state": {
      "_view_name": "StyleView",
      "_model_name": "DescriptionStyleModel",
      "description_width": "",
      "_view_module": "@jupyter-widgets/base",
      "_model_module_version": "1.5.0",
      "_view_count": null,
      "_view_module_version": "1.2.0",
      "_model_module": "@jupyter-widgets/controls"
     }
    },
    "d24a87ddea254530ac65c69def2f4aaa": {
     "model_module": "@jupyter-widgets/base",
     "model_name": "LayoutModel",
     "state": {
      "_view_name": "LayoutView",
      "grid_template_rows": null,
      "right": null,
      "justify_content": null,
      "_view_module": "@jupyter-widgets/base",
      "overflow": null,
      "_model_module_version": "1.2.0",
      "_view_count": null,
      "flex_flow": null,
      "width": null,
      "min_width": null,
      "border": null,
      "align_items": null,
      "bottom": null,
      "_model_module": "@jupyter-widgets/base",
      "top": null,
      "grid_column": null,
      "overflow_y": null,
      "overflow_x": null,
      "grid_auto_flow": null,
      "grid_area": null,
      "grid_template_columns": null,
      "flex": null,
      "_model_name": "LayoutModel",
      "justify_items": null,
      "grid_row": null,
      "max_height": null,
      "align_content": null,
      "visibility": null,
      "align_self": null,
      "height": null,
      "min_height": null,
      "padding": null,
      "grid_auto_rows": null,
      "grid_gap": null,
      "max_width": null,
      "order": null,
      "_view_module_version": "1.2.0",
      "grid_template_areas": null,
      "object_position": null,
      "object_fit": null,
      "grid_auto_columns": null,
      "margin": null,
      "display": null,
      "left": null
     }
    },
    "5beeabb33af44b1f9072e23b7c6d25cd": {
     "model_module": "@jupyter-widgets/controls",
     "model_name": "HBoxModel",
     "state": {
      "_view_name": "HBoxView",
      "_dom_classes": [],
      "_model_name": "HBoxModel",
      "_view_module": "@jupyter-widgets/controls",
      "_model_module_version": "1.5.0",
      "_view_count": null,
      "_view_module_version": "1.5.0",
      "box_style": "",
      "layout": "IPY_MODEL_ee10847a3d2b441b9bad3e01e046157e",
      "_model_module": "@jupyter-widgets/controls",
      "children": [
       "IPY_MODEL_0c00fc5a5b4c4ffaa29b7fa73dd033b6",
       "IPY_MODEL_e9e5473e58964432abcbd28a623ecc58"
      ]
     }
    },
    "ee10847a3d2b441b9bad3e01e046157e": {
     "model_module": "@jupyter-widgets/base",
     "model_name": "LayoutModel",
     "state": {
      "_view_name": "LayoutView",
      "grid_template_rows": null,
      "right": null,
      "justify_content": null,
      "_view_module": "@jupyter-widgets/base",
      "overflow": null,
      "_model_module_version": "1.2.0",
      "_view_count": null,
      "flex_flow": null,
      "width": null,
      "min_width": null,
      "border": null,
      "align_items": null,
      "bottom": null,
      "_model_module": "@jupyter-widgets/base",
      "top": null,
      "grid_column": null,
      "overflow_y": null,
      "overflow_x": null,
      "grid_auto_flow": null,
      "grid_area": null,
      "grid_template_columns": null,
      "flex": null,
      "_model_name": "LayoutModel",
      "justify_items": null,
      "grid_row": null,
      "max_height": null,
      "align_content": null,
      "visibility": null,
      "align_self": null,
      "height": null,
      "min_height": null,
      "padding": null,
      "grid_auto_rows": null,
      "grid_gap": null,
      "max_width": null,
      "order": null,
      "_view_module_version": "1.2.0",
      "grid_template_areas": null,
      "object_position": null,
      "object_fit": null,
      "grid_auto_columns": null,
      "margin": null,
      "display": null,
      "left": null
     }
    },
    "0c00fc5a5b4c4ffaa29b7fa73dd033b6": {
     "model_module": "@jupyter-widgets/controls",
     "model_name": "FloatProgressModel",
     "state": {
      "_view_name": "ProgressView",
      "style": "IPY_MODEL_82cfca13fb054b41b0535c75883b86d9",
      "_dom_classes": [],
      "description": "Downloading: 100%",
      "_model_name": "FloatProgressModel",
      "bar_style": "success",
      "max": 163,
      "_view_module": "@jupyter-widgets/controls",
      "_model_module_version": "1.5.0",
      "value": 163,
      "_view_count": null,
      "_view_module_version": "1.5.0",
      "orientation": "horizontal",
      "min": 0,
      "description_tooltip": null,
      "_model_module": "@jupyter-widgets/controls",
      "layout": "IPY_MODEL_3fb130eacf4046eea774c188451d19bb"
     }
    },
    "e9e5473e58964432abcbd28a623ecc58": {
     "model_module": "@jupyter-widgets/controls",
     "model_name": "HTMLModel",
     "state": {
      "_view_name": "HTMLView",
      "style": "IPY_MODEL_ec0ba30224a64cd4be49488e18e7a5c8",
      "_dom_classes": [],
      "description": "",
      "_model_name": "HTMLModel",
      "placeholder": "​",
      "_view_module": "@jupyter-widgets/controls",
      "_model_module_version": "1.5.0",
      "value": " 163/163 [00:01&lt;00:00, 95.9B/s]",
      "_view_count": null,
      "_view_module_version": "1.5.0",
      "description_tooltip": null,
      "_model_module": "@jupyter-widgets/controls",
      "layout": "IPY_MODEL_ec638c98301d43018abf609d5e52429b"
     }
    },
    "82cfca13fb054b41b0535c75883b86d9": {
     "model_module": "@jupyter-widgets/controls",
     "model_name": "ProgressStyleModel",
     "state": {
      "_view_name": "StyleView",
      "_model_name": "ProgressStyleModel",
      "description_width": "initial",
      "_view_module": "@jupyter-widgets/base",
      "_model_module_version": "1.5.0",
      "_view_count": null,
      "_view_module_version": "1.2.0",
      "bar_color": null,
      "_model_module": "@jupyter-widgets/controls"
     }
    },
    "3fb130eacf4046eea774c188451d19bb": {
     "model_module": "@jupyter-widgets/base",
     "model_name": "LayoutModel",
     "state": {
      "_view_name": "LayoutView",
      "grid_template_rows": null,
      "right": null,
      "justify_content": null,
      "_view_module": "@jupyter-widgets/base",
      "overflow": null,
      "_model_module_version": "1.2.0",
      "_view_count": null,
      "flex_flow": null,
      "width": null,
      "min_width": null,
      "border": null,
      "align_items": null,
      "bottom": null,
      "_model_module": "@jupyter-widgets/base",
      "top": null,
      "grid_column": null,
      "overflow_y": null,
      "overflow_x": null,
      "grid_auto_flow": null,
      "grid_area": null,
      "grid_template_columns": null,
      "flex": null,
      "_model_name": "LayoutModel",
      "justify_items": null,
      "grid_row": null,
      "max_height": null,
      "align_content": null,
      "visibility": null,
      "align_self": null,
      "height": null,
      "min_height": null,
      "padding": null,
      "grid_auto_rows": null,
      "grid_gap": null,
      "max_width": null,
      "order": null,
      "_view_module_version": "1.2.0",
      "grid_template_areas": null,
      "object_position": null,
      "object_fit": null,
      "grid_auto_columns": null,
      "margin": null,
      "display": null,
      "left": null
     }
    },
    "ec0ba30224a64cd4be49488e18e7a5c8": {
     "model_module": "@jupyter-widgets/controls",
     "model_name": "DescriptionStyleModel",
     "state": {
      "_view_name": "StyleView",
      "_model_name": "DescriptionStyleModel",
      "description_width": "",
      "_view_module": "@jupyter-widgets/base",
      "_model_module_version": "1.5.0",
      "_view_count": null,
      "_view_module_version": "1.2.0",
      "_model_module": "@jupyter-widgets/controls"
     }
    },
    "ec638c98301d43018abf609d5e52429b": {
     "model_module": "@jupyter-widgets/base",
     "model_name": "LayoutModel",
     "state": {
      "_view_name": "LayoutView",
      "grid_template_rows": null,
      "right": null,
      "justify_content": null,
      "_view_module": "@jupyter-widgets/base",
      "overflow": null,
      "_model_module_version": "1.2.0",
      "_view_count": null,
      "flex_flow": null,
      "width": null,
      "min_width": null,
      "border": null,
      "align_items": null,
      "bottom": null,
      "_model_module": "@jupyter-widgets/base",
      "top": null,
      "grid_column": null,
      "overflow_y": null,
      "overflow_x": null,
      "grid_auto_flow": null,
      "grid_area": null,
      "grid_template_columns": null,
      "flex": null,
      "_model_name": "LayoutModel",
      "justify_items": null,
      "grid_row": null,
      "max_height": null,
      "align_content": null,
      "visibility": null,
      "align_self": null,
      "height": null,
      "min_height": null,
      "padding": null,
      "grid_auto_rows": null,
      "grid_gap": null,
      "max_width": null,
      "order": null,
      "_view_module_version": "1.2.0",
      "grid_template_areas": null,
      "object_position": null,
      "object_fit": null,
      "grid_auto_columns": null,
      "margin": null,
      "display": null,
      "left": null
     }
    },
    "5a3c52998c2d49bfb5d62c526e121e7f": {
     "model_module": "@jupyter-widgets/controls",
     "model_name": "HBoxModel",
     "state": {
      "_view_name": "HBoxView",
      "_dom_classes": [],
      "_model_name": "HBoxModel",
      "_view_module": "@jupyter-widgets/controls",
      "_model_module_version": "1.5.0",
      "_view_count": null,
      "_view_module_version": "1.5.0",
      "box_style": "",
      "layout": "IPY_MODEL_634dd32f7894415b84b69ed28499a399",
      "_model_module": "@jupyter-widgets/controls",
      "children": [
       "IPY_MODEL_78431c605d564a92a78c0be0d1f8ae85",
       "IPY_MODEL_4ea9cfd696324476a87c91adbbad2ec1"
      ]
     }
    },
    "634dd32f7894415b84b69ed28499a399": {
     "model_module": "@jupyter-widgets/base",
     "model_name": "LayoutModel",
     "state": {
      "_view_name": "LayoutView",
      "grid_template_rows": null,
      "right": null,
      "justify_content": null,
      "_view_module": "@jupyter-widgets/base",
      "overflow": null,
      "_model_module_version": "1.2.0",
      "_view_count": null,
      "flex_flow": null,
      "width": null,
      "min_width": null,
      "border": null,
      "align_items": null,
      "bottom": null,
      "_model_module": "@jupyter-widgets/base",
      "top": null,
      "grid_column": null,
      "overflow_y": null,
      "overflow_x": null,
      "grid_auto_flow": null,
      "grid_area": null,
      "grid_template_columns": null,
      "flex": null,
      "_model_name": "LayoutModel",
      "justify_items": null,
      "grid_row": null,
      "max_height": null,
      "align_content": null,
      "visibility": null,
      "align_self": null,
      "height": null,
      "min_height": null,
      "padding": null,
      "grid_auto_rows": null,
      "grid_gap": null,
      "max_width": null,
      "order": null,
      "_view_module_version": "1.2.0",
      "grid_template_areas": null,
      "object_position": null,
      "object_fit": null,
      "grid_auto_columns": null,
      "margin": null,
      "display": null,
      "left": null
     }
    },
    "78431c605d564a92a78c0be0d1f8ae85": {
     "model_module": "@jupyter-widgets/controls",
     "model_name": "FloatProgressModel",
     "state": {
      "_view_name": "ProgressView",
      "style": "IPY_MODEL_1f12ccb181934b929cf313981bd30e06",
      "_dom_classes": [],
      "description": "Downloading: 100%",
      "_model_name": "FloatProgressModel",
      "bar_style": "success",
      "max": 85,
      "_view_module": "@jupyter-widgets/controls",
      "_model_module_version": "1.5.0",
      "value": 85,
      "_view_count": null,
      "_view_module_version": "1.5.0",
      "orientation": "horizontal",
      "min": 0,
      "description_tooltip": null,
      "_model_module": "@jupyter-widgets/controls",
      "layout": "IPY_MODEL_999043331a554a59803f17fd6a45c07d"
     }
    },
    "4ea9cfd696324476a87c91adbbad2ec1": {
     "model_module": "@jupyter-widgets/controls",
     "model_name": "HTMLModel",
     "state": {
      "_view_name": "HTMLView",
      "style": "IPY_MODEL_a7177fbe05e14854b02cd337ab2b34f5",
      "_dom_classes": [],
      "description": "",
      "_model_name": "HTMLModel",
      "placeholder": "​",
      "_view_module": "@jupyter-widgets/controls",
      "_model_module_version": "1.5.0",
      "value": " 85.0/85.0 [00:00&lt;00:00, 100B/s]",
      "_view_count": null,
      "_view_module_version": "1.5.0",
      "description_tooltip": null,
      "_model_module": "@jupyter-widgets/controls",
      "layout": "IPY_MODEL_fa8b6a5f576e4c9d8b4b5af3748d8615"
     }
    },
    "1f12ccb181934b929cf313981bd30e06": {
     "model_module": "@jupyter-widgets/controls",
     "model_name": "ProgressStyleModel",
     "state": {
      "_view_name": "StyleView",
      "_model_name": "ProgressStyleModel",
      "description_width": "initial",
      "_view_module": "@jupyter-widgets/base",
      "_model_module_version": "1.5.0",
      "_view_count": null,
      "_view_module_version": "1.2.0",
      "bar_color": null,
      "_model_module": "@jupyter-widgets/controls"
     }
    },
    "999043331a554a59803f17fd6a45c07d": {
     "model_module": "@jupyter-widgets/base",
     "model_name": "LayoutModel",
     "state": {
      "_view_name": "LayoutView",
      "grid_template_rows": null,
      "right": null,
      "justify_content": null,
      "_view_module": "@jupyter-widgets/base",
      "overflow": null,
      "_model_module_version": "1.2.0",
      "_view_count": null,
      "flex_flow": null,
      "width": null,
      "min_width": null,
      "border": null,
      "align_items": null,
      "bottom": null,
      "_model_module": "@jupyter-widgets/base",
      "top": null,
      "grid_column": null,
      "overflow_y": null,
      "overflow_x": null,
      "grid_auto_flow": null,
      "grid_area": null,
      "grid_template_columns": null,
      "flex": null,
      "_model_name": "LayoutModel",
      "justify_items": null,
      "grid_row": null,
      "max_height": null,
      "align_content": null,
      "visibility": null,
      "align_self": null,
      "height": null,
      "min_height": null,
      "padding": null,
      "grid_auto_rows": null,
      "grid_gap": null,
      "max_width": null,
      "order": null,
      "_view_module_version": "1.2.0",
      "grid_template_areas": null,
      "object_position": null,
      "object_fit": null,
      "grid_auto_columns": null,
      "margin": null,
      "display": null,
      "left": null
     }
    },
    "a7177fbe05e14854b02cd337ab2b34f5": {
     "model_module": "@jupyter-widgets/controls",
     "model_name": "DescriptionStyleModel",
     "state": {
      "_view_name": "StyleView",
      "_model_name": "DescriptionStyleModel",
      "description_width": "",
      "_view_module": "@jupyter-widgets/base",
      "_model_module_version": "1.5.0",
      "_view_count": null,
      "_view_module_version": "1.2.0",
      "_model_module": "@jupyter-widgets/controls"
     }
    },
    "fa8b6a5f576e4c9d8b4b5af3748d8615": {
     "model_module": "@jupyter-widgets/base",
     "model_name": "LayoutModel",
     "state": {
      "_view_name": "LayoutView",
      "grid_template_rows": null,
      "right": null,
      "justify_content": null,
      "_view_module": "@jupyter-widgets/base",
      "overflow": null,
      "_model_module_version": "1.2.0",
      "_view_count": null,
      "flex_flow": null,
      "width": null,
      "min_width": null,
      "border": null,
      "align_items": null,
      "bottom": null,
      "_model_module": "@jupyter-widgets/base",
      "top": null,
      "grid_column": null,
      "overflow_y": null,
      "overflow_x": null,
      "grid_auto_flow": null,
      "grid_area": null,
      "grid_template_columns": null,
      "flex": null,
      "_model_name": "LayoutModel",
      "justify_items": null,
      "grid_row": null,
      "max_height": null,
      "align_content": null,
      "visibility": null,
      "align_self": null,
      "height": null,
      "min_height": null,
      "padding": null,
      "grid_auto_rows": null,
      "grid_gap": null,
      "max_width": null,
      "order": null,
      "_view_module_version": "1.2.0",
      "grid_template_areas": null,
      "object_position": null,
      "object_fit": null,
      "grid_auto_columns": null,
      "margin": null,
      "display": null,
      "left": null
     }
    },
    "f71aa497bc974cc9a07b064d8ed9483b": {
     "model_module": "@jupyter-widgets/controls",
     "model_name": "HBoxModel",
     "state": {
      "_view_name": "HBoxView",
      "_dom_classes": [],
      "_model_name": "HBoxModel",
      "_view_module": "@jupyter-widgets/controls",
      "_model_module_version": "1.5.0",
      "_view_count": null,
      "_view_module_version": "1.5.0",
      "box_style": "",
      "layout": "IPY_MODEL_c3706299c06b4e648c714f1a8b43d593",
      "_model_module": "@jupyter-widgets/controls",
      "children": [
       "IPY_MODEL_9c9986e1bbd84838aab13b9029c94e96",
       "IPY_MODEL_1fbe7ee57bae4497b4f98eeb71f892ec"
      ]
     }
    },
    "c3706299c06b4e648c714f1a8b43d593": {
     "model_module": "@jupyter-widgets/base",
     "model_name": "LayoutModel",
     "state": {
      "_view_name": "LayoutView",
      "grid_template_rows": null,
      "right": null,
      "justify_content": null,
      "_view_module": "@jupyter-widgets/base",
      "overflow": null,
      "_model_module_version": "1.2.0",
      "_view_count": null,
      "flex_flow": null,
      "width": null,
      "min_width": null,
      "border": null,
      "align_items": null,
      "bottom": null,
      "_model_module": "@jupyter-widgets/base",
      "top": null,
      "grid_column": null,
      "overflow_y": null,
      "overflow_x": null,
      "grid_auto_flow": null,
      "grid_area": null,
      "grid_template_columns": null,
      "flex": null,
      "_model_name": "LayoutModel",
      "justify_items": null,
      "grid_row": null,
      "max_height": null,
      "align_content": null,
      "visibility": null,
      "align_self": null,
      "height": null,
      "min_height": null,
      "padding": null,
      "grid_auto_rows": null,
      "grid_gap": null,
      "max_width": null,
      "order": null,
      "_view_module_version": "1.2.0",
      "grid_template_areas": null,
      "object_position": null,
      "object_fit": null,
      "grid_auto_columns": null,
      "margin": null,
      "display": null,
      "left": null
     }
    },
    "9c9986e1bbd84838aab13b9029c94e96": {
     "model_module": "@jupyter-widgets/controls",
     "model_name": "FloatProgressModel",
     "state": {
      "_view_name": "ProgressView",
      "style": "IPY_MODEL_1d1723dc94ad4296b6ed577031afb6a5",
      "_dom_classes": [],
      "description": "Downloading: 100%",
      "_model_name": "FloatProgressModel",
      "bar_style": "success",
      "max": 843,
      "_view_module": "@jupyter-widgets/controls",
      "_model_module_version": "1.5.0",
      "value": 843,
      "_view_count": null,
      "_view_module_version": "1.5.0",
      "orientation": "horizontal",
      "min": 0,
      "description_tooltip": null,
      "_model_module": "@jupyter-widgets/controls",
      "layout": "IPY_MODEL_0c100b5cd9594324b140d7fdc5106705"
     }
    },
    "1fbe7ee57bae4497b4f98eeb71f892ec": {
     "model_module": "@jupyter-widgets/controls",
     "model_name": "HTMLModel",
     "state": {
      "_view_name": "HTMLView",
      "style": "IPY_MODEL_c4273785c6c14a14baff85147e73a6cf",
      "_dom_classes": [],
      "description": "",
      "_model_name": "HTMLModel",
      "placeholder": "​",
      "_view_module": "@jupyter-widgets/controls",
      "_model_module_version": "1.5.0",
      "value": " 843/843 [00:12&lt;00:00, 69.8B/s]",
      "_view_count": null,
      "_view_module_version": "1.5.0",
      "description_tooltip": null,
      "_model_module": "@jupyter-widgets/controls",
      "layout": "IPY_MODEL_c7b7fbded7c645a4a441c8c7534bfd31"
     }
    },
    "1d1723dc94ad4296b6ed577031afb6a5": {
     "model_module": "@jupyter-widgets/controls",
     "model_name": "ProgressStyleModel",
     "state": {
      "_view_name": "StyleView",
      "_model_name": "ProgressStyleModel",
      "description_width": "initial",
      "_view_module": "@jupyter-widgets/base",
      "_model_module_version": "1.5.0",
      "_view_count": null,
      "_view_module_version": "1.2.0",
      "bar_color": null,
      "_model_module": "@jupyter-widgets/controls"
     }
    },
    "0c100b5cd9594324b140d7fdc5106705": {
     "model_module": "@jupyter-widgets/base",
     "model_name": "LayoutModel",
     "state": {
      "_view_name": "LayoutView",
      "grid_template_rows": null,
      "right": null,
      "justify_content": null,
      "_view_module": "@jupyter-widgets/base",
      "overflow": null,
      "_model_module_version": "1.2.0",
      "_view_count": null,
      "flex_flow": null,
      "width": null,
      "min_width": null,
      "border": null,
      "align_items": null,
      "bottom": null,
      "_model_module": "@jupyter-widgets/base",
      "top": null,
      "grid_column": null,
      "overflow_y": null,
      "overflow_x": null,
      "grid_auto_flow": null,
      "grid_area": null,
      "grid_template_columns": null,
      "flex": null,
      "_model_name": "LayoutModel",
      "justify_items": null,
      "grid_row": null,
      "max_height": null,
      "align_content": null,
      "visibility": null,
      "align_self": null,
      "height": null,
      "min_height": null,
      "padding": null,
      "grid_auto_rows": null,
      "grid_gap": null,
      "max_width": null,
      "order": null,
      "_view_module_version": "1.2.0",
      "grid_template_areas": null,
      "object_position": null,
      "object_fit": null,
      "grid_auto_columns": null,
      "margin": null,
      "display": null,
      "left": null
     }
    },
    "c4273785c6c14a14baff85147e73a6cf": {
     "model_module": "@jupyter-widgets/controls",
     "model_name": "DescriptionStyleModel",
     "state": {
      "_view_name": "StyleView",
      "_model_name": "DescriptionStyleModel",
      "description_width": "",
      "_view_module": "@jupyter-widgets/base",
      "_model_module_version": "1.5.0",
      "_view_count": null,
      "_view_module_version": "1.2.0",
      "_model_module": "@jupyter-widgets/controls"
     }
    },
    "c7b7fbded7c645a4a441c8c7534bfd31": {
     "model_module": "@jupyter-widgets/base",
     "model_name": "LayoutModel",
     "state": {
      "_view_name": "LayoutView",
      "grid_template_rows": null,
      "right": null,
      "justify_content": null,
      "_view_module": "@jupyter-widgets/base",
      "overflow": null,
      "_model_module_version": "1.2.0",
      "_view_count": null,
      "flex_flow": null,
      "width": null,
      "min_width": null,
      "border": null,
      "align_items": null,
      "bottom": null,
      "_model_module": "@jupyter-widgets/base",
      "top": null,
      "grid_column": null,
      "overflow_y": null,
      "overflow_x": null,
      "grid_auto_flow": null,
      "grid_area": null,
      "grid_template_columns": null,
      "flex": null,
      "_model_name": "LayoutModel",
      "justify_items": null,
      "grid_row": null,
      "max_height": null,
      "align_content": null,
      "visibility": null,
      "align_self": null,
      "height": null,
      "min_height": null,
      "padding": null,
      "grid_auto_rows": null,
      "grid_gap": null,
      "max_width": null,
      "order": null,
      "_view_module_version": "1.2.0",
      "grid_template_areas": null,
      "object_position": null,
      "object_fit": null,
      "grid_auto_columns": null,
      "margin": null,
      "display": null,
      "left": null
     }
    },
    "2b6b268adadd411e8aea8eb0c170b2ff": {
     "model_module": "@jupyter-widgets/controls",
     "model_name": "HBoxModel",
     "state": {
      "_view_name": "HBoxView",
      "_dom_classes": [],
      "_model_name": "HBoxModel",
      "_view_module": "@jupyter-widgets/controls",
      "_model_module_version": "1.5.0",
      "_view_count": null,
      "_view_module_version": "1.5.0",
      "box_style": "",
      "layout": "IPY_MODEL_ec1e7992d5964e6bb833d253a3513a71",
      "_model_module": "@jupyter-widgets/controls",
      "children": [
       "IPY_MODEL_7dbfad7741794787a4951d3adcbcf624",
       "IPY_MODEL_dc934046dab24017a3138f141bee9503"
      ]
     }
    },
    "ec1e7992d5964e6bb833d253a3513a71": {
     "model_module": "@jupyter-widgets/base",
     "model_name": "LayoutModel",
     "state": {
      "_view_name": "LayoutView",
      "grid_template_rows": null,
      "right": null,
      "justify_content": null,
      "_view_module": "@jupyter-widgets/base",
      "overflow": null,
      "_model_module_version": "1.2.0",
      "_view_count": null,
      "flex_flow": null,
      "width": null,
      "min_width": null,
      "border": null,
      "align_items": null,
      "bottom": null,
      "_model_module": "@jupyter-widgets/base",
      "top": null,
      "grid_column": null,
      "overflow_y": null,
      "overflow_x": null,
      "grid_auto_flow": null,
      "grid_area": null,
      "grid_template_columns": null,
      "flex": null,
      "_model_name": "LayoutModel",
      "justify_items": null,
      "grid_row": null,
      "max_height": null,
      "align_content": null,
      "visibility": null,
      "align_self": null,
      "height": null,
      "min_height": null,
      "padding": null,
      "grid_auto_rows": null,
      "grid_gap": null,
      "max_width": null,
      "order": null,
      "_view_module_version": "1.2.0",
      "grid_template_areas": null,
      "object_position": null,
      "object_fit": null,
      "grid_auto_columns": null,
      "margin": null,
      "display": null,
      "left": null
     }
    },
    "7dbfad7741794787a4951d3adcbcf624": {
     "model_module": "@jupyter-widgets/controls",
     "model_name": "FloatProgressModel",
     "state": {
      "_view_name": "ProgressView",
      "style": "IPY_MODEL_d30de7af641e4bf28da89eebfd2c0096",
      "_dom_classes": [],
      "description": "Downloading: 100%",
      "_model_name": "FloatProgressModel",
      "bar_style": "success",
      "max": 377667514,
      "_view_module": "@jupyter-widgets/controls",
      "_model_module_version": "1.5.0",
      "value": 377667514,
      "_view_count": null,
      "_view_module_version": "1.5.0",
      "orientation": "horizontal",
      "min": 0,
      "description_tooltip": null,
      "_model_module": "@jupyter-widgets/controls",
      "layout": "IPY_MODEL_387ccc93a5d34866ad36f2daaf852454"
     }
    },
    "dc934046dab24017a3138f141bee9503": {
     "model_module": "@jupyter-widgets/controls",
     "model_name": "HTMLModel",
     "state": {
      "_view_name": "HTMLView",
      "style": "IPY_MODEL_ba3048672cfd4739a3dfef494978517b",
      "_dom_classes": [],
      "description": "",
      "_model_name": "HTMLModel",
      "placeholder": "​",
      "_view_module": "@jupyter-widgets/controls",
      "_model_module_version": "1.5.0",
      "value": " 378M/378M [00:07&lt;00:00, 51.2MB/s]",
      "_view_count": null,
      "_view_module_version": "1.5.0",
      "description_tooltip": null,
      "_model_module": "@jupyter-widgets/controls",
      "layout": "IPY_MODEL_0c7f2062e4294c8ca02be43e9221e0b3"
     }
    },
    "d30de7af641e4bf28da89eebfd2c0096": {
     "model_module": "@jupyter-widgets/controls",
     "model_name": "ProgressStyleModel",
     "state": {
      "_view_name": "StyleView",
      "_model_name": "ProgressStyleModel",
      "description_width": "initial",
      "_view_module": "@jupyter-widgets/base",
      "_model_module_version": "1.5.0",
      "_view_count": null,
      "_view_module_version": "1.2.0",
      "bar_color": null,
      "_model_module": "@jupyter-widgets/controls"
     }
    },
    "387ccc93a5d34866ad36f2daaf852454": {
     "model_module": "@jupyter-widgets/base",
     "model_name": "LayoutModel",
     "state": {
      "_view_name": "LayoutView",
      "grid_template_rows": null,
      "right": null,
      "justify_content": null,
      "_view_module": "@jupyter-widgets/base",
      "overflow": null,
      "_model_module_version": "1.2.0",
      "_view_count": null,
      "flex_flow": null,
      "width": null,
      "min_width": null,
      "border": null,
      "align_items": null,
      "bottom": null,
      "_model_module": "@jupyter-widgets/base",
      "top": null,
      "grid_column": null,
      "overflow_y": null,
      "overflow_x": null,
      "grid_auto_flow": null,
      "grid_area": null,
      "grid_template_columns": null,
      "flex": null,
      "_model_name": "LayoutModel",
      "justify_items": null,
      "grid_row": null,
      "max_height": null,
      "align_content": null,
      "visibility": null,
      "align_self": null,
      "height": null,
      "min_height": null,
      "padding": null,
      "grid_auto_rows": null,
      "grid_gap": null,
      "max_width": null,
      "order": null,
      "_view_module_version": "1.2.0",
      "grid_template_areas": null,
      "object_position": null,
      "object_fit": null,
      "grid_auto_columns": null,
      "margin": null,
      "display": null,
      "left": null
     }
    },
    "ba3048672cfd4739a3dfef494978517b": {
     "model_module": "@jupyter-widgets/controls",
     "model_name": "DescriptionStyleModel",
     "state": {
      "_view_name": "StyleView",
      "_model_name": "DescriptionStyleModel",
      "description_width": "",
      "_view_module": "@jupyter-widgets/base",
      "_model_module_version": "1.5.0",
      "_view_count": null,
      "_view_module_version": "1.2.0",
      "_model_module": "@jupyter-widgets/controls"
     }
    },
    "0c7f2062e4294c8ca02be43e9221e0b3": {
     "model_module": "@jupyter-widgets/base",
     "model_name": "LayoutModel",
     "state": {
      "_view_name": "LayoutView",
      "grid_template_rows": null,
      "right": null,
      "justify_content": null,
      "_view_module": "@jupyter-widgets/base",
      "overflow": null,
      "_model_module_version": "1.2.0",
      "_view_count": null,
      "flex_flow": null,
      "width": null,
      "min_width": null,
      "border": null,
      "align_items": null,
      "bottom": null,
      "_model_module": "@jupyter-widgets/base",
      "top": null,
      "grid_column": null,
      "overflow_y": null,
      "overflow_x": null,
      "grid_auto_flow": null,
      "grid_area": null,
      "grid_template_columns": null,
      "flex": null,
      "_model_name": "LayoutModel",
      "justify_items": null,
      "grid_row": null,
      "max_height": null,
      "align_content": null,
      "visibility": null,
      "align_self": null,
      "height": null,
      "min_height": null,
      "padding": null,
      "grid_auto_rows": null,
      "grid_gap": null,
      "max_width": null,
      "order": null,
      "_view_module_version": "1.2.0",
      "grid_template_areas": null,
      "object_position": null,
      "object_fit": null,
      "grid_auto_columns": null,
      "margin": null,
      "display": null,
      "left": null
     }
    },
    "b7a9196f838246c8a50962dc40695475": {
     "model_module": "@jupyter-widgets/controls",
     "model_name": "HBoxModel",
     "state": {
      "_view_name": "HBoxView",
      "_dom_classes": [],
      "_model_name": "HBoxModel",
      "_view_module": "@jupyter-widgets/controls",
      "_model_module_version": "1.5.0",
      "_view_count": null,
      "_view_module_version": "1.5.0",
      "box_style": "",
      "layout": "IPY_MODEL_440f80ec4fee47149231f137f82bf248",
      "_model_module": "@jupyter-widgets/controls",
      "children": [
       "IPY_MODEL_48d7f66017324533b2f871a112598fba",
       "IPY_MODEL_373380cb71c941809e2d6816893c3fbf"
      ]
     }
    },
    "440f80ec4fee47149231f137f82bf248": {
     "model_module": "@jupyter-widgets/base",
     "model_name": "LayoutModel",
     "state": {
      "_view_name": "LayoutView",
      "grid_template_rows": null,
      "right": null,
      "justify_content": null,
      "_view_module": "@jupyter-widgets/base",
      "overflow": null,
      "_model_module_version": "1.2.0",
      "_view_count": null,
      "flex_flow": null,
      "width": null,
      "min_width": null,
      "border": null,
      "align_items": null,
      "bottom": null,
      "_model_module": "@jupyter-widgets/base",
      "top": null,
      "grid_column": null,
      "overflow_y": null,
      "overflow_x": null,
      "grid_auto_flow": null,
      "grid_area": null,
      "grid_template_columns": null,
      "flex": null,
      "_model_name": "LayoutModel",
      "justify_items": null,
      "grid_row": null,
      "max_height": null,
      "align_content": null,
      "visibility": null,
      "align_self": null,
      "height": null,
      "min_height": null,
      "padding": null,
      "grid_auto_rows": null,
      "grid_gap": null,
      "max_width": null,
      "order": null,
      "_view_module_version": "1.2.0",
      "grid_template_areas": null,
      "object_position": null,
      "object_fit": null,
      "grid_auto_columns": null,
      "margin": null,
      "display": null,
      "left": null
     }
    },
    "48d7f66017324533b2f871a112598fba": {
     "model_module": "@jupyter-widgets/controls",
     "model_name": "FloatProgressModel",
     "state": {
      "_view_name": "ProgressView",
      "style": "IPY_MODEL_a2530d8f8ee849939afc896aa234aace",
      "_dom_classes": [],
      "description": "Downloading: 100%",
      "_model_name": "FloatProgressModel",
      "bar_style": "success",
      "max": 159,
      "_view_module": "@jupyter-widgets/controls",
      "_model_module_version": "1.5.0",
      "value": 159,
      "_view_count": null,
      "_view_module_version": "1.5.0",
      "orientation": "horizontal",
      "min": 0,
      "description_tooltip": null,
      "_model_module": "@jupyter-widgets/controls",
      "layout": "IPY_MODEL_af1a91bcfd844960ab795bc2d2084fc8"
     }
    },
    "373380cb71c941809e2d6816893c3fbf": {
     "model_module": "@jupyter-widgets/controls",
     "model_name": "HTMLModel",
     "state": {
      "_view_name": "HTMLView",
      "style": "IPY_MODEL_4aa0f9ce3cba4a6c9d60f1aed197e169",
      "_dom_classes": [],
      "description": "",
      "_model_name": "HTMLModel",
      "placeholder": "​",
      "_view_module": "@jupyter-widgets/controls",
      "_model_module_version": "1.5.0",
      "value": " 159/159 [00:01&lt;00:00, 98.7B/s]",
      "_view_count": null,
      "_view_module_version": "1.5.0",
      "description_tooltip": null,
      "_model_module": "@jupyter-widgets/controls",
      "layout": "IPY_MODEL_8a9d625e96ae40229dd36e323154bccf"
     }
    },
    "a2530d8f8ee849939afc896aa234aace": {
     "model_module": "@jupyter-widgets/controls",
     "model_name": "ProgressStyleModel",
     "state": {
      "_view_name": "StyleView",
      "_model_name": "ProgressStyleModel",
      "description_width": "initial",
      "_view_module": "@jupyter-widgets/base",
      "_model_module_version": "1.5.0",
      "_view_count": null,
      "_view_module_version": "1.2.0",
      "bar_color": null,
      "_model_module": "@jupyter-widgets/controls"
     }
    },
    "af1a91bcfd844960ab795bc2d2084fc8": {
     "model_module": "@jupyter-widgets/base",
     "model_name": "LayoutModel",
     "state": {
      "_view_name": "LayoutView",
      "grid_template_rows": null,
      "right": null,
      "justify_content": null,
      "_view_module": "@jupyter-widgets/base",
      "overflow": null,
      "_model_module_version": "1.2.0",
      "_view_count": null,
      "flex_flow": null,
      "width": null,
      "min_width": null,
      "border": null,
      "align_items": null,
      "bottom": null,
      "_model_module": "@jupyter-widgets/base",
      "top": null,
      "grid_column": null,
      "overflow_y": null,
      "overflow_x": null,
      "grid_auto_flow": null,
      "grid_area": null,
      "grid_template_columns": null,
      "flex": null,
      "_model_name": "LayoutModel",
      "justify_items": null,
      "grid_row": null,
      "max_height": null,
      "align_content": null,
      "visibility": null,
      "align_self": null,
      "height": null,
      "min_height": null,
      "padding": null,
      "grid_auto_rows": null,
      "grid_gap": null,
      "max_width": null,
      "order": null,
      "_view_module_version": "1.2.0",
      "grid_template_areas": null,
      "object_position": null,
      "object_fit": null,
      "grid_auto_columns": null,
      "margin": null,
      "display": null,
      "left": null
     }
    },
    "4aa0f9ce3cba4a6c9d60f1aed197e169": {
     "model_module": "@jupyter-widgets/controls",
     "model_name": "DescriptionStyleModel",
     "state": {
      "_view_name": "StyleView",
      "_model_name": "DescriptionStyleModel",
      "description_width": "",
      "_view_module": "@jupyter-widgets/base",
      "_model_module_version": "1.5.0",
      "_view_count": null,
      "_view_module_version": "1.2.0",
      "_model_module": "@jupyter-widgets/controls"
     }
    },
    "8a9d625e96ae40229dd36e323154bccf": {
     "model_module": "@jupyter-widgets/base",
     "model_name": "LayoutModel",
     "state": {
      "_view_name": "LayoutView",
      "grid_template_rows": null,
      "right": null,
      "justify_content": null,
      "_view_module": "@jupyter-widgets/base",
      "overflow": null,
      "_model_module_version": "1.2.0",
      "_view_count": null,
      "flex_flow": null,
      "width": null,
      "min_width": null,
      "border": null,
      "align_items": null,
      "bottom": null,
      "_model_module": "@jupyter-widgets/base",
      "top": null,
      "grid_column": null,
      "overflow_y": null,
      "overflow_x": null,
      "grid_auto_flow": null,
      "grid_area": null,
      "grid_template_columns": null,
      "flex": null,
      "_model_name": "LayoutModel",
      "justify_items": null,
      "grid_row": null,
      "max_height": null,
      "align_content": null,
      "visibility": null,
      "align_self": null,
      "height": null,
      "min_height": null,
      "padding": null,
      "grid_auto_rows": null,
      "grid_gap": null,
      "max_width": null,
      "order": null,
      "_view_module_version": "1.2.0",
      "grid_template_areas": null,
      "object_position": null,
      "object_fit": null,
      "grid_auto_columns": null,
      "margin": null,
      "display": null,
      "left": null
     }
    },
    "15de817300074758b04722fc4142af9c": {
     "model_module": "@jupyter-widgets/controls",
     "model_name": "HBoxModel",
     "state": {
      "_view_name": "HBoxView",
      "_dom_classes": [],
      "_model_name": "HBoxModel",
      "_view_module": "@jupyter-widgets/controls",
      "_model_module_version": "1.5.0",
      "_view_count": null,
      "_view_module_version": "1.5.0",
      "box_style": "",
      "layout": "IPY_MODEL_e64144385c8542ac96974ff48b8bd842",
      "_model_module": "@jupyter-widgets/controls",
      "children": [
       "IPY_MODEL_ddafafc8ad934f4abdd0ae201a746e0b",
       "IPY_MODEL_b1573106ab5643348f738f1b448784c0"
      ]
     }
    },
    "e64144385c8542ac96974ff48b8bd842": {
     "model_module": "@jupyter-widgets/base",
     "model_name": "LayoutModel",
     "state": {
      "_view_name": "LayoutView",
      "grid_template_rows": null,
      "right": null,
      "justify_content": null,
      "_view_module": "@jupyter-widgets/base",
      "overflow": null,
      "_model_module_version": "1.2.0",
      "_view_count": null,
      "flex_flow": null,
      "width": null,
      "min_width": null,
      "border": null,
      "align_items": null,
      "bottom": null,
      "_model_module": "@jupyter-widgets/base",
      "top": null,
      "grid_column": null,
      "overflow_y": null,
      "overflow_x": null,
      "grid_auto_flow": null,
      "grid_area": null,
      "grid_template_columns": null,
      "flex": null,
      "_model_name": "LayoutModel",
      "justify_items": null,
      "grid_row": null,
      "max_height": null,
      "align_content": null,
      "visibility": null,
      "align_self": null,
      "height": null,
      "min_height": null,
      "padding": null,
      "grid_auto_rows": null,
      "grid_gap": null,
      "max_width": null,
      "order": null,
      "_view_module_version": "1.2.0",
      "grid_template_areas": null,
      "object_position": null,
      "object_fit": null,
      "grid_auto_columns": null,
      "margin": null,
      "display": null,
      "left": null
     }
    },
    "ddafafc8ad934f4abdd0ae201a746e0b": {
     "model_module": "@jupyter-widgets/controls",
     "model_name": "FloatProgressModel",
     "state": {
      "_view_name": "ProgressView",
      "style": "IPY_MODEL_310b496ee48842dcb0391a0b61e9b963",
      "_dom_classes": [],
      "description": "Downloading: 100%",
      "_model_name": "FloatProgressModel",
      "bar_style": "success",
      "max": 5019,
      "_view_module": "@jupyter-widgets/controls",
      "_model_module_version": "1.5.0",
      "value": 5019,
      "_view_count": null,
      "_view_module_version": "1.5.0",
      "orientation": "horizontal",
      "min": 0,
      "description_tooltip": null,
      "_model_module": "@jupyter-widgets/controls",
      "layout": "IPY_MODEL_a55b66a1a4de477db9f4b97cc83babfd"
     }
    },
    "b1573106ab5643348f738f1b448784c0": {
     "model_module": "@jupyter-widgets/controls",
     "model_name": "HTMLModel",
     "state": {
      "_view_name": "HTMLView",
      "style": "IPY_MODEL_f8727a1d0a11430aaa03149afd2227ba",
      "_dom_classes": [],
      "description": "",
      "_model_name": "HTMLModel",
      "placeholder": "​",
      "_view_module": "@jupyter-widgets/controls",
      "_model_module_version": "1.5.0",
      "value": " 5.02k/5.02k [00:02&lt;00:00, 1.90kB/s]",
      "_view_count": null,
      "_view_module_version": "1.5.0",
      "description_tooltip": null,
      "_model_module": "@jupyter-widgets/controls",
      "layout": "IPY_MODEL_58a4db9eb96948ee9dc556ddeb56bd99"
     }
    },
    "310b496ee48842dcb0391a0b61e9b963": {
     "model_module": "@jupyter-widgets/controls",
     "model_name": "ProgressStyleModel",
     "state": {
      "_view_name": "StyleView",
      "_model_name": "ProgressStyleModel",
      "description_width": "initial",
      "_view_module": "@jupyter-widgets/base",
      "_model_module_version": "1.5.0",
      "_view_count": null,
      "_view_module_version": "1.2.0",
      "bar_color": null,
      "_model_module": "@jupyter-widgets/controls"
     }
    },
    "a55b66a1a4de477db9f4b97cc83babfd": {
     "model_module": "@jupyter-widgets/base",
     "model_name": "LayoutModel",
     "state": {
      "_view_name": "LayoutView",
      "grid_template_rows": null,
      "right": null,
      "justify_content": null,
      "_view_module": "@jupyter-widgets/base",
      "overflow": null,
      "_model_module_version": "1.2.0",
      "_view_count": null,
      "flex_flow": null,
      "width": null,
      "min_width": null,
      "border": null,
      "align_items": null,
      "bottom": null,
      "_model_module": "@jupyter-widgets/base",
      "top": null,
      "grid_column": null,
      "overflow_y": null,
      "overflow_x": null,
      "grid_auto_flow": null,
      "grid_area": null,
      "grid_template_columns": null,
      "flex": null,
      "_model_name": "LayoutModel",
      "justify_items": null,
      "grid_row": null,
      "max_height": null,
      "align_content": null,
      "visibility": null,
      "align_self": null,
      "height": null,
      "min_height": null,
      "padding": null,
      "grid_auto_rows": null,
      "grid_gap": null,
      "max_width": null,
      "order": null,
      "_view_module_version": "1.2.0",
      "grid_template_areas": null,
      "object_position": null,
      "object_fit": null,
      "grid_auto_columns": null,
      "margin": null,
      "display": null,
      "left": null
     }
    },
    "f8727a1d0a11430aaa03149afd2227ba": {
     "model_module": "@jupyter-widgets/controls",
     "model_name": "DescriptionStyleModel",
     "state": {
      "_view_name": "StyleView",
      "_model_name": "DescriptionStyleModel",
      "description_width": "",
      "_view_module": "@jupyter-widgets/base",
      "_model_module_version": "1.5.0",
      "_view_count": null,
      "_view_module_version": "1.2.0",
      "_model_module": "@jupyter-widgets/controls"
     }
    },
    "58a4db9eb96948ee9dc556ddeb56bd99": {
     "model_module": "@jupyter-widgets/base",
     "model_name": "LayoutModel",
     "state": {
      "_view_name": "LayoutView",
      "grid_template_rows": null,
      "right": null,
      "justify_content": null,
      "_view_module": "@jupyter-widgets/base",
      "overflow": null,
      "_model_module_version": "1.2.0",
      "_view_count": null,
      "flex_flow": null,
      "width": null,
      "min_width": null,
      "border": null,
      "align_items": null,
      "bottom": null,
      "_model_module": "@jupyter-widgets/base",
      "top": null,
      "grid_column": null,
      "overflow_y": null,
      "overflow_x": null,
      "grid_auto_flow": null,
      "grid_area": null,
      "grid_template_columns": null,
      "flex": null,
      "_model_name": "LayoutModel",
      "justify_items": null,
      "grid_row": null,
      "max_height": null,
      "align_content": null,
      "visibility": null,
      "align_self": null,
      "height": null,
      "min_height": null,
      "padding": null,
      "grid_auto_rows": null,
      "grid_gap": null,
      "max_width": null,
      "order": null,
      "_view_module_version": "1.2.0",
      "grid_template_areas": null,
      "object_position": null,
      "object_fit": null,
      "grid_auto_columns": null,
      "margin": null,
      "display": null,
      "left": null
     }
    },
    "c419c4131cd543738b0d62a2dd8a91a5": {
     "model_module": "@jupyter-widgets/controls",
     "model_name": "HBoxModel",
     "state": {
      "_view_name": "HBoxView",
      "_dom_classes": [],
      "_model_name": "HBoxModel",
      "_view_module": "@jupyter-widgets/controls",
      "_model_module_version": "1.5.0",
      "_view_count": null,
      "_view_module_version": "1.5.0",
      "box_style": "",
      "layout": "IPY_MODEL_ade6b93a7bbe4527aa1514b1f19060f9",
      "_model_module": "@jupyter-widgets/controls",
      "children": [
       "IPY_MODEL_7aed339d3a4b4fb8b6ee701d1c434224",
       "IPY_MODEL_37324318960349cc816f8e485dc084b9"
      ]
     }
    },
    "ade6b93a7bbe4527aa1514b1f19060f9": {
     "model_module": "@jupyter-widgets/base",
     "model_name": "LayoutModel",
     "state": {
      "_view_name": "LayoutView",
      "grid_template_rows": null,
      "right": null,
      "justify_content": null,
      "_view_module": "@jupyter-widgets/base",
      "overflow": null,
      "_model_module_version": "1.2.0",
      "_view_count": null,
      "flex_flow": null,
      "width": null,
      "min_width": null,
      "border": null,
      "align_items": null,
      "bottom": null,
      "_model_module": "@jupyter-widgets/base",
      "top": null,
      "grid_column": null,
      "overflow_y": null,
      "overflow_x": null,
      "grid_auto_flow": null,
      "grid_area": null,
      "grid_template_columns": null,
      "flex": null,
      "_model_name": "LayoutModel",
      "justify_items": null,
      "grid_row": null,
      "max_height": null,
      "align_content": null,
      "visibility": null,
      "align_self": null,
      "height": null,
      "min_height": null,
      "padding": null,
      "grid_auto_rows": null,
      "grid_gap": null,
      "max_width": null,
      "order": null,
      "_view_module_version": "1.2.0",
      "grid_template_areas": null,
      "object_position": null,
      "object_fit": null,
      "grid_auto_columns": null,
      "margin": null,
      "display": null,
      "left": null
     }
    },
    "7aed339d3a4b4fb8b6ee701d1c434224": {
     "model_module": "@jupyter-widgets/controls",
     "model_name": "FloatProgressModel",
     "state": {
      "_view_name": "ProgressView",
      "style": "IPY_MODEL_3e9235f8ba7342ccbb0c2268f90fc899",
      "_dom_classes": [],
      "description": "Downloading: 100%",
      "_model_name": "FloatProgressModel",
      "bar_style": "success",
      "max": 9078094,
      "_view_module": "@jupyter-widgets/controls",
      "_model_module_version": "1.5.0",
      "value": 9078094,
      "_view_count": null,
      "_view_module_version": "1.5.0",
      "orientation": "horizontal",
      "min": 0,
      "description_tooltip": null,
      "_model_module": "@jupyter-widgets/controls",
      "layout": "IPY_MODEL_4939907e40bf4231a9e43f2243ce6c47"
     }
    },
    "37324318960349cc816f8e485dc084b9": {
     "model_module": "@jupyter-widgets/controls",
     "model_name": "HTMLModel",
     "state": {
      "_view_name": "HTMLView",
      "style": "IPY_MODEL_dea2e83924794ac39ef38796c8317d52",
      "_dom_classes": [],
      "description": "",
      "_model_name": "HTMLModel",
      "placeholder": "​",
      "_view_module": "@jupyter-widgets/controls",
      "_model_module_version": "1.5.0",
      "value": " 9.08M/9.08M [00:01&lt;00:00, 7.25MB/s]",
      "_view_count": null,
      "_view_module_version": "1.5.0",
      "description_tooltip": null,
      "_model_module": "@jupyter-widgets/controls",
      "layout": "IPY_MODEL_6bcf91905ce54940b62e917fc96875ab"
     }
    },
    "3e9235f8ba7342ccbb0c2268f90fc899": {
     "model_module": "@jupyter-widgets/controls",
     "model_name": "ProgressStyleModel",
     "state": {
      "_view_name": "StyleView",
      "_model_name": "ProgressStyleModel",
      "description_width": "initial",
      "_view_module": "@jupyter-widgets/base",
      "_model_module_version": "1.5.0",
      "_view_count": null,
      "_view_module_version": "1.2.0",
      "bar_color": null,
      "_model_module": "@jupyter-widgets/controls"
     }
    },
    "4939907e40bf4231a9e43f2243ce6c47": {
     "model_module": "@jupyter-widgets/base",
     "model_name": "LayoutModel",
     "state": {
      "_view_name": "LayoutView",
      "grid_template_rows": null,
      "right": null,
      "justify_content": null,
      "_view_module": "@jupyter-widgets/base",
      "overflow": null,
      "_model_module_version": "1.2.0",
      "_view_count": null,
      "flex_flow": null,
      "width": null,
      "min_width": null,
      "border": null,
      "align_items": null,
      "bottom": null,
      "_model_module": "@jupyter-widgets/base",
      "top": null,
      "grid_column": null,
      "overflow_y": null,
      "overflow_x": null,
      "grid_auto_flow": null,
      "grid_area": null,
      "grid_template_columns": null,
      "flex": null,
      "_model_name": "LayoutModel",
      "justify_items": null,
      "grid_row": null,
      "max_height": null,
      "align_content": null,
      "visibility": null,
      "align_self": null,
      "height": null,
      "min_height": null,
      "padding": null,
      "grid_auto_rows": null,
      "grid_gap": null,
      "max_width": null,
      "order": null,
      "_view_module_version": "1.2.0",
      "grid_template_areas": null,
      "object_position": null,
      "object_fit": null,
      "grid_auto_columns": null,
      "margin": null,
      "display": null,
      "left": null
     }
    },
    "dea2e83924794ac39ef38796c8317d52": {
     "model_module": "@jupyter-widgets/controls",
     "model_name": "DescriptionStyleModel",
     "state": {
      "_view_name": "StyleView",
      "_model_name": "DescriptionStyleModel",
      "description_width": "",
      "_view_module": "@jupyter-widgets/base",
      "_model_module_version": "1.5.0",
      "_view_count": null,
      "_view_module_version": "1.2.0",
      "_model_module": "@jupyter-widgets/controls"
     }
    },
    "6bcf91905ce54940b62e917fc96875ab": {
     "model_module": "@jupyter-widgets/base",
     "model_name": "LayoutModel",
     "state": {
      "_view_name": "LayoutView",
      "grid_template_rows": null,
      "right": null,
      "justify_content": null,
      "_view_module": "@jupyter-widgets/base",
      "overflow": null,
      "_model_module_version": "1.2.0",
      "_view_count": null,
      "flex_flow": null,
      "width": null,
      "min_width": null,
      "border": null,
      "align_items": null,
      "bottom": null,
      "_model_module": "@jupyter-widgets/base",
      "top": null,
      "grid_column": null,
      "overflow_y": null,
      "overflow_x": null,
      "grid_auto_flow": null,
      "grid_area": null,
      "grid_template_columns": null,
      "flex": null,
      "_model_name": "LayoutModel",
      "justify_items": null,
      "grid_row": null,
      "max_height": null,
      "align_content": null,
      "visibility": null,
      "align_self": null,
      "height": null,
      "min_height": null,
      "padding": null,
      "grid_auto_rows": null,
      "grid_gap": null,
      "max_width": null,
      "order": null,
      "_view_module_version": "1.2.0",
      "grid_template_areas": null,
      "object_position": null,
      "object_fit": null,
      "grid_auto_columns": null,
      "margin": null,
      "display": null,
      "left": null
     }
    },
    "c7fc565cc91742fb9f75cb21a4bd989d": {
     "model_module": "@jupyter-widgets/controls",
     "model_name": "HBoxModel",
     "state": {
      "_view_name": "HBoxView",
      "_dom_classes": [],
      "_model_name": "HBoxModel",
      "_view_module": "@jupyter-widgets/controls",
      "_model_module_version": "1.5.0",
      "_view_count": null,
      "_view_module_version": "1.5.0",
      "box_style": "",
      "layout": "IPY_MODEL_5a5df48aa56242ae833ee7db7facace3",
      "_model_module": "@jupyter-widgets/controls",
      "children": [
       "IPY_MODEL_1ef7537f2ca64bb7892a481f154d110a",
       "IPY_MODEL_b4a79b4e3e324418a866fab379a69c6e"
      ]
     }
    },
    "5a5df48aa56242ae833ee7db7facace3": {
     "model_module": "@jupyter-widgets/base",
     "model_name": "LayoutModel",
     "state": {
      "_view_name": "LayoutView",
      "grid_template_rows": null,
      "right": null,
      "justify_content": null,
      "_view_module": "@jupyter-widgets/base",
      "overflow": null,
      "_model_module_version": "1.2.0",
      "_view_count": null,
      "flex_flow": null,
      "width": null,
      "min_width": null,
      "border": null,
      "align_items": null,
      "bottom": null,
      "_model_module": "@jupyter-widgets/base",
      "top": null,
      "grid_column": null,
      "overflow_y": null,
      "overflow_x": null,
      "grid_auto_flow": null,
      "grid_area": null,
      "grid_template_columns": null,
      "flex": null,
      "_model_name": "LayoutModel",
      "justify_items": null,
      "grid_row": null,
      "max_height": null,
      "align_content": null,
      "visibility": null,
      "align_self": null,
      "height": null,
      "min_height": null,
      "padding": null,
      "grid_auto_rows": null,
      "grid_gap": null,
      "max_width": null,
      "order": null,
      "_view_module_version": "1.2.0",
      "grid_template_areas": null,
      "object_position": null,
      "object_fit": null,
      "grid_auto_columns": null,
      "margin": null,
      "display": null,
      "left": null
     }
    },
    "1ef7537f2ca64bb7892a481f154d110a": {
     "model_module": "@jupyter-widgets/controls",
     "model_name": "FloatProgressModel",
     "state": {
      "_view_name": "ProgressView",
      "style": "IPY_MODEL_023375f755ca49beaa105d6b2a9bddf5",
      "_dom_classes": [],
      "description": "",
      "_model_name": "FloatProgressModel",
      "bar_style": "info",
      "max": 1,
      "_view_module": "@jupyter-widgets/controls",
      "_model_module_version": "1.5.0",
      "value": 1,
      "_view_count": null,
      "_view_module_version": "1.5.0",
      "orientation": "horizontal",
      "min": 0,
      "description_tooltip": null,
      "_model_module": "@jupyter-widgets/controls",
      "layout": "IPY_MODEL_00a45b4343a34c619106d78d5a4a1c0e"
     }
    },
    "b4a79b4e3e324418a866fab379a69c6e": {
     "model_module": "@jupyter-widgets/controls",
     "model_name": "HTMLModel",
     "state": {
      "_view_name": "HTMLView",
      "style": "IPY_MODEL_480027b3df1a4d3ba35c836b26cb9484",
      "_dom_classes": [],
      "description": "",
      "_model_name": "HTMLModel",
      "placeholder": "​",
      "_view_module": "@jupyter-widgets/controls",
      "_model_module_version": "1.5.0",
      "value": " 73/0 [00:01&lt;00:00,  1.30s/ examples]",
      "_view_count": null,
      "_view_module_version": "1.5.0",
      "description_tooltip": null,
      "_model_module": "@jupyter-widgets/controls",
      "layout": "IPY_MODEL_dd7081b42e164ce2815afcf47fe5a334"
     }
    },
    "023375f755ca49beaa105d6b2a9bddf5": {
     "model_module": "@jupyter-widgets/controls",
     "model_name": "ProgressStyleModel",
     "state": {
      "_view_name": "StyleView",
      "_model_name": "ProgressStyleModel",
      "description_width": "initial",
      "_view_module": "@jupyter-widgets/base",
      "_model_module_version": "1.5.0",
      "_view_count": null,
      "_view_module_version": "1.2.0",
      "bar_color": null,
      "_model_module": "@jupyter-widgets/controls"
     }
    },
    "00a45b4343a34c619106d78d5a4a1c0e": {
     "model_module": "@jupyter-widgets/base",
     "model_name": "LayoutModel",
     "state": {
      "_view_name": "LayoutView",
      "grid_template_rows": null,
      "right": null,
      "justify_content": null,
      "_view_module": "@jupyter-widgets/base",
      "overflow": null,
      "_model_module_version": "1.2.0",
      "_view_count": null,
      "flex_flow": null,
      "width": null,
      "min_width": null,
      "border": null,
      "align_items": null,
      "bottom": null,
      "_model_module": "@jupyter-widgets/base",
      "top": null,
      "grid_column": null,
      "overflow_y": null,
      "overflow_x": null,
      "grid_auto_flow": null,
      "grid_area": null,
      "grid_template_columns": null,
      "flex": null,
      "_model_name": "LayoutModel",
      "justify_items": null,
      "grid_row": null,
      "max_height": null,
      "align_content": null,
      "visibility": null,
      "align_self": null,
      "height": null,
      "min_height": null,
      "padding": null,
      "grid_auto_rows": null,
      "grid_gap": null,
      "max_width": null,
      "order": null,
      "_view_module_version": "1.2.0",
      "grid_template_areas": null,
      "object_position": null,
      "object_fit": null,
      "grid_auto_columns": null,
      "margin": null,
      "display": null,
      "left": null
     }
    },
    "480027b3df1a4d3ba35c836b26cb9484": {
     "model_module": "@jupyter-widgets/controls",
     "model_name": "DescriptionStyleModel",
     "state": {
      "_view_name": "StyleView",
      "_model_name": "DescriptionStyleModel",
      "description_width": "",
      "_view_module": "@jupyter-widgets/base",
      "_model_module_version": "1.5.0",
      "_view_count": null,
      "_view_module_version": "1.2.0",
      "_model_module": "@jupyter-widgets/controls"
     }
    },
    "dd7081b42e164ce2815afcf47fe5a334": {
     "model_module": "@jupyter-widgets/base",
     "model_name": "LayoutModel",
     "state": {
      "_view_name": "LayoutView",
      "grid_template_rows": null,
      "right": null,
      "justify_content": null,
      "_view_module": "@jupyter-widgets/base",
      "overflow": null,
      "_model_module_version": "1.2.0",
      "_view_count": null,
      "flex_flow": null,
      "width": null,
      "min_width": null,
      "border": null,
      "align_items": null,
      "bottom": null,
      "_model_module": "@jupyter-widgets/base",
      "top": null,
      "grid_column": null,
      "overflow_y": null,
      "overflow_x": null,
      "grid_auto_flow": null,
      "grid_area": null,
      "grid_template_columns": null,
      "flex": null,
      "_model_name": "LayoutModel",
      "justify_items": null,
      "grid_row": null,
      "max_height": null,
      "align_content": null,
      "visibility": null,
      "align_self": null,
      "height": null,
      "min_height": null,
      "padding": null,
      "grid_auto_rows": null,
      "grid_gap": null,
      "max_width": null,
      "order": null,
      "_view_module_version": "1.2.0",
      "grid_template_areas": null,
      "object_position": null,
      "object_fit": null,
      "grid_auto_columns": null,
      "margin": null,
      "display": null,
      "left": null
     }
    },
    "9f861b39ad0e4f998d44c1a9d2b316c3": {
     "model_module": "@jupyter-widgets/controls",
     "model_name": "HBoxModel",
     "state": {
      "_view_name": "HBoxView",
      "_dom_classes": [],
      "_model_name": "HBoxModel",
      "_view_module": "@jupyter-widgets/controls",
      "_model_module_version": "1.5.0",
      "_view_count": null,
      "_view_module_version": "1.5.0",
      "box_style": "",
      "layout": "IPY_MODEL_9f6fef05eaef430c94b100719a985683",
      "_model_module": "@jupyter-widgets/controls",
      "children": [
       "IPY_MODEL_a835424bdc49410f8a81f1c8b6bc19c9",
       "IPY_MODEL_11a4afbb21bf430cb3025644c68b69f9"
      ]
     }
    },
    "9f6fef05eaef430c94b100719a985683": {
     "model_module": "@jupyter-widgets/base",
     "model_name": "LayoutModel",
     "state": {
      "_view_name": "LayoutView",
      "grid_template_rows": null,
      "right": null,
      "justify_content": null,
      "_view_module": "@jupyter-widgets/base",
      "overflow": null,
      "_model_module_version": "1.2.0",
      "_view_count": null,
      "flex_flow": null,
      "width": null,
      "min_width": null,
      "border": null,
      "align_items": null,
      "bottom": null,
      "_model_module": "@jupyter-widgets/base",
      "top": null,
      "grid_column": null,
      "overflow_y": null,
      "overflow_x": null,
      "grid_auto_flow": null,
      "grid_area": null,
      "grid_template_columns": null,
      "flex": null,
      "_model_name": "LayoutModel",
      "justify_items": null,
      "grid_row": null,
      "max_height": null,
      "align_content": null,
      "visibility": null,
      "align_self": null,
      "height": null,
      "min_height": null,
      "padding": null,
      "grid_auto_rows": null,
      "grid_gap": null,
      "max_width": null,
      "order": null,
      "_view_module_version": "1.2.0",
      "grid_template_areas": null,
      "object_position": null,
      "object_fit": null,
      "grid_auto_columns": null,
      "margin": null,
      "display": null,
      "left": null
     }
    },
    "a835424bdc49410f8a81f1c8b6bc19c9": {
     "model_module": "@jupyter-widgets/controls",
     "model_name": "FloatProgressModel",
     "state": {
      "_view_name": "ProgressView",
      "style": "IPY_MODEL_86d36410ba834139958f6d4006f9be71",
      "_dom_classes": [],
      "description": "100%",
      "_model_name": "FloatProgressModel",
      "bar_style": "success",
      "max": 73,
      "_view_module": "@jupyter-widgets/controls",
      "_model_module_version": "1.5.0",
      "value": 73,
      "_view_count": null,
      "_view_module_version": "1.5.0",
      "orientation": "horizontal",
      "min": 0,
      "description_tooltip": null,
      "_model_module": "@jupyter-widgets/controls",
      "layout": "IPY_MODEL_9a1b261c266e47d9a6261e9a4f399077"
     }
    },
    "11a4afbb21bf430cb3025644c68b69f9": {
     "model_module": "@jupyter-widgets/controls",
     "model_name": "HTMLModel",
     "state": {
      "_view_name": "HTMLView",
      "style": "IPY_MODEL_2cfe5ed8d77e4ac68d5757a7de8de5e4",
      "_dom_classes": [],
      "description": "",
      "_model_name": "HTMLModel",
      "placeholder": "​",
      "_view_module": "@jupyter-widgets/controls",
      "_model_module_version": "1.5.0",
      "value": " 73/73 [00:18&lt;00:00,  3.93ex/s]",
      "_view_count": null,
      "_view_module_version": "1.5.0",
      "description_tooltip": null,
      "_model_module": "@jupyter-widgets/controls",
      "layout": "IPY_MODEL_f128a6eaa9a34067a8bea81ed9c57866"
     }
    },
    "86d36410ba834139958f6d4006f9be71": {
     "model_module": "@jupyter-widgets/controls",
     "model_name": "ProgressStyleModel",
     "state": {
      "_view_name": "StyleView",
      "_model_name": "ProgressStyleModel",
      "description_width": "initial",
      "_view_module": "@jupyter-widgets/base",
      "_model_module_version": "1.5.0",
      "_view_count": null,
      "_view_module_version": "1.2.0",
      "bar_color": null,
      "_model_module": "@jupyter-widgets/controls"
     }
    },
    "9a1b261c266e47d9a6261e9a4f399077": {
     "model_module": "@jupyter-widgets/base",
     "model_name": "LayoutModel",
     "state": {
      "_view_name": "LayoutView",
      "grid_template_rows": null,
      "right": null,
      "justify_content": null,
      "_view_module": "@jupyter-widgets/base",
      "overflow": null,
      "_model_module_version": "1.2.0",
      "_view_count": null,
      "flex_flow": null,
      "width": null,
      "min_width": null,
      "border": null,
      "align_items": null,
      "bottom": null,
      "_model_module": "@jupyter-widgets/base",
      "top": null,
      "grid_column": null,
      "overflow_y": null,
      "overflow_x": null,
      "grid_auto_flow": null,
      "grid_area": null,
      "grid_template_columns": null,
      "flex": null,
      "_model_name": "LayoutModel",
      "justify_items": null,
      "grid_row": null,
      "max_height": null,
      "align_content": null,
      "visibility": null,
      "align_self": null,
      "height": null,
      "min_height": null,
      "padding": null,
      "grid_auto_rows": null,
      "grid_gap": null,
      "max_width": null,
      "order": null,
      "_view_module_version": "1.2.0",
      "grid_template_areas": null,
      "object_position": null,
      "object_fit": null,
      "grid_auto_columns": null,
      "margin": null,
      "display": null,
      "left": null
     }
    },
    "2cfe5ed8d77e4ac68d5757a7de8de5e4": {
     "model_module": "@jupyter-widgets/controls",
     "model_name": "DescriptionStyleModel",
     "state": {
      "_view_name": "StyleView",
      "_model_name": "DescriptionStyleModel",
      "description_width": "",
      "_view_module": "@jupyter-widgets/base",
      "_model_module_version": "1.5.0",
      "_view_count": null,
      "_view_module_version": "1.2.0",
      "_model_module": "@jupyter-widgets/controls"
     }
    },
    "f128a6eaa9a34067a8bea81ed9c57866": {
     "model_module": "@jupyter-widgets/base",
     "model_name": "LayoutModel",
     "state": {
      "_view_name": "LayoutView",
      "grid_template_rows": null,
      "right": null,
      "justify_content": null,
      "_view_module": "@jupyter-widgets/base",
      "overflow": null,
      "_model_module_version": "1.2.0",
      "_view_count": null,
      "flex_flow": null,
      "width": null,
      "min_width": null,
      "border": null,
      "align_items": null,
      "bottom": null,
      "_model_module": "@jupyter-widgets/base",
      "top": null,
      "grid_column": null,
      "overflow_y": null,
      "overflow_x": null,
      "grid_auto_flow": null,
      "grid_area": null,
      "grid_template_columns": null,
      "flex": null,
      "_model_name": "LayoutModel",
      "justify_items": null,
      "grid_row": null,
      "max_height": null,
      "align_content": null,
      "visibility": null,
      "align_self": null,
      "height": null,
      "min_height": null,
      "padding": null,
      "grid_auto_rows": null,
      "grid_gap": null,
      "max_width": null,
      "order": null,
      "_view_module_version": "1.2.0",
      "grid_template_areas": null,
      "object_position": null,
      "object_fit": null,
      "grid_auto_columns": null,
      "margin": null,
      "display": null,
      "left": null
     }
    },
    "154a9a4cd9c24bd3b654e2f29b0ca3ee": {
     "model_module": "@jupyter-widgets/controls",
     "model_name": "HBoxModel",
     "state": {
      "_view_name": "HBoxView",
      "_dom_classes": [],
      "_model_name": "HBoxModel",
      "_view_module": "@jupyter-widgets/controls",
      "_model_module_version": "1.5.0",
      "_view_count": null,
      "_view_module_version": "1.5.0",
      "box_style": "",
      "layout": "IPY_MODEL_f7272453ef0e4e0584ac6e41ba79af1c",
      "_model_module": "@jupyter-widgets/controls",
      "children": [
       "IPY_MODEL_d20030f1f9194ecbad10c4e67de62e5d",
       "IPY_MODEL_e0cfa9606cbc4c04911204a6d1610777"
      ]
     }
    },
    "f7272453ef0e4e0584ac6e41ba79af1c": {
     "model_module": "@jupyter-widgets/base",
     "model_name": "LayoutModel",
     "state": {
      "_view_name": "LayoutView",
      "grid_template_rows": null,
      "right": null,
      "justify_content": null,
      "_view_module": "@jupyter-widgets/base",
      "overflow": null,
      "_model_module_version": "1.2.0",
      "_view_count": null,
      "flex_flow": null,
      "width": null,
      "min_width": null,
      "border": null,
      "align_items": null,
      "bottom": null,
      "_model_module": "@jupyter-widgets/base",
      "top": null,
      "grid_column": null,
      "overflow_y": null,
      "overflow_x": null,
      "grid_auto_flow": null,
      "grid_area": null,
      "grid_template_columns": null,
      "flex": null,
      "_model_name": "LayoutModel",
      "justify_items": null,
      "grid_row": null,
      "max_height": null,
      "align_content": null,
      "visibility": null,
      "align_self": null,
      "height": null,
      "min_height": null,
      "padding": null,
      "grid_auto_rows": null,
      "grid_gap": null,
      "max_width": null,
      "order": null,
      "_view_module_version": "1.2.0",
      "grid_template_areas": null,
      "object_position": null,
      "object_fit": null,
      "grid_auto_columns": null,
      "margin": null,
      "display": null,
      "left": null
     }
    },
    "d20030f1f9194ecbad10c4e67de62e5d": {
     "model_module": "@jupyter-widgets/controls",
     "model_name": "FloatProgressModel",
     "state": {
      "_view_name": "ProgressView",
      "style": "IPY_MODEL_82610de25d2244df9e462998b9d50035",
      "_dom_classes": [],
      "description": "100%",
      "_model_name": "FloatProgressModel",
      "bar_style": "success",
      "max": 46827520,
      "_view_module": "@jupyter-widgets/controls",
      "_model_module_version": "1.5.0",
      "value": 46827520,
      "_view_count": null,
      "_view_module_version": "1.5.0",
      "orientation": "horizontal",
      "min": 0,
      "description_tooltip": null,
      "_model_module": "@jupyter-widgets/controls",
      "layout": "IPY_MODEL_ab9bf96ad52e4582a3f843aa9c6f3b4f"
     }
    },
    "e0cfa9606cbc4c04911204a6d1610777": {
     "model_module": "@jupyter-widgets/controls",
     "model_name": "HTMLModel",
     "state": {
      "_view_name": "HTMLView",
      "style": "IPY_MODEL_7da78d51fb4d42c28ad91ae12851da53",
      "_dom_classes": [],
      "description": "",
      "_model_name": "HTMLModel",
      "placeholder": "​",
      "_view_module": "@jupyter-widgets/controls",
      "_model_module_version": "1.5.0",
      "value": " 44.7M/44.7M [04:01&lt;00:00, 194kB/s]",
      "_view_count": null,
      "_view_module_version": "1.5.0",
      "description_tooltip": null,
      "_model_module": "@jupyter-widgets/controls",
      "layout": "IPY_MODEL_64838cbfc467456e8b2a16a39a0a5f29"
     }
    },
    "82610de25d2244df9e462998b9d50035": {
     "model_module": "@jupyter-widgets/controls",
     "model_name": "ProgressStyleModel",
     "state": {
      "_view_name": "StyleView",
      "_model_name": "ProgressStyleModel",
      "description_width": "initial",
      "_view_module": "@jupyter-widgets/base",
      "_model_module_version": "1.5.0",
      "_view_count": null,
      "_view_module_version": "1.2.0",
      "bar_color": null,
      "_model_module": "@jupyter-widgets/controls"
     }
    },
    "ab9bf96ad52e4582a3f843aa9c6f3b4f": {
     "model_module": "@jupyter-widgets/base",
     "model_name": "LayoutModel",
     "state": {
      "_view_name": "LayoutView",
      "grid_template_rows": null,
      "right": null,
      "justify_content": null,
      "_view_module": "@jupyter-widgets/base",
      "overflow": null,
      "_model_module_version": "1.2.0",
      "_view_count": null,
      "flex_flow": null,
      "width": null,
      "min_width": null,
      "border": null,
      "align_items": null,
      "bottom": null,
      "_model_module": "@jupyter-widgets/base",
      "top": null,
      "grid_column": null,
      "overflow_y": null,
      "overflow_x": null,
      "grid_auto_flow": null,
      "grid_area": null,
      "grid_template_columns": null,
      "flex": null,
      "_model_name": "LayoutModel",
      "justify_items": null,
      "grid_row": null,
      "max_height": null,
      "align_content": null,
      "visibility": null,
      "align_self": null,
      "height": null,
      "min_height": null,
      "padding": null,
      "grid_auto_rows": null,
      "grid_gap": null,
      "max_width": null,
      "order": null,
      "_view_module_version": "1.2.0",
      "grid_template_areas": null,
      "object_position": null,
      "object_fit": null,
      "grid_auto_columns": null,
      "margin": null,
      "display": null,
      "left": null
     }
    },
    "7da78d51fb4d42c28ad91ae12851da53": {
     "model_module": "@jupyter-widgets/controls",
     "model_name": "DescriptionStyleModel",
     "state": {
      "_view_name": "StyleView",
      "_model_name": "DescriptionStyleModel",
      "description_width": "",
      "_view_module": "@jupyter-widgets/base",
      "_model_module_version": "1.5.0",
      "_view_count": null,
      "_view_module_version": "1.2.0",
      "_model_module": "@jupyter-widgets/controls"
     }
    },
    "64838cbfc467456e8b2a16a39a0a5f29": {
     "model_module": "@jupyter-widgets/base",
     "model_name": "LayoutModel",
     "state": {
      "_view_name": "LayoutView",
      "grid_template_rows": null,
      "right": null,
      "justify_content": null,
      "_view_module": "@jupyter-widgets/base",
      "overflow": null,
      "_model_module_version": "1.2.0",
      "_view_count": null,
      "flex_flow": null,
      "width": null,
      "min_width": null,
      "border": null,
      "align_items": null,
      "bottom": null,
      "_model_module": "@jupyter-widgets/base",
      "top": null,
      "grid_column": null,
      "overflow_y": null,
      "overflow_x": null,
      "grid_auto_flow": null,
      "grid_area": null,
      "grid_template_columns": null,
      "flex": null,
      "_model_name": "LayoutModel",
      "justify_items": null,
      "grid_row": null,
      "max_height": null,
      "align_content": null,
      "visibility": null,
      "align_self": null,
      "height": null,
      "min_height": null,
      "padding": null,
      "grid_auto_rows": null,
      "grid_gap": null,
      "max_width": null,
      "order": null,
      "_view_module_version": "1.2.0",
      "grid_template_areas": null,
      "object_position": null,
      "object_fit": null,
      "grid_auto_columns": null,
      "margin": null,
      "display": null,
      "left": null
     }
    }
   }
  }
 },
 "cells": [
  {
   "cell_type": "markdown",
   "metadata": {
    "id": "p_NcxThfFO5f"
   },
   "source": [
    "# Measuring and Integrating Representations of Data\n",
    "\n",
    "In the last notebook, we saw how we can use a variety of methods (from simple statistics to deep learning) to create representations (aka vectorisations, tensorisations, embeddings) which can be used for many downstream deep learning and machine learning tasks. Another elegant and simple way to explore these vectors is through distance and similarity measurements, which allow us to perform basic information retreival tasks, and navigate unsupervised dimension reductions generated from PCA and UMAP. \n",
    "\n",
    "In this notebook we will focus on methods and techniques for meausring and aligning representations. \n",
    "\n",
    "## Measuring Between Data Representations\n",
    "\n",
    "In this section we will introduce various distance and similarity measures and information theoretic metrics for various representations of data and probability distributions. We'll start with some very simple metrics to measure between sequences and words (as sequences of letters).\n",
    "\n",
    "The **Hamming distance** between 1-D arrays $u$ and $v$, is simply the proportion of disagreeing components between $u$ and $v$. "
   ]
  },
  {
   "cell_type": "code",
   "metadata": {
    "id": "QCjXlYDvFO5i"
   },
   "source": [
    "from scipy.spatial import distance"
   ],
   "execution_count": 1,
   "outputs": []
  },
  {
   "cell_type": "code",
   "metadata": {
    "colab": {
     "base_uri": "https://localhost:8080/"
    },
    "id": "60Ni-PsxFO5i",
    "outputId": "513d9fff-b566-45b1-c768-c4e378521774"
   },
   "source": [
    "distance.hamming([1, 0, 0], [0, 1, 0])"
   ],
   "execution_count": 2,
   "outputs": [
    {
     "data": {
      "text/plain": "0.6666666666666666"
     },
     "execution_count": 2,
     "metadata": {},
     "output_type": "execute_result"
    }
   ]
  },
  {
   "cell_type": "code",
   "metadata": {
    "colab": {
     "base_uri": "https://localhost:8080/"
    },
    "id": "erdA5ai2FO5k",
    "outputId": "9d865c75-c20b-458f-8857-c91f1ef8ecd5"
   },
   "source": [
    "distance.hamming([1, 1, 0], [0, 1, 0])"
   ],
   "execution_count": 3,
   "outputs": [
    {
     "data": {
      "text/plain": "0.3333333333333333"
     },
     "execution_count": 3,
     "metadata": {},
     "output_type": "execute_result"
    }
   ]
  },
  {
   "cell_type": "code",
   "metadata": {
    "colab": {
     "base_uri": "https://localhost:8080/"
    },
    "id": "BLJCO-oMFO5m",
    "outputId": "29bbbdcc-8f6b-491a-cfc9-c12fd030aee5"
   },
   "source": [
    "distance.hamming([0, 1, 0], [0, 1, 0])"
   ],
   "execution_count": 4,
   "outputs": [
    {
     "data": {
      "text/plain": "0.0"
     },
     "execution_count": 4,
     "metadata": {},
     "output_type": "execute_result"
    }
   ]
  },
  {
   "cell_type": "markdown",
   "metadata": {
    "id": "WW4FB_j7FO5n"
   },
   "source": [
    "#### Words as sequences of letters\n",
    "\n",
    "We can use similar distance metrics for sequences of words. The python package [fuzzywuzzy](https://pypi.org/project/fuzzywuzzy/) is specifically built for word and string similarities."
   ]
  },
  {
   "cell_type": "code",
   "metadata": {
    "colab": {
     "base_uri": "https://localhost:8080/"
    },
    "id": "JYYF7M7dRbMs",
    "outputId": "90829163-1b12-4f77-a1f9-934681466aa1"
   },
   "source": [
    "!pip install fuzzywuzzy"
   ],
   "execution_count": 5,
   "outputs": [
    {
     "name": "stdout",
     "output_type": "stream",
     "text": [
      "Requirement already satisfied: fuzzywuzzy in c:\\users\\parth\\appdata\\local\\programs\\python\\python39\\lib\\site-packages (0.18.0)\n"
     ]
    },
    {
     "name": "stderr",
     "output_type": "stream",
     "text": [
      "WARNING: Ignoring invalid distribution -illow (c:\\users\\parth\\appdata\\local\\programs\\python\\python39\\lib\\site-packages)\n",
      "WARNING: Ignoring invalid distribution -illow (c:\\users\\parth\\appdata\\local\\programs\\python\\python39\\lib\\site-packages)\n",
      "WARNING: Ignoring invalid distribution -illow (c:\\users\\parth\\appdata\\local\\programs\\python\\python39\\lib\\site-packages)\n",
      "WARNING: Ignoring invalid distribution -illow (c:\\users\\parth\\appdata\\local\\programs\\python\\python39\\lib\\site-packages)\n",
      "WARNING: Ignoring invalid distribution -illow (c:\\users\\parth\\appdata\\local\\programs\\python\\python39\\lib\\site-packages)\n"
     ]
    }
   ]
  },
  {
   "cell_type": "code",
   "metadata": {
    "colab": {
     "base_uri": "https://localhost:8080/"
    },
    "id": "rECySMOZFO5n",
    "outputId": "0f5e4619-5a04-4d36-8bba-d7abe4787882"
   },
   "source": [
    "from fuzzywuzzy import fuzz"
   ],
   "execution_count": 6,
   "outputs": [
    {
     "name": "stderr",
     "output_type": "stream",
     "text": [
      "C:\\Users\\parth\\AppData\\Local\\Programs\\Python\\Python39\\lib\\site-packages\\fuzzywuzzy\\fuzz.py:11: UserWarning: Using slow pure-python SequenceMatcher. Install python-Levenshtein to remove this warning\n",
      "  warnings.warn('Using slow pure-python SequenceMatcher. Install python-Levenshtein to remove this warning')\n"
     ]
    }
   ]
  },
  {
   "cell_type": "code",
   "metadata": {
    "colab": {
     "base_uri": "https://localhost:8080/"
    },
    "id": "n2CHWoXnFO5o",
    "outputId": "139ece54-74a9-4a87-a0e0-578dba06dd58"
   },
   "source": [
    "fuzz.ratio(\"this is a test\", \"this is a test!\")"
   ],
   "execution_count": 7,
   "outputs": [
    {
     "data": {
      "text/plain": "97"
     },
     "execution_count": 7,
     "metadata": {},
     "output_type": "execute_result"
    }
   ]
  },
  {
   "cell_type": "code",
   "metadata": {
    "colab": {
     "base_uri": "https://localhost:8080/"
    },
    "id": "Z-nVibFXFO5o",
    "outputId": "69db2c9b-f4a4-4bf2-861d-3377af12a15c"
   },
   "source": [
    "fuzz.partial_ratio(\"this is a test\", \"this is a test!\")"
   ],
   "execution_count": 8,
   "outputs": [
    {
     "data": {
      "text/plain": "100"
     },
     "execution_count": 8,
     "metadata": {},
     "output_type": "execute_result"
    }
   ]
  },
  {
   "cell_type": "markdown",
   "metadata": {
    "id": "zJSzcHhRFO5p"
   },
   "source": [
    "\n",
    "The next sections of the notebook will contain distance metrics built into another package we have used extensively, Gensim, and uses material previously written by the author ([link 1](https://github.com/bhargavvader/personal/blob/master/notebooks/gensim/distance_metrics.ipynb), [link 2](https://radimrehurek.com/gensim_3.8.3/auto_examples/tutorials/run_distance_metrics.html)). \n",
    "\n",
    "We use topic models as our tool of measuring between probability distributions because they are ammenable to easy analysis (we know which documents have which topics and which topics have which words easily by visual observation!). "
   ]
  },
  {
   "cell_type": "code",
   "metadata": {
    "id": "o-XpmU_EFO5q"
   },
   "source": [
    "from gensim.corpora import Dictionary\n",
    "from gensim.models import ldamodel\n",
    "import numpy as np"
   ],
   "execution_count": 5,
   "outputs": []
  },
  {
   "cell_type": "code",
   "metadata": {
    "id": "AX9VE_0KFO5q"
   },
   "source": [
    "texts = [\n",
    "    ['bank','river','shore','water'],\n",
    "    ['river','water','flow','fast','tree'],\n",
    "    ['bank','water','fall','flow'],\n",
    "    ['bank','bank','water','rain','river'],\n",
    "    ['river','water','mud','tree'],\n",
    "    ['money','transaction','bank','finance'],\n",
    "    ['bank','borrow','money'],\n",
    "    ['bank','finance'],\n",
    "    ['finance','money','sell','bank'],\n",
    "    ['borrow','sell'],\n",
    "    ['bank','loan','sell'],\n",
    "]"
   ],
   "execution_count": 10,
   "outputs": []
  },
  {
   "cell_type": "code",
   "metadata": {
    "id": "eoWj6coPFO5r"
   },
   "source": [
    "dictionary = Dictionary(texts)\n",
    "corpus = [dictionary.doc2bow(text) for text in texts]"
   ],
   "execution_count": 11,
   "outputs": []
  },
  {
   "cell_type": "code",
   "metadata": {
    "id": "fSkyLQX1FO5r"
   },
   "source": [
    "# setting random seed to get the same results each time. \n",
    "# you are welcome to change the seed but some of the  explanations on the values returned by the differences mighht not make the most sense.\n",
    "np.random.seed(3) "
   ],
   "execution_count": 12,
   "outputs": []
  },
  {
   "cell_type": "code",
   "metadata": {
    "colab": {
     "base_uri": "https://localhost:8080/"
    },
    "id": "MYT1edS7FO5r",
    "outputId": "6453836f-3dda-4617-bdee-00588a65af38"
   },
   "source": [
    "model = ldamodel.LdaModel(corpus, id2word=dictionary, num_topics=2, minimum_probability=1e-8)\n",
    "model.show_topics()"
   ],
   "execution_count": 13,
   "outputs": [
    {
     "data": {
      "text/plain": "[(0,\n  '0.199*\"bank\" + 0.143*\"water\" + 0.118*\"river\" + 0.065*\"tree\" + 0.064*\"flow\" + 0.051*\"borrow\" + 0.046*\"money\" + 0.042*\"rain\" + 0.041*\"fall\" + 0.041*\"shore\"'),\n (1,\n  '0.146*\"bank\" + 0.129*\"finance\" + 0.128*\"sell\" + 0.113*\"money\" + 0.064*\"transaction\" + 0.058*\"borrow\" + 0.055*\"loan\" + 0.049*\"water\" + 0.043*\"river\" + 0.036*\"flow\"')]"
     },
     "execution_count": 13,
     "metadata": {},
     "output_type": "execute_result"
    }
   ]
  },
  {
   "cell_type": "markdown",
   "metadata": {
    "id": "yjToUVOCFO5s"
   },
   "source": [
    "Let’s call the 1st topic the water topic and the second topic the finance topic.\n",
    "\n",
    "Let’s take a few sample documents and get them ready to test our distance functions. The first several distance functions characterize the difference between probability distributions, but the methods can accept many formats for input, and many representations can be *interpreted* as probability distributions. Topic models are explicitly built as probability distributions, but other neural network-constructed spaces can be normalized to behave like such distributions.  \n"
   ]
  },
  {
   "cell_type": "code",
   "metadata": {
    "id": "fjcrmmZoFO5s"
   },
   "source": [
    "doc_water = ['river', 'water', 'shore']\n",
    "doc_finance = ['finance', 'money', 'sell']\n",
    "doc_bank = ['finance', 'bank', 'tree', 'water']\n",
    "\n",
    "# now let's make these into a bag of words format\n",
    "bow_water = model.id2word.doc2bow(doc_water)\n",
    "bow_finance = model.id2word.doc2bow(doc_finance)\n",
    "bow_bank = model.id2word.doc2bow(doc_bank)\n",
    "\n",
    "# we can now get the LDA topic distributions for these\n",
    "lda_bow_water = model[bow_water]\n",
    "lda_bow_finance = model[bow_finance]\n",
    "lda_bow_bank = model[bow_bank]"
   ],
   "execution_count": 14,
   "outputs": []
  },
  {
   "cell_type": "markdown",
   "metadata": {
    "id": "q9NujGAwFO5t"
   },
   "source": [
    "### Hellinger Distance $d_H(P,Q)$ and Battacharyya coefficient $D_B(P,Q)$\n",
    "We’re now ready to apply our distance metrics. These metrics return a value between 0 and 1, where values closer to 0 indicate a smaller ‘distance’ and therefore a larger similarity.\n",
    "\n",
    "Let’s start with the straightfoward and popular Hellinger distance, $d_H(P,Q)$.$d_H(P,Q)$, the Kullback-Leibler Divergence $D_{KL}(P\\|Q)$, the Jensen-Shannon Divergence $D_{JS}(P\\|Q)$, and the $x^2$ Divergence. All are members of the broader [$f$-divergence](href=https://en.wikipedia.org/wiki/F-divergence) family, a function of $D_f (P\\|Q)$ that calculates the difference between two probability distributions P and Q, where we treat two comparable representations as probability distributions. In the $f$-divergence family, $D_f(P\\|Q)=\\int_{\\Omega}f(\\frac{dP}{dQ})dQ$.\n",
    "\n",
    "The Hellinger Distance $d_H(P,Q)$ is the probabilistic analog of Euclidean (straight-line) distance between two representations, interpreted as probability distributions ($P$ and $Q$): $d_H(P,Q)=\\frac{1}{\\sqrt{2}}\\cdot \\|\\sqrt{P}-\\sqrt{Q}\\|_2$ for the discrete (and special) case. As a type of $f$-divergence, this case $f(t)=\\frac{1}{\\sqrt(2)}(\\sqrt(t)-1)$. The Hellinger distance can be derived from the Battacharyya coefficient: if $D_B(P,Q)= \\int \\sqrt{p(x)q(x)}\\text{dx}$, then the Hellinger distance $d_H(P,Q)=\\sqrt{1-D_B(P,Q)}$. \n",
    "\n",
    "The Hellinger distance metric gives an output in the range [0,1] for two probability distributions, with values closer to 0 meaning they are more similar."
   ]
  },
  {
   "cell_type": "code",
   "metadata": {
    "id": "qreS7cB_FO5t"
   },
   "source": [
    "from gensim.matutils import hellinger"
   ],
   "execution_count": 15,
   "outputs": []
  },
  {
   "cell_type": "code",
   "metadata": {
    "colab": {
     "base_uri": "https://localhost:8080/"
    },
    "id": "WX55NcGEFO5u",
    "outputId": "c4d22200-ef37-4c3b-8276-86bcd3698e65"
   },
   "source": [
    "print(hellinger(lda_bow_water, lda_bow_finance))\n",
    "print(hellinger(lda_bow_finance, lda_bow_bank))"
   ],
   "execution_count": 16,
   "outputs": [
    {
     "name": "stdout",
     "output_type": "stream",
     "text": [
      "0.5599429409570128\n",
      "0.43456375200702657\n"
     ]
    }
   ]
  },
  {
   "cell_type": "markdown",
   "metadata": {
    "id": "PdIxWFGNFO5v"
   },
   "source": [
    "This makes sense. In the first example, Document 1 and Document 2 are barely similar, so we get a value of roughly 0.5.\n",
    "\n",
    "In the second case, the documents are semantically more similar. Trained with the model, they give a smaller distance value."
   ]
  },
  {
   "cell_type": "markdown",
   "metadata": {
    "id": "4P2HTRwFFO5v"
   },
   "source": [
    "### Kullback–Leibler Divergence $D_{KL}(P\\|Q)$\n",
    "\n",
    "Another approach to measuring the divergence between two representations, interpreted as probability distributions, is through the Kullback-Leibler (KL) divergence. The KL $f(t)$ is $t\\text{log}t$. Derived from information theory, $D_{KL}$ is a measure of the surprise one experiences when observing distribution $P$ from the perspective of another distribution $Q$. In information theoretic jargon, it computes the relative entropy between two distributions–the average difference of the number of bits required for encoding samples of $P$ using a code optimized for $Q$ rather than one optimized for $P$. This is why $KL(P\\|Q)\\ne KL(Q\\|P)$; seeing a man dressed in a gorilla suit may be less surprising than seeing a gorilla dressed in a man suit. \n",
    "\n",
    "Specifically, given two discrete probability distributions $P$ and $Q$, the Kullback-Leibler divergence from $Q$ to $P$ is defined as: $D_{KL}(P\\|Q) = \\sum_i P(i) \\log\\frac{P(i)}{Q(i)}$. For example, the [scipy.stats.entropy()](https://docs.scipy.org/doc/scipy/reference/generated/scipy.stats.entropy.html) function can do it for you, taking in two arrays of probabilities and computing the KL divergence. Also note that the KL divernce is the sum of elementwise divergences. Scipy provides [scipy.special.kl_div()](https://docs.scipy.org/doc/scipy/reference/generated/scipy.special.kl_div.html#scipy-special-kl-div) which calculates elementwise divergences for you."
   ]
  },
  {
   "cell_type": "code",
   "metadata": {
    "colab": {
     "base_uri": "https://localhost:8080/"
    },
    "id": "ahaOH4TWFO5v",
    "outputId": "79498fff-d446-45a6-b126-dce99973f0b6"
   },
   "source": [
    "from gensim.matutils import kullback_leibler\n",
    "\n",
    "print(kullback_leibler(lda_bow_water, lda_bow_bank))\n",
    "print(kullback_leibler(lda_bow_finance, lda_bow_bank))"
   ],
   "execution_count": 17,
   "outputs": [
    {
     "name": "stdout",
     "output_type": "stream",
     "text": [
      "0.0656577\n",
      "0.7192513\n"
     ]
    }
   ]
  },
  {
   "cell_type": "markdown",
   "metadata": {
    "id": "YgxgnwAfCF6B"
   },
   "source": [
    "Recall that $D_{KL}$ is not symmetrical:"
   ]
  },
  {
   "cell_type": "code",
   "metadata": {
    "colab": {
     "base_uri": "https://localhost:8080/"
    },
    "id": "I-VaD4HGFO5w",
    "outputId": "6d9dc894-3aa0-4d32-a380-80bfe0ae17c7"
   },
   "source": [
    "print(kullback_leibler(lda_bow_bank, lda_bow_finance))"
   ],
   "execution_count": 18,
   "outputs": [
    {
     "name": "stdout",
     "output_type": "stream",
     "text": [
      "0.8571865\n"
     ]
    }
   ]
  },
  {
   "cell_type": "markdown",
   "metadata": {
    "id": "aiq8tRvoFO5w"
   },
   "source": [
    "In our previous examples we saw that there were lower distance values between bank and water than for bank and finance, even if it wasn’t by a huge margin. What does this mean?\n",
    "\n",
    "The bank document is a combination of both water and finance related terms - but as bank in this context is likely to belong to the water topic, the distance values are more between the finance and bank bows. "
   ]
  },
  {
   "cell_type": "code",
   "metadata": {
    "colab": {
     "base_uri": "https://localhost:8080/"
    },
    "id": "UQEgGr8hFO5w",
    "outputId": "8fd22347-7e3a-4363-bf57-6491d865af77"
   },
   "source": [
    "# just to confirm our suspicion that the bank bow is more to do with finance:\n",
    "model.get_document_topics(bow_bank)"
   ],
   "execution_count": 19,
   "outputs": [
    {
     "data": {
      "text/plain": "[(0, 0.7104197), (1, 0.28958026)]"
     },
     "execution_count": 19,
     "metadata": {},
     "output_type": "execute_result"
    }
   ]
  },
  {
   "cell_type": "markdown",
   "metadata": {
    "id": "qOFx88GQFO5x"
   },
   "source": [
    "It’s evident that while it isn’t very skewed, it tends more towards the water topic.\n",
    "\n",
    "For an informal review of the mathematical differences between Hellinger and KL, consider this Stackoverflow [question/response](https://stats.stackexchange.com/questions/130432/differences-between-bhattacharyya-distance-and-kl-divergence).\n",
    "\n",
    " \n",
    "\n",
    "### Jaccard\n",
    "Let us now look at the Jaccard Distance metric for similarity between bags of words (i.e, documents)"
   ]
  },
  {
   "cell_type": "code",
   "metadata": {
    "id": "HHS8JegPFO5y"
   },
   "source": [
    "from gensim.matutils import jaccard"
   ],
   "execution_count": 20,
   "outputs": []
  },
  {
   "cell_type": "code",
   "metadata": {
    "colab": {
     "base_uri": "https://localhost:8080/"
    },
    "id": "IqEffqL6FO5y",
    "outputId": "b1f5f760-4306-455c-b4d2-fcfa9734dac0"
   },
   "source": [
    "print(jaccard(bow_water, bow_bank))\n",
    "print(jaccard(doc_water, doc_bank))\n",
    "print(jaccard(['word'], ['word']))"
   ],
   "execution_count": 21,
   "outputs": [
    {
     "name": "stdout",
     "output_type": "stream",
     "text": [
      "0.8571428571428572\n",
      "0.8333333333333334\n",
      "0.0\n"
     ]
    }
   ]
  },
  {
   "cell_type": "markdown",
   "metadata": {
    "id": "ed1N4vetFO5z"
   },
   "source": [
    "The three examples above feature 2 different input methods.\n",
    "\n",
    "In the first case, we present to jaccard document vectors already in bag of words format. The distance can be defined as 1 minus the size of the intersection upon the size of the union of the vectors.\n",
    "\n",
    "We can see (on manual inspection as well), that the distance is likely to be high - and it is.\n",
    "\n",
    "The last two examples illustrate the ability for jaccard to accept even lists (i.e, documents) as inputs.\n",
    "\n",
    "In the last case, because they are the same vectors, the value returned is 0 - this means the distance is 0 and the two documents are identical.\n",
    "\n",
    "### More Distance Metrics for Distributions\n",
    "\n",
    "Distance metrics can characterize topic distributions, or the distribution of activations in a layer of a deep neural network, as we will see later this quarter. Here we provide more options for such metrics and measures.\n",
    "\n"
   ]
  },
  {
   "cell_type": "markdown",
   "metadata": {
    "id": "96JSwwvRej7Q"
   },
   "source": [
    "### Jensen Shannon Divergence $D_{JS}$\n",
    "Based on the Kullback–Leibler divergence, $D_{JS}$ uses the $D_{KL}$ divergence to calculate a normalized, symmetrical score such that the divergence of $P$ from $Q$ is the same as $Q$ from $P$: $D_{JS}(P\\|Q) = \\frac{1}{2}D_{KL}(P\\|M)+ \\frac{1}{2}D_{KL}(Q\\|M)$ where $M = \\frac{1}{2}(P + Q)$. Unlike $D_{KL}$, $D_{JS}$ always has a finite value. As an $f$-divergence, the $f(t)$ for $D_{JS}$ is $(t+1)log(\\frac{2}{t+1})+t\\log t$.\n"
   ]
  },
  {
   "cell_type": "code",
   "metadata": {
    "id": "1XEiHkxHuROD"
   },
   "source": [
    "import scipy"
   ],
   "execution_count": 22,
   "outputs": []
  },
  {
   "cell_type": "code",
   "metadata": {
    "id": "3hN8ubM_fOWl"
   },
   "source": [
    "def jensen_shannon(dist1, dist2):\n",
    "    \"\"\"\n",
    "    Calculates Jensen-Shannon (JS) divergence between two distributions\n",
    "\n",
    "    Args:\n",
    "        dist1 (array): first distribution\n",
    "        dist2 (array): second distribution\n",
    "\n",
    "    Returns:\n",
    "        js (float): JS divergence\n",
    "    \"\"\"\n",
    "    dist1 = np.array(dist1)\n",
    "    dist2 = np.array(dist2)\n",
    "\n",
    "    mean_dist = (dist1 + dist2) / 2.0\n",
    "    js = (\n",
    "        scipy.stats.entropy(dist1, mean_dist) + scipy.stats.entropy(dist2, mean_dist)\n",
    "    ) / 2.0\n",
    "    return js"
   ],
   "execution_count": 23,
   "outputs": []
  },
  {
   "cell_type": "code",
   "metadata": {
    "id": "ZAbc2RV1rHT-"
   },
   "source": [
    "from scipy.spatial import distance"
   ],
   "execution_count": 24,
   "outputs": []
  },
  {
   "cell_type": "code",
   "metadata": {
    "colab": {
     "base_uri": "https://localhost:8080/"
    },
    "id": "JGsyeVECrJLn",
    "outputId": "548b90a1-2dfc-4518-a9ec-16547a86905d"
   },
   "source": [
    "distance.jensenshannon"
   ],
   "execution_count": 25,
   "outputs": [
    {
     "data": {
      "text/plain": "<function scipy.spatial.distance.jensenshannon(p, q, base=None, *, axis=0, keepdims=False)>"
     },
     "execution_count": 25,
     "metadata": {},
     "output_type": "execute_result"
    }
   ]
  },
  {
   "cell_type": "markdown",
   "metadata": {
    "id": "jx1PKJyqfPWH"
   },
   "source": [
    "### $\\chi^2$ Divergence\n",
    "\n",
    "The $\\chi^2$ Divergence is defined as $D_{\\chi^2}(P\\|Q) = \\sum_i \\left(\\frac{P(i)}{Q(i)}-1\\right)^2$. $\\chi^2$ is motivated from measure theory and defines whether the same statistical inferences can be drawn from both $P$ and $Q$. As an $f$-divergence, the $f(t)$ for $\\chi^2$ is $t^2-1$. $\\chi^2$ is noncommutative, and the code can be drawn directly from scipy.\n",
    " "
   ]
  },
  {
   "cell_type": "code",
   "metadata": {
    "id": "XG7EJs2mfQGU"
   },
   "source": [
    "from scipy.stats import power_divergence"
   ],
   "execution_count": 26,
   "outputs": []
  },
  {
   "cell_type": "markdown",
   "metadata": {
    "id": "y16RFkN1fQfA"
   },
   "source": [
    "\n",
    "### Kolmogorov-Smirnov \n",
    "The two-sample Kolmogovorov-Smirnov test statistic calculates the distance between the cumulative distribution function of the two distributions (representations!) to be compared, and, along with the $x^2$ divergence, is among the most common approaches two calculating a distance in statistics. It can be interpreted as a test of whether two distributions are drawn from the same underlying distribution/representation. As with the others, the code is readily available in scipy.\n"
   ]
  },
  {
   "cell_type": "code",
   "metadata": {
    "id": "Z0XovZMOfQ-_"
   },
   "source": [
    "# https://docs.scipy.org/doc/scipy/reference/generated/scipy.stats.kstest.html\n",
    "from scipy.stats import kstest"
   ],
   "execution_count": 27,
   "outputs": []
  },
  {
   "cell_type": "code",
   "metadata": {
    "colab": {
     "base_uri": "https://localhost:8080/"
    },
    "id": "Fu3-O1sFrnfK",
    "outputId": "024f9a01-6325-4e2b-f32f-a11d7b5d7eb0"
   },
   "source": [
    "kstest"
   ],
   "execution_count": 28,
   "outputs": [
    {
     "data": {
      "text/plain": "<function scipy.stats._stats_py.kstest(rvs, cdf, args=(), N=20, alternative='two-sided', mode='auto')>"
     },
     "execution_count": 28,
     "metadata": {},
     "output_type": "execute_result"
    }
   ]
  },
  {
   "cell_type": "code",
   "metadata": {
    "id": "iJk5yUgqrqaA"
   },
   "source": [
    "# https://docs.scipy.org/doc/scipy/reference/generated/scipy.stats.ks_2samp.html\n",
    "from scipy.stats import ks_2samp"
   ],
   "execution_count": 29,
   "outputs": []
  },
  {
   "cell_type": "code",
   "metadata": {
    "colab": {
     "base_uri": "https://localhost:8080/"
    },
    "id": "oK1CLbA2rv09",
    "outputId": "a1d0da2e-8a14-48e8-c4da-ba38d9c5b0e9"
   },
   "source": [
    "ks_2samp"
   ],
   "execution_count": 30,
   "outputs": [
    {
     "data": {
      "text/plain": "<function scipy.stats._stats_py.ks_2samp(data1, data2, alternative='two-sided', mode='auto')>"
     },
     "execution_count": 30,
     "metadata": {},
     "output_type": "execute_result"
    }
   ]
  },
  {
   "cell_type": "markdown",
   "metadata": {
    "id": "DjFnLdNXfbOA"
   },
   "source": [
    "\n",
    "### Wasserstein Distance or Earth Movers Distance\n",
    "\n",
    "The discrete Wasserstein distance, also known as the earth mover’s distance, measures the minimum amount of “work” required to transform $Q$ into $P$, where “work” is measured as the amount of distribution probability weight that must be moved, multiplied by the distance it has to be moved. The conceptual clarity and interpretability of this measure has risen its profile in recent years. \n",
    "\n"
   ]
  },
  {
   "cell_type": "code",
   "metadata": {
    "id": "VZTxcMZ-fiqm"
   },
   "source": [
    "from scipy.stats import wasserstein_distance"
   ],
   "execution_count": 31,
   "outputs": []
  },
  {
   "cell_type": "markdown",
   "metadata": {
    "id": "GPHkGvigfhvj"
   },
   "source": [
    "We will now quickly whip up some full topic distributions, which just means that every word in the corpus is accounted for in the topic. This makes it easiern to demonstrate distance metrics which sometimes require fixed length vectors."
   ]
  },
  {
   "cell_type": "code",
   "metadata": {
    "id": "bvBTUF7JFO5z"
   },
   "source": [
    "topic_water, topic_finance = model.show_topics()"
   ],
   "execution_count": 32,
   "outputs": []
  },
  {
   "cell_type": "code",
   "metadata": {
    "id": "p8QjEqQ4FO50"
   },
   "source": [
    "def parse_topic_string(topic):\n",
    "    # some pre processing to get the topics in a format acceptable to our distance metrics\n",
    "    # takes the string returned by model.show_topics()\n",
    "    # split on strings to get topics and the probabilities\n",
    "    topic = topic.split('+')\n",
    "    # list to store topic bows\n",
    "    topic_bow = []\n",
    "    for word in topic:\n",
    "        # split probability and word\n",
    "        prob, word = word.split('*')\n",
    "        # get rid of spaces and quote marks\n",
    "        word = word.replace(\" \",\"\").replace('\"', '')\n",
    "        # convert to word_type\n",
    "        word = model.id2word.doc2bow([word])[0][0]\n",
    "        topic_bow.append((word, float(prob)))\n",
    "    return topic_bow"
   ],
   "execution_count": 33,
   "outputs": []
  },
  {
   "cell_type": "code",
   "metadata": {
    "id": "fimika-rFO50"
   },
   "source": [
    "finance_distribution = parse_topic_string(topic_finance[1])\n",
    "water_distribution = parse_topic_string(topic_water[1])"
   ],
   "execution_count": 34,
   "outputs": []
  },
  {
   "cell_type": "code",
   "metadata": {
    "colab": {
     "base_uri": "https://localhost:8080/"
    },
    "id": "jL2-kUeoFO50",
    "outputId": "990da5d7-7ba5-4d2a-e706-5cd6cb2759c0"
   },
   "source": [
    "# the finance topic in bag of words format looks like this:\n",
    "print(finance_distribution)"
   ],
   "execution_count": 35,
   "outputs": [
    {
     "name": "stdout",
     "output_type": "stream",
     "text": [
      "[(0, 0.146), (10, 0.129), (14, 0.128), (11, 0.113), (12, 0.064), (13, 0.058), (15, 0.055), (3, 0.049), (1, 0.043), (5, 0.036)]\n"
     ]
    }
   ]
  },
  {
   "cell_type": "markdown",
   "metadata": {
    "id": "0u90bL4hFO50"
   },
   "source": [
    "Now that we’ve got our topics in a format acceptable for our functions, let’s use a Distance metric to see how similar the word distributions across the topics are."
   ]
  },
  {
   "cell_type": "code",
   "metadata": {
    "colab": {
     "base_uri": "https://localhost:8080/"
    },
    "id": "ayBLdUMLFO51",
    "outputId": "9b62fbed-537d-4107-9577-5b08f05d61cc"
   },
   "source": [
    "print(hellinger(water_distribution, finance_distribution))\n"
   ],
   "execution_count": 36,
   "outputs": [
    {
     "name": "stdout",
     "output_type": "stream",
     "text": [
      "0.5618034931453718\n"
     ]
    }
   ]
  },
  {
   "cell_type": "markdown",
   "metadata": {
    "id": "LRf4ImEQFO51"
   },
   "source": [
    "Our value of roughly 0.56 means that the topics are not TOO distant with respect to their word distributions.\n",
    "\n",
    "This makes sense again, because of overlapping words like bank and a small sized dictionary.\n",
    "\n",
    "### Kullback-Leibler Gotchas\n",
    "In our previous example we didn’t use Kullback Leibler to test for similarity for a reason - KL is not a Distance ‘Metric’ in the technical sense (you can see what a metric is [here](https://en.wikipedia.org/wiki/Metric_(mathematics))). The nature of it, mathematically also means we must be a little careful before using it, because since it involves the log function, a zero can make things interesting and inexplicable. For example:"
   ]
  },
  {
   "cell_type": "code",
   "metadata": {
    "colab": {
     "base_uri": "https://localhost:8080/"
    },
    "id": "THHKGDEtFO52",
    "outputId": "421e9fe8-9cf7-4c7a-e034-19efdbe2dddc"
   },
   "source": [
    "# 16 here is the number of features the probability distribution draws from\n",
    "print(kullback_leibler(water_distribution, finance_distribution, 16))"
   ],
   "execution_count": 37,
   "outputs": [
    {
     "name": "stdout",
     "output_type": "stream",
     "text": [
      "inf\n"
     ]
    }
   ]
  },
  {
   "cell_type": "markdown",
   "metadata": {
    "id": "uCvvFcn-FO54"
   },
   "source": [
    "That wasn’t very helpful. This just means that we have to be more careful about our inputs. Our prior example didn’t work out because they were some missing values for some words (because show_topics() only returned the top 10 topics).\n",
    "\n",
    "This can be remedied, though."
   ]
  },
  {
   "cell_type": "code",
   "metadata": {
    "colab": {
     "base_uri": "https://localhost:8080/"
    },
    "id": "WT6OKf2MFO55",
    "outputId": "211f98fc-5ce6-476f-928b-437c3979fac1"
   },
   "source": [
    "# return ALL the words in the dictionary for the topic-word distribution.\n",
    "topic_water, topic_finance = model.show_topics(num_words=len(model.id2word))\n",
    "\n",
    "# do our bag of words transformation again\n",
    "finance_distribution = parse_topic_string(topic_finance[1])\n",
    "water_distribution = parse_topic_string(topic_water[1])\n",
    "\n",
    "# and voila!\n",
    "print(kullback_leibler(water_distribution, finance_distribution))"
   ],
   "execution_count": 38,
   "outputs": [
    {
     "name": "stdout",
     "output_type": "stream",
     "text": [
      "0.29614416\n"
     ]
    }
   ]
  },
  {
   "cell_type": "markdown",
   "metadata": {
    "id": "O5aNPRyDFO5_"
   },
   "source": [
    "You may notice that the distance for this is less, indicating a strong similarity. This may be a bit off because of the small size of the corpus, where all topics are likely to contain a reasonable overlap of word probabilities. You will likely get a better value for a bigger corpus.\n",
    "\n",
    "So, just remember, if you intend to use KL as a metric to measure similarity or distance between two representations or distributions, avoid zeros by returning the ENTIRE distribution. Because it’s unlikely any probability distribution will ever have absolute zeros for any feature/word, returning all the values like we did will make you good to go.\n",
    "\n",
    "### What are Distance Metrics?\n",
    "\n",
    "Having seen the practical usages of these measures (i.e, to find similarity), let’s learn a little about what exactly Distance Measures and Metrics are.\n",
    "\n",
    "I mentioned in the previous section that KL was not a distance metric. There are 4 conditons for for a distance measure to be a metric:\n",
    "\n",
    "    d(x,y) >= 0\n",
    "\n",
    "    d(x,y) = 0 <=> x = y\n",
    "\n",
    "    d(x,y) = d(y,x)\n",
    "\n",
    "    d(x,z) <= d(x,y) + d(y,z)\n",
    "\n",
    "That is: it must be non-negative; if x and y are the same, distance must be zero; it must be symmetric; and it must obey the triangle inequality law.\n",
    "\n",
    "Simple enough, right?\n",
    "\n",
    "Let’s test these out for our measures.\n",
    "\n"
   ]
  },
  {
   "cell_type": "code",
   "metadata": {
    "colab": {
     "base_uri": "https://localhost:8080/"
    },
    "id": "R4BlT7lzFO5_",
    "outputId": "8a288dc6-d615-4e0f-d3ec-403814718db5"
   },
   "source": [
    "a = hellinger(water_distribution, finance_distribution)\n",
    "b = hellinger(finance_distribution, water_distribution)\n",
    "print(a)\n",
    "print(b)\n",
    "print(a == b)"
   ],
   "execution_count": 39,
   "outputs": [
    {
     "name": "stdout",
     "output_type": "stream",
     "text": [
      "0.27725390645576536\n",
      "0.27725390645576536\n",
      "True\n"
     ]
    }
   ]
  },
  {
   "cell_type": "code",
   "metadata": {
    "colab": {
     "base_uri": "https://localhost:8080/"
    },
    "id": "OCqsaqcGFO6A",
    "outputId": "e8ae18f5-0b66-4d41-beb2-7dc578f36a5c"
   },
   "source": [
    "# if we pass the same values, it is zero.\n",
    "print(hellinger(water_distribution, water_distribution))\n",
    "\n",
    "# for triangle inequality let's use LDA document distributions\n",
    "print(hellinger(lda_bow_finance, lda_bow_bank))\n",
    "\n",
    "# Triangle inequality works too!\n",
    "print(hellinger(lda_bow_finance, lda_bow_water) + hellinger(lda_bow_water, lda_bow_bank))"
   ],
   "execution_count": 40,
   "outputs": [
    {
     "name": "stdout",
     "output_type": "stream",
     "text": [
      "0.0\n",
      "0.43456375200702657\n",
      "0.693745056812759\n"
     ]
    }
   ]
  },
  {
   "cell_type": "markdown",
   "metadata": {
    "id": "BOYdedO7FO6A"
   },
   "source": [
    "So Hellinger is indeed a metric. Let’s check out KL."
   ]
  },
  {
   "cell_type": "code",
   "metadata": {
    "colab": {
     "base_uri": "https://localhost:8080/"
    },
    "id": "bVtPMr9wFO6A",
    "outputId": "fe718b59-369a-488f-b3a3-9767cb49ffc1"
   },
   "source": [
    "a = kullback_leibler(finance_distribution, water_distribution)\n",
    "b = kullback_leibler(water_distribution, finance_distribution)\n",
    "print(a)\n",
    "print(b)\n",
    "print(a == b)"
   ],
   "execution_count": 41,
   "outputs": [
    {
     "name": "stdout",
     "output_type": "stream",
     "text": [
      "0.33331245\n",
      "0.29614416\n",
      "False\n"
     ]
    }
   ]
  },
  {
   "cell_type": "markdown",
   "metadata": {
    "id": "x6uxr6x2FO6B"
   },
   "source": [
    "We immediately notice that when we swap the values they aren’t equal! This means that the Divergence cannot characterize distance in a space. As we noted above, however, just because it is not a metric, does not mean that its assymetry is not *useful*. KL Divergence is widely used for this purpose, and is perhaps the most prominent difference assessment in Information Theory.\n"
   ]
  },
  {
   "cell_type": "code",
   "metadata": {
    "colab": {
     "base_uri": "https://localhost:8080/"
    },
    "id": "W-OhuROPg-iv",
    "outputId": "e45af968-e1bb-4989-e9ba-1db151420e9f"
   },
   "source": [
    "a = jensen_shannon(finance_distribution, water_distribution)\n",
    "b = jensen_shannon(water_distribution, finance_distribution)\n",
    "print(a)\n",
    "print(b)\n",
    "print(a == b)"
   ],
   "execution_count": 42,
   "outputs": [
    {
     "name": "stdout",
     "output_type": "stream",
     "text": [
      "[0.09821426 0.00713167]\n",
      "[0.09821426 0.00713167]\n",
      "[ True  True]\n"
     ]
    }
   ]
  },
  {
   "cell_type": "markdown",
   "metadata": {
    "id": "XhTuA60RuUvB"
   },
   "source": [
    "And boom - we see that JS is symmetric."
   ]
  },
  {
   "cell_type": "markdown",
   "metadata": {
    "id": "kpDeAus8g7Oe"
   },
   "source": [
    "### Distances in embedding spaces\n",
    "\n",
    "Let's now see the different ways we can measure between distances in embedding spaces, which we can treat as discrete manifold representations, or we can normalize them into probability distributions.\n",
    "\n",
    "#### Cosine similarity\n",
    "\n",
    "Cosine similarity is often used to measure between two vectors in a high dimensional space. By calculating the angle between those vectors, the cosine similarity (one minus the cosine distance) automatically normalizes for vector size. In comparing documents, for example, this allows a very large document to be similar to a small document, if their word distributions and associations are similar. "
   ]
  },
  {
   "cell_type": "code",
   "metadata": {
    "id": "zDl7SLRJgbkz"
   },
   "source": [
    "def cosine_distance(X, Y):\n",
    "    cosine_similarity = np.dot(X, Y) / (np.linalg.norm(X)* np.linalg.norm(Y))\n",
    "    return 1 - cosine_similarity"
   ],
   "execution_count": 43,
   "outputs": []
  },
  {
   "cell_type": "code",
   "metadata": {
    "id": "EBBS4yfJglAk"
   },
   "source": [
    "import torch.nn as nn\n",
    "cos = nn.CosineSimilarity(dim=1, eps=1e-6)"
   ],
   "execution_count": 44,
   "outputs": []
  },
  {
   "cell_type": "markdown",
   "metadata": {
    "id": "kvosxXJgFO6Y"
   },
   "source": [
    "### Loss Functions\n",
    "\n",
    "Loss functions, which form the core of deep learning training by measuring the difference between true values and predictd ones, are also important ways to measure between two distributions, sets of values, or representations. In fact, some of the measures and metrics we've seen above (such as $D_{KL}$) are used as deep learning losses. While we would be using pytorch to normally set up loss functions, since we are only going to be demonstrating them on smaller distributions, we will either write them ourselves or use numpy_ml, which includes many implementations of popular loss functions in numpy."
   ]
  },
  {
   "cell_type": "code",
   "metadata": {
    "id": "dlY0RR4hFO6Y"
   },
   "source": [
    "def mean_squared_error(actual, predicted):\n",
    "    sum_square_error = 0.0\n",
    "    for i in range(len(actual)):\n",
    "        sum_square_error += (actual[i] - predicted[i])**2.0\n",
    "    mean_square_error = 1.0 / len(actual) * sum_square_error\n",
    "    return mean_square_error"
   ],
   "execution_count": 45,
   "outputs": []
  },
  {
   "cell_type": "code",
   "metadata": {
    "id": "0bt_gyo-FO6Y"
   },
   "source": [
    "def binary_cross_entropy(actual, predicted):\n",
    "    sum_score = 0.0\n",
    "    for i in range(len(actual)):\n",
    "        sum_score += actual[i] * np.log(1e-15 + predicted[i])\n",
    "    mean_sum_score = 1.0 / len(actual) * sum_score\n",
    "    return -mean_sum_score"
   ],
   "execution_count": 46,
   "outputs": []
  },
  {
   "cell_type": "markdown",
   "metadata": {
    "id": "sS6iB8MIFO6Z"
   },
   "source": [
    "These are pseudo implementations to understand what is going on under the hood, we would recommend sticking with standard implementations on [scikit-learn](https://scikit-learn.org/stable/modules/classes.html#module-sklearn.metrics) or [numpy_ml](https://numpy-ml.readthedocs.io/en/latest/numpy_ml.neural_nets.losses.html) that are optimised."
   ]
  },
  {
   "cell_type": "code",
   "metadata": {
    "id": "QAnsPgS1w6RS"
   },
   "source": [
    "import sklearn.metrics as metrics"
   ],
   "execution_count": 47,
   "outputs": []
  },
  {
   "cell_type": "code",
   "metadata": {
    "colab": {
     "base_uri": "https://localhost:8080/"
    },
    "id": "sTIJEFb2xHhx",
    "outputId": "a0a55163-f374-4a95-e8c7-4dcbcd13cba4"
   },
   "source": [
    "metrics.mean_squared_error"
   ],
   "execution_count": 48,
   "outputs": [
    {
     "data": {
      "text/plain": "<function sklearn.metrics._regression.mean_squared_error(y_true, y_pred, *, sample_weight=None, multioutput='uniform_average', squared=True)>"
     },
     "execution_count": 48,
     "metadata": {},
     "output_type": "execute_result"
    }
   ]
  },
  {
   "cell_type": "code",
   "metadata": {
    "colab": {
     "base_uri": "https://localhost:8080/"
    },
    "id": "vRlSDFUqxMEb",
    "outputId": "25c822ed-d30d-4e15-8b01-6958e5f433c3"
   },
   "source": [
    "metrics.log_loss"
   ],
   "execution_count": 49,
   "outputs": [
    {
     "data": {
      "text/plain": "<function sklearn.metrics._classification.log_loss(y_true, y_pred, *, eps=1e-15, normalize=True, sample_weight=None, labels=None)>"
     },
     "execution_count": 49,
     "metadata": {},
     "output_type": "execute_result"
    }
   ]
  },
  {
   "cell_type": "markdown",
   "metadata": {
    "id": "pY59qVB6FO6B"
   },
   "source": [
    "### Visualizing Distance Metrics\n",
    "\n",
    "Let’s plot a graph representation of our toy dataset using the popular networkx library.\n",
    "\n",
    "Each node will be a document, where the color of the node will be its topic according to the LDA model. Edges will connect documents to each other, where the weight of the edge will be inversely proportional to the Jaccard similarity between two documents. We will also annotate the edges to further aid visualization: strong edges will connect similar documents, and weak (dashed) edges will connect dissimilar documents.\n",
    "\n",
    "In summary, similar documents will be closer together, different documents will be further apart."
   ]
  },
  {
   "cell_type": "code",
   "metadata": {
    "id": "Bu1NL7cjFO6D"
   },
   "source": [
    "import itertools\n",
    "import networkx as nx\n"
   ],
   "execution_count": 50,
   "outputs": []
  },
  {
   "cell_type": "code",
   "metadata": {
    "id": "7y0OXMnvFO6D"
   },
   "source": [
    "def get_most_likely_topic(doc):\n",
    "    bow = model.id2word.doc2bow(doc)\n",
    "    topics, probabilities = zip(*model.get_document_topics(bow))\n",
    "    max_p = max(probabilities)\n",
    "    topic = topics[probabilities.index(max_p)]\n",
    "    return topic\n",
    "\n",
    "def get_node_color(i):\n",
    "    return 'skyblue' if get_most_likely_topic(texts[i]) == 0 else 'pink'"
   ],
   "execution_count": 51,
   "outputs": []
  },
  {
   "cell_type": "code",
   "metadata": {
    "id": "xsz6GlKaFO6D"
   },
   "source": [
    "G = nx.Graph()\n",
    "for i, _ in enumerate(texts):\n",
    "    G.add_node(i)\n",
    "\n",
    "for (i1, i2) in itertools.combinations(range(len(texts)), 2):\n",
    "    bow1, bow2 = texts[i1], texts[i2]\n",
    "    distance = jaccard(bow1, bow2)\n",
    "    G.add_edge(i1, i2, weight=1/distance)"
   ],
   "execution_count": 52,
   "outputs": []
  },
  {
   "cell_type": "code",
   "metadata": {
    "colab": {
     "base_uri": "https://localhost:8080/",
     "height": 435
    },
    "id": "YNAYrmmoFO6E",
    "outputId": "ca1f3e73-fdd1-4029-84e2-4932087e3b54"
   },
   "source": [
    "#\n",
    "# https://networkx.github.io/documentation/networkx-1.9/examples/drawing/weighted_graph.html\n",
    "#\n",
    "pos = nx.spring_layout(G)\n",
    "\n",
    "threshold = 1.25\n",
    "elarge=[(u,v) for (u,v,d) in G.edges(data=True) if d['weight'] > threshold]\n",
    "esmall=[(u,v) for (u,v,d) in G.edges(data=True) if d['weight'] <= threshold]\n",
    "\n",
    "node_colors = [get_node_color(i) for (i, _) in enumerate(texts)]\n",
    "nx.draw_networkx_nodes(G, pos, node_size=700, node_color=node_colors)\n",
    "nx.draw_networkx_edges(G,pos,edgelist=elarge, width=2)\n",
    "nx.draw_networkx_edges(G,pos,edgelist=esmall, width=2, alpha=0.2, edge_color='b', style='dashed')\n",
    "nx.draw_networkx_labels(G, pos, font_size=20, font_family='sans-serif')"
   ],
   "execution_count": 53,
   "outputs": [
    {
     "data": {
      "text/plain": "{0: Text(-0.37781861649765647, -0.17794451217795892, '0'),\n 1: Text(-0.026784157360202517, -0.9988282943476521, '1'),\n 2: Text(-0.9273797191929902, 0.2678762867211814, '2'),\n 3: Text(0.35893704308061203, 0.8498574367184811, '3'),\n 4: Text(0.9999999999999999, 0.14576761149964423, '4'),\n 5: Text(0.7702742966269851, -0.430727879960858, '5'),\n 6: Text(-0.39983222387691164, 0.8945577533190467, '6'),\n 7: Text(-0.18190517073527646, 0.3985742993635769, '7'),\n 8: Text(0.44434193424037227, 0.23883843478891073, '8'),\n 9: Text(-0.8662821409003814, -0.612957986306395, '9'),\n 10: Text(0.20644875461544848, -0.5750131496179783, '10')}"
     },
     "execution_count": 53,
     "metadata": {},
     "output_type": "execute_result"
    },
    {
     "data": {
      "text/plain": "<Figure size 432x288 with 1 Axes>",
      "image/png": "[encoded data removed]"
     },
     "metadata": {},
     "output_type": "display_data"
    }
   ]
  },
  {
   "cell_type": "markdown",
   "metadata": {
    "id": "77UERZNOFO6H"
   },
   "source": [
    "This graph gives us the ability to look out for strongly connected components using the weights feature, and identify patterns in our documents. What patterns can you see in our graph here, and what might that tell you about our documents, as well as our topic model? Such visualisations are a useful diagnostic tool to check if our method of representations (i.e topic models, neural models) make intuitive sense, by comparing differences between our objects represented. In this case, we adapated a topic model for the visualisation, but you can use a similar set up for any set of objects and metrics. This is useful to think about for your HW!"
   ]
  },
  {
   "cell_type": "markdown",
   "metadata": {
    "id": "7dWoQe-uFO6I"
   },
   "source": [
    "### Examples of distances on real-world distributions and embeddings\n",
    "\n",
    "Now that we've seen a bunch of different measures and how they work on topic models, we will now expand our analysis to other forms of distributions and representations. In this section, we will create different kinds of vector representations of the same object - in this case, words. As we will see in our section on integrating and aligning embeddings, one way to align objects is by choosing different representations of the same object and explore their relationships. \n",
    "\n",
    "We will lay some groundwork for this kind of analysis here by first creating word2vec embeddings for 4 words associated with cooking and cleaning."
   ]
  },
  {
   "cell_type": "code",
   "metadata": {
    "id": "a2ZrgLjuFO6I"
   },
   "source": [
    "import gensim"
   ],
   "execution_count": 54,
   "outputs": []
  },
  {
   "cell_type": "code",
   "metadata": {
    "id": "PDkiZsJ5FO6I"
   },
   "source": [
    "from gensim.models import Word2Vec\n"
   ],
   "execution_count": 55,
   "outputs": []
  },
  {
   "cell_type": "markdown",
   "source": [
    "### If using Google Colab:"
   ],
   "metadata": {
    "collapsed": false,
    "pycharm": {
     "name": "#%% md\n"
    }
   }
  },
  {
   "cell_type": "code",
   "execution_count": 69,
   "outputs": [],
   "source": [
    "#from google.colab import drive\n",
    "#drive.mount('content/drive')"
   ],
   "metadata": {
    "collapsed": false,
    "pycharm": {
     "name": "#%%\n"
    }
   }
  },
  {
   "cell_type": "code",
   "metadata": {
    "id": "Pq_x-54rFO6K"
   },
   "source": [
    "model_address = \"content/nytimes_cbow.reduced.txt\""
   ],
   "execution_count": 70,
   "outputs": []
  },
  {
   "cell_type": "code",
   "metadata": {
    "id": "V5wwy5Nl_S2C"
   },
   "source": [
    "model_address = \"content/GoogleNews-vectors-negative300.bin\""
   ],
   "execution_count": 144,
   "outputs": []
  },
  {
   "cell_type": "code",
   "metadata": {
    "id": "9mxiRPKcFO6L"
   },
   "source": [
    "google_w2v_model = gensim.models.KeyedVectors.load_word2vec_format(model_address, binary=True\n",
    "                                                                   )"
   ],
   "execution_count": 146,
   "outputs": []
  },
  {
   "cell_type": "code",
   "metadata": {
    "id": "PTCKPzTCFO6M"
   },
   "source": [
    "spoon_vector = google_w2v_model[\"spoon\"]"
   ],
   "execution_count": 147,
   "outputs": []
  },
  {
   "cell_type": "code",
   "metadata": {
    "id": "zZgLJ_yMFO6M"
   },
   "source": [
    "plunger_vector = google_w2v_model[\"plunger\"]"
   ],
   "execution_count": 148,
   "outputs": []
  },
  {
   "cell_type": "code",
   "metadata": {
    "id": "03erdgVrFO6M"
   },
   "source": [
    "spatula_vector = google_w2v_model[\"spatula\"]"
   ],
   "execution_count": 149,
   "outputs": []
  },
  {
   "cell_type": "code",
   "metadata": {
    "id": "cdXoRukFFO6N"
   },
   "source": [
    "soap_vector = google_w2v_model[\"soap\"]"
   ],
   "execution_count": 150,
   "outputs": []
  },
  {
   "cell_type": "code",
   "metadata": {
    "colab": {
     "base_uri": "https://localhost:8080/"
    },
    "id": "91xIQ2qkFO6N",
    "outputId": "7b94e7a6-b62c-4688-b935-8eb6d83a10eb"
   },
   "source": [
    "spoon_vector[0:8]"
   ],
   "execution_count": 151,
   "outputs": [
    {
     "data": {
      "text/plain": "array([-0.06079102, -0.05859375,  0.20507812, -0.10253906, -0.19726562,\n       -0.13769531,  0.28320312, -0.0004673 ], dtype=float32)"
     },
     "execution_count": 151,
     "metadata": {},
     "output_type": "execute_result"
    }
   ]
  },
  {
   "cell_type": "code",
   "metadata": {
    "id": "ya1-DVvMFO6O"
   },
   "source": [
    "word_vectors = {\"spoon\":spoon_vector, \"plunger\":plunger_vector, \"spatula\":spatula_vector, \"soap\":soap_vector}"
   ],
   "execution_count": 152,
   "outputs": []
  },
  {
   "cell_type": "markdown",
   "metadata": {
    "id": "cLJZtAJ54AgP"
   },
   "source": [
    "So now that we have a dictionary mapping words to their embeddings, we can use this later for distance analysis."
   ]
  },
  {
   "cell_type": "markdown",
   "metadata": {
    "id": "_sRsoB--FO6P"
   },
   "source": [
    "For fun, let's also use each of these word's color distributions($J_zA_zB_z$) to see how they match up. (We came across comp-syn and ($J_zA_zB_z$)  vectors in the last notebook). We note that this investigation is another take on representational difference. In case you are not using compsyn, you can try out these distance metrics using other inputs, such as word vectors. Note that to use comp-syn you must first download the [($J_zA_zB_z$) numpy array](https://drive.google.com/file/d/1wspjIBzzvO-ZQbiQs3jgN4UETMxTVD2c/view) and upload it to your files for the colab session.\n",
    "\n",
    "One of the main powers of comp-syn is the pre-loaded color distribution vectors they have for 40,000 commonly used english words. You will need to download these two files first, and upload it in the files section.\n",
    "\n",
    "1) [vectors.json](https://drive.google.com/file/d/1edQaibCW9yCih_pVeeYZWzPlgNZJ4Fzp/view?usp=sharing)\n",
    "2) [concreteness-color-embeddings.json](https://drive.google.com/file/d/1edQaibCW9yCih_pVeeYZWzPlgNZJ4Fzp/view?usp=sharing)\n",
    "\n",
    "Let's do a recap on what these color distribution vectors do. The [comp-syn](https://github.com/comp-syn/comp-syn) package allows you to aggregate images associated with a word, and create an **average image representation associated with words**. This can be done either using a popular Image-Word dataset such as ImageNet, or by aggregating images through a search engine such as Google Image Search. The default, pre-loaded word-color vectors associated with comp-syn are created by extracting the top 100 images returned from a google image search result, creating a $J_zA_zB_z$ representation of those images, and averaging these representations, followed by a histogram binning to convert the distribution of values for pixels into a lower dimensional representation. We saw some of these teachniques applied to individual images - now, we use the end-product. \n",
    "\n",
    "We can think of these word-color vectors as a dense representation of the average image (specifically color composition and lighting) represenation of words. For example, an apple might have mostly red, with some green, and trees may be mostly brown and green. The work by the [comp-syn](https://comp-syn.com/#/) team ([Guilbeault et al, 2020](https://www.sciencedirect.com/science/article/abs/pii/S0010027720301256), [Srinivasa Desikan et al, 2020](https://www.aclweb.org/anthology/2020.coling-main.154/)) explores the many ways we can use these word-color vectors for exploration of multi-modal meaning generation and semantics. \n",
    "\n",
    "In the following lines of code, we load the pre-existing word-color vectors for the same words we used earlier for word embeddings. "
   ]
  },
  {
   "cell_type": "code",
   "metadata": {
    "id": "_t2o9yMfU4lt",
    "colab": {
     "base_uri": "https://localhost:8080/",
     "height": 1000
    },
    "outputId": "08725a2b-13aa-42ac-e6b9-d891577f0a3f"
   },
   "source": [
    "!pip install compsyn"
   ],
   "execution_count": 160,
   "outputs": [
    {
     "name": "stdout",
     "output_type": "stream",
     "text": [
      "Requirement already satisfied: compsyn in c:\\users\\parth\\appdata\\roaming\\python\\python39\\site-packages (1.0.1)\n",
      "Requirement already satisfied: qloader<9.0.0,>=8.1.4 in c:\\users\\parth\\appdata\\roaming\\python\\python39\\site-packages (from compsyn) (8.1.4)\n",
      "Requirement already satisfied: kymatio<0.3.0,>=0.2.1 in c:\\users\\parth\\appdata\\roaming\\python\\python39\\site-packages (from compsyn) (0.2.1)\n",
      "Requirement already satisfied: numba<0.55.0,>=0.54.1 in c:\\users\\parth\\appdata\\local\\programs\\python\\python39\\lib\\site-packages (from compsyn) (0.54.1)\n",
      "Requirement already satisfied: google-auth<3.0.0,>=2.3.3 in c:\\users\\parth\\appdata\\local\\programs\\python\\python39\\lib\\site-packages (from compsyn) (2.6.2)\n",
      "Requirement already satisfied: requests<3.0.0,>=2.27.1 in c:\\users\\parth\\appdata\\local\\programs\\python\\python39\\lib\\site-packages (from compsyn) (2.27.1)\n",
      "Requirement already satisfied: textblob<0.18.0,>=0.17.1 in c:\\users\\parth\\appdata\\roaming\\python\\python39\\site-packages (from compsyn) (0.17.1)\n",
      "Requirement already satisfied: pandas<2.0.0,>=1.3.5 in c:\\users\\parth\\appdata\\roaming\\python\\python39\\site-packages (from compsyn) (1.4.1)\n",
      "Requirement already satisfied: notebook<7.0.0,>=6.4.6 in c:\\users\\parth\\appdata\\roaming\\python\\python39\\site-packages (from compsyn) (6.4.10)\n",
      "Requirement already satisfied: scikit-learn<2.0.0,>=1.0.2 in c:\\users\\parth\\appdata\\local\\programs\\python\\python39\\lib\\site-packages (from compsyn) (1.0.2)\n",
      "Requirement already satisfied: google-cloud<0.35.0,>=0.34.0 in c:\\users\\parth\\appdata\\local\\programs\\python\\python39\\lib\\site-packages (from compsyn) (0.34.0)\n",
      "Requirement already satisfied: pytest-depends<2.0.0,>=1.0.1 in c:\\users\\parth\\appdata\\roaming\\python\\python39\\site-packages (from compsyn) (1.0.1)\n",
      "Requirement already satisfied: pytest<7.0.0,>=6.2.5 in c:\\users\\parth\\appdata\\roaming\\python\\python39\\site-packages (from compsyn) (6.2.5)\n",
      "Requirement already satisfied: ipython<8.0.0,>=7.31.0 in c:\\users\\parth\\appdata\\roaming\\python\\python39\\site-packages (from compsyn) (7.32.0)\n",
      "Requirement already satisfied: google-cloud-vision<3.0.0,>=2.6.3 in c:\\users\\parth\\appdata\\roaming\\python\\python39\\site-packages (from compsyn) (2.7.1)\n",
      "Requirement already satisfied: pytest-cov<4.0.0,>=3.0.0 in c:\\users\\parth\\appdata\\roaming\\python\\python39\\site-packages (from compsyn) (3.0.0)\n",
      "Requirement already satisfied: googleapis-common-protos<2.0.0,>=1.54.0 in c:\\users\\parth\\appdata\\local\\programs\\python\\python39\\lib\\site-packages (from compsyn) (1.56.0)\n",
      "Requirement already satisfied: nltk<4.0.0,>=3.6.7 in c:\\users\\parth\\appdata\\local\\programs\\python\\python39\\lib\\site-packages (from compsyn) (3.7)\n",
      "Requirement already satisfied: boto3<2.0.0,>=1.20.30 in c:\\users\\parth\\appdata\\roaming\\python\\python39\\site-packages (from compsyn) (1.21.25)\n",
      "Requirement already satisfied: grpcio<2.0.0,>=1.43.0 in c:\\users\\parth\\appdata\\local\\programs\\python\\python39\\lib\\site-packages (from compsyn) (1.45.0)\n",
      "Requirement already satisfied: matplotlib<4.0.0,>=3.5.1 in c:\\users\\parth\\appdata\\roaming\\python\\python39\\site-packages (from compsyn) (3.5.1)\n",
      "Requirement already satisfied: scikit-image<0.20.0,>=0.19.1 in c:\\users\\parth\\appdata\\local\\programs\\python\\python39\\lib\\site-packages (from compsyn) (0.19.2)\n",
      "Requirement already satisfied: google-api-core<3.0.0,>=2.3.2 in c:\\users\\parth\\appdata\\roaming\\python\\python39\\site-packages (from compsyn) (2.7.1)\n",
      "Requirement already satisfied: toml<0.11.0,>=0.10.2 in c:\\users\\parth\\appdata\\local\\programs\\python\\python39\\lib\\site-packages (from compsyn) (0.10.2)\n",
      "Requirement already satisfied: Pillow<10.0.0,>=9.0.0 in c:\\users\\parth\\appdata\\local\\programs\\python\\python39\\lib\\site-packages (from compsyn) (9.0.1)\n",
      "Requirement already satisfied: beautifulsoup4<5.0.0,>=4.10.0 in c:\\users\\parth\\appdata\\local\\programs\\python\\python39\\lib\\site-packages (from compsyn) (4.10.0)\n",
      "Requirement already satisfied: memory-profiler<0.61.0,>=0.60.0 in c:\\users\\parth\\appdata\\local\\programs\\python\\python39\\lib\\site-packages (from compsyn) (0.60.0)\n",
      "Requirement already satisfied: black<22.0,>=21.12b0 in c:\\users\\parth\\appdata\\roaming\\python\\python39\\site-packages (from compsyn) (21.12b0)\n",
      "Requirement already satisfied: seaborn<0.12.0,>=0.11.2 in c:\\users\\parth\\appdata\\local\\programs\\python\\python39\\lib\\site-packages (from compsyn) (0.11.2)\n",
      "Requirement already satisfied: ipykernel<7.0.0,>=6.6.1 in c:\\users\\parth\\appdata\\roaming\\python\\python39\\site-packages (from compsyn) (6.9.2)\n",
      "Requirement already satisfied: soupsieve>1.2 in c:\\users\\parth\\appdata\\local\\programs\\python\\python39\\lib\\site-packages (from beautifulsoup4<5.0.0,>=4.10.0->compsyn) (2.3.1)\n",
      "Requirement already satisfied: click>=7.1.2 in c:\\users\\parth\\appdata\\local\\programs\\python\\python39\\lib\\site-packages (from black<22.0,>=21.12b0->compsyn) (8.0.3)\n",
      "Requirement already satisfied: pathspec<1,>=0.9.0 in c:\\users\\parth\\appdata\\local\\programs\\python\\python39\\lib\\site-packages (from black<22.0,>=21.12b0->compsyn) (0.9.0)\n",
      "Requirement already satisfied: tomli<2.0.0,>=0.2.6 in c:\\users\\parth\\appdata\\local\\programs\\python\\python39\\lib\\site-packages (from black<22.0,>=21.12b0->compsyn) (1.2.2)\n",
      "Requirement already satisfied: platformdirs>=2 in c:\\users\\parth\\appdata\\local\\programs\\python\\python39\\lib\\site-packages (from black<22.0,>=21.12b0->compsyn) (2.5.1)\n",
      "Requirement already satisfied: mypy-extensions>=0.4.3 in c:\\users\\parth\\appdata\\local\\programs\\python\\python39\\lib\\site-packages (from black<22.0,>=21.12b0->compsyn) (0.4.3)\n",
      "Requirement already satisfied: typing-extensions>=3.10.0.0 in c:\\users\\parth\\appdata\\local\\programs\\python\\python39\\lib\\site-packages (from black<22.0,>=21.12b0->compsyn) (3.10.0.2)\n",
      "Requirement already satisfied: botocore<1.25.0,>=1.24.25 in c:\\users\\parth\\appdata\\roaming\\python\\python39\\site-packages (from boto3<2.0.0,>=1.20.30->compsyn) (1.24.25)\n",
      "Requirement already satisfied: s3transfer<0.6.0,>=0.5.0 in c:\\users\\parth\\appdata\\local\\programs\\python\\python39\\lib\\site-packages (from boto3<2.0.0,>=1.20.30->compsyn) (0.5.0)\n",
      "Requirement already satisfied: jmespath<2.0.0,>=0.7.1 in c:\\users\\parth\\appdata\\local\\programs\\python\\python39\\lib\\site-packages (from boto3<2.0.0,>=1.20.30->compsyn) (0.10.0)\n",
      "Requirement already satisfied: protobuf>=3.12.0 in c:\\users\\parth\\appdata\\local\\programs\\python\\python39\\lib\\site-packages (from google-api-core<3.0.0,>=2.3.2->compsyn) (3.19.4)\n",
      "Requirement already satisfied: pyasn1-modules>=0.2.1 in c:\\users\\parth\\appdata\\local\\programs\\python\\python39\\lib\\site-packages (from google-auth<3.0.0,>=2.3.3->compsyn) (0.2.8)\n",
      "Requirement already satisfied: cachetools<6.0,>=2.0.0 in c:\\users\\parth\\appdata\\local\\programs\\python\\python39\\lib\\site-packages (from google-auth<3.0.0,>=2.3.3->compsyn) (5.0.0)\n",
      "Requirement already satisfied: six>=1.9.0 in c:\\users\\parth\\appdata\\local\\programs\\python\\python39\\lib\\site-packages (from google-auth<3.0.0,>=2.3.3->compsyn) (1.16.0)\n",
      "Requirement already satisfied: rsa<5,>=3.1.4 in c:\\users\\parth\\appdata\\local\\programs\\python\\python39\\lib\\site-packages (from google-auth<3.0.0,>=2.3.3->compsyn) (3.4.2)\n",
      "Requirement already satisfied: proto-plus>=1.15.0 in c:\\users\\parth\\appdata\\local\\programs\\python\\python39\\lib\\site-packages (from google-cloud-vision<3.0.0,>=2.6.3->compsyn) (1.20.3)\n",
      "Requirement already satisfied: psutil in c:\\users\\parth\\appdata\\local\\programs\\python\\python39\\lib\\site-packages (from ipykernel<7.0.0,>=6.6.1->compsyn) (5.8.0)\n",
      "Requirement already satisfied: nest-asyncio in c:\\users\\parth\\appdata\\local\\programs\\python\\python39\\lib\\site-packages (from ipykernel<7.0.0,>=6.6.1->compsyn) (1.5.1)\n",
      "Requirement already satisfied: matplotlib-inline<0.2.0,>=0.1.0 in c:\\users\\parth\\appdata\\local\\programs\\python\\python39\\lib\\site-packages (from ipykernel<7.0.0,>=6.6.1->compsyn) (0.1.3)\n",
      "Requirement already satisfied: jupyter-client<8.0 in c:\\users\\parth\\appdata\\local\\programs\\python\\python39\\lib\\site-packages (from ipykernel<7.0.0,>=6.6.1->compsyn) (7.0.6)\n",
      "Requirement already satisfied: debugpy<2.0,>=1.0.0 in c:\\users\\parth\\appdata\\local\\programs\\python\\python39\\lib\\site-packages (from ipykernel<7.0.0,>=6.6.1->compsyn) (1.5.1)\n",
      "Requirement already satisfied: tornado<7.0,>=4.2 in c:\\users\\parth\\appdata\\local\\programs\\python\\python39\\lib\\site-packages (from ipykernel<7.0.0,>=6.6.1->compsyn) (6.1)\n",
      "Requirement already satisfied: traitlets<6.0,>=5.1.0 in c:\\users\\parth\\appdata\\local\\programs\\python\\python39\\lib\\site-packages (from ipykernel<7.0.0,>=6.6.1->compsyn) (5.1.1)\n",
      "Requirement already satisfied: decorator in c:\\users\\parth\\appdata\\local\\programs\\python\\python39\\lib\\site-packages (from ipython<8.0.0,>=7.31.0->compsyn) (5.1.0)\n",
      "Requirement already satisfied: pickleshare in c:\\users\\parth\\appdata\\local\\programs\\python\\python39\\lib\\site-packages (from ipython<8.0.0,>=7.31.0->compsyn) (0.7.5)\n",
      "Requirement already satisfied: setuptools>=18.5 in c:\\users\\parth\\appdata\\local\\programs\\python\\python39\\lib\\site-packages (from ipython<8.0.0,>=7.31.0->compsyn) (60.10.0)\n",
      "Requirement already satisfied: colorama in c:\\users\\parth\\appdata\\local\\programs\\python\\python39\\lib\\site-packages (from ipython<8.0.0,>=7.31.0->compsyn) (0.3.7)\n",
      "Requirement already satisfied: prompt-toolkit!=3.0.0,!=3.0.1,<3.1.0,>=2.0.0 in c:\\users\\parth\\appdata\\local\\programs\\python\\python39\\lib\\site-packages (from ipython<8.0.0,>=7.31.0->compsyn) (3.0.22)\n",
      "Requirement already satisfied: pygments in c:\\users\\parth\\appdata\\local\\programs\\python\\python39\\lib\\site-packages (from ipython<8.0.0,>=7.31.0->compsyn) (2.10.0)\n",
      "Requirement already satisfied: jedi>=0.16 in c:\\users\\parth\\appdata\\local\\programs\\python\\python39\\lib\\site-packages (from ipython<8.0.0,>=7.31.0->compsyn) (0.18.0)\n",
      "Requirement already satisfied: backcall in c:\\users\\parth\\appdata\\local\\programs\\python\\python39\\lib\\site-packages (from ipython<8.0.0,>=7.31.0->compsyn) (0.2.0)\n",
      "Requirement already satisfied: packaging in c:\\users\\parth\\appdata\\local\\programs\\python\\python39\\lib\\site-packages (from kymatio<0.3.0,>=0.2.1->compsyn) (21.3)\n",
      "Requirement already satisfied: scipy in c:\\users\\parth\\appdata\\local\\programs\\python\\python39\\lib\\site-packages (from kymatio<0.3.0,>=0.2.1->compsyn) (1.8.0)\n",
      "Requirement already satisfied: appdirs in c:\\users\\parth\\appdata\\local\\programs\\python\\python39\\lib\\site-packages (from kymatio<0.3.0,>=0.2.1->compsyn) (1.4.4)\n",
      "Requirement already satisfied: configparser in c:\\users\\parth\\appdata\\local\\programs\\python\\python39\\lib\\site-packages (from kymatio<0.3.0,>=0.2.1->compsyn) (5.2.0)\n",
      "Requirement already satisfied: numpy in c:\\users\\parth\\appdata\\local\\programs\\python\\python39\\lib\\site-packages (from kymatio<0.3.0,>=0.2.1->compsyn) (1.20.3)\n",
      "Requirement already satisfied: fonttools>=4.22.0 in c:\\users\\parth\\appdata\\local\\programs\\python\\python39\\lib\\site-packages (from matplotlib<4.0.0,>=3.5.1->compsyn) (4.28.3)\n",
      "Requirement already satisfied: kiwisolver>=1.0.1 in c:\\users\\parth\\appdata\\local\\programs\\python\\python39\\lib\\site-packages (from matplotlib<4.0.0,>=3.5.1->compsyn) (1.3.2)\n",
      "Requirement already satisfied: cycler>=0.10 in c:\\users\\parth\\appdata\\local\\programs\\python\\python39\\lib\\site-packages (from matplotlib<4.0.0,>=3.5.1->compsyn) (0.11.0)\n",
      "Requirement already satisfied: python-dateutil>=2.7 in c:\\users\\parth\\appdata\\local\\programs\\python\\python39\\lib\\site-packages (from matplotlib<4.0.0,>=3.5.1->compsyn) (2.8.2)\n",
      "Requirement already satisfied: pyparsing>=2.2.1 in c:\\users\\parth\\appdata\\local\\programs\\python\\python39\\lib\\site-packages (from matplotlib<4.0.0,>=3.5.1->compsyn) (2.4.7)\n",
      "Requirement already satisfied: tqdm in c:\\users\\parth\\appdata\\local\\programs\\python\\python39\\lib\\site-packages (from nltk<4.0.0,>=3.6.7->compsyn) (4.62.3)\n",
      "Requirement already satisfied: joblib in c:\\users\\parth\\appdata\\local\\programs\\python\\python39\\lib\\site-packages (from nltk<4.0.0,>=3.6.7->compsyn) (1.1.0)\n",
      "Requirement already satisfied: regex>=2021.8.3 in c:\\users\\parth\\appdata\\local\\programs\\python\\python39\\lib\\site-packages (from nltk<4.0.0,>=3.6.7->compsyn) (2021.11.10)\n",
      "Requirement already satisfied: pyzmq>=17 in c:\\users\\parth\\appdata\\local\\programs\\python\\python39\\lib\\site-packages (from notebook<7.0.0,>=6.4.6->compsyn) (22.3.0)\n",
      "Requirement already satisfied: nbconvert>=5 in c:\\users\\parth\\appdata\\local\\programs\\python\\python39\\lib\\site-packages (from notebook<7.0.0,>=6.4.6->compsyn) (6.2.0)\n",
      "Requirement already satisfied: jupyter-core>=4.6.1 in c:\\users\\parth\\appdata\\local\\programs\\python\\python39\\lib\\site-packages (from notebook<7.0.0,>=6.4.6->compsyn) (4.9.1)\n",
      "Requirement already satisfied: terminado>=0.8.3 in c:\\users\\parth\\appdata\\local\\programs\\python\\python39\\lib\\site-packages (from notebook<7.0.0,>=6.4.6->compsyn) (0.12.1)\n",
      "Requirement already satisfied: argon2-cffi in c:\\users\\parth\\appdata\\local\\programs\\python\\python39\\lib\\site-packages (from notebook<7.0.0,>=6.4.6->compsyn) (21.1.0)\n",
      "Requirement already satisfied: nbformat in c:\\users\\parth\\appdata\\local\\programs\\python\\python39\\lib\\site-packages (from notebook<7.0.0,>=6.4.6->compsyn) (5.1.3)\n",
      "Requirement already satisfied: prometheus-client in c:\\users\\parth\\appdata\\local\\programs\\python\\python39\\lib\\site-packages (from notebook<7.0.0,>=6.4.6->compsyn) (0.12.0)\n",
      "Requirement already satisfied: ipython-genutils in c:\\users\\parth\\appdata\\local\\programs\\python\\python39\\lib\\site-packages (from notebook<7.0.0,>=6.4.6->compsyn) (0.2.0)\n",
      "Requirement already satisfied: jinja2 in c:\\users\\parth\\appdata\\local\\programs\\python\\python39\\lib\\site-packages (from notebook<7.0.0,>=6.4.6->compsyn) (3.0.2)\n",
      "Requirement already satisfied: Send2Trash>=1.8.0 in c:\\users\\parth\\appdata\\local\\programs\\python\\python39\\lib\\site-packages (from notebook<7.0.0,>=6.4.6->compsyn) (1.8.0)\n",
      "Requirement already satisfied: llvmlite<0.38,>=0.37.0rc1 in c:\\users\\parth\\appdata\\local\\programs\\python\\python39\\lib\\site-packages (from numba<0.55.0,>=0.54.1->compsyn) (0.37.0)\n",
      "Requirement already satisfied: pytz>=2020.1 in c:\\users\\parth\\appdata\\local\\programs\\python\\python39\\lib\\site-packages (from pandas<2.0.0,>=1.3.5->compsyn) (2021.3)\n",
      "Requirement already satisfied: attrs>=19.2.0 in c:\\users\\parth\\appdata\\local\\programs\\python\\python39\\lib\\site-packages (from pytest<7.0.0,>=6.2.5->compsyn) (21.2.0)\n",
      "Requirement already satisfied: iniconfig in c:\\users\\parth\\appdata\\local\\programs\\python\\python39\\lib\\site-packages (from pytest<7.0.0,>=6.2.5->compsyn) (1.1.1)\n",
      "Requirement already satisfied: pluggy<2.0,>=0.12 in c:\\users\\parth\\appdata\\local\\programs\\python\\python39\\lib\\site-packages (from pytest<7.0.0,>=6.2.5->compsyn) (1.0.0)\n",
      "Requirement already satisfied: atomicwrites>=1.0 in c:\\users\\parth\\appdata\\local\\programs\\python\\python39\\lib\\site-packages (from pytest<7.0.0,>=6.2.5->compsyn) (1.4.0)\n",
      "Requirement already satisfied: py>=1.8.2 in c:\\users\\parth\\appdata\\local\\programs\\python\\python39\\lib\\site-packages (from pytest<7.0.0,>=6.2.5->compsyn) (1.11.0)\n",
      "Requirement already satisfied: coverage[toml]>=5.2.1 in c:\\users\\parth\\appdata\\local\\programs\\python\\python39\\lib\\site-packages (from pytest-cov<4.0.0,>=3.0.0->compsyn) (6.3.2)\n",
      "Requirement already satisfied: networkx in c:\\users\\parth\\appdata\\local\\programs\\python\\python39\\lib\\site-packages (from pytest-depends<2.0.0,>=1.0.1->compsyn) (2.6.3)\n",
      "Requirement already satisfied: future-fstrings in c:\\users\\parth\\appdata\\local\\programs\\python\\python39\\lib\\site-packages (from pytest-depends<2.0.0,>=1.0.1->compsyn) (1.2.0)\n",
      "Requirement already satisfied: imagehash in c:\\users\\parth\\appdata\\roaming\\python\\python39\\site-packages (from qloader<9.0.0,>=8.1.4->compsyn) (4.2.1)\n",
      "Requirement already satisfied: selenium in c:\\users\\parth\\appdata\\roaming\\python\\python39\\site-packages (from qloader<9.0.0,>=8.1.4->compsyn) (4.1.3)\n",
      "Requirement already satisfied: certifi>=2017.4.17 in c:\\users\\parth\\appdata\\local\\programs\\python\\python39\\lib\\site-packages (from requests<3.0.0,>=2.27.1->compsyn) (2021.10.8)\n",
      "Requirement already satisfied: idna<4,>=2.5 in c:\\users\\parth\\appdata\\local\\programs\\python\\python39\\lib\\site-packages (from requests<3.0.0,>=2.27.1->compsyn) (3.3)\n",
      "Requirement already satisfied: urllib3<1.27,>=1.21.1 in c:\\users\\parth\\appdata\\local\\programs\\python\\python39\\lib\\site-packages (from requests<3.0.0,>=2.27.1->compsyn) (1.26.7)\n",
      "Requirement already satisfied: charset-normalizer~=2.0.0 in c:\\users\\parth\\appdata\\local\\programs\\python\\python39\\lib\\site-packages (from requests<3.0.0,>=2.27.1->compsyn) (2.0.7)\n",
      "Requirement already satisfied: imageio>=2.4.1 in c:\\users\\parth\\appdata\\local\\programs\\python\\python39\\lib\\site-packages (from scikit-image<0.20.0,>=0.19.1->compsyn) (2.16.1)\n",
      "Requirement already satisfied: PyWavelets>=1.1.1 in c:\\users\\parth\\appdata\\local\\programs\\python\\python39\\lib\\site-packages (from scikit-image<0.20.0,>=0.19.1->compsyn) (1.3.0)\n",
      "Requirement already satisfied: tifffile>=2019.7.26 in c:\\users\\parth\\appdata\\local\\programs\\python\\python39\\lib\\site-packages (from scikit-image<0.20.0,>=0.19.1->compsyn) (2022.3.16)\n",
      "Requirement already satisfied: threadpoolctl>=2.0.0 in c:\\users\\parth\\appdata\\local\\programs\\python\\python39\\lib\\site-packages (from scikit-learn<2.0.0,>=1.0.2->compsyn) (3.0.0)\n",
      "Requirement already satisfied: grpcio-status<2.0dev,>=1.33.2 in c:\\users\\parth\\appdata\\roaming\\python\\python39\\site-packages (from google-api-core<3.0.0,>=2.3.2->compsyn) (1.45.0)\n",
      "Requirement already satisfied: parso<0.9.0,>=0.8.0 in c:\\users\\parth\\appdata\\local\\programs\\python\\python39\\lib\\site-packages (from jedi>=0.16->ipython<8.0.0,>=7.31.0->compsyn) (0.8.2)\n",
      "Requirement already satisfied: entrypoints in c:\\users\\parth\\appdata\\local\\programs\\python\\python39\\lib\\site-packages (from jupyter-client<8.0->ipykernel<7.0.0,>=6.6.1->compsyn) (0.3)\n",
      "Requirement already satisfied: pywin32>=1.0 in c:\\users\\parth\\appdata\\local\\programs\\python\\python39\\lib\\site-packages (from jupyter-core>=4.6.1->notebook<7.0.0,>=6.4.6->compsyn) (302)\n",
      "Requirement already satisfied: defusedxml in c:\\users\\parth\\appdata\\local\\programs\\python\\python39\\lib\\site-packages (from nbconvert>=5->notebook<7.0.0,>=6.4.6->compsyn) (0.7.1)\n",
      "Requirement already satisfied: nbclient<0.6.0,>=0.5.0 in c:\\users\\parth\\appdata\\local\\programs\\python\\python39\\lib\\site-packages (from nbconvert>=5->notebook<7.0.0,>=6.4.6->compsyn) (0.5.4)\n",
      "Requirement already satisfied: mistune<2,>=0.8.1 in c:\\users\\parth\\appdata\\local\\programs\\python\\python39\\lib\\site-packages (from nbconvert>=5->notebook<7.0.0,>=6.4.6->compsyn) (0.8.4)\n",
      "Requirement already satisfied: testpath in c:\\users\\parth\\appdata\\local\\programs\\python\\python39\\lib\\site-packages (from nbconvert>=5->notebook<7.0.0,>=6.4.6->compsyn) (0.5.0)\n",
      "Requirement already satisfied: jupyterlab-pygments in c:\\users\\parth\\appdata\\local\\programs\\python\\python39\\lib\\site-packages (from nbconvert>=5->notebook<7.0.0,>=6.4.6->compsyn) (0.1.2)\n",
      "Requirement already satisfied: bleach in c:\\users\\parth\\appdata\\local\\programs\\python\\python39\\lib\\site-packages (from nbconvert>=5->notebook<7.0.0,>=6.4.6->compsyn) (4.1.0)\n",
      "Requirement already satisfied: pandocfilters>=1.4.1 in c:\\users\\parth\\appdata\\local\\programs\\python\\python39\\lib\\site-packages (from nbconvert>=5->notebook<7.0.0,>=6.4.6->compsyn) (1.5.0)\n",
      "Requirement already satisfied: MarkupSafe>=2.0 in c:\\users\\parth\\appdata\\local\\programs\\python\\python39\\lib\\site-packages (from jinja2->notebook<7.0.0,>=6.4.6->compsyn) (2.0.1)\n",
      "Requirement already satisfied: jsonschema!=2.5.0,>=2.4 in c:\\users\\parth\\appdata\\local\\programs\\python\\python39\\lib\\site-packages (from nbformat->notebook<7.0.0,>=6.4.6->compsyn) (4.2.1)\n",
      "Requirement already satisfied: wcwidth in c:\\users\\parth\\appdata\\local\\programs\\python\\python39\\lib\\site-packages (from prompt-toolkit!=3.0.0,!=3.0.1,<3.1.0,>=2.0.0->ipython<8.0.0,>=7.31.0->compsyn) (0.2.5)\n",
      "Requirement already satisfied: pyasn1<0.5.0,>=0.4.6 in c:\\users\\parth\\appdata\\local\\programs\\python\\python39\\lib\\site-packages (from pyasn1-modules>=0.2.1->google-auth<3.0.0,>=2.3.3->compsyn) (0.4.8)\n",
      "Requirement already satisfied: pywinpty>=1.1.0 in c:\\users\\parth\\appdata\\local\\programs\\python\\python39\\lib\\site-packages (from terminado>=0.8.3->notebook<7.0.0,>=6.4.6->compsyn) (1.1.5)\n",
      "Requirement already satisfied: cffi>=1.0.0 in c:\\users\\parth\\appdata\\local\\programs\\python\\python39\\lib\\site-packages (from argon2-cffi->notebook<7.0.0,>=6.4.6->compsyn) (1.15.0)\n",
      "Requirement already satisfied: trio~=0.17 in c:\\users\\parth\\appdata\\local\\programs\\python\\python39\\lib\\site-packages (from selenium->qloader<9.0.0,>=8.1.4->compsyn) (0.20.0)\n",
      "Requirement already satisfied: trio-websocket~=0.9 in c:\\users\\parth\\appdata\\roaming\\python\\python39\\site-packages (from selenium->qloader<9.0.0,>=8.1.4->compsyn) (0.9.2)\n",
      "Requirement already satisfied: pycparser in c:\\users\\parth\\appdata\\local\\programs\\python\\python39\\lib\\site-packages (from cffi>=1.0.0->argon2-cffi->notebook<7.0.0,>=6.4.6->compsyn) (2.21)\n",
      "Requirement already satisfied: pyrsistent!=0.17.0,!=0.17.1,!=0.17.2,>=0.14.0 in c:\\users\\parth\\appdata\\local\\programs\\python\\python39\\lib\\site-packages (from jsonschema!=2.5.0,>=2.4->nbformat->notebook<7.0.0,>=6.4.6->compsyn) (0.18.0)\n",
      "Requirement already satisfied: outcome in c:\\users\\parth\\appdata\\local\\programs\\python\\python39\\lib\\site-packages (from trio~=0.17->selenium->qloader<9.0.0,>=8.1.4->compsyn) (1.1.0)\n",
      "Requirement already satisfied: async-generator>=1.9 in c:\\users\\parth\\appdata\\local\\programs\\python\\python39\\lib\\site-packages (from trio~=0.17->selenium->qloader<9.0.0,>=8.1.4->compsyn) (1.10)\n",
      "Requirement already satisfied: sniffio in c:\\users\\parth\\appdata\\local\\programs\\python\\python39\\lib\\site-packages (from trio~=0.17->selenium->qloader<9.0.0,>=8.1.4->compsyn) (1.2.0)\n",
      "Requirement already satisfied: sortedcontainers in c:\\users\\parth\\appdata\\local\\programs\\python\\python39\\lib\\site-packages (from trio~=0.17->selenium->qloader<9.0.0,>=8.1.4->compsyn) (2.4.0)\n",
      "Requirement already satisfied: wsproto>=0.14 in c:\\users\\parth\\appdata\\local\\programs\\python\\python39\\lib\\site-packages (from trio-websocket~=0.9->selenium->qloader<9.0.0,>=8.1.4->compsyn) (1.1.0)\n",
      "Requirement already satisfied: cryptography>=1.3.4 in c:\\users\\parth\\appdata\\local\\programs\\python\\python39\\lib\\site-packages (from urllib3<1.27,>=1.21.1->requests<3.0.0,>=2.27.1->compsyn) (35.0.0)\n",
      "Requirement already satisfied: pyOpenSSL>=0.14 in c:\\users\\parth\\appdata\\roaming\\python\\python39\\site-packages (from urllib3<1.27,>=1.21.1->requests<3.0.0,>=2.27.1->compsyn) (22.0.0)\n",
      "Requirement already satisfied: PySocks!=1.5.7,<2.0,>=1.5.6 in c:\\users\\parth\\appdata\\local\\programs\\python\\python39\\lib\\site-packages (from urllib3<1.27,>=1.21.1->requests<3.0.0,>=2.27.1->compsyn) (1.7.1)\n",
      "Requirement already satisfied: webencodings in c:\\users\\parth\\appdata\\local\\programs\\python\\python39\\lib\\site-packages (from bleach->nbconvert>=5->notebook<7.0.0,>=6.4.6->compsyn) (0.5.1)\n",
      "Requirement already satisfied: h11<1,>=0.9.0 in c:\\users\\parth\\appdata\\local\\programs\\python\\python39\\lib\\site-packages (from wsproto>=0.14->trio-websocket~=0.9->selenium->qloader<9.0.0,>=8.1.4->compsyn) (0.13.0)\n"
     ]
    },
    {
     "name": "stderr",
     "output_type": "stream",
     "text": [
      "WARNING: Ignoring invalid distribution -illow (c:\\users\\parth\\appdata\\local\\programs\\python\\python39\\lib\\site-packages)\n",
      "WARNING: Ignoring invalid distribution -illow (c:\\users\\parth\\appdata\\local\\programs\\python\\python39\\lib\\site-packages)\n",
      "WARNING: Ignoring invalid distribution -illow (c:\\users\\parth\\appdata\\local\\programs\\python\\python39\\lib\\site-packages)\n",
      "WARNING: Ignoring invalid distribution -illow (c:\\users\\parth\\appdata\\local\\programs\\python\\python39\\lib\\site-packages)\n",
      "WARNING: Ignoring invalid distribution -illow (c:\\users\\parth\\appdata\\local\\programs\\python\\python39\\lib\\site-packages)\n"
     ]
    }
   ]
  },
  {
   "cell_type": "code",
   "metadata": {
    "id": "ZkbzjnxoFO6P"
   },
   "source": [
    "import compsyn as cs\n",
    "import PIL\n",
    "from PIL import Image\n",
    "import numpy as np"
   ],
   "execution_count": 161,
   "outputs": []
  },
  {
   "cell_type": "code",
   "metadata": {
    "id": "Iqc0eJs7FO6P"
   },
   "source": [
    "path = \"/content/\""
   ],
   "execution_count": 174,
   "outputs": []
  },
  {
   "cell_type": "code",
   "metadata": {
    "id": "HxcYU_FtFO6Q"
   },
   "source": [
    "disk_vectors = cs.vectors.LoadVectorsFromDisk(path)"
   ],
   "execution_count": 178,
   "outputs": []
  },
  {
   "cell_type": "code",
   "metadata": {
    "id": "ej6vIOEuFO6Q"
   },
   "source": [
    "spoon_rgb = disk_vectors.vectors[\"spoon\"].rgb_dist"
   ],
   "execution_count": null,
   "outputs": []
  },
  {
   "cell_type": "code",
   "metadata": {
    "id": "g5PFNn-FFO6R"
   },
   "source": [
    "spoon_jzazbz = disk_vectors.vectors[\"spoon\"].jzazbz_dist"
   ],
   "execution_count": null,
   "outputs": []
  },
  {
   "cell_type": "code",
   "metadata": {
    "id": "Gg-1Oe1bFO6R"
   },
   "source": [
    "plunger_rgb = disk_vectors.vectors[\"plunger\"].rgb_dist"
   ],
   "execution_count": null,
   "outputs": []
  },
  {
   "cell_type": "code",
   "metadata": {
    "id": "h-zBfEAjFO6S"
   },
   "source": [
    "plunger_jzazbz = disk_vectors.vectors[\"plunger\"].jzazbz_dist"
   ],
   "execution_count": null,
   "outputs": []
  },
  {
   "cell_type": "code",
   "metadata": {
    "id": "9Y7u3EZ4FO6S"
   },
   "source": [
    "soap_rgb = disk_vectors.vectors[\"soap\"].rgb_dist"
   ],
   "execution_count": null,
   "outputs": []
  },
  {
   "cell_type": "code",
   "metadata": {
    "id": "j0uayR9UFO6S"
   },
   "source": [
    "soap_jzazbz = disk_vectors.vectors[\"soap\"].jzazbz_dist"
   ],
   "execution_count": null,
   "outputs": []
  },
  {
   "cell_type": "code",
   "metadata": {
    "id": "khP-JJfuFO6S"
   },
   "source": [
    "spatula_rgb = disk_vectors.vectors[\"spatula\"].rgb_dist"
   ],
   "execution_count": null,
   "outputs": []
  },
  {
   "cell_type": "code",
   "metadata": {
    "id": "R_jIaPbiFO6T"
   },
   "source": [
    "spatula_jzazbz = disk_vectors.vectors[\"spatula\"].jzazbz_dist"
   ],
   "execution_count": null,
   "outputs": []
  },
  {
   "cell_type": "code",
   "metadata": {
    "colab": {
     "base_uri": "https://localhost:8080/"
    },
    "id": "_Y1q1SGxFO6U",
    "outputId": "05f4d41d-9e85-4b07-e26c-12ec58184519"
   },
   "source": [
    "spoon_jzazbz"
   ],
   "execution_count": 179,
   "outputs": []
  },
  {
   "cell_type": "code",
   "metadata": {
    "id": "WokUZ93-FO6U"
   },
   "source": [
    "rgb_vectors = {\"spoon_rgb\":spoon_rgb, \"plunger_rgb\":plunger_rgb, \"spatula_rgb\":spatula_rgb, \"soap_rgb\":soap_rgb}"
   ],
   "execution_count": 180,
   "outputs": []
  },
  {
   "cell_type": "code",
   "metadata": {
    "id": "HA1MyKEqFO6U"
   },
   "source": [
    "jzazbz_vectors = {\"spoon_j\":spoon_jzazbz, \"plunger_j\":plunger_jzazbz, \"spatula_j\":spatula_jzazbz, \"soap_j\":soap_jzazbz}"
   ],
   "execution_count": 181,
   "outputs": []
  },
  {
   "cell_type": "markdown",
   "metadata": {
    "id": "NLNzQ5xlFO6U"
   },
   "source": [
    "So we now have dense representations of the average image associated with a word, using both RGB and the perceptually uniform $J_zA_zB_z$ color spaces. The default vectors loaded have been binned into 8 dimensions, and we can think of these dimensions as capturing the key color and lighting attributes of the images associated with the word. While RGB only focuses on the three primary color channels, the $J_zA_zB_z$ captures more human perceptual information in its color space.\n",
    "\n",
    "So we now have word embeddings, $J_zA_zB_z$ embeddings, and RGB embeddings associated with words. The color embeddings are essentially distributions of color, so we can use some of the measures we previously saw on them. \n",
    "\n",
    "In this section, we will be creating heatplots to visualise distances between these representations, trying out different measurements."
   ]
  },
  {
   "cell_type": "code",
   "metadata": {
    "id": "xdejqP7szDWa"
   },
   "source": [
    "import matplotlib.pyplot as plt\n",
    "import pandas as pd\n",
    "import seaborn as sns"
   ],
   "execution_count": 77,
   "outputs": []
  },
  {
   "cell_type": "code",
   "metadata": {
    "id": "GCQxQsgGzEOb"
   },
   "source": [
    "def heatplot(ps, qs, distance_function, annot=True):\n",
    "    # inputs are dictionaries with object -> data point\n",
    "    L = []\n",
    "    for p in ps:\n",
    "        l = []\n",
    "        for q in qs:\n",
    "            l.append(distance_function(ps[p], qs[q]))\n",
    "        L.append(l)\n",
    "    M = np.array(L)\n",
    "    fig = plt.figure()\n",
    "    div = pd.DataFrame(M, columns = list(ps.keys()), index = list(qs.keys()))\n",
    "    ax = sns.heatmap(div, annot=annot)\n",
    "    plt.show()"
   ],
   "execution_count": 78,
   "outputs": []
  },
  {
   "cell_type": "code",
   "metadata": {
    "colab": {
     "base_uri": "https://localhost:8080/",
     "height": 267
    },
    "id": "isAHDIW8zOlK",
    "outputId": "509c13f2-765b-403b-8df1-833500d10169"
   },
   "source": [
    "heatplot(word_vectors, word_vectors, cosine_distance)"
   ],
   "execution_count": 182,
   "outputs": []
  },
  {
   "cell_type": "markdown",
   "metadata": {
    "id": "v6pHm_jgVDSP"
   },
   "source": [
    "We see that spatula and spoon are close by (both to do with cooking), are close by, and pretty much all the other words are fairly different from each other. Let's see if their color distributions are similar or not."
   ]
  },
  {
   "cell_type": "code",
   "metadata": {
    "colab": {
     "base_uri": "https://localhost:8080/",
     "height": 266
    },
    "id": "DtLTP1y6FO6U",
    "outputId": "7e43de9c-9ba1-4831-f44d-3fb73769b198"
   },
   "source": [
    "heatplot(jzazbz_vectors, jzazbz_vectors, kullback_leibler)"
   ],
   "execution_count": null,
   "outputs": []
  },
  {
   "cell_type": "markdown",
   "metadata": {
    "id": "ctt2nGFVFO6V"
   },
   "source": [
    "We see here that $D_{KL}$ lacks symmetry and can make these a little difficult to interpret - let us use the symmetric $D_{JS}$, which averages between the two directions of the $D_{KL}$. We still some structure and similarities, let's see what JS looks like.\n",
    "\n",
    "#### Jensen Shannon Divergence - Heatplot"
   ]
  },
  {
   "cell_type": "code",
   "metadata": {
    "colab": {
     "base_uri": "https://localhost:8080/",
     "height": 266
    },
    "id": "pDXr2FRtFO6W",
    "outputId": "0cf60b2a-31dd-46bd-ada7-ee41abc2ac63"
   },
   "source": [
    "heatplot(jzazbz_vectors, jzazbz_vectors, jensen_shannon)"
   ],
   "execution_count": null,
   "outputs": []
  },
  {
   "cell_type": "markdown",
   "metadata": {
    "id": "pitAl-uWbbgm"
   },
   "source": [
    "We see some interesting relations here which suggest that our color vectors are in some case similar, but in some cases quite different in capturing relationships! For example, a spatula and spoon are similarly close in both word2vec and $J_zA_zB_z$, but soap and spatula are also very close in $J_zA_zB_z$ space unlike word2vec. This must mean that they share some visual or color related content. What is especially striking is how similar the spatula and plunger representations are in this space, as opposed to the word embedding space where it was not close at all. \n",
    "\n",
    "This matches up to our intuitions - spatulas and plungers are semantically quite different, but they have similar shapes and colors in their images (specifically here, in their dense representations of colors)."
   ]
  },
  {
   "cell_type": "markdown",
   "metadata": {
    "id": "GIe7mQnSFO6W"
   },
   "source": [
    "#### Wasserstein Distance or Earth Movers Distance- Heatplot\n",
    "\n",
    "Now let's explore the same with the Wasserstein Distance.\n"
   ]
  },
  {
   "cell_type": "code",
   "metadata": {
    "colab": {
     "base_uri": "https://localhost:8080/",
     "height": 266
    },
    "id": "32EgmGWyFO6X",
    "outputId": "f3d30650-197f-42af-c3d1-de7e49e19b47"
   },
   "source": [
    "heatplot(jzazbz_vectors, jzazbz_vectors, wasserstein_distance)"
   ],
   "execution_count": null,
   "outputs": []
  },
  {
   "cell_type": "markdown",
   "metadata": {
    "id": "geLCqCdHFO6Y"
   },
   "source": [
    "Let's try the same metric on our word embeddings too."
   ]
  },
  {
   "cell_type": "code",
   "metadata": {
    "colab": {
     "base_uri": "https://localhost:8080/",
     "height": 265
    },
    "id": "r5rVRP3wFO6Y",
    "outputId": "e63d10ad-21f7-42b3-8f59-f625c04c9a78"
   },
   "source": [
    "heatplot(word_vectors, word_vectors, wasserstein_distance)"
   ],
   "execution_count": null,
   "outputs": []
  },
  {
   "cell_type": "markdown",
   "metadata": {
    "id": "EOyRMnrTfILD"
   },
   "source": [
    "We see a key difference in the closes objects in this space - for $J_zA_zB_z$ vectors, the spatula and the spoon are very similar, but for word vectors, it seems to be the spoon and soap vectors. This doesn't quite track intuitively, because we would expect spoon and spatula to be the closest word2vec embeddings, which we saw in the cosine distance heatplot. \n",
    "\n",
    "This is part of the process of troubleshooting while finding your ideal metric. You choose a subset of your dataset where you have a clear expectation or label, and use metrics to see which one reflects your expectations best. You can then scale this method to a larger dataset (for e.g in this case, a large vocabulary of words). "
   ]
  },
  {
   "cell_type": "markdown",
   "metadata": {
    "id": "YhkoxU5ChVaS"
   },
   "source": [
    "### Audio and Network Examples of Distances\n",
    "\n",
    "We saw a bunch of distance metrics applied to words, as distributional semantics based word2vec, and human perceptual color averages. Both of these representations are amenable to distance measures, and in this section we will continue our exploration with representations of networks and audio.\n",
    "\n",
    "Let's use the Karate Club network example we saw in the previous notebook. We use node2vec to represent individual nodes in this network. [node2vec](https://arxiv.org/abs/1607.00653) (Grover and Lescovec, 2016). Intuition of the algorithm: Find embedding of nodes to ddimensions so that “similar” nodes in the graph have embeddings that are close together."
   ]
  },
  {
   "cell_type": "code",
   "metadata": {
    "id": "jqHVLVPwkq6u"
   },
   "source": [
    "import networkx as nx"
   ],
   "execution_count": 80,
   "outputs": []
  },
  {
   "cell_type": "code",
   "metadata": {
    "id": "KiZyJZH1lCOx"
   },
   "source": [
    "karate_club_graph = nx.karate_club_graph()"
   ],
   "execution_count": 81,
   "outputs": []
  },
  {
   "cell_type": "code",
   "metadata": {
    "colab": {
     "base_uri": "https://localhost:8080/",
     "height": 319
    },
    "id": "yQwRkWpolKFN",
    "outputId": "8a56ec17-4248-4995-d833-3db597aeda2a"
   },
   "source": [
    "nx.draw(karate_club_graph, with_labels=True)"
   ],
   "execution_count": 82,
   "outputs": [
    {
     "data": {
      "text/plain": "<Figure size 432x288 with 1 Axes>",
      "image/png": "[encoded data removed]"
     },
     "metadata": {},
     "output_type": "display_data"
    }
   ]
  },
  {
   "cell_type": "code",
   "metadata": {
    "colab": {
     "base_uri": "https://localhost:8080/"
    },
    "id": "eewbC8N-lJ5F",
    "outputId": "6bebacdc-c090-449e-dac9-4faed808f4af"
   },
   "source": [
    "!pip install node2vec"
   ],
   "execution_count": 83,
   "outputs": [
    {
     "name": "stdout",
     "output_type": "stream",
     "text": [
      "Requirement already satisfied: node2vec in c:\\users\\parth\\appdata\\local\\programs\\python\\python39\\lib\\site-packages (0.4.4)\n",
      "Requirement already satisfied: gensim<5.0.0,>=4.1.2 in c:\\users\\parth\\appdata\\local\\programs\\python\\python39\\lib\\site-packages (from node2vec) (4.1.2)\n",
      "Requirement already satisfied: tqdm<5.0.0,>=4.55.1 in c:\\users\\parth\\appdata\\local\\programs\\python\\python39\\lib\\site-packages (from node2vec) (4.62.3)\n",
      "Requirement already satisfied: numpy<2.0.0,>=1.19.5 in c:\\users\\parth\\appdata\\local\\programs\\python\\python39\\lib\\site-packages (from node2vec) (1.20.3)\n",
      "Requirement already satisfied: networkx<3.0,>=2.5 in c:\\users\\parth\\appdata\\local\\programs\\python\\python39\\lib\\site-packages (from node2vec) (2.6.3)\n",
      "Requirement already satisfied: joblib<2.0.0,>=1.1.0 in c:\\users\\parth\\appdata\\local\\programs\\python\\python39\\lib\\site-packages (from node2vec) (1.1.0)\n",
      "Requirement already satisfied: scipy>=0.18.1 in c:\\users\\parth\\appdata\\local\\programs\\python\\python39\\lib\\site-packages (from gensim<5.0.0,>=4.1.2->node2vec) (1.8.0)\n",
      "Requirement already satisfied: Cython==0.29.23 in c:\\users\\parth\\appdata\\local\\programs\\python\\python39\\lib\\site-packages (from gensim<5.0.0,>=4.1.2->node2vec) (0.29.23)\n",
      "Requirement already satisfied: smart-open>=1.8.1 in c:\\users\\parth\\appdata\\local\\programs\\python\\python39\\lib\\site-packages (from gensim<5.0.0,>=4.1.2->node2vec) (5.2.1)\n",
      "Requirement already satisfied: colorama in c:\\users\\parth\\appdata\\local\\programs\\python\\python39\\lib\\site-packages (from tqdm<5.0.0,>=4.55.1->node2vec) (0.3.7)\n"
     ]
    },
    {
     "name": "stderr",
     "output_type": "stream",
     "text": [
      "WARNING: Ignoring invalid distribution -illow (c:\\users\\parth\\appdata\\local\\programs\\python\\python39\\lib\\site-packages)\n",
      "WARNING: Ignoring invalid distribution -illow (c:\\users\\parth\\appdata\\local\\programs\\python\\python39\\lib\\site-packages)\n",
      "WARNING: Ignoring invalid distribution -illow (c:\\users\\parth\\appdata\\local\\programs\\python\\python39\\lib\\site-packages)\n",
      "WARNING: Ignoring invalid distribution -illow (c:\\users\\parth\\appdata\\local\\programs\\python\\python39\\lib\\site-packages)\n",
      "WARNING: Ignoring invalid distribution -illow (c:\\users\\parth\\appdata\\local\\programs\\python\\python39\\lib\\site-packages)\n"
     ]
    }
   ]
  },
  {
   "cell_type": "code",
   "metadata": {
    "id": "uSeHFi_ElJwk"
   },
   "source": [
    "from node2vec import Node2Vec"
   ],
   "execution_count": 84,
   "outputs": []
  },
  {
   "cell_type": "code",
   "metadata": {
    "colab": {
     "base_uri": "https://localhost:8080/",
     "height": 66,
     "referenced_widgets": [
      "d87062a54e7546a586d5aa942d515f9a",
      "1f685aff40c84b4b9b4f4e2f52368b5e",
      "2eeaf0824b3b425198c7fe431f5b0eb9",
      "d05af8179d26418f98d1a12227b495e0",
      "ac905746a7584d0290d8e5418fde3f27",
      "2bd243b42ba84aae90372958bf33ce48",
      "59cf1b4efaf04e78bd868bf396c0d6fa",
      "c14d371a3d384cbd97b3664803433a7e"
     ]
    },
    "id": "35WPSSQulTLS",
    "outputId": "a3a31a0b-f7ec-4327-f05e-f5a43ce05a51"
   },
   "source": [
    "node2vec = Node2Vec(karate_club_graph, dimensions=64, walk_length=30, num_walks=200, workers=4)  # Use temp_folder for big graphs"
   ],
   "execution_count": 85,
   "outputs": [
    {
     "data": {
      "text/plain": "Computing transition probabilities:   0%|          | 0/34 [00:00<?, ?it/s]",
      "application/vnd.jupyter.widget-view+json": {
       "version_major": 2,
       "version_minor": 0,
       "model_id": "66f3ee76e3874ae180fc12d6c900cd5f"
      }
     },
     "metadata": {},
     "output_type": "display_data"
    }
   ]
  },
  {
   "cell_type": "code",
   "metadata": {
    "id": "D8Ddui9wlTDT"
   },
   "source": [
    "model = node2vec.fit(window=10, min_count=1, batch_words=4)"
   ],
   "execution_count": 86,
   "outputs": []
  },
  {
   "cell_type": "code",
   "metadata": {
    "id": "3lhok6_vlS2N"
   },
   "source": [
    "node_vectors = {}"
   ],
   "execution_count": 87,
   "outputs": []
  },
  {
   "cell_type": "code",
   "metadata": {
    "id": "VtQUqEpvlZIq"
   },
   "source": [
    "for i in range(0, len(karate_club_graph)):\n",
    "  node_vectors[i] = model.wv.get_vector(str(i))\n"
   ],
   "execution_count": 88,
   "outputs": []
  },
  {
   "cell_type": "markdown",
   "metadata": {
    "id": "O8mz5ev1mOZP"
   },
   "source": [
    "Let's peak at two of the nodes."
   ]
  },
  {
   "cell_type": "code",
   "metadata": {
    "colab": {
     "base_uri": "https://localhost:8080/"
    },
    "id": "8cFtk0h9mHlW",
    "outputId": "6c1a8f11-14dc-42e0-b562-785b70932d16"
   },
   "source": [
    "node_vectors[0], node_vectors[30]"
   ],
   "execution_count": 89,
   "outputs": [
    {
     "data": {
      "text/plain": "(array([ 0.03308497,  0.04498833,  0.00031758, -0.08733435,  0.03412487,\n        -0.05625009,  0.01504823,  0.29740697, -0.06648648, -0.0162882 ,\n         0.2825403 , -0.02114408,  0.13828215,  0.13555041, -0.10150182,\n        -0.16284366, -0.20655425,  0.12274425,  0.00926396,  0.21817835,\n         0.0898933 , -0.04409502,  0.1514708 , -0.20407619, -0.16117553,\n         0.2248257 , -0.21901149, -0.02506842, -0.05035712, -0.00642953,\n         0.08824629,  0.08428369, -0.18857507, -0.13559537,  0.11356436,\n         0.27232274, -0.07608704,  0.16156422,  0.0755311 ,  0.07678487,\n         0.04412263,  0.08079869, -0.12089518, -0.01486277, -0.14229932,\n        -0.05916173, -0.00823851, -0.19038874, -0.08386223,  0.23588903,\n         0.0486664 ,  0.25170636,  0.16066143,  0.11100952,  0.13248374,\n         0.14435492,  0.1979179 , -0.137354  ,  0.1417283 , -0.20389356,\n         0.17530608, -0.0914153 , -0.24887843,  0.08641985], dtype=float32),\n array([ 0.09385359, -0.00883211,  0.12028497,  0.09930604,  0.01071475,\n        -0.17741194,  0.04551361,  0.16346447, -0.3394286 ,  0.07853153,\n        -0.06252114, -0.08050158, -0.02143243, -0.03463211,  0.14463168,\n         0.07038369, -0.16901298,  0.18855047,  0.07242543,  0.0840808 ,\n         0.17456315,  0.04384071,  0.25240466, -0.03036736,  0.15583038,\n         0.23282701,  0.13051547,  0.02463502,  0.03544658, -0.0556322 ,\n         0.04972086, -0.01584709, -0.27606273, -0.2510758 , -0.04216161,\n         0.24046844, -0.06381001,  0.20585223, -0.05224865, -0.12551595,\n         0.05358708,  0.21067418, -0.22284786, -0.06287639,  0.06607378,\n         0.02169551, -0.1776433 , -0.20292272,  0.10530578,  0.10260285,\n         0.09248541, -0.0052586 ,  0.1699983 ,  0.34590802,  0.17532034,\n        -0.04312215, -0.22597556, -0.01911601, -0.17828359,  0.01821248,\n         0.09117918, -0.08822747,  0.04933541,  0.20242517], dtype=float32))"
     },
     "execution_count": 89,
     "metadata": {},
     "output_type": "execute_result"
    }
   ]
  },
  {
   "cell_type": "markdown",
   "metadata": {
    "id": "S__TP1U2mQj3"
   },
   "source": []
  },
  {
   "cell_type": "code",
   "metadata": {
    "id": "ELHR9qKlnLUb"
   },
   "source": [
    "node_subset_0 = {key: value for key, value in node_vectors.items() if key < 4}"
   ],
   "execution_count": 90,
   "outputs": []
  },
  {
   "cell_type": "code",
   "metadata": {
    "colab": {
     "base_uri": "https://localhost:8080/",
     "height": 265
    },
    "id": "VFXT1bFrnlup",
    "outputId": "2cf1f9e0-d77c-40f3-eb14-412126f89742"
   },
   "source": [
    "heatplot(node_subset_0, node_subset_0, cosine_distance)"
   ],
   "execution_count": 91,
   "outputs": [
    {
     "data": {
      "text/plain": "<Figure size 432x288 with 2 Axes>",
      "image/png": "[encoded data removed]"
     },
     "metadata": {
      "needs_background": "light"
     },
     "output_type": "display_data"
    }
   ]
  },
  {
   "cell_type": "code",
   "metadata": {
    "id": "4iVCbI7ZoJ_Y"
   },
   "source": [
    "node_subset_1 = {key: value for key, value in node_vectors.items() if key > 29}"
   ],
   "execution_count": 92,
   "outputs": []
  },
  {
   "cell_type": "code",
   "metadata": {
    "colab": {
     "base_uri": "https://localhost:8080/",
     "height": 268
    },
    "id": "xIFSV4VaoOLF",
    "outputId": "c7706c84-264e-40d5-9d4e-68c0dd1b49a1"
   },
   "source": [
    "heatplot(node_subset_1, node_subset_1, cosine_distance)"
   ],
   "execution_count": 93,
   "outputs": [
    {
     "data": {
      "text/plain": "<Figure size 432x288 with 2 Axes>",
      "image/png": "[encoded data removed]"
     },
     "metadata": {
      "needs_background": "light"
     },
     "output_type": "display_data"
    }
   ]
  },
  {
   "cell_type": "markdown",
   "metadata": {
    "id": "1N0qOSi7obih"
   },
   "source": [
    "The closes pairs in each of these heatplots are (0, 1) and (32, 33). Go back and peak at the network - you can see that these nodes seem to have similar structure! So this measure makes sense.\n",
    "\n",
    "Let's now choose a radically different measure, kolmogorov_smirnov, which we saw earlier in the notebook, which is often used as a statistic of similarity between two distributions of data. "
   ]
  },
  {
   "cell_type": "code",
   "metadata": {
    "id": "NsOM8X7So8Y7"
   },
   "source": [
    "def kolmogorov_smirnov(dist_1, dist_2):\n",
    "  return(ks_2samp(dist_1, dist_2)[0])"
   ],
   "execution_count": 94,
   "outputs": []
  },
  {
   "cell_type": "code",
   "metadata": {
    "colab": {
     "base_uri": "https://localhost:8080/",
     "height": 265
    },
    "id": "lCQ4c_Aaot1P",
    "outputId": "4fb2d0b6-6297-434e-e96a-886da97a5500"
   },
   "source": [
    "heatplot(node_subset_0, node_subset_0, kolmogorov_smirnov)"
   ],
   "execution_count": 95,
   "outputs": [
    {
     "data": {
      "text/plain": "<Figure size 432x288 with 2 Axes>",
      "image/png": "[encoded data removed]"
     },
     "metadata": {
      "needs_background": "light"
     },
     "output_type": "display_data"
    }
   ]
  },
  {
   "cell_type": "code",
   "metadata": {
    "colab": {
     "base_uri": "https://localhost:8080/",
     "height": 265
    },
    "id": "-WYQb4VCp-yC",
    "outputId": "b74c4f23-a95a-470f-954d-6467085a8fa6"
   },
   "source": [
    "heatplot(node_subset_1, node_subset_1, kolmogorov_smirnov)"
   ],
   "execution_count": 96,
   "outputs": [
    {
     "data": {
      "text/plain": "<Figure size 432x288 with 2 Axes>",
      "image/png": "[encoded data removed]"
     },
     "metadata": {
      "needs_background": "light"
     },
     "output_type": "display_data"
    }
   ]
  },
  {
   "cell_type": "markdown",
   "metadata": {
    "id": "c_mbhp8XqQ7b"
   },
   "source": [
    "While we see some aspects aee similar to cosine, node 0 is closer to node 2 and node 3, which we would need to dive deeper into to investigate. It also brings up some other questions - what would similarity in a network mean between nodes? Between edges? \n",
    "\n",
    "In the homework these are some of the questions you will be exploring. "
   ]
  },
  {
   "cell_type": "code",
   "metadata": {
    "id": "keuaHiqbxA0r"
   },
   "source": [
    "from node2vec.edges import HadamardEmbedder"
   ],
   "execution_count": 97,
   "outputs": []
  },
  {
   "cell_type": "code",
   "metadata": {
    "id": "jt-6WjrxxCRv"
   },
   "source": [
    "edges_embs = HadamardEmbedder(keyed_vectors=model.wv)"
   ],
   "execution_count": 98,
   "outputs": []
  },
  {
   "cell_type": "code",
   "metadata": {
    "colab": {
     "base_uri": "https://localhost:8080/"
    },
    "id": "NfFMDIRBxCJD",
    "outputId": "7b13f4af-a80b-4755-8d51-e1ce552d2d8c"
   },
   "source": [
    "edges_embs[('24', '25')]"
   ],
   "execution_count": 99,
   "outputs": [
    {
     "data": {
      "text/plain": "array([ 2.3938565e-02, -2.9601383e-03,  4.5003992e-02, -2.1398321e-03,\n       -3.1137484e-04,  2.6100369e-02,  5.1569298e-04,  2.0531071e-02,\n        5.5557493e-02, -3.3663139e-03,  1.2932235e-02,  5.6223914e-02,\n       -6.1098989e-03,  3.9783055e-03,  3.0544516e-02,  3.2282807e-02,\n        3.6303177e-03,  3.9453313e-02,  5.4300938e-02,  2.1674894e-01,\n        6.8314519e-04,  3.6499321e-02,  1.8658231e-03,  4.5019332e-02,\n        1.6126705e-02,  9.3492325e-03,  3.1142434e-02,  5.2393992e-02,\n        6.5798028e-03,  8.9415953e-02,  1.0401064e-02,  1.0471112e-02,\n        8.8189028e-02,  5.9717855e-05,  3.0313956e-03,  3.7486650e-02,\n        8.2329802e-02,  5.6760177e-02,  5.3060424e-02,  2.3565961e-02,\n       -2.7546787e-03,  3.2056402e-02,  1.0965878e-01,  4.9380362e-02,\n        3.4223340e-02,  2.4288397e-02,  3.4569677e-02,  9.4321690e-02,\n        3.0653538e-02, -1.0763410e-02,  9.6828878e-02, -6.4777830e-03,\n       -5.9615535e-04,  5.3991958e-02,  1.0729928e-01,  3.6506334e-04,\n       -1.4669559e-02,  3.3646866e-03, -7.2421059e-03,  1.2222624e-02,\n        2.1192735e-02,  1.3164370e-01,  2.5053783e-03,  2.0125234e-02],\n      dtype=float32)"
     },
     "execution_count": 99,
     "metadata": {},
     "output_type": "execute_result"
    }
   ]
  },
  {
   "cell_type": "code",
   "metadata": {
    "colab": {
     "base_uri": "https://localhost:8080/"
    },
    "id": "0VmgyIrAxH0p",
    "outputId": "47d8dc66-51a8-4097-eca1-b146183e7a4a"
   },
   "source": [
    "edges_embs[('0', '1')]"
   ],
   "execution_count": 100,
   "outputs": [
    {
     "data": {
      "text/plain": "array([-1.3877049e-03, -8.3110511e-04, -4.1289648e-05, -9.2110950e-03,\n        2.7215204e-04,  6.8109734e-03,  3.0417047e-03,  7.1805701e-02,\n        1.6560681e-02, -2.6329863e-04,  7.0108704e-02, -5.3625670e-04,\n        4.4975248e-03,  5.2006408e-03,  1.0464047e-03,  1.4666598e-02,\n        2.7267330e-03,  1.2534475e-02, -1.0676585e-04,  4.7001850e-02,\n        1.7931817e-02, -8.1498915e-04,  2.1857878e-02,  2.1741157e-02,\n       -4.5017414e-03,  7.5937575e-04,  3.8169201e-02,  1.4733265e-03,\n        2.7597933e-03,  8.8562118e-04,  6.2343031e-03,  4.7219479e-03,\n        7.1886927e-03,  1.8177953e-02,  3.8758819e-03,  1.0700315e-01,\n        2.6900077e-03,  7.5071407e-03,  1.3102195e-02,  6.2922882e-03,\n        6.6868374e-03,  5.0422805e-03,  3.0694160e-04,  7.0683489e-04,\n        3.2451827e-02,  2.5125809e-03,  9.1221544e-04,  2.2267748e-02,\n       -3.3183610e-03,  4.1286357e-02,  4.9766540e-03,  8.1747904e-02,\n        5.9294216e-02,  2.8815675e-03,  2.8120037e-02,  3.3703838e-03,\n        2.2454433e-02,  2.0313574e-02,  2.7484862e-02,  3.8117085e-02,\n        4.6889976e-02,  9.5958654e-03,  3.6715735e-02,  1.8935472e-02],\n      dtype=float32)"
     },
     "execution_count": 100,
     "metadata": {},
     "output_type": "execute_result"
    }
   ]
  },
  {
   "cell_type": "markdown",
   "metadata": {
    "id": "Z-XBNXwzxGep"
   },
   "source": [
    "You can similarly create a dictionary of such edge embeddings and measure similarities.\n",
    "\n",
    "Let us now look at audio embeddings."
   ]
  },
  {
   "cell_type": "code",
   "metadata": {
    "colab": {
     "base_uri": "https://localhost:8080/"
    },
    "id": "CHLBvuPB0Puz",
    "outputId": "d25dc1b9-d149-4b7d-9598-ee8b0fad18bf"
   },
   "source": [
    "!pip install transformers"
   ],
   "execution_count": 101,
   "outputs": [
    {
     "name": "stdout",
     "output_type": "stream",
     "text": [
      "Requirement already satisfied: transformers in c:\\users\\parth\\appdata\\local\\programs\\python\\python39\\lib\\site-packages (4.12.5)\n",
      "Requirement already satisfied: packaging>=20.0 in c:\\users\\parth\\appdata\\local\\programs\\python\\python39\\lib\\site-packages (from transformers) (21.3)\n",
      "Requirement already satisfied: regex!=2019.12.17 in c:\\users\\parth\\appdata\\local\\programs\\python\\python39\\lib\\site-packages (from transformers) (2021.11.10)\n",
      "Requirement already satisfied: numpy>=1.17 in c:\\users\\parth\\appdata\\local\\programs\\python\\python39\\lib\\site-packages (from transformers) (1.20.3)\n",
      "Requirement already satisfied: tokenizers<0.11,>=0.10.1 in c:\\users\\parth\\appdata\\local\\programs\\python\\python39\\lib\\site-packages (from transformers) (0.10.3)\n",
      "Requirement already satisfied: sacremoses in c:\\users\\parth\\appdata\\local\\programs\\python\\python39\\lib\\site-packages (from transformers) (0.0.46)\n",
      "Requirement already satisfied: tqdm>=4.27 in c:\\users\\parth\\appdata\\local\\programs\\python\\python39\\lib\\site-packages (from transformers) (4.62.3)\n",
      "Requirement already satisfied: pyyaml>=5.1 in c:\\users\\parth\\appdata\\local\\programs\\python\\python39\\lib\\site-packages (from transformers) (6.0)\n",
      "Requirement already satisfied: filelock in c:\\users\\parth\\appdata\\local\\programs\\python\\python39\\lib\\site-packages (from transformers) (3.4.0)\n",
      "Requirement already satisfied: requests in c:\\users\\parth\\appdata\\local\\programs\\python\\python39\\lib\\site-packages (from transformers) (2.27.1)\n",
      "Requirement already satisfied: huggingface-hub<1.0,>=0.1.0 in c:\\users\\parth\\appdata\\local\\programs\\python\\python39\\lib\\site-packages (from transformers) (0.2.1)\n",
      "Requirement already satisfied: typing-extensions>=3.7.4.3 in c:\\users\\parth\\appdata\\local\\programs\\python\\python39\\lib\\site-packages (from huggingface-hub<1.0,>=0.1.0->transformers) (3.10.0.2)\n",
      "Requirement already satisfied: pyparsing!=3.0.5,>=2.0.2 in c:\\users\\parth\\appdata\\local\\programs\\python\\python39\\lib\\site-packages (from packaging>=20.0->transformers) (2.4.7)\n",
      "Requirement already satisfied: colorama in c:\\users\\parth\\appdata\\local\\programs\\python\\python39\\lib\\site-packages (from tqdm>=4.27->transformers) (0.3.7)\n",
      "Requirement already satisfied: urllib3<1.27,>=1.21.1 in c:\\users\\parth\\appdata\\local\\programs\\python\\python39\\lib\\site-packages (from requests->transformers) (1.26.7)\n",
      "Requirement already satisfied: certifi>=2017.4.17 in c:\\users\\parth\\appdata\\local\\programs\\python\\python39\\lib\\site-packages (from requests->transformers) (2021.10.8)\n",
      "Requirement already satisfied: idna<4,>=2.5 in c:\\users\\parth\\appdata\\local\\programs\\python\\python39\\lib\\site-packages (from requests->transformers) (3.3)\n",
      "Requirement already satisfied: charset-normalizer~=2.0.0 in c:\\users\\parth\\appdata\\local\\programs\\python\\python39\\lib\\site-packages (from requests->transformers) (2.0.7)\n",
      "Requirement already satisfied: six in c:\\users\\parth\\appdata\\local\\programs\\python\\python39\\lib\\site-packages (from sacremoses->transformers) (1.16.0)\n",
      "Requirement already satisfied: click in c:\\users\\parth\\appdata\\local\\programs\\python\\python39\\lib\\site-packages (from sacremoses->transformers) (8.0.3)\n",
      "Requirement already satisfied: joblib in c:\\users\\parth\\appdata\\local\\programs\\python\\python39\\lib\\site-packages (from sacremoses->transformers) (1.1.0)\n"
     ]
    },
    {
     "name": "stderr",
     "output_type": "stream",
     "text": [
      "WARNING: Ignoring invalid distribution -illow (c:\\users\\parth\\appdata\\local\\programs\\python\\python39\\lib\\site-packages)\n",
      "WARNING: Ignoring invalid distribution -illow (c:\\users\\parth\\appdata\\local\\programs\\python\\python39\\lib\\site-packages)\n",
      "WARNING: Ignoring invalid distribution -illow (c:\\users\\parth\\appdata\\local\\programs\\python\\python39\\lib\\site-packages)\n",
      "WARNING: Ignoring invalid distribution -illow (c:\\users\\parth\\appdata\\local\\programs\\python\\python39\\lib\\site-packages)\n",
      "WARNING: Ignoring invalid distribution -illow (c:\\users\\parth\\appdata\\local\\programs\\python\\python39\\lib\\site-packages)\n"
     ]
    }
   ]
  },
  {
   "cell_type": "code",
   "metadata": {
    "colab": {
     "base_uri": "https://localhost:8080/"
    },
    "id": "FUeG7Mwd5lTJ",
    "outputId": "25695507-9740-40e6-e6b7-4ea1eee80207"
   },
   "source": [
    "!pip install datasets"
   ],
   "execution_count": 102,
   "outputs": [
    {
     "name": "stdout",
     "output_type": "stream",
     "text": [
      "Requirement already satisfied: datasets in c:\\users\\parth\\appdata\\local\\programs\\python\\python39\\lib\\site-packages (2.0.0)\n",
      "Requirement already satisfied: tqdm>=4.62.1 in c:\\users\\parth\\appdata\\local\\programs\\python\\python39\\lib\\site-packages (from datasets) (4.62.3)\n",
      "Requirement already satisfied: numpy>=1.17 in c:\\users\\parth\\appdata\\local\\programs\\python\\python39\\lib\\site-packages (from datasets) (1.20.3)\n",
      "Requirement already satisfied: xxhash in c:\\users\\parth\\appdata\\local\\programs\\python\\python39\\lib\\site-packages (from datasets) (3.0.0)\n",
      "Requirement already satisfied: fsspec[http]>=2021.05.0 in c:\\users\\parth\\appdata\\local\\programs\\python\\python39\\lib\\site-packages (from datasets) (2021.11.0)\n",
      "Requirement already satisfied: packaging in c:\\users\\parth\\appdata\\local\\programs\\python\\python39\\lib\\site-packages (from datasets) (21.3)\n",
      "Requirement already satisfied: multiprocess in c:\\users\\parth\\appdata\\local\\programs\\python\\python39\\lib\\site-packages (from datasets) (0.70.12.2)\n",
      "Requirement already satisfied: pandas in c:\\users\\parth\\appdata\\roaming\\python\\python39\\site-packages (from datasets) (1.4.1)\n",
      "Requirement already satisfied: aiohttp in c:\\users\\parth\\appdata\\local\\programs\\python\\python39\\lib\\site-packages (from datasets) (3.8.1)\n",
      "Requirement already satisfied: responses<0.19 in c:\\users\\parth\\appdata\\local\\programs\\python\\python39\\lib\\site-packages (from datasets) (0.18.0)\n",
      "Requirement already satisfied: pyarrow>=5.0.0 in c:\\users\\parth\\appdata\\local\\programs\\python\\python39\\lib\\site-packages (from datasets) (7.0.0)\n",
      "Requirement already satisfied: huggingface-hub<1.0.0,>=0.1.0 in c:\\users\\parth\\appdata\\local\\programs\\python\\python39\\lib\\site-packages (from datasets) (0.2.1)\n",
      "Requirement already satisfied: dill in c:\\users\\parth\\appdata\\local\\programs\\python\\python39\\lib\\site-packages (from datasets) (0.3.4)\n",
      "Requirement already satisfied: requests>=2.19.0 in c:\\users\\parth\\appdata\\local\\programs\\python\\python39\\lib\\site-packages (from datasets) (2.27.1)\n",
      "Requirement already satisfied: pyyaml in c:\\users\\parth\\appdata\\local\\programs\\python\\python39\\lib\\site-packages (from huggingface-hub<1.0.0,>=0.1.0->datasets) (6.0)\n",
      "Requirement already satisfied: filelock in c:\\users\\parth\\appdata\\local\\programs\\python\\python39\\lib\\site-packages (from huggingface-hub<1.0.0,>=0.1.0->datasets) (3.4.0)\n",
      "Requirement already satisfied: typing-extensions>=3.7.4.3 in c:\\users\\parth\\appdata\\local\\programs\\python\\python39\\lib\\site-packages (from huggingface-hub<1.0.0,>=0.1.0->datasets) (3.10.0.2)\n",
      "Requirement already satisfied: pyparsing!=3.0.5,>=2.0.2 in c:\\users\\parth\\appdata\\local\\programs\\python\\python39\\lib\\site-packages (from packaging->datasets) (2.4.7)\n",
      "Requirement already satisfied: urllib3<1.27,>=1.21.1 in c:\\users\\parth\\appdata\\local\\programs\\python\\python39\\lib\\site-packages (from requests>=2.19.0->datasets) (1.26.7)\n",
      "Requirement already satisfied: certifi>=2017.4.17 in c:\\users\\parth\\appdata\\local\\programs\\python\\python39\\lib\\site-packages (from requests>=2.19.0->datasets) (2021.10.8)\n",
      "Requirement already satisfied: charset-normalizer~=2.0.0 in c:\\users\\parth\\appdata\\local\\programs\\python\\python39\\lib\\site-packages (from requests>=2.19.0->datasets) (2.0.7)\n",
      "Requirement already satisfied: idna<4,>=2.5 in c:\\users\\parth\\appdata\\local\\programs\\python\\python39\\lib\\site-packages (from requests>=2.19.0->datasets) (3.3)\n",
      "Requirement already satisfied: colorama in c:\\users\\parth\\appdata\\local\\programs\\python\\python39\\lib\\site-packages (from tqdm>=4.62.1->datasets) (0.3.7)\n",
      "Requirement already satisfied: multidict<7.0,>=4.5 in c:\\users\\parth\\appdata\\local\\programs\\python\\python39\\lib\\site-packages (from aiohttp->datasets) (6.0.2)\n",
      "Requirement already satisfied: yarl<2.0,>=1.0 in c:\\users\\parth\\appdata\\local\\programs\\python\\python39\\lib\\site-packages (from aiohttp->datasets) (1.7.2)\n",
      "Requirement already satisfied: async-timeout<5.0,>=4.0.0a3 in c:\\users\\parth\\appdata\\local\\programs\\python\\python39\\lib\\site-packages (from aiohttp->datasets) (4.0.2)\n",
      "Requirement already satisfied: attrs>=17.3.0 in c:\\users\\parth\\appdata\\local\\programs\\python\\python39\\lib\\site-packages (from aiohttp->datasets) (21.2.0)\n",
      "Requirement already satisfied: frozenlist>=1.1.1 in c:\\users\\parth\\appdata\\local\\programs\\python\\python39\\lib\\site-packages (from aiohttp->datasets) (1.3.0)\n",
      "Requirement already satisfied: aiosignal>=1.1.2 in c:\\users\\parth\\appdata\\local\\programs\\python\\python39\\lib\\site-packages (from aiohttp->datasets) (1.2.0)\n",
      "Requirement already satisfied: pytz>=2020.1 in c:\\users\\parth\\appdata\\local\\programs\\python\\python39\\lib\\site-packages (from pandas->datasets) (2021.3)\n",
      "Requirement already satisfied: python-dateutil>=2.8.1 in c:\\users\\parth\\appdata\\local\\programs\\python\\python39\\lib\\site-packages (from pandas->datasets) (2.8.2)\n",
      "Requirement already satisfied: six>=1.5 in c:\\users\\parth\\appdata\\local\\programs\\python\\python39\\lib\\site-packages (from python-dateutil>=2.8.1->pandas->datasets) (1.16.0)\n"
     ]
    },
    {
     "name": "stderr",
     "output_type": "stream",
     "text": [
      "WARNING: Ignoring invalid distribution -illow (c:\\users\\parth\\appdata\\local\\programs\\python\\python39\\lib\\site-packages)\n",
      "WARNING: Ignoring invalid distribution -illow (c:\\users\\parth\\appdata\\local\\programs\\python\\python39\\lib\\site-packages)\n",
      "WARNING: Ignoring invalid distribution -illow (c:\\users\\parth\\appdata\\local\\programs\\python\\python39\\lib\\site-packages)\n",
      "WARNING: Ignoring invalid distribution -illow (c:\\users\\parth\\appdata\\local\\programs\\python\\python39\\lib\\site-packages)\n",
      "WARNING: Ignoring invalid distribution -illow (c:\\users\\parth\\appdata\\local\\programs\\python\\python39\\lib\\site-packages)\n"
     ]
    }
   ]
  },
  {
   "cell_type": "code",
   "metadata": {
    "id": "d8_tRBYGxB_J"
   },
   "source": [
    "import soundfile as sf\n",
    "import torch"
   ],
   "execution_count": 103,
   "outputs": []
  },
  {
   "cell_type": "code",
   "metadata": {
    "id": "WEcAjQn2Bjyo"
   },
   "source": [
    "from transformers import Wav2Vec2Tokenizer, Wav2Vec2Model, Wav2Vec2Processor"
   ],
   "execution_count": 104,
   "outputs": []
  },
  {
   "cell_type": "code",
   "metadata": {
    "colab": {
     "base_uri": "https://localhost:8080/",
     "height": 399,
     "referenced_widgets": [
      "378c679101184dc3bae2b713849db181",
      "d8bd593626c841e38e0c442d0894a161",
      "456ce5cd5bc14207a586f4b5aca118d0",
      "34bae2aec3e34c32883cd296b96bbdd1",
      "447e365eacda42168d862e8df5a94dc4",
      "c6055714fb964de98b00e824976f7264",
      "d1c30962faa049928c000a4f67a7a277",
      "d24a87ddea254530ac65c69def2f4aaa",
      "5beeabb33af44b1f9072e23b7c6d25cd",
      "ee10847a3d2b441b9bad3e01e046157e",
      "0c00fc5a5b4c4ffaa29b7fa73dd033b6",
      "e9e5473e58964432abcbd28a623ecc58",
      "82cfca13fb054b41b0535c75883b86d9",
      "3fb130eacf4046eea774c188451d19bb",
      "ec0ba30224a64cd4be49488e18e7a5c8",
      "ec638c98301d43018abf609d5e52429b",
      "5a3c52998c2d49bfb5d62c526e121e7f",
      "634dd32f7894415b84b69ed28499a399",
      "78431c605d564a92a78c0be0d1f8ae85",
      "4ea9cfd696324476a87c91adbbad2ec1",
      "1f12ccb181934b929cf313981bd30e06",
      "999043331a554a59803f17fd6a45c07d",
      "a7177fbe05e14854b02cd337ab2b34f5",
      "fa8b6a5f576e4c9d8b4b5af3748d8615",
      "f71aa497bc974cc9a07b064d8ed9483b",
      "c3706299c06b4e648c714f1a8b43d593",
      "9c9986e1bbd84838aab13b9029c94e96",
      "1fbe7ee57bae4497b4f98eeb71f892ec",
      "1d1723dc94ad4296b6ed577031afb6a5",
      "0c100b5cd9594324b140d7fdc5106705",
      "c4273785c6c14a14baff85147e73a6cf",
      "c7b7fbded7c645a4a441c8c7534bfd31",
      "2b6b268adadd411e8aea8eb0c170b2ff",
      "ec1e7992d5964e6bb833d253a3513a71",
      "7dbfad7741794787a4951d3adcbcf624",
      "dc934046dab24017a3138f141bee9503",
      "d30de7af641e4bf28da89eebfd2c0096",
      "387ccc93a5d34866ad36f2daaf852454",
      "ba3048672cfd4739a3dfef494978517b",
      "0c7f2062e4294c8ca02be43e9221e0b3",
      "b7a9196f838246c8a50962dc40695475",
      "440f80ec4fee47149231f137f82bf248",
      "48d7f66017324533b2f871a112598fba",
      "373380cb71c941809e2d6816893c3fbf",
      "a2530d8f8ee849939afc896aa234aace",
      "af1a91bcfd844960ab795bc2d2084fc8",
      "4aa0f9ce3cba4a6c9d60f1aed197e169",
      "8a9d625e96ae40229dd36e323154bccf"
     ]
    },
    "id": "rWw3FbVT0KDn",
    "outputId": "1f4d535a-f5dc-47f5-bfcf-344bfa7076c1"
   },
   "source": [
    "# load pretrained model\n",
    "tokenizer = Wav2Vec2Tokenizer.from_pretrained(\"facebook/wav2vec2-base-960h\")\n",
    "model = Wav2Vec2Model.from_pretrained(\"facebook/wav2vec2-base-960h\")\n",
    "processor = Wav2Vec2Processor.from_pretrained(\"facebook/wav2vec2-base-960h\")"
   ],
   "execution_count": 105,
   "outputs": [
    {
     "name": "stderr",
     "output_type": "stream",
     "text": [
      "The tokenizer class you load from this checkpoint is not the same type as the class this function is called from. It may result in unexpected tokenization. \n",
      "The tokenizer class you load from this checkpoint is 'Wav2Vec2CTCTokenizer'. \n",
      "The class this function is called from is 'Wav2Vec2Tokenizer'.\n",
      "C:\\Users\\parth\\AppData\\Local\\Programs\\Python\\Python39\\lib\\site-packages\\transformers\\models\\wav2vec2\\tokenization_wav2vec2.py:421: FutureWarning: The class `Wav2Vec2Tokenizer` is deprecated and will be removed in version 5 of Transformers. Please use `Wav2Vec2Processor` or `Wav2Vec2CTCTokenizer` instead.\n",
      "  warnings.warn(\n",
      "Some weights of the model checkpoint at facebook/wav2vec2-base-960h were not used when initializing Wav2Vec2Model: ['lm_head.weight', 'lm_head.bias']\n",
      "- This IS expected if you are initializing Wav2Vec2Model from the checkpoint of a model trained on another task or with another architecture (e.g. initializing a BertForSequenceClassification model from a BertForPreTraining model).\n",
      "- This IS NOT expected if you are initializing Wav2Vec2Model from the checkpoint of a model that you expect to be exactly identical (initializing a BertForSequenceClassification model from a BertForSequenceClassification model).\n",
      "Some weights of Wav2Vec2Model were not initialized from the model checkpoint at facebook/wav2vec2-base-960h and are newly initialized: ['wav2vec2.masked_spec_embed']\n",
      "You should probably TRAIN this model on a down-stream task to be able to use it for predictions and inference.\n"
     ]
    },
    {
     "data": {
      "text/plain": "Downloading:   0%|          | 0.00/159 [00:00<?, ?B/s]",
      "application/vnd.jupyter.widget-view+json": {
       "version_major": 2,
       "version_minor": 0,
       "model_id": "b2b121d546454eeb8b969762c37e81b7"
      }
     },
     "metadata": {},
     "output_type": "display_data"
    }
   ]
  },
  {
   "cell_type": "code",
   "metadata": {
    "id": "hEkFYE2K3nN7"
   },
   "source": [
    "from datasets import load_dataset"
   ],
   "execution_count": 106,
   "outputs": []
  },
  {
   "cell_type": "code",
   "metadata": {
    "id": "hOIArh9-5ZSo"
   },
   "source": [
    "def map_to_array(batch):\n",
    "    speech, _ = sf.read(batch[\"file\"])\n",
    "    batch[\"speech\"] = speech\n",
    "    return batch"
   ],
   "execution_count": 107,
   "outputs": []
  },
  {
   "cell_type": "code",
   "metadata": {
    "colab": {
     "base_uri": "https://localhost:8080/",
     "height": 218,
     "referenced_widgets": [
      "15de817300074758b04722fc4142af9c",
      "e64144385c8542ac96974ff48b8bd842",
      "ddafafc8ad934f4abdd0ae201a746e0b",
      "b1573106ab5643348f738f1b448784c0",
      "310b496ee48842dcb0391a0b61e9b963",
      "a55b66a1a4de477db9f4b97cc83babfd",
      "f8727a1d0a11430aaa03149afd2227ba",
      "58a4db9eb96948ee9dc556ddeb56bd99",
      "c419c4131cd543738b0d62a2dd8a91a5",
      "ade6b93a7bbe4527aa1514b1f19060f9",
      "7aed339d3a4b4fb8b6ee701d1c434224",
      "37324318960349cc816f8e485dc084b9",
      "3e9235f8ba7342ccbb0c2268f90fc899",
      "4939907e40bf4231a9e43f2243ce6c47",
      "dea2e83924794ac39ef38796c8317d52",
      "6bcf91905ce54940b62e917fc96875ab",
      "c7fc565cc91742fb9f75cb21a4bd989d",
      "5a5df48aa56242ae833ee7db7facace3",
      "1ef7537f2ca64bb7892a481f154d110a",
      "b4a79b4e3e324418a866fab379a69c6e",
      "023375f755ca49beaa105d6b2a9bddf5",
      "00a45b4343a34c619106d78d5a4a1c0e",
      "480027b3df1a4d3ba35c836b26cb9484",
      "dd7081b42e164ce2815afcf47fe5a334",
      "9f861b39ad0e4f998d44c1a9d2b316c3",
      "9f6fef05eaef430c94b100719a985683",
      "a835424bdc49410f8a81f1c8b6bc19c9",
      "11a4afbb21bf430cb3025644c68b69f9",
      "86d36410ba834139958f6d4006f9be71",
      "9a1b261c266e47d9a6261e9a4f399077",
      "2cfe5ed8d77e4ac68d5757a7de8de5e4",
      "f128a6eaa9a34067a8bea81ed9c57866"
     ]
    },
    "id": "JpYJWuj05X3B",
    "outputId": "07d90590-ddb8-49f6-f388-5656299e7688"
   },
   "source": [
    "ds = load_dataset(\"patrickvonplaten/librispeech_asr_dummy\", \"clean\", split=\"validation\")\n",
    "ds = ds.map(map_to_array)"
   ],
   "execution_count": 108,
   "outputs": [
    {
     "name": "stderr",
     "output_type": "stream",
     "text": [
      "Reusing dataset librispeech_asr (C:\\Users\\parth\\.cache\\huggingface\\datasets\\patrickvonplaten___librispeech_asr\\clean\\2.1.0\\f2c70a4d03ab4410954901bde48c54b85ca1b7f9bf7d616e7e2a72b5ee6ddbfc)\n",
      "Loading cached processed dataset at C:\\Users\\parth\\.cache\\huggingface\\datasets\\patrickvonplaten___librispeech_asr\\clean\\2.1.0\\f2c70a4d03ab4410954901bde48c54b85ca1b7f9bf7d616e7e2a72b5ee6ddbfc\\cache-c39f3c102fe014b8.arrow\n"
     ]
    }
   ]
  },
  {
   "cell_type": "code",
   "metadata": {
    "id": "i_-WLxFs7tNb"
   },
   "source": [
    "audio_input_0 = ds[\"speech\"][0]"
   ],
   "execution_count": 109,
   "outputs": []
  },
  {
   "cell_type": "code",
   "metadata": {
    "colab": {
     "base_uri": "https://localhost:8080/"
    },
    "id": "kR9_9g2n21Dg",
    "outputId": "117b9bfc-008c-4e48-b48d-52a618b08a49"
   },
   "source": [
    "input_values = processor(audio_input_0, return_tensors=\"pt\").input_values  # Batch size 1"
   ],
   "execution_count": 110,
   "outputs": [
    {
     "name": "stderr",
     "output_type": "stream",
     "text": [
      "It is strongly recommended to pass the ``sampling_rate`` argument to this function. Failing to do so can result in silent errors that might be hard to debug.\n"
     ]
    }
   ]
  },
  {
   "cell_type": "code",
   "metadata": {
    "colab": {
     "base_uri": "https://localhost:8080/"
    },
    "id": "WZJ4bzjr29Ho",
    "outputId": "e693b159-6237-4a72-f51c-c051e8a7b0e3"
   },
   "source": [
    "input_values"
   ],
   "execution_count": 111,
   "outputs": [
    {
     "data": {
      "text/plain": "tensor([[0.0386, 0.0337, 0.0322,  ..., 0.0070, 0.0095, 0.0169]])"
     },
     "execution_count": 111,
     "metadata": {},
     "output_type": "execute_result"
    }
   ]
  },
  {
   "cell_type": "code",
   "metadata": {
    "colab": {
     "base_uri": "https://localhost:8080/"
    },
    "id": "mBh37CG773oO",
    "outputId": "c232dcb2-df8b-4299-d83a-fcb081805ecf"
   },
   "source": [
    "len(input_values[0])"
   ],
   "execution_count": 112,
   "outputs": [
    {
     "data": {
      "text/plain": "93680"
     },
     "execution_count": 112,
     "metadata": {},
     "output_type": "execute_result"
    }
   ]
  },
  {
   "cell_type": "code",
   "metadata": {
    "id": "bYW45LSI25Xa"
   },
   "source": [
    "hidden_states_asr = model(input_values).last_hidden_state"
   ],
   "execution_count": 113,
   "outputs": []
  },
  {
   "cell_type": "code",
   "metadata": {
    "colab": {
     "base_uri": "https://localhost:8080/"
    },
    "id": "Q1slsou26sGy",
    "outputId": "dab0076a-e563-435c-a81c-44a9d4f0021e"
   },
   "source": [
    "hidden_states_asr.shape"
   ],
   "execution_count": 118,
   "outputs": [
    {
     "data": {
      "text/plain": "torch.Size([1, 292, 768])"
     },
     "execution_count": 118,
     "metadata": {},
     "output_type": "execute_result"
    }
   ]
  },
  {
   "cell_type": "code",
   "metadata": {
    "id": "bi_9trEn7_Op"
   },
   "source": [
    "# load audio\n",
    "audio_input_english, _ = sf.read(\"content/english.wav\")"
   ],
   "execution_count": 120,
   "outputs": []
  },
  {
   "cell_type": "code",
   "metadata": {
    "colab": {
     "base_uri": "https://localhost:8080/"
    },
    "id": "ymgtcEG68BjO",
    "outputId": "baf68f5d-a53c-4630-a463-00dbe9e97bb4"
   },
   "source": [
    "input_values = processor(audio_input_english, return_tensors=\"pt\").input_values  # Batch size 1"
   ],
   "execution_count": 122,
   "outputs": [
    {
     "name": "stderr",
     "output_type": "stream",
     "text": [
      "It is strongly recommended to pass the ``sampling_rate`` argument to this function. Failing to do so can result in silent errors that might be hard to debug.\n"
     ]
    }
   ]
  },
  {
   "cell_type": "code",
   "metadata": {
    "colab": {
     "base_uri": "https://localhost:8080/"
    },
    "id": "kstJ1Rsv8C0I",
    "outputId": "97d82dbd-33b8-4222-f45d-3efebe5bfda0"
   },
   "source": [
    "len(input_values[0])"
   ],
   "execution_count": 123,
   "outputs": [
    {
     "data": {
      "text/plain": "408226"
     },
     "execution_count": 123,
     "metadata": {},
     "output_type": "execute_result"
    }
   ]
  },
  {
   "cell_type": "code",
   "metadata": {
    "id": "jS5jSUm38F5i"
   },
   "source": [
    "hidden_states_english = model(input_values).last_hidden_state"
   ],
   "execution_count": 124,
   "outputs": []
  },
  {
   "cell_type": "code",
   "metadata": {
    "colab": {
     "base_uri": "https://localhost:8080/"
    },
    "id": "-bMPYpDX84qV",
    "outputId": "75c8c5c4-cd8d-46da-9e3b-e3c756559ed8"
   },
   "source": [
    "hidden_states_english.shape"
   ],
   "execution_count": 125,
   "outputs": [
    {
     "data": {
      "text/plain": "torch.Size([1, 1275, 768])"
     },
     "execution_count": 125,
     "metadata": {},
     "output_type": "execute_result"
    }
   ]
  },
  {
   "cell_type": "code",
   "metadata": {
    "colab": {
     "base_uri": "https://localhost:8080/"
    },
    "id": "jo1jyecgDci7",
    "outputId": "919904fd-1922-4ecf-b652-67d8742e9a96"
   },
   "source": [
    "498226 / 174160"
   ],
   "execution_count": 126,
   "outputs": [
    {
     "data": {
      "text/plain": "2.8607372531005972"
     },
     "execution_count": 126,
     "metadata": {},
     "output_type": "execute_result"
    }
   ]
  },
  {
   "cell_type": "code",
   "metadata": {
    "colab": {
     "base_uri": "https://localhost:8080/"
    },
    "id": "CpsqRhszDg-U",
    "outputId": "0d7cbaf6-1bbb-42d0-fc2c-0309052c184d"
   },
   "source": [
    "1275 / 544"
   ],
   "execution_count": 127,
   "outputs": [
    {
     "data": {
      "text/plain": "2.34375"
     },
     "execution_count": 127,
     "metadata": {},
     "output_type": "execute_result"
    }
   ]
  },
  {
   "cell_type": "markdown",
   "metadata": {
    "id": "Z9fmWfx685zS"
   },
   "source": [
    "What have we done here so far? We picked up two different wave files, one from a pre-trained corpus on speech recognition from librispeech, and the other from an audio file which we used in tutorial 2.1. \n",
    "\n",
    "We then processed them using the transformers wav2vec2 tokenizer, and then passed them through the model, which returned us the hidden states - we can see here that the hidden states are different shapes, with the size of the audio file influencing the shape of the hidden states. This means that the output size depends on the input, and we must do something to keep them all the same size (or use similar length files). \n",
    "\n",
    "One quick way to get them ready to use for analysis is to create an \"average\" vector. "
   ]
  },
  {
   "cell_type": "code",
   "metadata": {
    "id": "C96GQ5PwAK5P"
   },
   "source": [
    "avg_hidden_states_asr = torch.mean(hidden_states_asr[0], dim=0).detach().numpy()"
   ],
   "execution_count": 128,
   "outputs": []
  },
  {
   "cell_type": "code",
   "metadata": {
    "colab": {
     "base_uri": "https://localhost:8080/"
    },
    "id": "eUqf60jPAiNL",
    "outputId": "1fc9cf06-83d8-4546-b429-1bb79b477db0"
   },
   "source": [
    "avg_hidden_states_asr.shape"
   ],
   "execution_count": 129,
   "outputs": [
    {
     "data": {
      "text/plain": "(768,)"
     },
     "execution_count": 129,
     "metadata": {},
     "output_type": "execute_result"
    }
   ]
  },
  {
   "cell_type": "code",
   "metadata": {
    "id": "qxCsggNsCByh"
   },
   "source": [
    "avg_hidden_states_english = torch.mean(hidden_states_english[0], dim=0).detach().numpy()"
   ],
   "execution_count": 130,
   "outputs": []
  },
  {
   "cell_type": "code",
   "metadata": {
    "colab": {
     "base_uri": "https://localhost:8080/"
    },
    "id": "Nbx0TdcMCFMh",
    "outputId": "d724adb3-5d0e-4fab-cf1f-664372ed4581"
   },
   "source": [
    "avg_hidden_states_english.shape"
   ],
   "execution_count": 131,
   "outputs": [
    {
     "data": {
      "text/plain": "(768,)"
     },
     "execution_count": 131,
     "metadata": {},
     "output_type": "execute_result"
    }
   ]
  },
  {
   "cell_type": "markdown",
   "metadata": {
    "id": "rzqJTo9uCN9O"
   },
   "source": [
    "Neat, now that we have both down to an average vector, let's calculate the difference."
   ]
  },
  {
   "cell_type": "code",
   "metadata": {
    "colab": {
     "base_uri": "https://localhost:8080/"
    },
    "id": "IdvPiecoCNCb",
    "outputId": "8f0e0803-3259-462d-cdd8-c7b69326125f"
   },
   "source": [
    "cosine_distance(avg_hidden_states_english, avg_hidden_states_asr)"
   ],
   "execution_count": 132,
   "outputs": [
    {
     "data": {
      "text/plain": "0.5999834537506104"
     },
     "execution_count": 132,
     "metadata": {},
     "output_type": "execute_result"
    }
   ]
  },
  {
   "cell_type": "markdown",
   "metadata": {
    "id": "z8OqFa49D6qg"
   },
   "source": [
    "So these embeddings are fairly different - but to be able to really tell how useful these embeddings are, we must compare with a third source. Let's whip up a quick function to get average embeddings."
   ]
  },
  {
   "cell_type": "code",
   "metadata": {
    "id": "EFz1-X4GEyVJ"
   },
   "source": [
    "def average_audio_embedding(audio_path):\n",
    "  audio_input, _ = sf.read(audio_path)\n",
    "  input_values = processor(audio_input, return_tensors=\"pt\").input_values  # Batch size 1\n",
    "  if input_values.shape[2] == 2:\n",
    "    input_values = input_values[:,:,:1].reshape(1, input_values.shape[1])\n",
    "  hidden_states = model(input_values).last_hidden_state\n",
    "  avg_hidden_state = torch.mean(hidden_states[0], dim=0).detach().numpy()\n",
    "  return avg_hidden_state"
   ],
   "execution_count": 133,
   "outputs": []
  },
  {
   "cell_type": "markdown",
   "metadata": {
    "id": "bx9HwlvPGNZl"
   },
   "source": [
    "I downloaded the 30 free country music samples from [stayonbeat.com](https://www.stayonbeat.com/2014/01/13/free-country-music-loops/), and uploaded a couple on to Colab to see how what the embeddings look like. You are also encouraged to do the same or use your own music."
   ]
  },
  {
   "cell_type": "code",
   "metadata": {
    "id": "5y7FMBW9FLWR"
   },
   "source": [
    "sample_path_1 = \"/content/StayOnBeat.com_CountryLoops_1.wav\""
   ],
   "execution_count": 134,
   "outputs": []
  },
  {
   "cell_type": "code",
   "metadata": {
    "colab": {
     "base_uri": "https://localhost:8080/"
    },
    "id": "DCTZyE2nG4Uw",
    "outputId": "e4f86082-deb0-43f4-e9a9-40cab5ae17c8"
   },
   "source": [
    "sample_1_embedding = average_audio_embedding(sample_path_1)"
   ],
   "execution_count": 138,
   "outputs": []
  },
  {
   "cell_type": "code",
   "metadata": {
    "id": "ZJOqn2AXI4l9"
   },
   "source": [
    "sample_path_2 = \"/content/StayOnBeat.com_CountryLoops_2.wav\""
   ],
   "execution_count": 139,
   "outputs": []
  },
  {
   "cell_type": "code",
   "metadata": {
    "colab": {
     "base_uri": "https://localhost:8080/"
    },
    "id": "iBf76AN0I7kL",
    "outputId": "fa695bfe-49a1-440c-bcc6-3eed73450482"
   },
   "source": [
    "sample_2_embedding = average_audio_embedding(sample_path_2)"
   ],
   "execution_count": 140,
   "outputs": []
  },
  {
   "cell_type": "code",
   "metadata": {
    "id": "4-CaK8X1JJxq"
   },
   "source": [
    "audio_vectors = {\"english\":avg_hidden_states_english, \"asr\":avg_hidden_states_asr, \"country_sample_1\":sample_1_embedding, \"country_sample_2\":sample_2_embedding}"
   ],
   "execution_count": null,
   "outputs": []
  },
  {
   "cell_type": "code",
   "metadata": {
    "colab": {
     "base_uri": "https://localhost:8080/",
     "height": 349
    },
    "id": "VS7j0vHKIz3k",
    "outputId": "bb9f9d0f-7b52-418c-82b9-f4309999e2bd"
   },
   "source": [
    "heatplot(audio_vectors, audio_vectors, cosine_distance)"
   ],
   "execution_count": null,
   "outputs": []
  },
  {
   "cell_type": "markdown",
   "metadata": {
    "id": "bn4Qfw8EJx5Z"
   },
   "source": [
    "Interesting - we see that the two country samples are very similar to each other, but funnily enough the two speech tracks are more similar to the country samples compared to each other! \n",
    "\n",
    "In the HW you will be exploring more of these embeddings and their distances."
   ]
  },
  {
   "cell_type": "markdown",
   "metadata": {
    "id": "EV2BxnZEFO6e"
   },
   "source": [
    "# Integrating and Aligning Data and Embeddings \n",
    "\n",
    "This section will explore methods aligning data and embeddings. At first, we will not be traning deep learning models based on multi-modal data, but rather using different representations and embeddings--which may have been generated within the hidden layers of an effective neural network model--and seeing how we can align or integrate them through simple stacking or more sophisticated alignment (e.g., procrustes). \n",
    "\n",
    "## Aligning Diverse Data Types\n",
    "\n",
    "Another approach is to align concepts across their multiple representations and modes of perception. For example, according to distributional semantics, words acquire their meaning from the company they keep, and the word2vec method uses this as its theoretical motivation.\n",
    "\n",
    "#### Words as semantic content"
   ]
  },
  {
   "cell_type": "code",
   "metadata": {
    "colab": {
     "base_uri": "https://localhost:8080/"
    },
    "id": "vx-dk_O9a1JP",
    "outputId": "68a8b440-7288-49cc-d778-d0b898dc27df"
   },
   "source": [
    "word_vectors[\"spoon\"]"
   ],
   "execution_count": 183,
   "outputs": [
    {
     "data": {
      "text/plain": "array([-6.07910156e-02, -5.85937500e-02,  2.05078125e-01, -1.02539062e-01,\n       -1.97265625e-01, -1.37695312e-01,  2.83203125e-01, -4.67300415e-04,\n       -1.87500000e-01, -1.01470947e-03, -2.42187500e-01, -1.69677734e-02,\n        2.02148438e-01,  8.34960938e-02, -1.72851562e-01,  1.37695312e-01,\n       -2.03125000e-01, -5.98144531e-02, -2.67578125e-01, -2.77343750e-01,\n        2.44140625e-01,  2.41210938e-01,  4.31640625e-01,  1.04370117e-02,\n        1.34765625e-01, -1.86523438e-01, -1.05957031e-01,  2.50000000e-01,\n       -1.73828125e-01,  1.27929688e-01, -8.39843750e-02,  3.68652344e-02,\n        2.52685547e-02, -1.28906250e-01,  9.37500000e-02,  2.14843750e-01,\n        2.07031250e-01,  2.53906250e-01, -5.95703125e-02,  1.45507812e-01,\n        9.22851562e-02,  3.08227539e-03,  4.33593750e-01, -1.18164062e-01,\n        3.90625000e-01, -3.78417969e-02, -1.33789062e-01,  1.19628906e-01,\n        4.96093750e-01,  6.29882812e-02, -2.92968750e-01, -7.41577148e-03,\n       -1.26953125e-01, -5.42968750e-01,  1.81640625e-01, -9.71679688e-02,\n        2.79296875e-01,  7.56835938e-02, -1.64062500e-01, -8.64257812e-02,\n       -7.81250000e-02,  1.64794922e-02,  2.75390625e-01, -4.93164062e-02,\n       -1.78222656e-02, -6.49414062e-02, -3.02734375e-01, -2.41210938e-01,\n        2.87109375e-01,  1.27929688e-01,  2.40234375e-01, -7.51953125e-02,\n        1.46484375e-01, -1.49414062e-01, -3.02734375e-01, -1.84570312e-01,\n       -2.61718750e-01, -3.19824219e-02,  2.00195312e-01, -4.72656250e-01,\n        1.85546875e-02, -1.73828125e-01, -8.59375000e-02,  1.16729736e-03,\n       -2.75878906e-02, -2.85644531e-02,  1.59912109e-02, -5.54199219e-02,\n        1.82617188e-01, -7.47680664e-03, -8.15429688e-02, -1.51367188e-01,\n        5.88378906e-02, -1.38671875e-01,  4.24804688e-02, -1.19140625e-01,\n        2.81250000e-01, -1.87500000e-01,  4.60937500e-01,  1.36108398e-02,\n       -3.05175781e-02, -1.16210938e-01,  9.66796875e-02, -2.20703125e-01,\n       -3.63281250e-01, -2.59765625e-01,  4.19921875e-01,  2.37304688e-01,\n        3.78906250e-01, -1.45507812e-01, -6.88476562e-02, -2.41210938e-01,\n        1.79687500e-01, -2.50000000e-01, -2.05078125e-01,  7.32421875e-02,\n        8.78906250e-02, -1.89453125e-01, -1.51062012e-03, -9.03320312e-02,\n        1.61743164e-03,  1.41601562e-01,  1.59912109e-02,  3.06640625e-01,\n        3.39355469e-02,  2.06054688e-01,  1.36718750e-01,  1.08886719e-01,\n        1.19628906e-01,  1.50756836e-02, -2.08984375e-01,  1.13769531e-01,\n       -3.73046875e-01,  3.84765625e-01, -9.03320312e-02,  4.10156250e-01,\n        5.59082031e-02, -1.87500000e-01,  5.70312500e-01,  4.86328125e-01,\n        2.10937500e-01, -2.27539062e-01, -2.69531250e-01, -1.43554688e-01,\n        1.33056641e-02,  3.67187500e-01, -3.92578125e-01, -1.01928711e-02,\n       -9.42382812e-02, -2.46093750e-01,  2.50000000e-01,  7.72094727e-03,\n       -2.02148438e-01,  3.28125000e-01, -8.49609375e-02, -2.06054688e-01,\n       -1.47460938e-01, -1.55273438e-01, -9.47265625e-02,  2.12890625e-01,\n       -2.05078125e-01, -7.66601562e-02,  5.61523438e-02, -1.68945312e-01,\n       -1.01074219e-01, -2.15820312e-01,  1.54296875e-01, -7.61718750e-02,\n       -5.24902344e-02, -2.94189453e-02, -1.51367188e-01,  2.68554688e-02,\n        8.98437500e-02,  3.47656250e-01, -2.17773438e-01, -1.92382812e-01,\n        2.85644531e-02, -2.97851562e-02, -2.65625000e-01,  6.07910156e-02,\n       -1.88476562e-01,  7.91015625e-02,  1.37695312e-01, -7.93457031e-03,\n       -8.66699219e-03, -2.31933594e-02, -3.29589844e-02,  9.03320312e-02,\n        2.77099609e-02,  2.50000000e-01, -2.26562500e-01,  7.42187500e-02,\n        6.83593750e-02, -5.17578125e-02,  8.88671875e-02,  1.88476562e-01,\n       -2.28515625e-01, -7.47070312e-02, -1.55273438e-01, -1.72851562e-01,\n       -1.44531250e-01, -6.12792969e-02, -3.96484375e-01,  6.10351562e-03,\n        2.61718750e-01, -2.73437500e-01, -1.13769531e-01,  8.15429688e-02,\n       -7.40051270e-04,  1.33056641e-02, -2.39257812e-01, -3.24707031e-02,\n       -2.87109375e-01, -2.54821777e-03,  3.97949219e-02, -1.50390625e-01,\n       -3.16406250e-01,  2.96630859e-02,  2.63671875e-01,  6.88476562e-02,\n        4.88281250e-02,  1.15203857e-03, -1.03515625e-01,  1.86920166e-03,\n       -2.33398438e-01, -8.64257812e-02,  2.77343750e-01, -6.49414062e-02,\n        4.98046875e-02, -1.37695312e-01, -1.91650391e-02, -2.45361328e-02,\n        1.23535156e-01,  2.66113281e-02, -1.31835938e-01, -4.70703125e-01,\n        1.26953125e-01,  1.69921875e-01,  1.44531250e-01,  7.27539062e-02,\n        5.17578125e-02, -6.64062500e-02,  2.57812500e-01, -1.67968750e-01,\n        1.37939453e-02, -6.54296875e-02, -6.03027344e-02,  2.18750000e-01,\n       -3.19824219e-02, -2.59765625e-01,  1.27929688e-01, -1.76757812e-01,\n        3.94531250e-01, -1.17187500e-02,  2.99072266e-02, -3.66210938e-02,\n       -1.83593750e-01, -3.71093750e-01,  7.01904297e-03, -1.72119141e-02,\n        2.79541016e-02,  2.32421875e-01, -5.15625000e-01,  7.32421875e-02,\n       -2.98828125e-01, -3.93066406e-02, -7.61718750e-02, -1.28784180e-02,\n       -7.08007812e-03,  9.52148438e-02,  3.90625000e-02,  2.09960938e-01,\n        2.71484375e-01,  6.93359375e-02,  2.49023438e-01, -1.00097656e-01,\n       -1.00097656e-01, -1.54296875e-01, -6.25000000e-02,  3.32031250e-02,\n        5.49316406e-02, -8.59375000e-02,  2.46093750e-01,  1.84570312e-01,\n       -2.08007812e-01, -1.98242188e-01, -1.95312500e-01,  2.08007812e-01,\n       -1.65039062e-01,  5.31250000e-01, -7.08007812e-02,  5.83496094e-02,\n       -3.45703125e-01,  1.99218750e-01, -3.36914062e-02, -6.28906250e-01,\n        4.58984375e-02,  1.05468750e-01, -2.87109375e-01,  1.26953125e-01],\n      dtype=float32)"
     },
     "execution_count": 183,
     "metadata": {},
     "output_type": "execute_result"
    }
   ]
  },
  {
   "cell_type": "code",
   "metadata": {
    "colab": {
     "base_uri": "https://localhost:8080/"
    },
    "id": "PFIjvZPcLQKT",
    "outputId": "27ecda4d-420b-443e-d9bf-850bf97f4433"
   },
   "source": [
    "word_vectors[\"spatula\"]"
   ],
   "execution_count": 184,
   "outputs": [
    {
     "data": {
      "text/plain": "array([-0.19140625, -0.04296875,  0.27539062,  0.00488281, -0.3203125 ,\n        0.08203125,  0.05566406, -0.03613281, -0.31445312,  0.10693359,\n       -0.359375  ,  0.29882812,  0.02331543,  0.05517578, -0.140625  ,\n        0.1953125 , -0.23632812, -0.22167969, -0.06542969, -0.3359375 ,\n        0.25195312, -0.09326172,  0.54296875,  0.11328125, -0.28710938,\n       -0.12011719, -0.11181641,  0.20996094, -0.33203125,  0.30273438,\n       -0.3359375 , -0.12255859,  0.12890625, -0.28515625, -0.04223633,\n        0.25585938,  0.3203125 ,  0.07177734,  0.19042969, -0.01379395,\n        0.16992188, -0.22460938,  0.5078125 ,  0.08398438, -0.07519531,\n       -0.06396484,  0.05371094,  0.34570312,  0.46289062, -0.16699219,\n       -0.30664062,  0.15234375, -0.09765625, -0.26171875, -0.14160156,\n        0.2265625 ,  0.49609375, -0.10791016, -0.08447266,  0.234375  ,\n        0.04931641, -0.07128906,  0.05273438, -0.11914062,  0.09814453,\n        0.11181641, -0.13574219, -0.46875   ,  0.26171875,  0.12158203,\n        0.31445312,  0.05810547,  0.0703125 , -0.10107422, -0.27734375,\n       -0.16796875, -0.07128906, -0.08007812,  0.07226562, -0.1484375 ,\n        0.22949219,  0.03686523, -0.03857422,  0.00616455, -0.12255859,\n       -0.01940918, -0.0625    ,  0.26953125,  0.34179688, -0.00427246,\n       -0.49023438, -0.38867188, -0.24316406,  0.12304688,  0.07421875,\n       -0.25195312,  0.14941406, -0.265625  ,  0.30859375, -0.05834961,\n       -0.19726562, -0.14941406,  0.01031494, -0.07275391, -0.23632812,\n       -0.1484375 ,  0.3046875 , -0.10351562,  0.69140625, -0.29492188,\n       -0.25976562, -0.29296875,  0.31445312, -0.11083984, -0.5       ,\n       -0.04443359,  0.10058594,  0.04858398, -0.0625    ,  0.02001953,\n        0.08837891, -0.10058594, -0.00113678,  0.390625  ,  0.16894531,\n        0.01318359,  0.15625   ,  0.10595703,  0.29296875,  0.18457031,\n        0.13867188,  0.15820312, -0.38671875,  0.20214844,  0.17285156,\n        0.578125  , -0.05029297, -0.34179688,  0.46875   ,  0.34765625,\n        0.23535156, -0.20996094, -0.32226562, -0.26367188, -0.02160645,\n        0.50390625, -0.31054688, -0.2265625 ,  0.31640625, -0.14550781,\n        0.05639648, -0.18847656,  0.05126953,  0.73828125,  0.04174805,\n       -0.02392578, -0.375     , -0.18847656, -0.0625    ,  0.50390625,\n       -0.02844238, -0.05615234,  0.26367188, -0.0612793 ,  0.06030273,\n       -0.171875  , -0.00866699,  0.20019531, -0.03173828, -0.18164062,\n        0.40429688, -0.03710938, -0.03515625,  0.18261719, -0.47070312,\n       -0.07275391,  0.32617188, -0.17285156, -0.22265625,  0.27929688,\n       -0.57421875,  0.07275391,  0.20898438, -0.30273438,  0.19335938,\n        0.04907227, -0.15820312, -0.17675781,  0.18066406,  0.42773438,\n       -0.25390625,  0.29101562, -0.04760742, -0.28710938, -0.08837891,\n        0.28710938, -0.3828125 , -0.13574219,  0.05297852, -0.22265625,\n       -0.09179688, -0.06738281, -0.53125   ,  0.06933594,  0.02514648,\n        0.04443359, -0.18457031, -0.31054688,  0.02856445,  0.16992188,\n        0.01196289, -0.12109375,  0.00430298,  0.171875  ,  0.06640625,\n       -0.02954102, -0.39453125,  0.515625  ,  0.2109375 ,  0.03637695,\n       -0.390625  , -0.04980469, -0.13378906, -0.19140625, -0.34375   ,\n       -0.21289062,  0.375     ,  0.03039551,  0.1796875 , -0.37109375,\n        0.07763672, -0.07666016,  0.07910156, -0.15234375, -0.15429688,\n       -0.15039062,  0.12304688,  0.1796875 , -0.19335938,  0.125     ,\n        0.17285156,  0.03173828,  0.24121094, -0.34765625, -0.15136719,\n       -0.09619141,  0.09326172,  0.13964844, -0.20410156, -0.3671875 ,\n        0.02368164, -0.24804688,  0.17578125,  0.22460938,  0.18652344,\n       -0.44921875, -0.1640625 , -0.08837891,  0.1484375 , -0.0480957 ,\n        0.23144531, -0.06176758, -0.53125   , -0.23730469, -0.26953125,\n        0.02770996, -0.09667969, -0.05249023, -0.00543213, -0.05981445,\n        0.3203125 ,  0.34570312, -0.06591797, -0.05786133,  0.54296875,\n       -0.17675781, -0.05810547, -0.0378418 , -0.14550781, -0.265625  ,\n       -0.01153564,  0.3515625 ,  0.2421875 ,  0.24023438,  0.01025391,\n       -0.31445312, -0.20410156, -0.02172852, -0.21386719,  0.52734375,\n        0.12451172,  0.16113281, -0.46289062,  0.05126953, -0.02648926,\n       -0.546875  ,  0.30859375, -0.0534668 , -0.34765625,  0.3984375 ],\n      dtype=float32)"
     },
     "execution_count": 184,
     "metadata": {},
     "output_type": "execute_result"
    }
   ]
  },
  {
   "cell_type": "markdown",
   "metadata": {
    "id": "ump52ulHFO6g"
   },
   "source": [
    "#### Words as Images and Color\n",
    "\n",
    "Words have meaning associated to them, and this meaning is formed in many ways. The previous method we saw, word2vec, is based on the notion of \"distributional semantics\", which means that words get their meaning based on how they are distributed, i.e what kind of words appear around each other. Words like spoon appear around words like spatula and ladle, and maybe lie in a \"semantic kitchen\", of sorts. But words don't just get their meaning through other words, they also get their meaning through the embodied aspects of human experience, such as vision or sound. \n",
    "\n",
    "Work in multi-modal theories of cognition and joint embeddings allow us to represent words using mulitple data sources. We've seen how the package [comp-syn](https://github.com/comp-syn/comp-syn/) lets us load both average images and color vectors for words. Let's now look at some representations of spoon, measured in different notions of color. \n",
    "\n",
    "To run the colorgram lines of code, download the spoon, soap, spatula and plunger colorgram from this [Google Drive Folder](https://drive.google.com/drive/folders/1rph83P4sWvLTfsnq5TbaISLzD5cmlXF7?usp=sharing) (an average word representation by aggregating images). Once you download the colorgrams you wish to inspect, you must create a folder titled \"colorgrams\", and upload your image there.\n",
    "\n",
    "Here, the colorgram serves as an **average image representation of a word**, where it can visually serve as the aggregate representation a word in a dataset or image search. That's why the spoon and spatula colorgrams have that look to them, and this average image is what we use to extract color and lightness information from. We have already seen what these dense RGB and $J_zA_zB_z$ vectors function like in our initial experiments on using distance metrics on them. In fact, comparing between the same concept (here, words) in different semantic spaces and studying their differences is a form of aligning data representations.\n",
    "\n",
    "In the following code we will more explicity look at these representations along with the visual aid of the colorgram."
   ]
  },
  {
   "cell_type": "code",
   "metadata": {
    "id": "Kkgfx2gLFO6h"
   },
   "source": [
    "disk_vectors.load_colorgram(\"spoon\")"
   ],
   "execution_count": 186,
   "outputs": []
  },
  {
   "cell_type": "code",
   "metadata": {
    "colab": {
     "base_uri": "https://localhost:8080/",
     "height": 317
    },
    "id": "XHsaR3pvFO6h",
    "outputId": "1c2572c5-041c-432f-fdc2-f7eb6eca9a81"
   },
   "source": [
    "disk_vectors.vectors[\"spoon\"].colorgram"
   ],
   "execution_count": null,
   "outputs": []
  },
  {
   "cell_type": "code",
   "metadata": {
    "colab": {
     "base_uri": "https://localhost:8080/"
    },
    "id": "U-LvucIrFO6h",
    "outputId": "b8005d07-9716-4374-bd61-4376281e7fb3"
   },
   "source": [
    "disk_vectors.vectors[\"spoon\"].rgb_dist"
   ],
   "execution_count": null,
   "outputs": []
  },
  {
   "cell_type": "code",
   "metadata": {
    "colab": {
     "base_uri": "https://localhost:8080/"
    },
    "id": "12k0sBtZFO6h",
    "outputId": "6cb0469e-cd57-47c3-9a4f-4ee3ac24cffc"
   },
   "source": [
    "disk_vectors.vectors[\"spoon\"].jzazbz_dist"
   ],
   "execution_count": null,
   "outputs": []
  },
  {
   "cell_type": "markdown",
   "metadata": {
    "id": "LwB6GcxwO1SJ"
   },
   "source": [
    "Similarly, the other words we used, spatula, plunger and soap, have corresponding RGB and 𝐽𝑧𝐴𝑧𝐵𝑧  dense representations. Let's have a quick peak at the last 3 colorgrams."
   ]
  },
  {
   "cell_type": "code",
   "metadata": {
    "id": "Do_OuWIOJq4U"
   },
   "source": [
    "disk_vectors.load_colorgram(\"spatula\")"
   ],
   "execution_count": null,
   "outputs": []
  },
  {
   "cell_type": "code",
   "metadata": {
    "colab": {
     "base_uri": "https://localhost:8080/",
     "height": 317
    },
    "id": "KYf8gmKtJspa",
    "outputId": "4e8f8640-2a8a-401c-eb74-d8edc27849db"
   },
   "source": [
    "disk_vectors.vectors[\"spatula\"].colorgram"
   ],
   "execution_count": null,
   "outputs": []
  },
  {
   "cell_type": "code",
   "metadata": {
    "id": "H4MQxtbPPDq5"
   },
   "source": [
    "disk_vectors.load_colorgram(\"soap\")"
   ],
   "execution_count": null,
   "outputs": []
  },
  {
   "cell_type": "code",
   "metadata": {
    "colab": {
     "base_uri": "https://localhost:8080/",
     "height": 317
    },
    "id": "H0aQa5IhPDfg",
    "outputId": "78f487c9-7c5c-460c-c51f-77346b4ba4cb"
   },
   "source": [
    "disk_vectors.vectors[\"soap\"].colorgram"
   ],
   "execution_count": null,
   "outputs": []
  },
  {
   "cell_type": "code",
   "metadata": {
    "id": "whwheGHPPDSw"
   },
   "source": [
    "disk_vectors.load_colorgram(\"plunger\")"
   ],
   "execution_count": null,
   "outputs": []
  },
  {
   "cell_type": "code",
   "metadata": {
    "colab": {
     "base_uri": "https://localhost:8080/",
     "height": 317
    },
    "id": "44TMJaOmPDEW",
    "outputId": "5bc2a53d-ff72-4f2c-c974-ee5f39b76d19"
   },
   "source": [
    "disk_vectors.vectors[\"plunger\"].colorgram"
   ],
   "execution_count": null,
   "outputs": []
  },
  {
   "cell_type": "markdown",
   "metadata": {
    "id": "cu9ILwZJPQum"
   },
   "source": [
    "Visualising these average images helps us understand what is being condensed in the vectors we have access to. Let's now go a step further."
   ]
  },
  {
   "cell_type": "markdown",
   "metadata": {
    "id": "BsaDjdEnFO6h"
   },
   "source": [
    "## Words as seen as images by a CNN\n",
    "\n",
    "So in the above few cells we see an average image, and average color distributions. This tells us the shape and color information associated with the word. We can use this average image for other purposes, such as creating an image embedding of the colorgram. So we are going from\n",
    "\n",
    "word -> average image of word -> CNN embedding of this image.\n",
    "\n",
    "Such a representation may be useful in accessing multi-modal insights into words and texts."
   ]
  },
  {
   "cell_type": "code",
   "metadata": {
    "colab": {
     "base_uri": "https://localhost:8080/"
    },
    "id": "vTxUMjA3l1jL",
    "outputId": "ae5f61e8-c480-4fb4-f9d2-14814e5e8904"
   },
   "source": [
    "!pip install img2vec_pytorch"
   ],
   "execution_count": null,
   "outputs": []
  },
  {
   "cell_type": "code",
   "metadata": {
    "id": "OAA644OHFO6i"
   },
   "source": [
    "from img2vec_pytorch import Img2Vec"
   ],
   "execution_count": null,
   "outputs": []
  },
  {
   "cell_type": "code",
   "metadata": {
    "id": "zarLmwwZFO6i",
    "colab": {
     "base_uri": "https://localhost:8080/",
     "height": 137,
     "referenced_widgets": [
      "154a9a4cd9c24bd3b654e2f29b0ca3ee",
      "f7272453ef0e4e0584ac6e41ba79af1c",
      "d20030f1f9194ecbad10c4e67de62e5d",
      "e0cfa9606cbc4c04911204a6d1610777",
      "82610de25d2244df9e462998b9d50035",
      "ab9bf96ad52e4582a3f843aa9c6f3b4f",
      "7da78d51fb4d42c28ad91ae12851da53",
      "64838cbfc467456e8b2a16a39a0a5f29"
     ]
    },
    "outputId": "84fa6ed6-239b-4a37-e94a-7fe9e02b7083"
   },
   "source": [
    "img2vec = Img2Vec()"
   ],
   "execution_count": null,
   "outputs": []
  },
  {
   "cell_type": "code",
   "metadata": {
    "id": "uSWG0D-1FO6i"
   },
   "source": [
    "avg_spoon = disk_vectors.vectors[\"spoon\"].colorgram"
   ],
   "execution_count": null,
   "outputs": []
  },
  {
   "cell_type": "code",
   "metadata": {
    "id": "H_rWsPd0FO6i"
   },
   "source": [
    "spoon_img_vec = img2vec.get_vec(avg_spoon)"
   ],
   "execution_count": null,
   "outputs": []
  },
  {
   "cell_type": "code",
   "metadata": {
    "colab": {
     "base_uri": "https://localhost:8080/"
    },
    "id": "A2cSP8iKP5qR",
    "outputId": "f918a910-02ec-4f1c-c279-fa974a4cdc6e"
   },
   "source": [
    "len(spoon_img_vec)"
   ],
   "execution_count": null,
   "outputs": []
  },
  {
   "cell_type": "code",
   "metadata": {
    "colab": {
     "base_uri": "https://localhost:8080/"
    },
    "id": "AbjUSEJaFO6j",
    "outputId": "3e9a0cee-cffe-42e5-ffe2-72580357c18c"
   },
   "source": [
    "spoon_img_vec[0:100]"
   ],
   "execution_count": null,
   "outputs": []
  },
  {
   "cell_type": "markdown",
   "metadata": {
    "id": "EmOCcE_DPnVw"
   },
   "source": [
    "So what is this 512 dimensional vector? It is the internal representation which a image classification CNN makes before making a class prediction (i.e is it a cat, spoon, car, etc). So we have in this vector some notion of the properties of an image which allow it to be easily classified into an object or category. \n",
    "\n",
    "Let us create representations of this for our words as well and try some distance measures."
   ]
  },
  {
   "cell_type": "code",
   "metadata": {
    "id": "WyMhOVb3QHnS"
   },
   "source": [
    "avg_soap = disk_vectors.vectors[\"soap\"].colorgram\n",
    "soap_img_vec = img2vec.get_vec(avg_soap)"
   ],
   "execution_count": null,
   "outputs": []
  },
  {
   "cell_type": "code",
   "metadata": {
    "id": "oBqrsNjnQehl"
   },
   "source": [
    "avg_plunger = disk_vectors.vectors[\"plunger\"].colorgram\n",
    "plunger_img_vec = img2vec.get_vec(avg_plunger)"
   ],
   "execution_count": null,
   "outputs": []
  },
  {
   "cell_type": "code",
   "metadata": {
    "id": "EaaZICreQeZ5"
   },
   "source": [
    "avg_spatula = disk_vectors.vectors[\"spatula\"].colorgram\n",
    "spatula_img_vec = img2vec.get_vec(avg_spatula)"
   ],
   "execution_count": null,
   "outputs": []
  },
  {
   "cell_type": "code",
   "metadata": {
    "id": "AsJTSqkRQqNS"
   },
   "source": [
    "word_image_cnn_vecs = {\"spoon_cnn\":spoon_img_vec, \"plunger_cnn\":plunger_img_vec, \"spatula_cnn\":spatula_img_vec, \"soap_cnn\":soap_img_vec}"
   ],
   "execution_count": null,
   "outputs": []
  },
  {
   "cell_type": "markdown",
   "metadata": {
    "id": "SsCrtuA384Be"
   },
   "source": [
    "Ok, let's do a brief re-cap. We have 3 different ways of representing these 4 words. Word embeddings (word2vec), Color embeddings (via avg of 100 images of that word using 𝐽𝑧𝐴𝑧𝐵𝑧), Image embedding (via avg of 100 images of that word using a CNN). Each of these embeddings capture a different aspect of the semantics of a word.\n",
    "\n",
    "Let us see, once more, how standard distance measures explore between these representations. We have already seen these for word and color, but we will do them again to contrast with all 3 forms.\n"
   ]
  },
  {
   "cell_type": "code",
   "metadata": {
    "colab": {
     "base_uri": "https://localhost:8080/",
     "height": 267
    },
    "id": "3fPyI6mxRn0t",
    "outputId": "4d6420be-bbf0-41a6-c739-0740fc3421d1"
   },
   "source": [
    "heatplot(word_vectors, word_vectors, cosine_distance)"
   ],
   "execution_count": null,
   "outputs": []
  },
  {
   "cell_type": "code",
   "metadata": {
    "colab": {
     "base_uri": "https://localhost:8080/",
     "height": 266
    },
    "id": "jYxQUjeJR0Ub",
    "outputId": "5ae404f5-ad41-401e-fb21-72f1ae8aaeff"
   },
   "source": [
    "heatplot(jzazbz_vectors, jzazbz_vectors, jensen_shannon)"
   ],
   "execution_count": null,
   "outputs": []
  },
  {
   "cell_type": "code",
   "metadata": {
    "colab": {
     "base_uri": "https://localhost:8080/",
     "height": 266
    },
    "id": "u-kU_GU-R0LG",
    "outputId": "de64daa5-649e-483a-ee03-7c5124444878"
   },
   "source": [
    "heatplot(word_image_cnn_vecs, word_image_cnn_vecs, cosine_distance)"
   ],
   "execution_count": null,
   "outputs": []
  },
  {
   "cell_type": "markdown",
   "metadata": {
    "id": "NRqeKE81SWyB"
   },
   "source": [
    "It is interesting to see that the spatula and the spoon are similar in all of these spaces. This means that there is a strong alignment in both the semantic and visual content. In other spaces, this is different - for example, the spoon and plunger are far away in a word embedding space (intuitively this matches up), but similar in image spaces - which makes sense in terms of the average image being created, where the images of plumbers and spoons have similar color distributions and shape. Here, we can think of the CNN extracting shape similarities - identifying the shape in local structures is one of the benefits of CNNs for image analysis. "
   ]
  },
  {
   "cell_type": "markdown",
   "metadata": {
    "id": "OjdUBvHwFO6j"
   },
   "source": [
    "So we've seen here an aligning which is conceptual - we are creating representations for the same object / concept (\"spoon\"), using various approaches and aligning them by concept or shape or color. We can then conduct analysis in multiple ways. For example, we may want to cluster all of our collections of word vectors to see how different domains cluster in different ways. What does shape or color bring together that distributional semantics cannot? Another way we can conduct analysis using multiple representations is using them to explore a concept, such as abstract or concrete concepts, or literal or metaphors. The work *comp-syn: Perceptually Grounded Word Embeddings with Color* ([Srinivasa Desikan et al, 2020](https://www.aclweb.org/anthology/2020.coling-main.154/)) explores these concepts using these embeddings. \n",
    "\n",
    "## Aligning Similar Data Types Data After Embedding\n",
    "\n",
    "Aligning similar data types is possible in situations where there are natural oppurtunities of alignment - two examples we will explore in this section are word embedding alignment across time, and word embedding alignment across languages. Note that in this case, we are using only word embeddings, though in principle these alignment methods can extend to situations when the same objects (here they are words) appear in two different settings (here they are times/languages). \n",
    "\n",
    "### Cross Temporal Alignment\n",
    "\n",
    "Below is code that aligns the dimensions of multiple embeddings arrayed over time or some other dimension and allow identification of semantic chanage as the word vectors change their loadings for focal words. This code comes from the approach piloted at Stanford by William Hamilton, Daniel Jurafsky and Jure Lescovec [here](https://arxiv.org/pdf/1605.09096.pdf). \n",
    "\n",
    "In this case we are training the models ourselves instead of using a pre-trained model, so this might take some time."
   ]
  },
  {
   "cell_type": "code",
   "metadata": {
    "id": "LP-uEP35rG9Z"
   },
   "source": [
    "!pip install git+git://github.com/UChicago-Computational-Content-Analysis/lucem_illud.git\n"
   ],
   "execution_count": 6,
   "outputs": [
    {
     "name": "stdout",
     "output_type": "stream",
     "text": [
      "Collecting git+git://github.com/UChicago-Computational-Content-Analysis/lucem_illud.git\n",
      "  Cloning git://github.com/UChicago-Computational-Content-Analysis/lucem_illud.git to c:\\users\\parth\\appdata\\local\\temp\\pip-req-build-36v4z149\n",
      "Could not fetch URL https://pypi.org/simple/pip/: There was a problem confirming the ssl certificate: HTTPSConnectionPool(host='pypi.org', port=443): Max retries exceeded with url: /simple/pip/ (Caused by SSLError(CertificateError(\"hostname 'pypi.org' doesn't match 'ucwn.uchicago.edu'\"))) - skipping\n"
     ]
    },
    {
     "name": "stderr",
     "output_type": "stream",
     "text": [
      "WARNING: Ignoring invalid distribution -illow (c:\\users\\parth\\appdata\\local\\programs\\python\\python39\\lib\\site-packages)\n",
      "WARNING: Ignoring invalid distribution -illow (c:\\users\\parth\\appdata\\local\\programs\\python\\python39\\lib\\site-packages)\n",
      "  Running command git clone --filter=blob:none --quiet git://github.com/UChicago-Computational-Content-Analysis/lucem_illud.git 'C:\\Users\\parth\\AppData\\Local\\Temp\\pip-req-build-36v4z149'\n",
      "  fatal: unable to connect to github.com:\n",
      "  github.com[0: 140.82.114.3]: errno=Unknown error\n",
      "\n",
      "  error: subprocess-exited-with-error\n",
      "  \n",
      "  git clone --filter=blob:none --quiet git://github.com/UChicago-Computational-Content-Analysis/lucem_illud.git 'C:\\Users\\parth\\AppData\\Local\\Temp\\pip-req-build-36v4z149' did not run successfully.\n",
      "  exit code: 128\n",
      "  \n",
      "  See above for output.\n",
      "  \n",
      "  note: This error originates from a subprocess, and is likely not a problem with pip.\n",
      "error: subprocess-exited-with-error\n",
      "\n",
      "git clone --filter=blob:none --quiet git://github.com/UChicago-Computational-Content-Analysis/lucem_illud.git 'C:\\Users\\parth\\AppData\\Local\\Temp\\pip-req-build-36v4z149' did not run successfully.\n",
      "exit code: 128\n",
      "\n",
      "See above for output.\n",
      "\n",
      "note: This error originates from a subprocess, and is likely not a problem with pip.\n",
      "WARNING: Ignoring invalid distribution -illow (c:\\users\\parth\\appdata\\local\\programs\\python\\python39\\lib\\site-packages)\n",
      "WARNING: Ignoring invalid distribution -illow (c:\\users\\parth\\appdata\\local\\programs\\python\\python39\\lib\\site-packages)\n",
      "WARNING: Certificate did not match expected hostname: pypi.org. Certificate: {'subject': ((('countryName', 'US'),), (('stateOrProvinceName', 'Illinois'),), (('localityName', 'Chicago'),), (('organizationName', 'The University of Chicago'),), (('organizationalUnitName', 'IT Services - Self Enrollment'),), (('commonName', 'ucwn.uchicago.edu'),)), 'issuer': ((('countryName', 'US'),), (('stateOrProvinceName', 'MI'),), (('localityName', 'Ann Arbor'),), (('organizationName', 'Internet2'),), (('organizationalUnitName', 'InCommon'),), (('commonName', 'InCommon RSA Server CA'),)), 'version': 3, 'serialNumber': 'BD6CD53A0E826A4B76CBEAEF69447B71', 'notBefore': 'Jul 21 00:00:00 2021 GMT', 'notAfter': 'Jul 21 23:59:59 2022 GMT', 'subjectAltName': (('DNS', 'ucwn.uchicago.edu'),), 'OCSP': ('http://ocsp.usertrust.com',), 'caIssuers': ('http://crt.usertrust.com/InCommonRSAServerCA_2.crt',), 'crlDistributionPoints': ('http://crl.incommon-rsa.org/InCommonRSAServerCA.crl',)}\n"
     ]
    }
   ]
  },
  {
   "cell_type": "code",
   "metadata": {
    "id": "doRrGsX_FO6j"
   },
   "source": [
    "import lucem_illud"
   ],
   "execution_count": 7,
   "outputs": []
  },
  {
   "cell_type": "code",
   "metadata": {
    "id": "2MGMBR25XMyA"
   },
   "source": [
    "import gensim"
   ],
   "execution_count": 8,
   "outputs": []
  },
  {
   "cell_type": "code",
   "metadata": {
    "id": "DYKiY3FzFO6j"
   },
   "source": [
    "import pandas"
   ],
   "execution_count": 9,
   "outputs": []
  },
  {
   "cell_type": "code",
   "metadata": {
    "id": "AH-koGZuFO6j"
   },
   "source": [
    "import copy"
   ],
   "execution_count": 10,
   "outputs": []
  },
  {
   "cell_type": "code",
   "metadata": {
    "id": "L97s3KUI9Qq0"
   },
   "source": [
    "import sklearn"
   ],
   "execution_count": 11,
   "outputs": []
  },
  {
   "cell_type": "code",
   "metadata": {
    "id": "Y8rKAcNkFO6k"
   },
   "source": [
    "def calc_syn0norm(model):\n",
    "    \"\"\"since syn0norm is now depricated\"\"\"\n",
    "    return (model.wv.vectors / np.sqrt((model.wv.vectors ** 2).sum(-1))[..., np.newaxis]).astype(np.float32)\n",
    "def smart_procrustes_align_gensim(base_embed, other_embed, words=None):\n",
    "    \"\"\"\n",
    "    Original script: https://gist.github.com/quadrismegistus/09a93e219a6ffc4f216fb85235535faf\n",
    "    Procrustes align two gensim word2vec models (to allow for comparison between same word across models).\n",
    "    Code ported from HistWords <https://github.com/williamleif/histwords> by William Hamilton <wleif@stanford.edu>.\n",
    "\n",
    "    First, intersect the vocabularies (see `intersection_align_gensim` documentation).\n",
    "    Then do the alignment on the other_embed model.\n",
    "    Replace the other_embed model's syn0 and syn0norm numpy matrices with the aligned version.\n",
    "    Return other_embed.\n",
    "    If `words` is set, intersect the two models' vocabulary with the vocabulary in words (see `intersection_align_gensim` documentation).\n",
    "    \"\"\"\n",
    "\n",
    "    # patch by Richard So [https://twitter.com/richardjeanso) (thanks!) to update this code for new version of gensim\n",
    "    # base_embed.init_sims(replace=True)\n",
    "    # other_embed.init_sims(replace=True)\n",
    "\n",
    "    # make sure vocabulary and indices are aligned\n",
    "    in_base_embed, in_other_embed = intersection_align_gensim(base_embed, other_embed, words=words)\n",
    "\n",
    "    # get the (normalized) embedding matrices\n",
    "    base_vecs = calc_syn0norm(in_base_embed)\n",
    "    other_vecs = calc_syn0norm(in_other_embed)\n",
    "\n",
    "    # just a matrix dot product with numpy\n",
    "    m = other_vecs.T.dot(base_vecs)\n",
    "    # SVD method from numpy\n",
    "    u, _, v = np.linalg.svd(m)\n",
    "    # another matrix operation\n",
    "    ortho = u.dot(v)\n",
    "    # Replace original array with modified one, i.e. multiplying the embedding matrix by \"ortho\"\n",
    "    other_embed.wv.vectors = (other_embed.wv.vectors).dot(ortho)\n",
    "\n",
    "    return other_embed\n",
    "\n",
    "def intersection_align_gensim(m1, m2, words=None):\n",
    "    \"\"\"\n",
    "    Intersect two gensim word2vec models, m1 and m2.\n",
    "    Only the shared vocabulary between them is kept.\n",
    "    If 'words' is set (as list or set), then the vocabulary is intersected with this list as well.\n",
    "    Indices are re-organized from 0..N in order of descending frequency (=sum of counts from both m1 and m2).\n",
    "    These indices correspond to the new syn0 and syn0norm objects in both gensim models:\n",
    "        -- so that Row 0 of m1.syn0 will be for the same word as Row 0 of m2.syn0\n",
    "        -- you can find the index of any word on the .index2word list: model.index2word.index(word) => 2\n",
    "    The .vocab dictionary is also updated for each model, preserving the count but updating the index.\n",
    "    \"\"\"\n",
    "\n",
    "    # Get the vocab for each model\n",
    "    vocab_m1 = set(m1.wv.index_to_key)\n",
    "    vocab_m2 = set(m2.wv.index_to_key)\n",
    "\n",
    "    # Find the common vocabulary\n",
    "    common_vocab = vocab_m1 & vocab_m2\n",
    "    if words: common_vocab &= set(words)\n",
    "\n",
    "    # If no alignment necessary because vocab is identical...\n",
    "    if not vocab_m1 - common_vocab and not vocab_m2 - common_vocab:\n",
    "        return (m1,m2)\n",
    "\n",
    "    # Otherwise sort by frequency (summed for both)\n",
    "    common_vocab = list(common_vocab)\n",
    "    common_vocab.sort(key=lambda w: m1.wv.get_vecattr(w, \"count\") + m2.wv.get_vecattr(w, \"count\"), reverse=True)\n",
    "    # print(len(common_vocab))\n",
    "\n",
    "    # Then for each model...\n",
    "    for m in [m1, m2]:\n",
    "        # Replace old syn0norm array with new one (with common vocab)\n",
    "        indices = [m.wv.key_to_index[w] for w in common_vocab]\n",
    "        old_arr = m.wv.vectors\n",
    "        new_arr = np.array([old_arr[index] for index in indices])\n",
    "        m.wv.vectors = new_arr\n",
    "\n",
    "        # Replace old vocab dictionary with new one (with common vocab)\n",
    "        # and old index2word with new one\n",
    "        new_key_to_index = {}\n",
    "        new_index_to_key = []\n",
    "        for new_index, key in enumerate(common_vocab):\n",
    "            new_key_to_index[key] = new_index\n",
    "            new_index_to_key.append(key)\n",
    "        m.wv.key_to_index = new_key_to_index\n",
    "        m.wv.index_to_key = new_index_to_key\n",
    "\n",
    "        print(len(m.wv.key_to_index), len(m.wv.vectors))\n",
    "\n",
    "    return (m1,m2)"
   ],
   "execution_count": 12,
   "outputs": []
  },
  {
   "cell_type": "markdown",
   "metadata": {
    "id": "DyxK538kFO6k"
   },
   "source": [
    "In order to explore this, let's get some data that follows a time trend. We'll look at conference proceedings from the American Society for Clinical Oncologists. You can download the data [here](https://drive.google.com/file/d/1R9EiThdJQ3vY84xcoPJGUBeqvemu_o8L/view?usp=sharing)."
   ]
  },
  {
   "cell_type": "code",
   "metadata": {
    "id": "XIDpQUN4FO6l"
   },
   "source": [
    "ascoDF = pandas.read_csv(\"content/ASCO_abstracts.csv\", index_col=0)"
   ],
   "execution_count": 13,
   "outputs": []
  },
  {
   "cell_type": "code",
   "metadata": {
    "id": "0fG_nk9zFO6l"
   },
   "source": [
    "ascoDF['tokenized_sents'] = ascoDF['Body'].apply(lambda x: [lucem_illud.word_tokenize(s) for s in lucem_illud.sent_tokenize(x)])\n",
    "ascoDF['normalized_sents'] = ascoDF['tokenized_sents'].apply(lambda x: [lucem_illud.normalizeTokens(s) for s in x])"
   ],
   "execution_count": 15,
   "outputs": [
    {
     "name": "stderr",
     "output_type": "stream",
     "text": [
      "C:\\Users\\parth\\AppData\\Local\\Programs\\Python\\Python39\\lib\\site-packages\\spacy\\pipeline\\lemmatizer.py:211: UserWarning: [W108] The rule-based lemmatizer did not find POS annotation for one or more tokens. Check that your pipeline includes components that assign token.pos, typically 'tagger'+'attribute_ruler' or 'morphologizer'.\n",
      "  warnings.warn(Warnings.W108)\n"
     ]
    }
   ]
  },
  {
   "cell_type": "code",
   "metadata": {
    "id": "pVgJogQQFO6l"
   },
   "source": [
    "def compareModels(df, category, sort = True):\n",
    "    \"\"\"If you are using time as your category sorting is important\"\"\"\n",
    "    embeddings_raw = {}\n",
    "    cats = sorted(set(df[category]))\n",
    "    for cat in cats:\n",
    "        #This can take a while\n",
    "        print(\"Embedding {}\".format(cat), end = '\\r')\n",
    "        subsetDF = df[df[category] == cat]\n",
    "        #You might want to change the W2V parameters\n",
    "        embeddings_raw[cat] = gensim.models.word2vec.Word2Vec(subsetDF['normalized_sents'].sum())\n",
    "    #These are much quicker\n",
    "    embeddings_aligned = {}\n",
    "    for catOuter in cats:\n",
    "        embeddings_aligned[catOuter] = [embeddings_raw[catOuter]]\n",
    "        for catInner in cats:\n",
    "            embeddings_aligned[catOuter].append(smart_procrustes_align_gensim(embeddings_aligned[catOuter][-1], embeddings_raw[catInner]))\n",
    "    return embeddings_raw, embeddings_aligned"
   ],
   "execution_count": 16,
   "outputs": []
  },
  {
   "cell_type": "code",
   "metadata": {
    "id": "uv6Bl_KBFO6m"
   },
   "source": [
    "rawEmbeddings, comparedEmbeddings = compareModels(ascoDF, 'Year')"
   ],
   "execution_count": 17,
   "outputs": [
    {
     "name": "stdout",
     "output_type": "stream",
     "text": [
      "159 159ng 2011\n",
      "159 159\n",
      "117 117\n",
      "117 117\n",
      "100 100\n",
      "100 100\n",
      "94 94\n",
      "94 94\n",
      "91 91\n",
      "91 91\n",
      "91 91\n",
      "91 91\n",
      "91 91\n",
      "91 91\n",
      "89 89\n",
      "89 89\n",
      "89 89\n",
      "89 89\n",
      "87 87\n",
      "87 87\n",
      "86 86\n",
      "86 86\n",
      "85 85\n",
      "85 85\n",
      "83 83\n",
      "83 83\n",
      "82 82\n",
      "82 82\n",
      "25 25\n",
      "25 25\n",
      "117 117\n",
      "117 117\n",
      "100 100\n",
      "100 100\n",
      "94 94\n",
      "94 94\n",
      "91 91\n",
      "91 91\n",
      "89 89\n",
      "89 89\n",
      "87 87\n",
      "87 87\n",
      "86 86\n",
      "86 86\n",
      "85 85\n",
      "85 85\n",
      "83 83\n",
      "83 83\n",
      "82 82\n",
      "82 82\n",
      "25 25\n",
      "25 25\n",
      "94 94\n",
      "94 94\n",
      "94 94\n",
      "94 94\n",
      "91 91\n",
      "91 91\n",
      "89 89\n",
      "89 89\n",
      "87 87\n",
      "87 87\n",
      "86 86\n",
      "86 86\n",
      "85 85\n",
      "85 85\n",
      "83 83\n",
      "83 83\n",
      "82 82\n",
      "82 82\n",
      "25 25\n",
      "25 25\n",
      "91 91\n",
      "91 91\n",
      "91 91\n",
      "91 91\n",
      "89 89\n",
      "89 89\n",
      "87 87\n",
      "87 87\n",
      "86 86\n",
      "86 86\n",
      "85 85\n",
      "85 85\n",
      "83 83\n",
      "83 83\n",
      "82 82\n",
      "82 82\n",
      "25 25\n",
      "25 25\n",
      "89 89\n",
      "89 89\n",
      "89 89\n",
      "89 89\n",
      "89 89\n",
      "89 89\n",
      "89 89\n",
      "89 89\n",
      "87 87\n",
      "87 87\n",
      "86 86\n",
      "86 86\n",
      "85 85\n",
      "85 85\n",
      "83 83\n",
      "83 83\n",
      "82 82\n",
      "82 82\n",
      "25 25\n",
      "25 25\n",
      "87 87\n",
      "87 87\n",
      "87 87\n",
      "87 87\n",
      "87 87\n",
      "87 87\n",
      "87 87\n",
      "87 87\n",
      "87 87\n",
      "87 87\n",
      "86 86\n",
      "86 86\n",
      "85 85\n",
      "85 85\n",
      "83 83\n",
      "83 83\n",
      "82 82\n",
      "82 82\n",
      "25 25\n",
      "25 25\n",
      "85 85\n",
      "85 85\n",
      "85 85\n",
      "85 85\n",
      "85 85\n",
      "85 85\n",
      "85 85\n",
      "85 85\n",
      "85 85\n",
      "85 85\n",
      "85 85\n",
      "85 85\n",
      "83 83\n",
      "83 83\n",
      "82 82\n",
      "82 82\n",
      "25 25\n",
      "25 25\n",
      "82 82\n",
      "82 82\n",
      "82 82\n",
      "82 82\n",
      "82 82\n",
      "82 82\n",
      "82 82\n",
      "82 82\n",
      "82 82\n",
      "82 82\n",
      "82 82\n",
      "82 82\n",
      "82 82\n",
      "82 82\n",
      "25 25\n",
      "25 25\n",
      "25 25\n",
      "25 25\n",
      "25 25\n",
      "25 25\n",
      "25 25\n",
      "25 25\n",
      "25 25\n",
      "25 25\n",
      "25 25\n",
      "25 25\n",
      "25 25\n",
      "25 25\n",
      "25 25\n",
      "25 25\n"
     ]
    }
   ]
  },
  {
   "cell_type": "code",
   "execution_count": 44,
   "outputs": [
    {
     "data": {
      "text/plain": "array([ 0.00605464, -0.00058399,  0.00689745, -0.00591011,  0.00370008,\n       -0.00435802,  0.00494689,  0.00224411,  0.0006639 , -0.00820599,\n       -0.00381012, -0.0086963 , -0.00436083,  0.00201249, -0.00274967,\n        0.00462188, -0.01042378, -0.00754793, -0.01035913, -0.01517018,\n        0.0035142 , -0.0048537 ,  0.00980552, -0.00258724, -0.00603063,\n       -0.00064028,  0.00608514, -0.00514922, -0.00740336,  0.00113341,\n       -0.00345097,  0.00702479,  0.00236786,  0.00728944, -0.01365445,\n        0.00678819,  0.0030536 , -0.0070729 , -0.00046694, -0.01865489,\n       -0.0047306 , -0.00571571,  0.00889246, -0.00702597, -0.00290905,\n       -0.00044734, -0.0086669 ,  0.002644  ,  0.00646119,  0.0080013 ,\n        0.00225429,  0.0052521 , -0.00121492, -0.00112227,  0.01067049,\n        0.01982297,  0.00738447,  0.00147008, -0.00705093,  0.00485715,\n       -0.00072927, -0.00896363, -0.0078556 , -0.01004775, -0.00171488,\n        0.01263295,  0.0006705 ,  0.00805472, -0.01142707,  0.00701537,\n       -0.0103431 , -0.00300876, -0.00022601,  0.00471115,  0.00592345,\n        0.00799319, -0.00047776,  0.00858296,  0.00827903,  0.00230742,\n       -0.00034131,  0.00161408,  0.00133084,  0.0015453 ,  0.00390231,\n        0.00158522,  0.00656991,  0.0025052 , -0.00372216, -0.00210883,\n        0.00183044, -0.00411769,  0.0030136 ,  0.00540425,  0.01039705,\n        0.0049117 ,  0.00588924, -0.00034235,  0.00822773, -0.01580393],\n      dtype=float32)"
     },
     "execution_count": 44,
     "metadata": {},
     "output_type": "execute_result"
    }
   ],
   "source": [
    "comparedEmbeddings[1995][0].wv['breast']"
   ],
   "metadata": {
    "collapsed": false,
    "pycharm": {
     "name": "#%%\n"
    }
   }
  },
  {
   "cell_type": "markdown",
   "metadata": {
    "id": "_h_AQHSlFO6m"
   },
   "source": [
    "This is the key to our aligning - the smart procrustes align method here is the one doing the aligning, and we are adding the alligned embeddings to the dictionary.\n",
    "\n",
    "We need to compare them across all permutations so we will define another function to help, we will be using 1 - cosine similarity as that gives a more intitive range of 0-2 with low values meaning little change and high meaning lots of change."
   ]
  },
  {
   "cell_type": "code",
   "metadata": {
    "id": "_2nwc6rpFO6m"
   },
   "source": [
    "def getDivergenceDF(word, embeddingsDict):\n",
    "    dists = []\n",
    "    cats = sorted(set(embeddingsDict.keys()))\n",
    "    dists = {}\n",
    "    for cat in cats:\n",
    "        dists[cat] = []\n",
    "        for embed in embeddingsDict[cat][1:]:\n",
    "            dists[cat].append(np.abs(1 - sklearn.metrics.pairwise.cosine_similarity(embeddingsDict[cat][0].wv[word].reshape(1, -1),\n",
    "                                                                             embed.wv[word].reshape(1, -1))[0,0]))\n",
    "    return pandas.DataFrame(dists, index = cats)"
   ],
   "execution_count": 40,
   "outputs": []
  },
  {
   "cell_type": "code",
   "metadata": {
    "id": "e3izzZMkFO6m"
   },
   "source": [
    "import matplotlib.pyplot as plt"
   ],
   "execution_count": 41,
   "outputs": []
  },
  {
   "cell_type": "code",
   "metadata": {
    "id": "dPuazOr1FO6n"
   },
   "source": [
    "import seaborn"
   ],
   "execution_count": 42,
   "outputs": []
  },
  {
   "cell_type": "markdown",
   "metadata": {
    "id": "VcM_q8YkzW1c"
   },
   "source": [
    "We now check certain words and see their movement in time along these abstracts."
   ]
  },
  {
   "cell_type": "code",
   "metadata": {
    "id": "wBvAHcO4FO6n"
   },
   "source": [
    "targetWord = 'breast'\n",
    "\n",
    "pltDF = getDivergenceDF(targetWord, comparedEmbeddings)\n",
    "fig, ax = plt.subplots(figsize = (10, 7))\n",
    "seaborn.heatmap(pltDF, ax = ax, annot = False) #set annot True for a lot more information\n",
    "ax.set_xlabel(\"Starting year\")\n",
    "ax.set_ylabel(\"Final year\")\n",
    "ax.set_ylabel(\"Final year\")\n",
    "ax.set_title(\"Yearly linguistic change for: '{}'\".format(targetWord))\n",
    "plt.show()\n"
   ],
   "execution_count": 43,
   "outputs": [
    {
     "data": {
      "text/plain": "<Figure size 720x504 with 2 Axes>",
      "image/png": "[encoded data removed]"
     },
     "metadata": {
      "needs_background": "light"
     },
     "output_type": "display_data"
    }
   ]
  },
  {
   "cell_type": "code",
   "execution_count": null,
   "outputs": [],
   "source": [
    "targetWord = 'combination'\n",
    "\n",
    "pltDF = getDivergenceDF(targetWord, comparedEmbeddings)\n",
    "fig, ax = plt.subplots(figsize = (10, 7))\n",
    "seaborn.heatmap(pltDF, ax = ax, annot = False) #set annot True for a lot more information\n",
    "ax.set_xlabel(\"Starting year\")\n",
    "ax.set_ylabel(\"Final year\")\n",
    "ax.set_ylabel(\"Final year\")\n",
    "ax.set_title(\"Yearly linguistic change for: '{}'\".format(targetWord))\n",
    "plt.show()"
   ],
   "metadata": {
    "collapsed": false,
    "pycharm": {
     "name": "#%%\n"
    }
   }
  },
  {
   "cell_type": "code",
   "metadata": {
    "id": "z2OynHQwFO6o"
   },
   "source": [
    "def findDiverence(word, embeddingsDict):\n",
    "    cats = sorted(set(embeddingsDict.keys()))\n",
    "    \n",
    "    dists = []\n",
    "    for embed in embeddingsDict[cats[0]][1:]:\n",
    "        dists.append(1 - sklearn.metrics.pairwise.cosine_similarity(embeddingsDict[cats[0]][0].wv[word].reshape(1, -1), embed.wv[word].reshape(1, -1))[0,0])\n",
    "    return sum(dists)\n",
    "\n",
    "def findMostDivergent(embeddingsDict):\n",
    "    words = []\n",
    "    for embeds in embeddingsDict.values():\n",
    "        for embed in embeds:\n",
    "            words += list(embed.wv.key_to_index.keys())\n",
    "    words = set(words)\n",
    "    print(\"Found {} words to compare\".format(len(words)))\n",
    "    return sorted([(w, findDiverence(w, embeddingsDict)) for w in words], key = lambda x: x[1], reverse=True)\n",
    "    "
   ],
   "execution_count": 51,
   "outputs": []
  },
  {
   "cell_type": "code",
   "metadata": {
    "id": "HJT9ut0vFO6o"
   },
   "source": [
    "wordDivergences = findMostDivergent(comparedEmbeddings)"
   ],
   "execution_count": 52,
   "outputs": [
    {
     "name": "stdout",
     "output_type": "stream",
     "text": [
      "Found 25 words to compare\n"
     ]
    }
   ]
  },
  {
   "cell_type": "code",
   "metadata": {
    "id": "rrBAiQ8lFO6o"
   },
   "source": [
    "wordDivergences[:20]"
   ],
   "execution_count": 53,
   "outputs": [
    {
     "data": {
      "text/plain": "[('progression', 7.245801091194153),\n ('breast', 7.024854749441147),\n ('status', 6.663868099451065),\n ('results', 6.142989486455917),\n ('studies', 5.731075674295425),\n ('study', 5.614664271473885),\n ('overall', 5.600038900971413),\n ('months', 5.473989516496658),\n ('treatment', 5.446790009737015),\n ('efficacy', 5.444278042763472),\n ('iii', 5.349613264203072),\n ('significant', 5.272614613175392),\n ('analysis', 5.211592027917504),\n ('data', 4.935688093304634),\n ('tumor', 4.725933026522398),\n ('therapy', 4.6270617842674255),\n ('response', 4.291807666420937),\n ('phase', 4.035701479762793),\n ('years', 3.83452320843935),\n ('median', 3.1791884303092957)]"
     },
     "execution_count": 53,
     "metadata": {},
     "output_type": "execute_result"
    }
   ]
  },
  {
   "cell_type": "code",
   "metadata": {
    "id": "91tuJ15JFO6o"
   },
   "source": [
    "wordDivergences[-20:]"
   ],
   "execution_count": null,
   "outputs": []
  },
  {
   "cell_type": "code",
   "metadata": {
    "id": "_54K9DrkFO6p"
   },
   "source": [
    "targetWord = wordDivergences[2][0]\n",
    "\n",
    "pltDF = getDivergenceDF(targetWord, comparedEmbeddings)\n",
    "fig, ax = plt.subplots(figsize = (10, 7))\n",
    "seaborn.heatmap(pltDF, ax = ax, annot = False) #set annot True for a lot more information\n",
    "ax.set_xlabel(\"Starting year\")\n",
    "ax.set_ylabel(\"Final year\")\n",
    "ax.set_ylabel(\"Final year\")\n",
    "ax.set_title(\"Yearly linguistic change for: '{}'\".format(targetWord))\n",
    "plt.show()"
   ],
   "execution_count": 54,
   "outputs": [
    {
     "data": {
      "text/plain": "<Figure size 720x504 with 2 Axes>",
      "image/png": "[encoded data removed]"
     },
     "metadata": {
      "needs_background": "light"
     },
     "output_type": "display_data"
    }
   ]
  },
  {
   "cell_type": "code",
   "metadata": {
    "id": "2m4qOzzDFO6p"
   },
   "source": [
    "targetWord = wordDivergences[-1][0]\n",
    "\n",
    "pltDF = getDivergenceDF(targetWord, comparedEmbeddings)\n",
    "fig, ax = plt.subplots(figsize = (10, 7))\n",
    "seaborn.heatmap(pltDF, ax = ax, annot = False) #set annot True for a lot more information\n",
    "ax.set_xlabel(\"Starting year\")\n",
    "ax.set_ylabel(\"Final year\")\n",
    "ax.set_ylabel(\"Final year\")\n",
    "ax.set_title(\"Yearly linguistic change for: '{}'\".format(targetWord))\n",
    "plt.show()"
   ],
   "execution_count": 55,
   "outputs": [
    {
     "data": {
      "text/plain": "<Figure size 720x504 with 2 Axes>",
      "image/png": "[encoded data removed]"
     },
     "metadata": {
      "needs_background": "light"
     },
     "output_type": "display_data"
    }
   ]
  },
  {
   "cell_type": "markdown",
   "metadata": {
    "id": "Jiy11EjTFO6p"
   },
   "source": [
    "We've seen here from a small, research based corpus how it is still able to capture some notion of semantic drift. The word cell has moved among the most and the word view has moved the least. We recommend trying similar analysis on different datasets to see how words change their meaning over time based on the company they keep. \n",
    "\n",
    "### Cross lingual alignment\n",
    "\n",
    "While in the previous example we saw how we can use a time-stamped textual corpus to create embe\"ddings and then compare between them, in the following example we use pre-trained embeddings for different languages and align them using some powerful packages built for just doing that.\n",
    "\n",
    "Here, we will use Fast Text word embeddings downloaded from their [documentation website](https://fasttext.cc/), for Spanish and French embeddings. You must download these embeddings and upload them to be able to do this part of the exercise. Note that these files are kind of large! If it doesn't work, restart your session, clear your uploads and try this section again.\n",
    "\n",
    "We then perform an SVD and orthogonal transformation on the data to rotate and reflect it so that it is best aligned. \n",
    "The code is adapted from:\n",
    "https://github.com/babylonhealth/fastText_multilingual"
   ]
  },
  {
   "cell_type": "code",
   "metadata": {
    "id": "IKSVD6dnFO6p"
   },
   "source": [
    "import io"
   ],
   "execution_count": 72,
   "outputs": []
  },
  {
   "cell_type": "code",
   "execution_count": null,
   "outputs": [],
   "source": [
    "from fasttext import FastVector"
   ],
   "metadata": {
    "collapsed": false,
    "pycharm": {
     "name": "#%%\n"
    }
   }
  },
  {
   "cell_type": "code",
   "execution_count": null,
   "outputs": [],
   "source": [
    "fr_dictionary = FastVector(vector_file='/content/wiki.fr.vec')"
   ],
   "metadata": {
    "collapsed": false,
    "pycharm": {
     "name": "#%%\n"
    }
   }
  },
  {
   "cell_type": "code",
   "execution_count": null,
   "outputs": [],
   "source": [
    "es_dictionary = FastVector(vector_file='/content/wiki.es.vec')"
   ],
   "metadata": {
    "collapsed": false,
    "pycharm": {
     "name": "#%%\n"
    }
   }
  },
  {
   "cell_type": "code",
   "metadata": {
    "id": "VQJigDA2FO6q"
   },
   "source": [
    "fr_vector = fr_dictionary[\"chat\"]\n",
    "es_vector = es_dictionary[\"gata\"]"
   ],
   "execution_count": null,
   "outputs": []
  },
  {
   "cell_type": "code",
   "metadata": {
    "id": "7Ori0by-FO6q"
   },
   "source": [
    "print(FastVector.cosine_similarity(fr_vector, es_vector))"
   ],
   "execution_count": null,
   "outputs": []
  },
  {
   "cell_type": "code",
   "metadata": {
    "id": "kwu0CrAMFO6q"
   },
   "source": [
    "# from https://stackoverflow.com/questions/21030391/how-to-normalize-array-numpy\n",
    "def normalized(a, axis=-1, order=2):\n",
    "    \"\"\"Utility function to normalize the rows of a numpy array.\"\"\"\n",
    "    l2 = np.atleast_1d(np.linalg.norm(a, order, axis))\n",
    "    l2[l2==0] = 1\n",
    "    return a / np.expand_dims(l2, axis)\n",
    "\n",
    "def make_training_matrices(source_dictionary, target_dictionary, bilingual_dictionary):\n",
    "    \"\"\"\n",
    "    Source and target dictionaries are the FastVector objects of\n",
    "    source/target languages. bilingual_dictionary is a list of \n",
    "    translation pair tuples [(source_word, target_word), ...].\n",
    "    \"\"\"\n",
    "    source_matrix = []\n",
    "    target_matrix = []\n",
    "\n",
    "    for (source, target) in bilingual_dictionary:\n",
    "        if source in source_dictionary and target in target_dictionary:\n",
    "            source_matrix.append(source_dictionary[source])\n",
    "            target_matrix.append(target_dictionary[target])\n",
    "\n",
    "    # return training matrices\n",
    "    return np.array(source_matrix), np.array(target_matrix)\n",
    "\n",
    "def learn_transformation(source_matrix, target_matrix, normalize_vectors=True):\n",
    "    \"\"\"\n",
    "    Source and target matrices are numpy arrays, shape\n",
    "    (dictionary_length, embedding_dimension). These contain paired\n",
    "    word vectors from the bilingual dictionary.\n",
    "    \"\"\"\n",
    "    # optionally normalize the training vectors\n",
    "    if normalize_vectors:\n",
    "        source_matrix = normalized(source_matrix)\n",
    "        target_matrix = normalized(target_matrix)\n",
    "\n",
    "    # perform the SVD\n",
    "    product = np.matmul(source_matrix.transpose(), target_matrix)\n",
    "    U, s, V = np.linalg.svd(product)\n",
    "\n",
    "    # return orthogonal transformation which aligns source language to the target\n",
    "    return np.matmul(U, V)"
   ],
   "execution_count": null,
   "outputs": []
  },
  {
   "cell_type": "markdown",
   "metadata": {
    "id": "N1z--PkRFO6q"
   },
   "source": [
    "To align the two word embeddings, we must try and find some common words with similar meanings. Lets try this by simply going through the common dictionaries."
   ]
  },
  {
   "cell_type": "code",
   "metadata": {
    "id": "KVc_f348FO6q"
   },
   "source": [
    "es_words = set(es_dictionary.word2id.keys())\n",
    "fr_words = set(fr_dictionary.word2id.keys())\n",
    "overlap = list(es_words & fr_words)\n",
    "bilingual_dictionary = [(entry, entry) for entry in overlap]"
   ],
   "execution_count": null,
   "outputs": []
  },
  {
   "cell_type": "code",
   "metadata": {
    "id": "VGpJG0IeFO6r"
   },
   "source": [
    "len(bilingual_dictionary)"
   ],
   "execution_count": null,
   "outputs": []
  },
  {
   "cell_type": "code",
   "metadata": {
    "id": "WsUxstyJFO6r"
   },
   "source": [
    "# form the training matrices\n",
    "source_matrix, target_matrix = make_training_matrices(fr_dictionary, es_dictionary, bilingual_dictionary)"
   ],
   "execution_count": null,
   "outputs": []
  },
  {
   "cell_type": "code",
   "metadata": {
    "id": "6EWw8c0AFO6r"
   },
   "source": [
    "# learn and apply the transformation\n",
    "transform = learn_transformation(source_matrix, target_matrix)\n",
    "fr_dictionary.apply_transform(transform)"
   ],
   "execution_count": null,
   "outputs": []
  },
  {
   "cell_type": "code",
   "metadata": {
    "id": "AmH-71zNFO6r"
   },
   "source": [
    "fr_vector = fr_dictionary[\"chat\"]\n",
    "es_vector = es_dictionary[\"gata\"]\n",
    "print(FastVector.cosine_similarity(fr_vector, es_vector))"
   ],
   "execution_count": null,
   "outputs": []
  },
  {
   "cell_type": "markdown",
   "metadata": {
    "id": "wYuK8AUtFO6r"
   },
   "source": [
    "Here, we see just that by picking up words which are spelled the same, we have done a decent job in aligning the two spaces - the Spanish word for cat and French word for cat are closer than they were in the previously unaligned space. Try using an actual Spanish - French dictionary next time and see how well the embeddings end up aligning!\n"
   ]
  },
  {
   "cell_type": "markdown",
   "metadata": {
    "id": "wejeQIL_-JpH"
   },
   "source": [
    "# <span style=\"color:red\">*Homework Exercise*</span>\n",
    "\n",
    "In the last tutorial, we saw different ways we can represent data. Hopefully you have a bunch of representations ready! It's going to come in handy, because we will be doing a bunch of measurements with these representations. The purpose of this notebook is to get used to using different measurements, and think of how we can use multi-modal representations, either through comparing the same object in different spaces, or by aligning them."
   ]
  },
  {
   "cell_type": "markdown",
   "metadata": {
    "id": "dv5hAjkrDGLy"
   },
   "source": [
    "**1)** Use the textual representations you used in the last exercise and measure between different objects you created. You should have at least 10 objects (i.e words, sentences, or documents) and try at least 3 similarity or distance metrics/measurements. If you don't have enough objects/representations from the previous exercise, make more."
   ]
  },
  {
   "cell_type": "code",
   "metadata": {
    "id": "81FOSyGbDezf"
   },
   "source": [
    ""
   ],
   "execution_count": null,
   "outputs": []
  },
  {
   "cell_type": "markdown",
   "metadata": {
    "id": "imemlu6jAYLH"
   },
   "source": [
    "***1b)*** What distances are most one another (of the three)? Which manifests that most variation? Which do you propose is most useful and why? "
   ]
  },
  {
   "cell_type": "code",
   "metadata": {
    "id": "CCM9TY7YA5eA"
   },
   "source": [
    "textdist= 'something' #@param {type:\"string\"}"
   ],
   "execution_count": null,
   "outputs": []
  },
  {
   "cell_type": "markdown",
   "metadata": {
    "id": "TTHaEFbUDfbd"
   },
   "source": [
    "**2)** Use the image representations you used in the last exercise and measure between different objects you created. You should have at least 10 objects (i.e images, or gifs) and try at least 3 similarity or distance metrics/measurements. If you don't have enough objects/representations from the previous exercise, make more."
   ]
  },
  {
   "cell_type": "markdown",
   "metadata": {
    "id": "Sl-BX5IlA-u-"
   },
   "source": [
    "\n",
    "***2b)*** What distances are most one another (of the three)? Which manifests that most variation? Which do you propose is most useful and why? "
   ]
  },
  {
   "cell_type": "code",
   "metadata": {
    "id": "mFvqexfUDiGA"
   },
   "source": [
    "imagedist= 'something' #@param {type:\"string\"}"
   ],
   "execution_count": null,
   "outputs": []
  },
  {
   "cell_type": "markdown",
   "metadata": {
    "id": "VnFuNRRFDkdv"
   },
   "source": [
    "**3)** Use the audio representations you used in the last exercise and measure between different objects you created. You should have at least 10 objects (i.e songs, speech, sound) and try at least 3 similarity or distance metrics/measurements. If you don't have enough objects/representations from the previous exercise, make more. "
   ]
  },
  {
   "cell_type": "code",
   "metadata": {
    "id": "kjNr5RxYEEvh"
   },
   "source": [
    ""
   ],
   "execution_count": null,
   "outputs": []
  },
  {
   "cell_type": "markdown",
   "metadata": {
    "id": "QSGm66D9T14c"
   },
   "source": [
    "***3b)*** What distances are most one another (of the three)? Which manifests that most variation? Which do you propose is most useful and why? "
   ]
  },
  {
   "cell_type": "code",
   "metadata": {
    "id": "nZo1uyx7T1EY"
   },
   "source": [
    "audiodist= 'something' #@param {type:\"string\"}"
   ],
   "execution_count": null,
   "outputs": []
  },
  {
   "cell_type": "markdown",
   "metadata": {
    "id": "dmJgV5jGEFPB"
   },
   "source": [
    "**4)** Use the network representations you used in the last exercise and measure between different objects you created. Your network should have at least 10 objects (i.e at least 10 nodes with or without properties) and try at least 3 similarity or distance metrics/measurements. If you don't have enough objects/representations from the previous exercise, make more."
   ]
  },
  {
   "cell_type": "code",
   "metadata": {
    "id": "mg8h5HVxErDb"
   },
   "source": [
    ""
   ],
   "execution_count": null,
   "outputs": []
  },
  {
   "cell_type": "markdown",
   "metadata": {
    "id": "PFV_M77wUn45"
   },
   "source": [
    "***4b)*** What distances are most one another (of the three)? Which manifests that most variation? Which do you propose is most useful and why? "
   ]
  },
  {
   "cell_type": "code",
   "metadata": {
    "id": "4SjzHlZdUlcY"
   },
   "source": [
    "networkdist= 'something' #@param {type:\"string\"}"
   ],
   "execution_count": null,
   "outputs": []
  },
  {
   "cell_type": "markdown",
   "metadata": {
    "id": "_5LNmXmgEtHS"
   },
   "source": [
    "**5)** Choose one object (a concept, word, organisation), and represent it in more than 2 ways. For example, it could be with a word similar to the spoon example, or a network, where you represent a node as both a node2vec vector as well as the texts associated with the vector. "
   ]
  },
  {
   "cell_type": "code",
   "metadata": {
    "id": "j4EFtLrwFEd4"
   },
   "source": [
    ""
   ],
   "execution_count": null,
   "outputs": []
  },
  {
   "cell_type": "markdown",
   "metadata": {
    "id": "4PrHrbQkFGG5"
   },
   "source": [
    "**6)** Align a word embedding model either across time or languages. This means you would need a body of text with temporal data, or you would need to download different language models using Fasttext and replicate the example, but with a different language selection. If you use the Fasttext example, then you must try to match words using an actual dictionary."
   ]
  },
  {
   "cell_type": "code",
   "metadata": {
    "id": "Sa6WGvzJFxx5"
   },
   "source": [
    ""
   ],
   "execution_count": null,
   "outputs": []
  },
  {
   "cell_type": "markdown",
   "metadata": {
    "id": "zHM0OboJFyS9"
   },
   "source": [
    "## ***Hint***\n",
    "\n",
    "You can use [this link](https://drive.google.com/drive/folders/1rph83P4sWvLTfsnq5TbaISLzD5cmlXF7?usp=sharing) to download different colorgrams for words. This allow you to visually inspect words and their average images, and will help you during your multimodal example.\n",
    "\n",
    "For examples of creating networks and associating text data to it, you may follow this tutorial which served as the python refresher. It includes examples of using a script to create networks of text. This also counts as a multi-modal representation. "
   ]
  },
  {
   "cell_type": "code",
   "metadata": {
    "id": "hsHyg5tr_PjG"
   },
   "source": [
    "#@markdown How many hours did it take you to complete this homework?\n",
    "hours = 1 #@param {type:\"number\"}"
   ],
   "execution_count": null,
   "outputs": []
  },
  {
   "cell_type": "code",
   "metadata": {
    "id": "k-L8mLtZ_Zf6"
   },
   "source": [
    "#@markdown How hard was this homework?\n",
    "too_easy_too_hard = 2.5 #@param {type:\"slider\", min:0, max:10, step:0.1}"
   ],
   "execution_count": null,
   "outputs": []
  }
 ]
}