{
 "cells": [
  {
   "cell_type": "markdown",
   "metadata": {
    "id": "cYMn54Cb4g6q"
   },
   "source": [
    "# Thinking with Deep Learning: Week 1 Part 2\n",
    "# Introducing Deep Learning\n",
    "\n",
    "__Instructor:__ James Evans\n",
    "\n",
    "__Notebook Author:__ Bhargav Srinivasa Desikan\n",
    "\n",
    "__Teaching Assistants & Course Organizers:__ Likun Cao & Partha Kadambi "
   ]
  },
  {
   "cell_type": "markdown",
   "metadata": {
    "id": "GJ1K0PGs843F"
   },
   "source": [
    "This notebook will demonstrate how to whip up simple shallow and deep neural networks in both Keras and PyTorch, and how these fit into our larger machine learning pipelines. The purpose of this tutorial is to get you up and running in building a simple neural network for classification in Keras and PyTorch, two popular deep learning packages. We will focus on constructing a network, and performing inference using the network. \n",
    "\n",
    "### Why Keras AND PyTorch\n",
    "\n",
    "**Keras** is a high-level package and enables rapid plug & play. It elegantly represents the building blocks of a neural network, so we will lead with it in this section. Developed by an ex-Google engineer, its emphasis is its ability to rapidly prototype neural networks while also being integrated into the second-generation Tensorflow ecosystem (described below). Unlike other packages which might have their own computational engine, Keras runs on top of others, such as Tensorflow, Theano or MXNet. While it shines in its ability deep learning newbies to start right away, it loses points for lack of low-level flexibility.\n",
    "\n",
    "**PyTorch** offers a lower-level approach with more flexibility, surfacing more controls for the mature user. Because we focus on the representations learned during training, we prefer PyTorch because it gives us customized control over these representations… but for a simple classification task, keras can often do the trick. We will include PyTorch examples of the same network, side-by-side, to introduce its syntax. Developed by Facebook AI, PyTorch has quickly become one of the most used and supported deep learning packages, particularly by the deep learning research community for its ease of debugging and ability to easily conjure up complex models. Deep learning frameworks require a “computational engine” to function, specifically to train deep learning models. PyTorch does this with a dynamic computational graph that uses a “define-by-run” logic, which connects all parts of a neural model in terms of the data objects passed and computations done on them. You’ll see examples of this throughout.\n",
    "\n",
    "### imports and data\n",
    "\n",
    "For our examples, we will be using toy, generated data. This helps us in being more precise with what our models are doing. A common machine learning paradigm is classification, where we are given labelled data: an input, and an output class. We will be making such a classification dataset using scikit-learns make dataset functionality."
   ]
  },
  {
   "cell_type": "code",
   "execution_count": null,
   "metadata": {
    "id": "UhQJA3pM843O"
   },
   "outputs": [],
   "source": [
    "import sklearn.datasets\n",
    "import sklearn.model_selection"
   ]
  },
  {
   "cell_type": "code",
   "execution_count": null,
   "metadata": {
    "id": "OWfgaaU0ID9p"
   },
   "outputs": [],
   "source": [
    "import matplotlib.pyplot as plt\n"
   ]
  },
  {
   "cell_type": "code",
   "execution_count": null,
   "metadata": {
    "colab": {
     "base_uri": "https://localhost:8080/",
     "height": 168
    },
    "executionInfo": {
     "elapsed": 26,
     "status": "ok",
     "timestamp": 1648256405931,
     "user": {
      "displayName": "Likun Cao",
      "photoUrl": "https://lh3.googleusercontent.com/a/default-user=s64",
      "userId": "01917344510473464948"
     },
     "user_tz": 300
    },
    "id": "3T2uX3kMH5qo",
    "outputId": "97429cdf-f1f1-4211-dc3c-4c449048356c"
   },
   "outputs": [
    {
     "data": {
      "image/png": "[encoded data removed]",
      "text/plain": [
       "<Figure size 720x216 with 4 Axes>"
      ]
     },
     "metadata": {
      "needs_background": "light"
     },
     "output_type": "display_data"
    }
   ],
   "source": [
    "digits = sklearn.datasets.load_digits()\n",
    "\n",
    "_, axes = plt.subplots(nrows=1, ncols=4, figsize=(10, 3))\n",
    "for ax, image, label in zip(axes, digits.images, digits.target):\n",
    "    ax.set_axis_off()\n",
    "    ax.imshow(image, cmap=plt.cm.gray_r, interpolation='nearest')\n",
    "    ax.set_title('Training: %i' % label)"
   ]
  },
  {
   "cell_type": "code",
   "execution_count": null,
   "metadata": {
    "id": "jNjOW5ynIJe4"
   },
   "outputs": [],
   "source": [
    "# flatten the images\n",
    "n_samples = len(digits.images)\n",
    "data = digits.images.reshape((n_samples, -1))\n",
    "\n",
    "# Split data into 50% train and 50% test subsets\n",
    "X_train, X_test, y_train, y_test = sklearn.model_selection.train_test_split(\n",
    "    data, digits.target, test_size=0.5, shuffle=False)"
   ]
  },
  {
   "cell_type": "markdown",
   "metadata": {
    "id": "ZX9evr8f843T"
   },
   "source": [
    "Here, we generated a dataset of size 100, with 20 fearures, based on a Gaussian process where there are two 'classes'.\n",
    "Our machine learning algorithm is performing well if it can correctly identify if an input belongs to the class it is labelled as.\n",
    "\n",
    "For our models to train, it needs to be split into a training and testing dataset."
   ]
  },
  {
   "cell_type": "code",
   "execution_count": null,
   "metadata": {
    "id": "oVHFW8zJ843T"
   },
   "outputs": [],
   "source": [
    "# X_train, X_test, y_train, y_test = sklearn.model_selection.train_test_split(X, y)"
   ]
  },
  {
   "cell_type": "markdown",
   "metadata": {
    "id": "p8eefRdN843U"
   },
   "source": [
    "Let us train a simple model and see how well it does on this task. Logistic regression is a popular task for classification."
   ]
  },
  {
   "cell_type": "code",
   "execution_count": null,
   "metadata": {
    "id": "AP4HLQc_843U"
   },
   "outputs": [],
   "source": [
    "import sklearn.linear_model"
   ]
  },
  {
   "cell_type": "code",
   "execution_count": null,
   "metadata": {
    "id": "Ui0KHHLe843U"
   },
   "outputs": [],
   "source": [
    "logreg = sklearn.linear_model.LogisticRegression()"
   ]
  },
  {
   "cell_type": "code",
   "execution_count": null,
   "metadata": {
    "colab": {
     "base_uri": "https://localhost:8080/"
    },
    "executionInfo": {
     "elapsed": 225,
     "status": "ok",
     "timestamp": 1648256406573,
     "user": {
      "displayName": "Likun Cao",
      "photoUrl": "https://lh3.googleusercontent.com/a/default-user=s64",
      "userId": "01917344510473464948"
     },
     "user_tz": 300
    },
    "id": "8wHlzfoa843U",
    "outputId": "050778a3-9b21-4ca6-8cd5-2b91d1831993"
   },
   "outputs": [
    {
     "name": "stderr",
     "output_type": "stream",
     "text": [
      "/usr/local/lib/python3.7/dist-packages/sklearn/linear_model/_logistic.py:818: ConvergenceWarning: lbfgs failed to converge (status=1):\n",
      "STOP: TOTAL NO. of ITERATIONS REACHED LIMIT.\n",
      "\n",
      "Increase the number of iterations (max_iter) or scale the data as shown in:\n",
      "    https://scikit-learn.org/stable/modules/preprocessing.html\n",
      "Please also refer to the documentation for alternative solver options:\n",
      "    https://scikit-learn.org/stable/modules/linear_model.html#logistic-regression\n",
      "  extra_warning_msg=_LOGISTIC_SOLVER_CONVERGENCE_MSG,\n"
     ]
    },
    {
     "data": {
      "text/plain": [
       "LogisticRegression()"
      ]
     },
     "execution_count": 8,
     "metadata": {},
     "output_type": "execute_result"
    }
   ],
   "source": [
    "logreg.fit(X_train, y_train)"
   ]
  },
  {
   "cell_type": "code",
   "execution_count": null,
   "metadata": {
    "colab": {
     "base_uri": "https://localhost:8080/"
    },
    "executionInfo": {
     "elapsed": 18,
     "status": "ok",
     "timestamp": 1648256406574,
     "user": {
      "displayName": "Likun Cao",
      "photoUrl": "https://lh3.googleusercontent.com/a/default-user=s64",
      "userId": "01917344510473464948"
     },
     "user_tz": 300
    },
    "id": "le8Lot2y843V",
    "outputId": "4be4fb31-0395-4203-f323-68edfe7b8b40"
   },
   "outputs": [
    {
     "data": {
      "text/plain": [
       "array([8, 6, 4, 8, 0, 8, 9, 1, 1, 2, 3, 4, 5, 6, 7, 8, 9, 0, 1, 2, 3, 4,\n",
       "       5, 6, 5, 8, 9, 0, 1, 2, 3, 4, 9, 6, 7, 8, 9, 0, 9, 5, 5, 6, 5, 0,\n",
       "       9, 8, 9, 8, 4, 1, 7, 7, 3, 9, 1, 2, 7, 8, 2, 0, 1, 2, 6, 3, 3, 7,\n",
       "       3, 3, 4, 6, 6, 6, 4, 9, 1, 5, 0, 9, 5, 2, 8, 2, 0, 0, 1, 7, 6, 3,\n",
       "       2, 1, 4, 6, 3, 1, 3, 9, 1, 7, 6, 8, 4, 3, 1, 4, 0, 5, 3, 6, 9, 6,\n",
       "       1, 7, 5, 4, 4, 7, 2, 8, 2, 2, 9, 7, 9, 5, 4, 4, 9, 0, 8, 9, 8, 0,\n",
       "       1, 2, 3, 4, 5, 6, 7, 8, 9, 0, 1, 2, 3, 4, 5, 6, 7, 8, 9, 0, 1, 2,\n",
       "       3, 4, 5, 6, 7, 8, 9, 0, 9, 5, 5, 6, 5, 0, 9, 8, 9, 8, 4, 1, 7, 7,\n",
       "       3, 5, 1, 0, 0, 7, 8, 2, 0, 1, 2, 6, 3, 3, 7, 3, 3, 4, 6, 6, 6, 9,\n",
       "       9, 1, 5, 0, 9, 5, 2, 8, 2, 0, 0, 1, 7, 6, 3, 2, 1, 7, 4, 6, 3, 1,\n",
       "       9, 9, 1, 7, 6, 8, 4, 9, 1, 4, 0, 5, 3, 6, 9, 6, 1, 7, 5, 4, 4, 7,\n",
       "       2, 8, 2, 2, 5, 7, 9, 5, 4, 1, 8, 4, 9, 0, 8, 9, 8, 0, 1, 2, 3, 4,\n",
       "       5, 6, 7, 8, 9, 0, 1, 2, 3, 4, 5, 6, 7, 8, 9, 0, 1, 2, 3, 4, 5, 6,\n",
       "       7, 8, 9, 0, 9, 5, 5, 6, 5, 0, 9, 5, 9, 5, 4, 1, 7, 7, 5, 5, 1, 0,\n",
       "       0, 2, 2, 7, 8, 2, 0, 1, 2, 6, 3, 3, 7, 3, 3, 4, 6, 6, 6, 4, 9, 1,\n",
       "       5, 0, 9, 5, 2, 8, 2, 0, 0, 1, 7, 6, 3, 2, 1, 7, 4, 6, 3, 1, 3, 9,\n",
       "       1, 7, 6, 8, 4, 3, 8, 4, 0, 5, 3, 6, 9, 6, 8, 7, 5, 4, 4, 7, 2, 8,\n",
       "       2, 2, 5, 7, 9, 5, 4, 8, 8, 4, 9, 0, 8, 9, 8, 0, 5, 2, 3, 4, 5, 6,\n",
       "       7, 8, 9, 0, 1, 2, 3, 6, 5, 6, 7, 8, 9, 0, 1, 2, 3, 6, 5, 6, 7, 8,\n",
       "       9, 0, 9, 5, 5, 6, 5, 0, 9, 8, 9, 8, 4, 1, 7, 7, 3, 5, 1, 0, 0, 2,\n",
       "       3, 7, 8, 2, 0, 1, 2, 6, 3, 3, 7, 3, 3, 6, 6, 6, 6, 4, 9, 1, 5, 0,\n",
       "       9, 6, 2, 8, 3, 0, 0, 1, 7, 6, 3, 2, 1, 7, 4, 6, 3, 1, 3, 9, 1, 7,\n",
       "       6, 8, 6, 3, 1, 4, 0, 5, 3, 6, 9, 6, 1, 7, 5, 4, 4, 7, 2, 8, 2, 2,\n",
       "       5, 7, 9, 5, 4, 8, 8, 4, 0, 0, 8, 0, 1, 2, 3, 4, 5, 6, 7, 8, 9, 0,\n",
       "       1, 2, 3, 4, 5, 6, 7, 8, 9, 0, 1, 2, 3, 4, 5, 6, 7, 8, 9, 0, 9, 5,\n",
       "       5, 6, 5, 0, 9, 8, 9, 8, 4, 1, 7, 7, 3, 5, 1, 0, 0, 2, 2, 7, 8, 2,\n",
       "       0, 9, 2, 6, 3, 3, 7, 3, 3, 4, 6, 6, 6, 4, 9, 9, 5, 0, 9, 5, 2, 2,\n",
       "       2, 0, 0, 9, 7, 6, 3, 2, 3, 7, 4, 6, 3, 1, 3, 9, 1, 7, 6, 8, 4, 3,\n",
       "       9, 4, 0, 5, 3, 6, 9, 6, 9, 7, 5, 4, 4, 7, 2, 5, 2, 2, 5, 7, 9, 5,\n",
       "       4, 8, 8, 4, 9, 0, 8, 9, 8, 0, 1, 2, 3, 4, 5, 1, 9, 1, 9, 0, 1, 2,\n",
       "       3, 4, 5, 6, 9, 0, 1, 2, 3, 4, 5, 6, 7, 5, 9, 4, 9, 1, 5, 6, 5, 0,\n",
       "       9, 8, 5, 8, 4, 1, 7, 7, 3, 5, 1, 6, 0, 2, 2, 7, 8, 2, 6, 1, 2, 6,\n",
       "       8, 7, 7, 7, 8, 4, 6, 6, 6, 9, 9, 1, 5, 6, 9, 5, 2, 8, 0, 1, 7, 6,\n",
       "       3, 2, 1, 7, 9, 6, 3, 1, 3, 9, 1, 9, 6, 8, 4, 3, 1, 4, 0, 5, 3, 6,\n",
       "       3, 6, 1, 7, 5, 4, 4, 7, 2, 2, 5, 7, 3, 5, 9, 4, 5, 0, 8, 9, 8, 0,\n",
       "       1, 2, 3, 4, 5, 6, 7, 8, 9, 0, 1, 2, 8, 4, 5, 6, 7, 8, 9, 0, 1, 2,\n",
       "       5, 4, 5, 6, 7, 8, 9, 0, 9, 5, 5, 6, 5, 0, 9, 8, 9, 8, 4, 1, 7, 7,\n",
       "       8, 5, 1, 0, 0, 2, 2, 7, 8, 2, 0, 1, 2, 6, 8, 8, 7, 5, 8, 4, 6, 6,\n",
       "       6, 4, 9, 1, 5, 0, 9, 5, 2, 8, 2, 0, 0, 1, 7, 6, 3, 2, 1, 4, 4, 6,\n",
       "       3, 1, 3, 9, 1, 7, 6, 8, 4, 5, 1, 4, 0, 5, 3, 6, 9, 6, 1, 7, 5, 4,\n",
       "       4, 7, 2, 8, 2, 2, 5, 7, 9, 5, 4, 8, 8, 4, 9, 0, 8, 9, 8])"
      ]
     },
     "execution_count": 9,
     "metadata": {},
     "output_type": "execute_result"
    }
   ],
   "source": [
    "logreg.predict(X_test)"
   ]
  },
  {
   "cell_type": "code",
   "execution_count": null,
   "metadata": {
    "colab": {
     "base_uri": "https://localhost:8080/"
    },
    "executionInfo": {
     "elapsed": 13,
     "status": "ok",
     "timestamp": 1648256406575,
     "user": {
      "displayName": "Likun Cao",
      "photoUrl": "https://lh3.googleusercontent.com/a/default-user=s64",
      "userId": "01917344510473464948"
     },
     "user_tz": 300
    },
    "id": "hF6tMQ0M843V",
    "outputId": "c7cc942d-cd62-436c-ea28-ed5f3864b626"
   },
   "outputs": [
    {
     "data": {
      "text/plain": [
       "0.9299221357063404"
      ]
     },
     "execution_count": 10,
     "metadata": {},
     "output_type": "execute_result"
    }
   ],
   "source": [
    "sklearn.metrics.accuracy_score(y_test, logreg.predict(X_test))"
   ]
  },
  {
   "cell_type": "markdown",
   "metadata": {
    "id": "lfdIxaLl843V"
   },
   "source": [
    "Not terrible, but not exactly a good accuracy score. Let's now turn to neural networks with the hope that added depth can do a better job at approximating the complext function behind the data generation process. We will be using the same dataset.\n",
    "\n",
    "## Single layer net in Keras\n",
    "\n",
    "We will start with Keras for building a neural network. [Keras](https://keras.io/) is a very popular choice for building neural networks which have a high level of abstraction. Keras is also tightly integrated with another popular deep learning package, Tensorflow, which is the core of its computational process. One of the big advantages of Keras is how easy it is to start building a model."
   ]
  },
  {
   "cell_type": "code",
   "execution_count": null,
   "metadata": {
    "id": "XZGvM6oS843W"
   },
   "outputs": [],
   "source": [
    "## Keras\n",
    "import keras\n",
    "import tensorflow as tf\n",
    "import numpy as np"
   ]
  },
  {
   "cell_type": "code",
   "execution_count": null,
   "metadata": {
    "id": "Ath_Xbk4iuW3"
   },
   "outputs": [],
   "source": [
    "from keras.layers import Dense"
   ]
  },
  {
   "cell_type": "code",
   "execution_count": null,
   "metadata": {
    "id": "IhdgRrWCiuW3"
   },
   "outputs": [],
   "source": [
    "from keras.models import Sequential"
   ]
  },
  {
   "cell_type": "markdown",
   "metadata": {
    "id": "MV65ntQn843W"
   },
   "source": [
    "Keras makes creating deep learning models really easy. Here is one with only one hidden layer with 20 units, taking an input with 20 features. It uses relu activation for the first layer, which is often used for hidden layers. "
   ]
  },
  {
   "cell_type": "code",
   "execution_count": null,
   "metadata": {
    "id": "xi1-9Gdj843W"
   },
   "outputs": [],
   "source": [
    "model = Sequential()"
   ]
  },
  {
   "cell_type": "code",
   "execution_count": null,
   "metadata": {
    "id": "Lhz65J3YiuW4"
   },
   "outputs": [],
   "source": [
    "model.add(Dense(200, input_dim=64, activation='relu'))"
   ]
  },
  {
   "cell_type": "markdown",
   "metadata": {
    "id": "zHFhBOBciuW4"
   },
   "source": [
    "We then use a sigmoid activation for the last layer to make its prediction, because it is a classification problem.\n",
    "\n",
    "For more activation functions: https://keras.io/api/layers/activations/"
   ]
  },
  {
   "cell_type": "code",
   "execution_count": null,
   "metadata": {
    "id": "nA7SU5WxiuW5"
   },
   "outputs": [],
   "source": [
    "model.add(Dense(10, activation='softmax'))"
   ]
  },
  {
   "cell_type": "markdown",
   "metadata": {
    "id": "48tmjktGiuW5"
   },
   "source": [
    "The loss is binary cross entropy which is commonly used for prediction problems, and the ADAM optimiser. \n",
    "\n",
    "For more losses:https://keras.io/api/losses/\n",
    "\n",
    "For more optimisers: https://keras.io/api/optimizers/"
   ]
  },
  {
   "cell_type": "code",
   "execution_count": null,
   "metadata": {
    "id": "IMv6E1gF843W"
   },
   "outputs": [],
   "source": [
    "model.compile(loss=keras.losses.SparseCategoricalCrossentropy(from_logits=True), metrics=keras.metrics.SparseCategoricalAccuracy(), optimizer=\"adam\")"
   ]
  },
  {
   "cell_type": "markdown",
   "metadata": {
    "id": "lQE3LC1PiuW6"
   },
   "source": [
    "The compile function configures the model for training, and we fit the model in the next line. The history variable stores information about the training process. "
   ]
  },
  {
   "cell_type": "code",
   "execution_count": null,
   "metadata": {
    "colab": {
     "base_uri": "https://localhost:8080/"
    },
    "executionInfo": {
     "elapsed": 31,
     "status": "ok",
     "timestamp": 1648256411943,
     "user": {
      "displayName": "Likun Cao",
      "photoUrl": "https://lh3.googleusercontent.com/a/default-user=s64",
      "userId": "01917344510473464948"
     },
     "user_tz": 300
    },
    "id": "65Amy0LGKGUL",
    "outputId": "592d7e66-d743-42b0-907f-9a6060542abb"
   },
   "outputs": [
    {
     "data": {
      "text/plain": [
       "64"
      ]
     },
     "execution_count": 18,
     "metadata": {},
     "output_type": "execute_result"
    }
   ],
   "source": [
    "len(X_train[0])"
   ]
  },
  {
   "cell_type": "code",
   "execution_count": null,
   "metadata": {
    "colab": {
     "base_uri": "https://localhost:8080/"
    },
    "executionInfo": {
     "elapsed": 41881,
     "status": "ok",
     "timestamp": 1648256453797,
     "user": {
      "displayName": "Likun Cao",
      "photoUrl": "https://lh3.googleusercontent.com/a/default-user=s64",
      "userId": "01917344510473464948"
     },
     "user_tz": 300
    },
    "id": "AWZ4uFxA843X",
    "outputId": "71c18780-b0d1-430f-9661-cfd5fbd43643",
    "scrolled": false
   },
   "outputs": [
    {
     "name": "stdout",
     "output_type": "stream",
     "text": [
      "Epoch 1/200\n"
     ]
    },
    {
     "name": "stderr",
     "output_type": "stream",
     "text": [
      "/usr/local/lib/python3.7/dist-packages/tensorflow/python/util/dispatch.py:1082: UserWarning: \"`sparse_categorical_crossentropy` received `from_logits=True`, but the `output` argument was produced by a sigmoid or softmax activation and thus does not represent logits. Was this intended?\"\n",
      "  return dispatch_target(*args, **kwargs)\n"
     ]
    },
    {
     "name": "stdout",
     "output_type": "stream",
     "text": [
      "29/29 [==============================] - 2s 6ms/step - loss: 2.8672 - sparse_categorical_accuracy: 0.4276\n",
      "Epoch 2/200\n",
      "29/29 [==============================] - 0s 6ms/step - loss: 0.4412 - sparse_categorical_accuracy: 0.8664\n",
      "Epoch 3/200\n",
      "29/29 [==============================] - 0s 5ms/step - loss: 0.1852 - sparse_categorical_accuracy: 0.9421\n",
      "Epoch 4/200\n",
      "29/29 [==============================] - 0s 7ms/step - loss: 0.1354 - sparse_categorical_accuracy: 0.9621\n",
      "Epoch 5/200\n",
      "29/29 [==============================] - 0s 5ms/step - loss: 0.0907 - sparse_categorical_accuracy: 0.9755\n",
      "Epoch 6/200\n",
      "29/29 [==============================] - 0s 5ms/step - loss: 0.0813 - sparse_categorical_accuracy: 0.9822\n",
      "Epoch 7/200\n",
      "29/29 [==============================] - 0s 5ms/step - loss: 0.1020 - sparse_categorical_accuracy: 0.9655\n",
      "Epoch 8/200\n",
      "29/29 [==============================] - 0s 7ms/step - loss: 0.0476 - sparse_categorical_accuracy: 0.9900\n",
      "Epoch 9/200\n",
      "29/29 [==============================] - 0s 5ms/step - loss: 0.0339 - sparse_categorical_accuracy: 0.9967\n",
      "Epoch 10/200\n",
      "29/29 [==============================] - 0s 5ms/step - loss: 0.0313 - sparse_categorical_accuracy: 0.9933\n",
      "Epoch 11/200\n",
      "29/29 [==============================] - 0s 5ms/step - loss: 0.0208 - sparse_categorical_accuracy: 0.9989\n",
      "Epoch 12/200\n",
      "29/29 [==============================] - 0s 5ms/step - loss: 0.0210 - sparse_categorical_accuracy: 0.9978\n",
      "Epoch 13/200\n",
      "29/29 [==============================] - 0s 5ms/step - loss: 0.0178 - sparse_categorical_accuracy: 0.9978\n",
      "Epoch 14/200\n",
      "29/29 [==============================] - 0s 5ms/step - loss: 0.0153 - sparse_categorical_accuracy: 1.0000\n",
      "Epoch 15/200\n",
      "29/29 [==============================] - 0s 6ms/step - loss: 0.0135 - sparse_categorical_accuracy: 1.0000\n",
      "Epoch 16/200\n",
      "29/29 [==============================] - 0s 6ms/step - loss: 0.0121 - sparse_categorical_accuracy: 0.9989\n",
      "Epoch 17/200\n",
      "29/29 [==============================] - 0s 5ms/step - loss: 0.0096 - sparse_categorical_accuracy: 1.0000\n",
      "Epoch 18/200\n",
      "29/29 [==============================] - 0s 6ms/step - loss: 0.0088 - sparse_categorical_accuracy: 1.0000\n",
      "Epoch 19/200\n",
      "29/29 [==============================] - 0s 5ms/step - loss: 0.0082 - sparse_categorical_accuracy: 1.0000\n",
      "Epoch 20/200\n",
      "29/29 [==============================] - 0s 6ms/step - loss: 0.0074 - sparse_categorical_accuracy: 1.0000\n",
      "Epoch 21/200\n",
      "29/29 [==============================] - 0s 6ms/step - loss: 0.0070 - sparse_categorical_accuracy: 1.0000\n",
      "Epoch 22/200\n",
      "29/29 [==============================] - 0s 5ms/step - loss: 0.0068 - sparse_categorical_accuracy: 1.0000\n",
      "Epoch 23/200\n",
      "29/29 [==============================] - 0s 5ms/step - loss: 0.0061 - sparse_categorical_accuracy: 1.0000\n",
      "Epoch 24/200\n",
      "29/29 [==============================] - 0s 5ms/step - loss: 0.0057 - sparse_categorical_accuracy: 1.0000\n",
      "Epoch 25/200\n",
      "29/29 [==============================] - 0s 6ms/step - loss: 0.0052 - sparse_categorical_accuracy: 1.0000\n",
      "Epoch 26/200\n",
      "29/29 [==============================] - 0s 6ms/step - loss: 0.0046 - sparse_categorical_accuracy: 1.0000\n",
      "Epoch 27/200\n",
      "29/29 [==============================] - 0s 7ms/step - loss: 0.0044 - sparse_categorical_accuracy: 1.0000\n",
      "Epoch 28/200\n",
      "29/29 [==============================] - 0s 5ms/step - loss: 0.0041 - sparse_categorical_accuracy: 1.0000\n",
      "Epoch 29/200\n",
      "29/29 [==============================] - 0s 6ms/step - loss: 0.0044 - sparse_categorical_accuracy: 1.0000\n",
      "Epoch 30/200\n",
      "29/29 [==============================] - 0s 7ms/step - loss: 0.0037 - sparse_categorical_accuracy: 1.0000\n",
      "Epoch 31/200\n",
      "29/29 [==============================] - 0s 7ms/step - loss: 0.0036 - sparse_categorical_accuracy: 1.0000\n",
      "Epoch 32/200\n",
      "29/29 [==============================] - 0s 7ms/step - loss: 0.0033 - sparse_categorical_accuracy: 1.0000\n",
      "Epoch 33/200\n",
      "29/29 [==============================] - 0s 6ms/step - loss: 0.0031 - sparse_categorical_accuracy: 1.0000\n",
      "Epoch 34/200\n",
      "29/29 [==============================] - 0s 7ms/step - loss: 0.0027 - sparse_categorical_accuracy: 1.0000\n",
      "Epoch 35/200\n",
      "29/29 [==============================] - 0s 6ms/step - loss: 0.0027 - sparse_categorical_accuracy: 1.0000\n",
      "Epoch 36/200\n",
      "29/29 [==============================] - 0s 8ms/step - loss: 0.0024 - sparse_categorical_accuracy: 1.0000\n",
      "Epoch 37/200\n",
      "29/29 [==============================] - 0s 7ms/step - loss: 0.0024 - sparse_categorical_accuracy: 1.0000\n",
      "Epoch 38/200\n",
      "29/29 [==============================] - 0s 6ms/step - loss: 0.0022 - sparse_categorical_accuracy: 1.0000\n",
      "Epoch 39/200\n",
      "29/29 [==============================] - 0s 5ms/step - loss: 0.0022 - sparse_categorical_accuracy: 1.0000\n",
      "Epoch 40/200\n",
      "29/29 [==============================] - 0s 6ms/step - loss: 0.0020 - sparse_categorical_accuracy: 1.0000\n",
      "Epoch 41/200\n",
      "29/29 [==============================] - 0s 6ms/step - loss: 0.0019 - sparse_categorical_accuracy: 1.0000\n",
      "Epoch 42/200\n",
      "29/29 [==============================] - 0s 6ms/step - loss: 0.0018 - sparse_categorical_accuracy: 1.0000\n",
      "Epoch 43/200\n",
      "29/29 [==============================] - 0s 5ms/step - loss: 0.0017 - sparse_categorical_accuracy: 1.0000\n",
      "Epoch 44/200\n",
      "29/29 [==============================] - 0s 6ms/step - loss: 0.0016 - sparse_categorical_accuracy: 1.0000\n",
      "Epoch 45/200\n",
      "29/29 [==============================] - 0s 8ms/step - loss: 0.0015 - sparse_categorical_accuracy: 1.0000\n",
      "Epoch 46/200\n",
      "29/29 [==============================] - 0s 7ms/step - loss: 0.0016 - sparse_categorical_accuracy: 1.0000\n",
      "Epoch 47/200\n",
      "29/29 [==============================] - 0s 6ms/step - loss: 0.0014 - sparse_categorical_accuracy: 1.0000\n",
      "Epoch 48/200\n",
      "29/29 [==============================] - 0s 6ms/step - loss: 0.0014 - sparse_categorical_accuracy: 1.0000\n",
      "Epoch 49/200\n",
      "29/29 [==============================] - 0s 7ms/step - loss: 0.0013 - sparse_categorical_accuracy: 1.0000\n",
      "Epoch 50/200\n",
      "29/29 [==============================] - 0s 6ms/step - loss: 0.0012 - sparse_categorical_accuracy: 1.0000\n",
      "Epoch 51/200\n",
      "29/29 [==============================] - 0s 5ms/step - loss: 0.0012 - sparse_categorical_accuracy: 1.0000\n",
      "Epoch 52/200\n",
      "29/29 [==============================] - 0s 6ms/step - loss: 0.0011 - sparse_categorical_accuracy: 1.0000\n",
      "Epoch 53/200\n",
      "29/29 [==============================] - 0s 7ms/step - loss: 0.0011 - sparse_categorical_accuracy: 1.0000\n",
      "Epoch 54/200\n",
      "29/29 [==============================] - 0s 6ms/step - loss: 0.0011 - sparse_categorical_accuracy: 1.0000\n",
      "Epoch 55/200\n",
      "29/29 [==============================] - 0s 6ms/step - loss: 0.0010 - sparse_categorical_accuracy: 1.0000\n",
      "Epoch 56/200\n",
      "29/29 [==============================] - 0s 6ms/step - loss: 9.7942e-04 - sparse_categorical_accuracy: 1.0000\n",
      "Epoch 57/200\n",
      "29/29 [==============================] - 0s 7ms/step - loss: 9.5190e-04 - sparse_categorical_accuracy: 1.0000\n",
      "Epoch 58/200\n",
      "29/29 [==============================] - 0s 6ms/step - loss: 9.1839e-04 - sparse_categorical_accuracy: 1.0000\n",
      "Epoch 59/200\n",
      "29/29 [==============================] - 0s 6ms/step - loss: 9.0078e-04 - sparse_categorical_accuracy: 1.0000\n",
      "Epoch 60/200\n",
      "29/29 [==============================] - 0s 6ms/step - loss: 8.4356e-04 - sparse_categorical_accuracy: 1.0000\n",
      "Epoch 61/200\n",
      "29/29 [==============================] - 0s 7ms/step - loss: 9.1351e-04 - sparse_categorical_accuracy: 1.0000\n",
      "Epoch 62/200\n",
      "29/29 [==============================] - 0s 7ms/step - loss: 7.9839e-04 - sparse_categorical_accuracy: 1.0000\n",
      "Epoch 63/200\n",
      "29/29 [==============================] - 0s 6ms/step - loss: 7.7597e-04 - sparse_categorical_accuracy: 1.0000\n",
      "Epoch 64/200\n",
      "29/29 [==============================] - 0s 5ms/step - loss: 7.4639e-04 - sparse_categorical_accuracy: 1.0000\n",
      "Epoch 65/200\n",
      "29/29 [==============================] - 0s 7ms/step - loss: 7.3033e-04 - sparse_categorical_accuracy: 1.0000\n",
      "Epoch 66/200\n",
      "29/29 [==============================] - 0s 8ms/step - loss: 6.9971e-04 - sparse_categorical_accuracy: 1.0000\n",
      "Epoch 67/200\n",
      "29/29 [==============================] - 0s 7ms/step - loss: 6.6936e-04 - sparse_categorical_accuracy: 1.0000\n",
      "Epoch 68/200\n",
      "29/29 [==============================] - 0s 5ms/step - loss: 6.5375e-04 - sparse_categorical_accuracy: 1.0000\n",
      "Epoch 69/200\n",
      "29/29 [==============================] - 0s 6ms/step - loss: 6.4405e-04 - sparse_categorical_accuracy: 1.0000\n",
      "Epoch 70/200\n",
      "29/29 [==============================] - 0s 7ms/step - loss: 6.0475e-04 - sparse_categorical_accuracy: 1.0000\n",
      "Epoch 71/200\n",
      "29/29 [==============================] - 0s 7ms/step - loss: 5.8618e-04 - sparse_categorical_accuracy: 1.0000\n",
      "Epoch 72/200\n",
      "29/29 [==============================] - 0s 7ms/step - loss: 5.7148e-04 - sparse_categorical_accuracy: 1.0000\n",
      "Epoch 73/200\n",
      "29/29 [==============================] - 0s 8ms/step - loss: 5.5749e-04 - sparse_categorical_accuracy: 1.0000\n",
      "Epoch 74/200\n",
      "29/29 [==============================] - 0s 6ms/step - loss: 5.4819e-04 - sparse_categorical_accuracy: 1.0000\n",
      "Epoch 75/200\n",
      "29/29 [==============================] - 0s 6ms/step - loss: 5.2740e-04 - sparse_categorical_accuracy: 1.0000\n",
      "Epoch 76/200\n",
      "29/29 [==============================] - 0s 7ms/step - loss: 6.8961e-04 - sparse_categorical_accuracy: 1.0000\n",
      "Epoch 77/200\n",
      "29/29 [==============================] - 0s 6ms/step - loss: 5.1518e-04 - sparse_categorical_accuracy: 1.0000\n",
      "Epoch 78/200\n",
      "29/29 [==============================] - 0s 5ms/step - loss: 4.9425e-04 - sparse_categorical_accuracy: 1.0000\n",
      "Epoch 79/200\n",
      "29/29 [==============================] - 0s 5ms/step - loss: 4.7170e-04 - sparse_categorical_accuracy: 1.0000\n",
      "Epoch 80/200\n",
      "29/29 [==============================] - 0s 5ms/step - loss: 4.5058e-04 - sparse_categorical_accuracy: 1.0000\n",
      "Epoch 81/200\n",
      "29/29 [==============================] - 0s 7ms/step - loss: 4.2747e-04 - sparse_categorical_accuracy: 1.0000\n",
      "Epoch 82/200\n",
      "29/29 [==============================] - 0s 6ms/step - loss: 4.1898e-04 - sparse_categorical_accuracy: 1.0000\n",
      "Epoch 83/200\n",
      "29/29 [==============================] - 0s 5ms/step - loss: 4.0466e-04 - sparse_categorical_accuracy: 1.0000\n",
      "Epoch 84/200\n",
      "29/29 [==============================] - 0s 5ms/step - loss: 4.0279e-04 - sparse_categorical_accuracy: 1.0000\n",
      "Epoch 85/200\n",
      "29/29 [==============================] - 0s 6ms/step - loss: 3.8933e-04 - sparse_categorical_accuracy: 1.0000\n",
      "Epoch 86/200\n",
      "29/29 [==============================] - 0s 7ms/step - loss: 3.7816e-04 - sparse_categorical_accuracy: 1.0000\n",
      "Epoch 87/200\n",
      "29/29 [==============================] - 0s 7ms/step - loss: 4.1702e-04 - sparse_categorical_accuracy: 1.0000\n",
      "Epoch 88/200\n",
      "29/29 [==============================] - 0s 6ms/step - loss: 3.7467e-04 - sparse_categorical_accuracy: 1.0000\n",
      "Epoch 89/200\n",
      "29/29 [==============================] - 0s 6ms/step - loss: 3.5463e-04 - sparse_categorical_accuracy: 1.0000\n",
      "Epoch 90/200\n",
      "29/29 [==============================] - 0s 6ms/step - loss: 3.3942e-04 - sparse_categorical_accuracy: 1.0000\n",
      "Epoch 91/200\n",
      "29/29 [==============================] - 0s 6ms/step - loss: 3.2692e-04 - sparse_categorical_accuracy: 1.0000\n",
      "Epoch 92/200\n",
      "29/29 [==============================] - 0s 5ms/step - loss: 3.2005e-04 - sparse_categorical_accuracy: 1.0000\n",
      "Epoch 93/200\n",
      "29/29 [==============================] - 0s 6ms/step - loss: 3.1298e-04 - sparse_categorical_accuracy: 1.0000\n",
      "Epoch 94/200\n",
      "29/29 [==============================] - 0s 8ms/step - loss: 3.1948e-04 - sparse_categorical_accuracy: 1.0000\n",
      "Epoch 95/200\n",
      "29/29 [==============================] - 0s 6ms/step - loss: 3.0694e-04 - sparse_categorical_accuracy: 1.0000\n",
      "Epoch 96/200\n",
      "29/29 [==============================] - 0s 6ms/step - loss: 2.9085e-04 - sparse_categorical_accuracy: 1.0000\n",
      "Epoch 97/200\n",
      "29/29 [==============================] - 0s 5ms/step - loss: 2.8281e-04 - sparse_categorical_accuracy: 1.0000\n",
      "Epoch 98/200\n",
      "29/29 [==============================] - 0s 5ms/step - loss: 2.7464e-04 - sparse_categorical_accuracy: 1.0000\n",
      "Epoch 99/200\n",
      "29/29 [==============================] - 0s 7ms/step - loss: 2.7300e-04 - sparse_categorical_accuracy: 1.0000\n",
      "Epoch 100/200\n",
      "29/29 [==============================] - 0s 5ms/step - loss: 2.6596e-04 - sparse_categorical_accuracy: 1.0000\n",
      "Epoch 101/200\n",
      "29/29 [==============================] - 0s 5ms/step - loss: 2.5584e-04 - sparse_categorical_accuracy: 1.0000\n",
      "Epoch 102/200\n",
      "29/29 [==============================] - 0s 7ms/step - loss: 2.4824e-04 - sparse_categorical_accuracy: 1.0000\n",
      "Epoch 103/200\n",
      "29/29 [==============================] - 0s 6ms/step - loss: 2.4321e-04 - sparse_categorical_accuracy: 1.0000\n",
      "Epoch 104/200\n",
      "29/29 [==============================] - 0s 7ms/step - loss: 2.3958e-04 - sparse_categorical_accuracy: 1.0000\n",
      "Epoch 105/200\n",
      "29/29 [==============================] - 0s 6ms/step - loss: 2.3436e-04 - sparse_categorical_accuracy: 1.0000\n",
      "Epoch 106/200\n",
      "29/29 [==============================] - 0s 5ms/step - loss: 2.3312e-04 - sparse_categorical_accuracy: 1.0000\n",
      "Epoch 107/200\n",
      "29/29 [==============================] - 0s 5ms/step - loss: 2.2337e-04 - sparse_categorical_accuracy: 1.0000\n",
      "Epoch 108/200\n",
      "29/29 [==============================] - 0s 6ms/step - loss: 2.1779e-04 - sparse_categorical_accuracy: 1.0000\n",
      "Epoch 109/200\n",
      "29/29 [==============================] - 0s 5ms/step - loss: 2.1377e-04 - sparse_categorical_accuracy: 1.0000\n",
      "Epoch 110/200\n",
      "29/29 [==============================] - 0s 7ms/step - loss: 2.0472e-04 - sparse_categorical_accuracy: 1.0000\n",
      "Epoch 111/200\n",
      "29/29 [==============================] - 0s 5ms/step - loss: 2.0037e-04 - sparse_categorical_accuracy: 1.0000\n",
      "Epoch 112/200\n",
      "29/29 [==============================] - 0s 5ms/step - loss: 1.9557e-04 - sparse_categorical_accuracy: 1.0000\n",
      "Epoch 113/200\n",
      "29/29 [==============================] - 0s 5ms/step - loss: 1.9094e-04 - sparse_categorical_accuracy: 1.0000\n",
      "Epoch 114/200\n",
      "29/29 [==============================] - 0s 5ms/step - loss: 1.8825e-04 - sparse_categorical_accuracy: 1.0000\n",
      "Epoch 115/200\n",
      "29/29 [==============================] - 0s 5ms/step - loss: 1.9276e-04 - sparse_categorical_accuracy: 1.0000\n",
      "Epoch 116/200\n",
      "29/29 [==============================] - 0s 5ms/step - loss: 1.8095e-04 - sparse_categorical_accuracy: 1.0000\n",
      "Epoch 117/200\n",
      "29/29 [==============================] - 0s 5ms/step - loss: 1.7697e-04 - sparse_categorical_accuracy: 1.0000\n",
      "Epoch 118/200\n",
      "29/29 [==============================] - 0s 5ms/step - loss: 1.7391e-04 - sparse_categorical_accuracy: 1.0000\n",
      "Epoch 119/200\n",
      "29/29 [==============================] - 0s 5ms/step - loss: 1.7082e-04 - sparse_categorical_accuracy: 1.0000\n",
      "Epoch 120/200\n",
      "29/29 [==============================] - 0s 5ms/step - loss: 1.6557e-04 - sparse_categorical_accuracy: 1.0000\n",
      "Epoch 121/200\n",
      "29/29 [==============================] - 0s 5ms/step - loss: 1.6991e-04 - sparse_categorical_accuracy: 1.0000\n",
      "Epoch 122/200\n",
      "29/29 [==============================] - 0s 6ms/step - loss: 1.6095e-04 - sparse_categorical_accuracy: 1.0000\n",
      "Epoch 123/200\n",
      "29/29 [==============================] - 0s 6ms/step - loss: 1.5816e-04 - sparse_categorical_accuracy: 1.0000\n",
      "Epoch 124/200\n",
      "29/29 [==============================] - 0s 7ms/step - loss: 1.5330e-04 - sparse_categorical_accuracy: 1.0000\n",
      "Epoch 125/200\n",
      "29/29 [==============================] - 0s 5ms/step - loss: 1.5156e-04 - sparse_categorical_accuracy: 1.0000\n",
      "Epoch 126/200\n",
      "29/29 [==============================] - 0s 9ms/step - loss: 1.4576e-04 - sparse_categorical_accuracy: 1.0000\n",
      "Epoch 127/200\n",
      "29/29 [==============================] - 0s 9ms/step - loss: 1.4253e-04 - sparse_categorical_accuracy: 1.0000\n",
      "Epoch 128/200\n",
      "29/29 [==============================] - 0s 8ms/step - loss: 1.3954e-04 - sparse_categorical_accuracy: 1.0000\n",
      "Epoch 129/200\n",
      "29/29 [==============================] - 0s 5ms/step - loss: 1.3786e-04 - sparse_categorical_accuracy: 1.0000\n",
      "Epoch 130/200\n",
      "29/29 [==============================] - 0s 7ms/step - loss: 1.3519e-04 - sparse_categorical_accuracy: 1.0000\n",
      "Epoch 131/200\n",
      "29/29 [==============================] - 0s 6ms/step - loss: 1.3189e-04 - sparse_categorical_accuracy: 1.0000\n",
      "Epoch 132/200\n",
      "29/29 [==============================] - 0s 6ms/step - loss: 1.2918e-04 - sparse_categorical_accuracy: 1.0000\n",
      "Epoch 133/200\n",
      "29/29 [==============================] - 0s 5ms/step - loss: 1.2780e-04 - sparse_categorical_accuracy: 1.0000\n",
      "Epoch 134/200\n",
      "29/29 [==============================] - 0s 5ms/step - loss: 1.2309e-04 - sparse_categorical_accuracy: 1.0000\n",
      "Epoch 135/200\n",
      "29/29 [==============================] - 0s 5ms/step - loss: 1.2050e-04 - sparse_categorical_accuracy: 1.0000\n",
      "Epoch 136/200\n",
      "29/29 [==============================] - 0s 6ms/step - loss: 1.2315e-04 - sparse_categorical_accuracy: 1.0000\n",
      "Epoch 137/200\n",
      "29/29 [==============================] - 0s 7ms/step - loss: 1.1670e-04 - sparse_categorical_accuracy: 1.0000\n",
      "Epoch 138/200\n",
      "29/29 [==============================] - 0s 7ms/step - loss: 1.1523e-04 - sparse_categorical_accuracy: 1.0000\n",
      "Epoch 139/200\n",
      "29/29 [==============================] - 0s 5ms/step - loss: 1.1133e-04 - sparse_categorical_accuracy: 1.0000\n",
      "Epoch 140/200\n",
      "29/29 [==============================] - 0s 7ms/step - loss: 1.0966e-04 - sparse_categorical_accuracy: 1.0000\n",
      "Epoch 141/200\n",
      "29/29 [==============================] - 0s 6ms/step - loss: 1.1045e-04 - sparse_categorical_accuracy: 1.0000\n",
      "Epoch 142/200\n",
      "29/29 [==============================] - 0s 5ms/step - loss: 1.0645e-04 - sparse_categorical_accuracy: 1.0000\n",
      "Epoch 143/200\n",
      "29/29 [==============================] - 0s 7ms/step - loss: 1.0377e-04 - sparse_categorical_accuracy: 1.0000\n",
      "Epoch 144/200\n",
      "29/29 [==============================] - 0s 5ms/step - loss: 1.0184e-04 - sparse_categorical_accuracy: 1.0000\n",
      "Epoch 145/200\n",
      "29/29 [==============================] - 0s 6ms/step - loss: 1.0030e-04 - sparse_categorical_accuracy: 1.0000\n",
      "Epoch 146/200\n",
      "29/29 [==============================] - 0s 5ms/step - loss: 9.8206e-05 - sparse_categorical_accuracy: 1.0000\n",
      "Epoch 147/200\n",
      "29/29 [==============================] - 0s 6ms/step - loss: 9.6399e-05 - sparse_categorical_accuracy: 1.0000\n",
      "Epoch 148/200\n",
      "29/29 [==============================] - 0s 6ms/step - loss: 9.4116e-05 - sparse_categorical_accuracy: 1.0000\n",
      "Epoch 149/200\n",
      "29/29 [==============================] - 0s 6ms/step - loss: 9.2037e-05 - sparse_categorical_accuracy: 1.0000\n",
      "Epoch 150/200\n",
      "29/29 [==============================] - 0s 5ms/step - loss: 9.1257e-05 - sparse_categorical_accuracy: 1.0000\n",
      "Epoch 151/200\n",
      "29/29 [==============================] - 0s 5ms/step - loss: 8.9713e-05 - sparse_categorical_accuracy: 1.0000\n",
      "Epoch 152/200\n",
      "29/29 [==============================] - 0s 5ms/step - loss: 8.7574e-05 - sparse_categorical_accuracy: 1.0000\n",
      "Epoch 153/200\n",
      "29/29 [==============================] - 0s 6ms/step - loss: 8.5395e-05 - sparse_categorical_accuracy: 1.0000\n",
      "Epoch 154/200\n",
      "29/29 [==============================] - 0s 7ms/step - loss: 8.3927e-05 - sparse_categorical_accuracy: 1.0000\n",
      "Epoch 155/200\n",
      "29/29 [==============================] - 0s 5ms/step - loss: 8.2816e-05 - sparse_categorical_accuracy: 1.0000\n",
      "Epoch 156/200\n",
      "29/29 [==============================] - 0s 5ms/step - loss: 8.1428e-05 - sparse_categorical_accuracy: 1.0000\n",
      "Epoch 157/200\n",
      "29/29 [==============================] - 0s 5ms/step - loss: 8.0183e-05 - sparse_categorical_accuracy: 1.0000\n",
      "Epoch 158/200\n",
      "29/29 [==============================] - 0s 5ms/step - loss: 7.8214e-05 - sparse_categorical_accuracy: 1.0000\n",
      "Epoch 159/200\n",
      "29/29 [==============================] - 0s 7ms/step - loss: 7.6901e-05 - sparse_categorical_accuracy: 1.0000\n",
      "Epoch 160/200\n",
      "29/29 [==============================] - 0s 8ms/step - loss: 7.5789e-05 - sparse_categorical_accuracy: 1.0000\n",
      "Epoch 161/200\n",
      "29/29 [==============================] - 0s 7ms/step - loss: 7.6926e-05 - sparse_categorical_accuracy: 1.0000\n",
      "Epoch 162/200\n",
      "29/29 [==============================] - 0s 7ms/step - loss: 7.5165e-05 - sparse_categorical_accuracy: 1.0000\n",
      "Epoch 163/200\n",
      "29/29 [==============================] - 0s 6ms/step - loss: 7.2394e-05 - sparse_categorical_accuracy: 1.0000\n",
      "Epoch 164/200\n",
      "29/29 [==============================] - 0s 6ms/step - loss: 7.0222e-05 - sparse_categorical_accuracy: 1.0000\n",
      "Epoch 165/200\n",
      "29/29 [==============================] - 0s 8ms/step - loss: 6.9358e-05 - sparse_categorical_accuracy: 1.0000\n",
      "Epoch 166/200\n",
      "29/29 [==============================] - 0s 6ms/step - loss: 6.8157e-05 - sparse_categorical_accuracy: 1.0000\n",
      "Epoch 167/200\n",
      "29/29 [==============================] - 0s 6ms/step - loss: 6.6428e-05 - sparse_categorical_accuracy: 1.0000\n",
      "Epoch 168/200\n",
      "29/29 [==============================] - 0s 5ms/step - loss: 8.8632e-05 - sparse_categorical_accuracy: 1.0000\n",
      "Epoch 169/200\n",
      "29/29 [==============================] - 0s 5ms/step - loss: 6.8831e-05 - sparse_categorical_accuracy: 1.0000\n",
      "Epoch 170/200\n",
      "29/29 [==============================] - 0s 7ms/step - loss: 6.4703e-05 - sparse_categorical_accuracy: 1.0000\n",
      "Epoch 171/200\n",
      "29/29 [==============================] - 0s 5ms/step - loss: 6.2952e-05 - sparse_categorical_accuracy: 1.0000\n",
      "Epoch 172/200\n",
      "29/29 [==============================] - 0s 5ms/step - loss: 6.0910e-05 - sparse_categorical_accuracy: 1.0000\n",
      "Epoch 173/200\n",
      "29/29 [==============================] - 0s 7ms/step - loss: 5.9419e-05 - sparse_categorical_accuracy: 1.0000\n",
      "Epoch 174/200\n",
      "29/29 [==============================] - 0s 7ms/step - loss: 5.8324e-05 - sparse_categorical_accuracy: 1.0000\n",
      "Epoch 175/200\n",
      "29/29 [==============================] - 0s 6ms/step - loss: 5.6891e-05 - sparse_categorical_accuracy: 1.0000\n",
      "Epoch 176/200\n",
      "29/29 [==============================] - 0s 8ms/step - loss: 5.8062e-05 - sparse_categorical_accuracy: 1.0000\n",
      "Epoch 177/200\n",
      "29/29 [==============================] - 0s 5ms/step - loss: 5.6203e-05 - sparse_categorical_accuracy: 1.0000\n",
      "Epoch 178/200\n",
      "29/29 [==============================] - 0s 7ms/step - loss: 5.4049e-05 - sparse_categorical_accuracy: 1.0000\n",
      "Epoch 179/200\n",
      "29/29 [==============================] - 0s 7ms/step - loss: 5.4768e-05 - sparse_categorical_accuracy: 1.0000\n",
      "Epoch 180/200\n",
      "29/29 [==============================] - 0s 9ms/step - loss: 5.1948e-05 - sparse_categorical_accuracy: 1.0000\n",
      "Epoch 181/200\n",
      "29/29 [==============================] - 0s 7ms/step - loss: 5.0480e-05 - sparse_categorical_accuracy: 1.0000\n",
      "Epoch 182/200\n",
      "29/29 [==============================] - 0s 7ms/step - loss: 4.9699e-05 - sparse_categorical_accuracy: 1.0000\n",
      "Epoch 183/200\n",
      "29/29 [==============================] - 0s 6ms/step - loss: 4.8535e-05 - sparse_categorical_accuracy: 1.0000\n",
      "Epoch 184/200\n",
      "29/29 [==============================] - 0s 4ms/step - loss: 4.8178e-05 - sparse_categorical_accuracy: 1.0000\n",
      "Epoch 185/200\n",
      "29/29 [==============================] - 0s 7ms/step - loss: 5.4062e-05 - sparse_categorical_accuracy: 1.0000\n",
      "Epoch 186/200\n",
      "29/29 [==============================] - 0s 7ms/step - loss: 4.8790e-05 - sparse_categorical_accuracy: 1.0000\n",
      "Epoch 187/200\n",
      "29/29 [==============================] - 0s 6ms/step - loss: 4.7765e-05 - sparse_categorical_accuracy: 1.0000\n",
      "Epoch 188/200\n",
      "29/29 [==============================] - 0s 5ms/step - loss: 4.5057e-05 - sparse_categorical_accuracy: 1.0000\n",
      "Epoch 189/200\n",
      "29/29 [==============================] - 0s 5ms/step - loss: 4.3336e-05 - sparse_categorical_accuracy: 1.0000\n",
      "Epoch 190/200\n",
      "29/29 [==============================] - 0s 5ms/step - loss: 4.2703e-05 - sparse_categorical_accuracy: 1.0000\n",
      "Epoch 191/200\n",
      "29/29 [==============================] - 0s 6ms/step - loss: 4.1696e-05 - sparse_categorical_accuracy: 1.0000\n",
      "Epoch 192/200\n",
      "29/29 [==============================] - 0s 6ms/step - loss: 4.1319e-05 - sparse_categorical_accuracy: 1.0000\n",
      "Epoch 193/200\n",
      "29/29 [==============================] - 0s 5ms/step - loss: 4.0255e-05 - sparse_categorical_accuracy: 1.0000\n",
      "Epoch 194/200\n",
      "29/29 [==============================] - 0s 6ms/step - loss: 3.9816e-05 - sparse_categorical_accuracy: 1.0000\n",
      "Epoch 195/200\n",
      "29/29 [==============================] - 0s 5ms/step - loss: 3.8808e-05 - sparse_categorical_accuracy: 1.0000\n",
      "Epoch 196/200\n",
      "29/29 [==============================] - 0s 5ms/step - loss: 3.8256e-05 - sparse_categorical_accuracy: 1.0000\n",
      "Epoch 197/200\n",
      "29/29 [==============================] - 0s 5ms/step - loss: 3.7786e-05 - sparse_categorical_accuracy: 1.0000\n",
      "Epoch 198/200\n",
      "29/29 [==============================] - 0s 6ms/step - loss: 3.7577e-05 - sparse_categorical_accuracy: 1.0000\n",
      "Epoch 199/200\n",
      "29/29 [==============================] - 0s 6ms/step - loss: 4.3223e-05 - sparse_categorical_accuracy: 1.0000\n",
      "Epoch 200/200\n",
      "29/29 [==============================] - 0s 5ms/step - loss: 3.8973e-05 - sparse_categorical_accuracy: 1.0000\n"
     ]
    }
   ],
   "source": [
    "history = model.fit(X_train, y_train, epochs=200)"
   ]
  },
  {
   "cell_type": "code",
   "execution_count": null,
   "metadata": {
    "id": "PMmDQ8AuzYCA"
   },
   "outputs": [],
   "source": [
    "preds = model.predict(X_test)"
   ]
  },
  {
   "cell_type": "code",
   "execution_count": null,
   "metadata": {
    "id": "7A2HF42-0O2G"
   },
   "outputs": [],
   "source": [
    "y_classes = preds.argmax(axis=-1)"
   ]
  },
  {
   "cell_type": "code",
   "execution_count": null,
   "metadata": {
    "colab": {
     "base_uri": "https://localhost:8080/"
    },
    "executionInfo": {
     "elapsed": 9,
     "status": "ok",
     "timestamp": 1648256454050,
     "user": {
      "displayName": "Likun Cao",
      "photoUrl": "https://lh3.googleusercontent.com/a/default-user=s64",
      "userId": "01917344510473464948"
     },
     "user_tz": 300
    },
    "id": "NjYxI9jY843X",
    "outputId": "c446b016-f672-434e-9059-814b050b291d"
   },
   "outputs": [
    {
     "data": {
      "text/plain": [
       "0.9421579532814238"
      ]
     },
     "execution_count": 22,
     "metadata": {},
     "output_type": "execute_result"
    }
   ],
   "source": [
    "sklearn.metrics.accuracy_score(y_test, y_classes)"
   ]
  },
  {
   "cell_type": "markdown",
   "metadata": {
    "id": "bSQMCegO843X"
   },
   "source": [
    "We see our model performs... just as well. Because we are not dealing with a massive dataset, logistic regression and a single layer neural network perform about just about the same. What should be noted here is how easily we could use Keras to build a single layer neural network.\n",
    "\n",
    "### Single Layer Net in PyTorch\n",
    "\n",
    "[PyTorch](https://pytorch.org/) is another widely used deep learning package, and one with high usage in both academia and industry. While Keras slotted in easily as an extension of the machine learning topics we saw yesterday (such as with its use of numpy, and the fit function), PyTorch runs on Tensors. Tensors are essentially a multi-dimensional matrix, and operate similarly to numpy arrays. \n",
    "\n",
    "In the following lines of code, we will quickly look at some basic tensor operations, such as generating an empty tensor, basic operations on tensors, and converting between numpy arrays and tensors. While you will not be tested on your ability to manipulate tensors, it is useful to know how to play with them. The final line of code in this section converts our previously used numpy based data to tensors."
   ]
  },
  {
   "cell_type": "code",
   "execution_count": null,
   "metadata": {
    "id": "1I4UoIYJ843X"
   },
   "outputs": [],
   "source": [
    "## Pytorch\n",
    "import torch\n",
    "import torch.nn as nn\n",
    "from torch.autograd import Variable\n",
    "import torch.optim as optim"
   ]
  },
  {
   "cell_type": "markdown",
   "metadata": {
    "id": "7eVWcRafiuW8"
   },
   "source": [
    "### Tensors and Data"
   ]
  },
  {
   "cell_type": "code",
   "execution_count": null,
   "metadata": {
    "colab": {
     "base_uri": "https://localhost:8080/"
    },
    "executionInfo": {
     "elapsed": 44,
     "status": "ok",
     "timestamp": 1648256454989,
     "user": {
      "displayName": "Likun Cao",
      "photoUrl": "https://lh3.googleusercontent.com/a/default-user=s64",
      "userId": "01917344510473464948"
     },
     "user_tz": 300
    },
    "id": "cRO8D-FsiuW8",
    "outputId": "b52960b4-2ece-44fb-a041-ed539c1c7539"
   },
   "outputs": [
    {
     "name": "stdout",
     "output_type": "stream",
     "text": [
      "tensor([[-1.0929e-14,  3.0784e-41,  3.3631e-44],\n",
      "        [ 0.0000e+00,         nan,  3.0784e-41],\n",
      "        [ 1.1578e+27,  1.1362e+30,  7.1547e+22],\n",
      "        [ 4.5828e+30,  1.2121e+04,  7.1846e+22],\n",
      "        [ 9.2198e-39,  7.0374e+22, -2.7661e-15]])\n"
     ]
    }
   ],
   "source": [
    "#pytorch tensors calculation\n",
    "x = torch.empty(5, 3)\n",
    "print(x)"
   ]
  },
  {
   "cell_type": "markdown",
   "metadata": {
    "id": "CVc7dPSI6xAM"
   },
   "source": [
    "torch.empty() allocates memory space for the array but does not initialize the values in this space--you get whatever uninitialized values are set to those cells in the memory!"
   ]
  },
  {
   "cell_type": "code",
   "execution_count": null,
   "metadata": {
    "colab": {
     "base_uri": "https://localhost:8080/"
    },
    "executionInfo": {
     "elapsed": 41,
     "status": "ok",
     "timestamp": 1648256454990,
     "user": {
      "displayName": "Likun Cao",
      "photoUrl": "https://lh3.googleusercontent.com/a/default-user=s64",
      "userId": "01917344510473464948"
     },
     "user_tz": 300
    },
    "id": "NFowPB2TiuW8",
    "outputId": "926b4799-56f1-4e49-ed13-22ce8085fae7"
   },
   "outputs": [
    {
     "name": "stdout",
     "output_type": "stream",
     "text": [
      "tensor([[0.0203, 0.7630, 0.8272],\n",
      "        [0.7666, 0.4543, 0.0954],\n",
      "        [0.8494, 0.1007, 0.1797],\n",
      "        [0.2751, 0.6581, 0.1816],\n",
      "        [0.4731, 0.8695, 0.8578]])\n"
     ]
    }
   ],
   "source": [
    "x = torch.rand(5, 3)\n",
    "print(x)"
   ]
  },
  {
   "cell_type": "markdown",
   "metadata": {
    "id": "6qdkY7Gi68JJ"
   },
   "source": [
    "torch.rand() produces random values [0,1]"
   ]
  },
  {
   "cell_type": "code",
   "execution_count": null,
   "metadata": {
    "colab": {
     "base_uri": "https://localhost:8080/"
    },
    "executionInfo": {
     "elapsed": 36,
     "status": "ok",
     "timestamp": 1648256454990,
     "user": {
      "displayName": "Likun Cao",
      "photoUrl": "https://lh3.googleusercontent.com/a/default-user=s64",
      "userId": "01917344510473464948"
     },
     "user_tz": 300
    },
    "id": "Ude_3HtPiuW9",
    "outputId": "7a893acf-b270-481a-8287-8a81f4d75ca1"
   },
   "outputs": [
    {
     "name": "stdout",
     "output_type": "stream",
     "text": [
      "tensor([[0, 0, 0],\n",
      "        [0, 0, 0],\n",
      "        [0, 0, 0],\n",
      "        [0, 0, 0],\n",
      "        [0, 0, 0]])\n"
     ]
    }
   ],
   "source": [
    "x = torch.zeros(5, 3, dtype=torch.long)\n",
    "print(x)"
   ]
  },
  {
   "cell_type": "code",
   "execution_count": null,
   "metadata": {
    "colab": {
     "base_uri": "https://localhost:8080/"
    },
    "executionInfo": {
     "elapsed": 33,
     "status": "ok",
     "timestamp": 1648256454991,
     "user": {
      "displayName": "Likun Cao",
      "photoUrl": "https://lh3.googleusercontent.com/a/default-user=s64",
      "userId": "01917344510473464948"
     },
     "user_tz": 300
    },
    "id": "EaKZjGDgiuW9",
    "outputId": "b1629e5c-9825-4323-cdb7-b42d0af9272d"
   },
   "outputs": [
    {
     "name": "stdout",
     "output_type": "stream",
     "text": [
      "tensor([[0.4664, 0.9720, 0.1978],\n",
      "        [0.1382, 0.7282, 0.5296],\n",
      "        [0.3202, 0.7720, 0.6831],\n",
      "        [0.0046, 0.4812, 0.4438],\n",
      "        [0.7370, 0.0249, 0.1169]])\n"
     ]
    }
   ],
   "source": [
    "y = torch.rand(5, 3)\n",
    "print(x + y)"
   ]
  },
  {
   "cell_type": "code",
   "execution_count": null,
   "metadata": {
    "colab": {
     "base_uri": "https://localhost:8080/"
    },
    "executionInfo": {
     "elapsed": 30,
     "status": "ok",
     "timestamp": 1648256454992,
     "user": {
      "displayName": "Likun Cao",
      "photoUrl": "https://lh3.googleusercontent.com/a/default-user=s64",
      "userId": "01917344510473464948"
     },
     "user_tz": 300
    },
    "id": "IWZvt-ImiuW9",
    "outputId": "74e4a491-d0ae-4656-a513-401a74adb9fc"
   },
   "outputs": [
    {
     "name": "stdout",
     "output_type": "stream",
     "text": [
      "tensor([[0.4664, 0.9720, 0.1978],\n",
      "        [0.1382, 0.7282, 0.5296],\n",
      "        [0.3202, 0.7720, 0.6831],\n",
      "        [0.0046, 0.4812, 0.4438],\n",
      "        [0.7370, 0.0249, 0.1169]])\n"
     ]
    }
   ],
   "source": [
    "print(torch.add(x, y))"
   ]
  },
  {
   "cell_type": "code",
   "execution_count": null,
   "metadata": {
    "colab": {
     "base_uri": "https://localhost:8080/"
    },
    "executionInfo": {
     "elapsed": 343,
     "status": "ok",
     "timestamp": 1648256455309,
     "user": {
      "displayName": "Likun Cao",
      "photoUrl": "https://lh3.googleusercontent.com/a/default-user=s64",
      "userId": "01917344510473464948"
     },
     "user_tz": 300
    },
    "id": "45_cMiobiuW9",
    "outputId": "ae095efb-fdf5-4d6a-f476-2ce954824b0e"
   },
   "outputs": [
    {
     "name": "stdout",
     "output_type": "stream",
     "text": [
      "tensor([[0.4664, 0.9720, 0.1978],\n",
      "        [0.1382, 0.7282, 0.5296],\n",
      "        [0.3202, 0.7720, 0.6831],\n",
      "        [0.0046, 0.4812, 0.4438],\n",
      "        [0.7370, 0.0249, 0.1169]])\n"
     ]
    }
   ],
   "source": [
    "y.add_(x) # the `_` sign at end means the operation mutates tensor y in-place\n",
    "print(y)"
   ]
  },
  {
   "cell_type": "code",
   "execution_count": null,
   "metadata": {
    "colab": {
     "base_uri": "https://localhost:8080/"
    },
    "executionInfo": {
     "elapsed": 49,
     "status": "ok",
     "timestamp": 1648256455310,
     "user": {
      "displayName": "Likun Cao",
      "photoUrl": "https://lh3.googleusercontent.com/a/default-user=s64",
      "userId": "01917344510473464948"
     },
     "user_tz": 300
    },
    "id": "jcsYRHM5iuW-",
    "outputId": "4692b72e-bcbf-4892-dace-e52faac75aea"
   },
   "outputs": [
    {
     "name": "stdout",
     "output_type": "stream",
     "text": [
      "A = tensor([[20, 24],\n",
      "        [31, 27]])\n"
     ]
    }
   ],
   "source": [
    "# to_remove solution\n",
    "a1 = torch.tensor([[2, 4], [5, 7]])\n",
    "a2 = torch.tensor([[1, 1], [2, 3]])\n",
    "a3 = torch.tensor([[10, 10], [12, 1]])\n",
    "A = torch.add(a1 @ a2, a3)\n",
    "print(\"A =\", A)"
   ]
  },
  {
   "cell_type": "code",
   "execution_count": null,
   "metadata": {
    "colab": {
     "base_uri": "https://localhost:8080/"
    },
    "executionInfo": {
     "elapsed": 48,
     "status": "ok",
     "timestamp": 1648256455311,
     "user": {
      "displayName": "Likun Cao",
      "photoUrl": "https://lh3.googleusercontent.com/a/default-user=s64",
      "userId": "01917344510473464948"
     },
     "user_tz": 300
    },
    "id": "GF8RzPvriuW-",
    "outputId": "eb618075-9dda-4e3d-bf8e-8fe8a03335e3"
   },
   "outputs": [
    {
     "name": "stdout",
     "output_type": "stream",
     "text": [
      "b = tensor([[82]])\n"
     ]
    }
   ],
   "source": [
    "# @ and torch.matmul return a multidimensional tensor\n",
    "b1 = torch.tensor([[3], [5], [7]])\n",
    "b2 = torch.tensor([[2], [4], [8]])\n",
    "b = b1.T @ b2\n",
    "print(\"b =\", b)"
   ]
  },
  {
   "cell_type": "code",
   "execution_count": null,
   "metadata": {
    "colab": {
     "base_uri": "https://localhost:8080/"
    },
    "executionInfo": {
     "elapsed": 43,
     "status": "ok",
     "timestamp": 1648256455311,
     "user": {
      "displayName": "Likun Cao",
      "photoUrl": "https://lh3.googleusercontent.com/a/default-user=s64",
      "userId": "01917344510473464948"
     },
     "user_tz": 300
    },
    "id": "YtQmjUB4iuW-",
    "outputId": "b6ea9a43-3720-4669-beec-b2719b086971"
   },
   "outputs": [
    {
     "name": "stdout",
     "output_type": "stream",
     "text": [
      "b = tensor(82)\n"
     ]
    }
   ],
   "source": [
    "# dot function returns a scalar tensor\n",
    "b1 = torch.tensor([3, 5, 7])\n",
    "b2 = torch.tensor([2, 4, 8])\n",
    "b = torch.dot(b1, b2)\n",
    "print(\"b =\", b)"
   ]
  },
  {
   "cell_type": "markdown",
   "metadata": {
    "id": "VVfilRNtiuW_"
   },
   "source": [
    "We now look at converting between tensors and numpy arrays."
   ]
  },
  {
   "cell_type": "code",
   "execution_count": null,
   "metadata": {
    "colab": {
     "base_uri": "https://localhost:8080/"
    },
    "executionInfo": {
     "elapsed": 40,
     "status": "ok",
     "timestamp": 1648256455312,
     "user": {
      "displayName": "Likun Cao",
      "photoUrl": "https://lh3.googleusercontent.com/a/default-user=s64",
      "userId": "01917344510473464948"
     },
     "user_tz": 300
    },
    "id": "T-lrMcKbiuW_",
    "outputId": "f859d877-af93-470f-cb0c-401eda1e4424"
   },
   "outputs": [
    {
     "name": "stdout",
     "output_type": "stream",
     "text": [
      "tensor([1., 1., 1., 1., 1.])\n"
     ]
    }
   ],
   "source": [
    "a = torch.ones(5)\n",
    "print(a)"
   ]
  },
  {
   "cell_type": "code",
   "execution_count": null,
   "metadata": {
    "colab": {
     "base_uri": "https://localhost:8080/"
    },
    "executionInfo": {
     "elapsed": 37,
     "status": "ok",
     "timestamp": 1648256455313,
     "user": {
      "displayName": "Likun Cao",
      "photoUrl": "https://lh3.googleusercontent.com/a/default-user=s64",
      "userId": "01917344510473464948"
     },
     "user_tz": 300
    },
    "id": "T8vJU89ViuW_",
    "outputId": "2ea5f620-089a-4760-d1ed-e76c7e580960"
   },
   "outputs": [
    {
     "name": "stdout",
     "output_type": "stream",
     "text": [
      "[1. 1. 1. 1. 1.]\n"
     ]
    }
   ],
   "source": [
    "b = a.numpy()\n",
    "print(b)"
   ]
  },
  {
   "cell_type": "code",
   "execution_count": null,
   "metadata": {
    "colab": {
     "base_uri": "https://localhost:8080/"
    },
    "executionInfo": {
     "elapsed": 34,
     "status": "ok",
     "timestamp": 1648256455314,
     "user": {
      "displayName": "Likun Cao",
      "photoUrl": "https://lh3.googleusercontent.com/a/default-user=s64",
      "userId": "01917344510473464948"
     },
     "user_tz": 300
    },
    "id": "V-UvLOLoiuXA",
    "outputId": "d2e644fe-3f5c-4771-a3d6-31f9a5578d4f"
   },
   "outputs": [
    {
     "name": "stdout",
     "output_type": "stream",
     "text": [
      "tensor([2., 2., 2., 2., 2.])\n"
     ]
    }
   ],
   "source": [
    "a.add_(1)\n",
    "print(a)"
   ]
  },
  {
   "cell_type": "code",
   "execution_count": null,
   "metadata": {
    "colab": {
     "base_uri": "https://localhost:8080/"
    },
    "executionInfo": {
     "elapsed": 29,
     "status": "ok",
     "timestamp": 1648256455314,
     "user": {
      "displayName": "Likun Cao",
      "photoUrl": "https://lh3.googleusercontent.com/a/default-user=s64",
      "userId": "01917344510473464948"
     },
     "user_tz": 300
    },
    "id": "EyZmiY31iuXA",
    "outputId": "028b1415-cab2-46b5-9e7c-49cdd3000543"
   },
   "outputs": [
    {
     "name": "stdout",
     "output_type": "stream",
     "text": [
      "[2. 2. 2. 2. 2.]\n"
     ]
    }
   ],
   "source": [
    "print(b)"
   ]
  },
  {
   "cell_type": "code",
   "execution_count": null,
   "metadata": {
    "colab": {
     "base_uri": "https://localhost:8080/"
    },
    "executionInfo": {
     "elapsed": 27,
     "status": "ok",
     "timestamp": 1648256455315,
     "user": {
      "displayName": "Likun Cao",
      "photoUrl": "https://lh3.googleusercontent.com/a/default-user=s64",
      "userId": "01917344510473464948"
     },
     "user_tz": 300
    },
    "id": "5j5COhSEiuXA",
    "outputId": "6f81577f-0fd4-4285-b9ea-2be987fe58f8"
   },
   "outputs": [
    {
     "name": "stdout",
     "output_type": "stream",
     "text": [
      "[2. 2. 2. 2. 2.]\n",
      "tensor([2., 2., 2., 2., 2.], dtype=torch.float64)\n"
     ]
    }
   ],
   "source": [
    "a = np.ones(5)\n",
    "b = torch.from_numpy(a)\n",
    "np.add(a, 1, out=a)\n",
    "print(a)\n",
    "print(b)"
   ]
  },
  {
   "cell_type": "markdown",
   "metadata": {
    "id": "gJMkVNg_iuXA"
   },
   "source": [
    "We now get our training data ready."
   ]
  },
  {
   "cell_type": "code",
   "execution_count": null,
   "metadata": {
    "id": "QXpNq6zpiuXB"
   },
   "outputs": [],
   "source": [
    "X_train_tensor = torch.tensor(X_train)\n",
    "y_train_tensor = torch.tensor(y_train).type(torch.LongTensor)"
   ]
  },
  {
   "cell_type": "markdown",
   "metadata": {
    "id": "HtbqB1rriuXB"
   },
   "source": [
    "### Constructing a Neural Network with PyTorch\n",
    "\n",
    "PyTorch is a little more involved than Keras. We need to initialise our network with the various parts we will be using. We are using the same parameters as the Keras example. We then define what a forward pass looks like, which is kind of similar to the way we stacked networks in Keras.\n",
    "\n",
    "[Pytorch's nn module](https://pytorch.org/docs/stable/nn.html) is the basic unit for building neural networks (or computational graphs, as it is sometimes referred to in pytroch). For example, for a hidden layer, we use the Linear layer."
   ]
  },
  {
   "cell_type": "code",
   "execution_count": null,
   "metadata": {
    "id": "fb9jEVet7FpA"
   },
   "outputs": [],
   "source": [
    "import torch.nn.functional as F"
   ]
  },
  {
   "cell_type": "code",
   "execution_count": null,
   "metadata": {
    "colab": {
     "base_uri": "https://localhost:8080/"
    },
    "executionInfo": {
     "elapsed": 24,
     "status": "ok",
     "timestamp": 1648256455317,
     "user": {
      "displayName": "Likun Cao",
      "photoUrl": "https://lh3.googleusercontent.com/a/default-user=s64",
      "userId": "01917344510473464948"
     },
     "user_tz": 300
    },
    "id": "LDJ87iXdiuXB",
    "outputId": "f9fe0ec6-3719-4c08-dac2-49bf2820356d"
   },
   "outputs": [
    {
     "data": {
      "text/plain": [
       "Linear(in_features=20, out_features=20, bias=True)"
      ]
     },
     "execution_count": 40,
     "metadata": {},
     "output_type": "execute_result"
    }
   ],
   "source": [
    "nn.Linear(20, 20)"
   ]
  },
  {
   "cell_type": "markdown",
   "metadata": {
    "id": "8QQ_VFXEiuXC"
   },
   "source": [
    "The module also includes activation functions."
   ]
  },
  {
   "cell_type": "code",
   "execution_count": null,
   "metadata": {
    "colab": {
     "base_uri": "https://localhost:8080/"
    },
    "executionInfo": {
     "elapsed": 230,
     "status": "ok",
     "timestamp": 1648256455527,
     "user": {
      "displayName": "Likun Cao",
      "photoUrl": "https://lh3.googleusercontent.com/a/default-user=s64",
      "userId": "01917344510473464948"
     },
     "user_tz": 300
    },
    "id": "rrsejrMTiuXC",
    "outputId": "f2c279b8-05fd-48ce-d8cf-e81413e8114a"
   },
   "outputs": [
    {
     "data": {
      "text/plain": [
       "ReLU()"
      ]
     },
     "execution_count": 41,
     "metadata": {},
     "output_type": "execute_result"
    }
   ],
   "source": [
    "nn.ReLU()"
   ]
  },
  {
   "cell_type": "markdown",
   "metadata": {
    "id": "zvrw_SqFiuXC"
   },
   "source": [
    "We usually encapsulate the network by defining the hidden layers and activation functions we will be needing, which you can see in the initialisation. You can then see the forward passes the input tensor through each of the operations."
   ]
  },
  {
   "cell_type": "code",
   "execution_count": null,
   "metadata": {
    "id": "TtwcjMap843Y"
   },
   "outputs": [],
   "source": [
    "class Network(nn.Module):\n",
    "    def __init__(self):\n",
    "        super().__init__()\n",
    "        # Inputs to hidden layer linear transformation\n",
    "        self.hidden = nn.Linear(64, 200)\n",
    "        # Output layer, 1 output for the classification\n",
    "        self.output = nn.Linear(200, 10)\n",
    "        # Define sigmoid activation and softmax output \n",
    "        self.relu = nn.ReLU()\n",
    "        self.softmax = nn.Softmax()\n",
    "\n",
    "    def forward(self, x):\n",
    "        # Pass the input tensor through each of our operations\n",
    "        x = self.hidden(x)\n",
    "        x = self.relu(x)\n",
    "        x = self.output(x)\n",
    "        x = self.softmax(x)\n",
    "        return x"
   ]
  },
  {
   "cell_type": "code",
   "execution_count": null,
   "metadata": {
    "id": "U3o0hwRFiuXC"
   },
   "outputs": [],
   "source": [
    "net = Network()"
   ]
  },
  {
   "cell_type": "markdown",
   "metadata": {
    "id": "aN6b9zt8iuXD"
   },
   "source": [
    "We then define the optimiser and loss function."
   ]
  },
  {
   "cell_type": "code",
   "execution_count": null,
   "metadata": {
    "id": "kYto8Y2biuXD"
   },
   "outputs": [],
   "source": [
    "opt = optim.Adam(net.parameters(), lr=0.001, betas=(0.9, 0.999))"
   ]
  },
  {
   "cell_type": "code",
   "execution_count": null,
   "metadata": {
    "id": "1Hp4PkB1iuXD"
   },
   "outputs": [],
   "source": [
    "criterion = F.nll_loss"
   ]
  },
  {
   "cell_type": "markdown",
   "metadata": {
    "id": "GDKyIAd4843Y"
   },
   "source": [
    "Unlike Keras where we hit fit and the training happens, we have to define a training epoch, where we set our gradients to zero, run the test data, do a backward pass, and then update the weights. This is actually how a neural network trains, so its useful to see it broken down like this."
   ]
  },
  {
   "cell_type": "code",
   "execution_count": null,
   "metadata": {
    "id": "uG579lYv843Z"
   },
   "outputs": [],
   "source": [
    "def train_epoch(model, opt, criterion, X_train, y_train):\n",
    "    model.train()\n",
    "    losses = []\n",
    "    opt.zero_grad()\n",
    "    # (1) Forward\n",
    "    y_hat = model(X_train)\n",
    "    # (2) Compute diff\n",
    "    loss = criterion(y_hat, y_train)\n",
    "    # (3) Compute gradients, this is the backprop step\n",
    "    loss.backward()\n",
    "    # (4) update weights\n",
    "    opt.step()        \n",
    "    losses.append(loss.data.numpy())\n",
    "    return losses"
   ]
  },
  {
   "cell_type": "code",
   "execution_count": null,
   "metadata": {
    "id": "ZfPJDqCT843Z"
   },
   "outputs": [],
   "source": [
    "import matplotlib.pyplot as plt"
   ]
  },
  {
   "cell_type": "code",
   "execution_count": null,
   "metadata": {
    "colab": {
     "base_uri": "https://localhost:8080/"
    },
    "executionInfo": {
     "elapsed": 19,
     "status": "ok",
     "timestamp": 1648256455531,
     "user": {
      "displayName": "Likun Cao",
      "photoUrl": "https://lh3.googleusercontent.com/a/default-user=s64",
      "userId": "01917344510473464948"
     },
     "user_tz": 300
    },
    "id": "_bFmIc2J6k7i",
    "outputId": "a82d6a95-697f-4d4a-a0c5-b5263dde5c71"
   },
   "outputs": [
    {
     "data": {
      "text/plain": [
       "tensor([[ 0.,  0.,  5.,  ...,  0.,  0.,  0.],\n",
       "        [ 0.,  0.,  0.,  ..., 10.,  0.,  0.],\n",
       "        [ 0.,  0.,  0.,  ..., 16.,  9.,  0.],\n",
       "        ...,\n",
       "        [ 0.,  0.,  2.,  ..., 14.,  0.,  0.],\n",
       "        [ 0.,  1., 12.,  ...,  0.,  0.,  0.],\n",
       "        [ 0.,  0.,  0.,  ...,  3.,  0.,  0.]])"
      ]
     },
     "execution_count": 48,
     "metadata": {},
     "output_type": "execute_result"
    }
   ],
   "source": [
    "X_train_tensor.float()"
   ]
  },
  {
   "cell_type": "code",
   "execution_count": null,
   "metadata": {
    "colab": {
     "base_uri": "https://localhost:8080/"
    },
    "executionInfo": {
     "elapsed": 603,
     "status": "ok",
     "timestamp": 1648256456119,
     "user": {
      "displayName": "Likun Cao",
      "photoUrl": "https://lh3.googleusercontent.com/a/default-user=s64",
      "userId": "01917344510473464948"
     },
     "user_tz": 300
    },
    "id": "bkjzdxN0843Z",
    "outputId": "8606e40f-a7b7-4f7e-dde1-ab1df5f91371"
   },
   "outputs": [
    {
     "name": "stderr",
     "output_type": "stream",
     "text": [
      "/usr/local/lib/python3.7/dist-packages/ipykernel_launcher.py:17: UserWarning: Implicit dimension choice for softmax has been deprecated. Change the call to include dim=X as an argument.\n"
     ]
    }
   ],
   "source": [
    "e_losses = []\n",
    "num_epochs = 200\n",
    "for e in range(num_epochs):\n",
    "    e_losses += train_epoch(net, opt, criterion, X_train_tensor.float(), y_train_tensor)"
   ]
  },
  {
   "cell_type": "code",
   "execution_count": null,
   "metadata": {
    "colab": {
     "base_uri": "https://localhost:8080/",
     "height": 295
    },
    "executionInfo": {
     "elapsed": 283,
     "status": "ok",
     "timestamp": 1648256456393,
     "user": {
      "displayName": "Likun Cao",
      "photoUrl": "https://lh3.googleusercontent.com/a/default-user=s64",
      "userId": "01917344510473464948"
     },
     "user_tz": 300
    },
    "id": "wz2hWSeaiuXE",
    "outputId": "6f217c93-446e-4c61-8201-c18c27343c15"
   },
   "outputs": [
    {
     "data": {
      "image/png": "[encoded data removed]",
      "text/plain": [
       "<Figure size 432x288 with 1 Axes>"
      ]
     },
     "metadata": {
      "needs_background": "light"
     },
     "output_type": "display_data"
    }
   ],
   "source": [
    "plt.title(\"Loss for Neural Net Training\")\n",
    "plt.xlabel(\"Number of epochs\")\n",
    "plt.ylabel(\"Loss\")\n",
    "plt.plot(e_losses)\n",
    "plt.show()"
   ]
  },
  {
   "cell_type": "markdown",
   "metadata": {
    "id": "ex2uZGk-843Z"
   },
   "source": [
    "That little loss plot is useful for us to see how our model improves with each epoch. We did 200 epochs like the Keras example. Unlike scikit-learn or Keras objects, we don't have a predict method, but instead pass the test data directly to the net. The little function below that converts the results into a way which we can feed into a metric function."
   ]
  },
  {
   "cell_type": "code",
   "execution_count": null,
   "metadata": {
    "colab": {
     "base_uri": "https://localhost:8080/"
    },
    "executionInfo": {
     "elapsed": 23,
     "status": "ok",
     "timestamp": 1648256456396,
     "user": {
      "displayName": "Likun Cao",
      "photoUrl": "https://lh3.googleusercontent.com/a/default-user=s64",
      "userId": "01917344510473464948"
     },
     "user_tz": 300
    },
    "id": "woweXacG843a",
    "outputId": "ae6df701-22cf-4ddf-e391-c3a373ddfc37"
   },
   "outputs": [
    {
     "name": "stderr",
     "output_type": "stream",
     "text": [
      "/usr/local/lib/python3.7/dist-packages/ipykernel_launcher.py:17: UserWarning: Implicit dimension choice for softmax has been deprecated. Change the call to include dim=X as an argument.\n"
     ]
    }
   ],
   "source": [
    "output = net(torch.tensor(X_test).float())"
   ]
  },
  {
   "cell_type": "code",
   "execution_count": null,
   "metadata": {
    "id": "yY49xGZviuXF"
   },
   "outputs": [],
   "source": [
    "y_classes = output.argmax(axis=-1)"
   ]
  },
  {
   "cell_type": "code",
   "execution_count": null,
   "metadata": {
    "colab": {
     "base_uri": "https://localhost:8080/"
    },
    "executionInfo": {
     "elapsed": 28,
     "status": "ok",
     "timestamp": 1648256456407,
     "user": {
      "displayName": "Likun Cao",
      "photoUrl": "https://lh3.googleusercontent.com/a/default-user=s64",
      "userId": "01917344510473464948"
     },
     "user_tz": 300
    },
    "id": "HHXAtUGt843a",
    "outputId": "4444f610-ec48-4d89-e8a9-7248eea3e540",
    "scrolled": true
   },
   "outputs": [
    {
     "data": {
      "text/plain": [
       "0.8509454949944383"
      ]
     },
     "execution_count": 53,
     "metadata": {},
     "output_type": "execute_result"
    }
   ],
   "source": [
    "sklearn.metrics.accuracy_score(y_test, y_classes)"
   ]
  },
  {
   "cell_type": "markdown",
   "metadata": {
    "id": "zD-c630M843a"
   },
   "source": [
    "Cool! So our PyTorch neural net did a bit better than both Keras and logistic regression. This is a demonstration of how neural networks which are similar in structure can still end up as divergently performing models because of random weights initialisation between different libraries. \n",
    "\n",
    "Let us now make our networks deep, and see if that helps!\n",
    "\n",
    "### Keras Deep Net \n",
    "\n",
    "Making a neural net deeper simply means adding more layers or complexity. Lets add an extra layer and increase the number of units and see how it does! In the last example, we added each layer line by line. Here, we use a single list.\n",
    "\n",
    "For this simple neural network, we use a virtual example based on make_classification function of sklearn package.\n"
   ]
  },
  {
   "cell_type": "code",
   "execution_count": null,
   "metadata": {
    "colab": {
     "base_uri": "https://localhost:8080/",
     "height": 281
    },
    "executionInfo": {
     "elapsed": 324,
     "status": "ok",
     "timestamp": 1648256456706,
     "user": {
      "displayName": "Likun Cao",
      "photoUrl": "https://lh3.googleusercontent.com/a/default-user=s64",
      "userId": "01917344510473464948"
     },
     "user_tz": 300
    },
    "id": "UzwUrp5OZG2d",
    "outputId": "75a5e4fa-ce0c-493f-85d2-3638f6d618b4"
   },
   "outputs": [
    {
     "data": {
      "image/png": "[encoded data removed]",
      "text/plain": [
       "<Figure size 432x288 with 1 Axes>"
      ]
     },
     "metadata": {
      "needs_background": "light"
     },
     "output_type": "display_data"
    }
   ],
   "source": [
    "import matplotlib.pyplot as plt\n",
    "\n",
    "X, y = sklearn.datasets.make_classification(n_samples=200, n_features=200, n_informative=100, n_classes=2, random_state=40)\n",
    "plt.title(\"Plot of first two features of classification dataset\")\n",
    "plt.scatter(X[:, 0], X[:, 1], marker='o', c=y, s=25, edgecolor='k')\n",
    "plt.show()"
   ]
  },
  {
   "cell_type": "code",
   "execution_count": null,
   "metadata": {
    "id": "sFbXca80ZzsV"
   },
   "outputs": [],
   "source": [
    "X_train, X_test, y_train, y_test = sklearn.model_selection.train_test_split(X, y)"
   ]
  },
  {
   "cell_type": "code",
   "execution_count": null,
   "metadata": {
    "id": "XCExN1bx843b"
   },
   "outputs": [],
   "source": [
    "model = keras.models.Sequential([keras.layers.Dense(200, input_dim=200, activation='relu'),\n",
    "                                 keras.layers.Dense(200, activation='relu'),\n",
    "                                 keras.layers.Dense(1, activation='sigmoid')])"
   ]
  },
  {
   "cell_type": "code",
   "execution_count": null,
   "metadata": {
    "id": "bNnZUBSd843b"
   },
   "outputs": [],
   "source": [
    "model.compile(loss=\"binary_crossentropy\", optimizer=\"adam\")"
   ]
  },
  {
   "cell_type": "code",
   "execution_count": null,
   "metadata": {
    "colab": {
     "base_uri": "https://localhost:8080/"
    },
    "executionInfo": {
     "elapsed": 10389,
     "status": "ok",
     "timestamp": 1648256467465,
     "user": {
      "displayName": "Likun Cao",
      "photoUrl": "https://lh3.googleusercontent.com/a/default-user=s64",
      "userId": "01917344510473464948"
     },
     "user_tz": 300
    },
    "id": "rNFgL3_l843c",
    "outputId": "e5f85bd1-887f-4a71-e546-41307de581ea"
   },
   "outputs": [
    {
     "name": "stdout",
     "output_type": "stream",
     "text": [
      "Epoch 1/200\n",
      "5/5 [==============================] - 1s 6ms/step - loss: 1.4267\n",
      "Epoch 2/200\n",
      "5/5 [==============================] - 0s 5ms/step - loss: 0.3940\n",
      "Epoch 3/200\n",
      "5/5 [==============================] - 0s 7ms/step - loss: 0.0882\n",
      "Epoch 4/200\n",
      "5/5 [==============================] - 0s 4ms/step - loss: 0.0546\n",
      "Epoch 5/200\n",
      "5/5 [==============================] - 0s 4ms/step - loss: 0.0246\n",
      "Epoch 6/200\n",
      "5/5 [==============================] - 0s 4ms/step - loss: 0.0141\n",
      "Epoch 7/200\n",
      "5/5 [==============================] - 0s 5ms/step - loss: 0.0081\n",
      "Epoch 8/200\n",
      "5/5 [==============================] - 0s 4ms/step - loss: 0.0057\n",
      "Epoch 9/200\n",
      "5/5 [==============================] - 0s 5ms/step - loss: 0.0047\n",
      "Epoch 10/200\n",
      "5/5 [==============================] - 0s 4ms/step - loss: 0.0041\n",
      "Epoch 11/200\n",
      "5/5 [==============================] - 0s 5ms/step - loss: 0.0036\n",
      "Epoch 12/200\n",
      "5/5 [==============================] - 0s 4ms/step - loss: 0.0032\n",
      "Epoch 13/200\n",
      "5/5 [==============================] - 0s 4ms/step - loss: 0.0029\n",
      "Epoch 14/200\n",
      "5/5 [==============================] - 0s 4ms/step - loss: 0.0026\n",
      "Epoch 15/200\n",
      "5/5 [==============================] - 0s 4ms/step - loss: 0.0024\n",
      "Epoch 16/200\n",
      "5/5 [==============================] - 0s 5ms/step - loss: 0.0022\n",
      "Epoch 17/200\n",
      "5/5 [==============================] - 0s 5ms/step - loss: 0.0021\n",
      "Epoch 18/200\n",
      "5/5 [==============================] - 0s 4ms/step - loss: 0.0020\n",
      "Epoch 19/200\n",
      "5/5 [==============================] - 0s 5ms/step - loss: 0.0019\n",
      "Epoch 20/200\n",
      "5/5 [==============================] - 0s 5ms/step - loss: 0.0018\n",
      "Epoch 21/200\n",
      "5/5 [==============================] - 0s 6ms/step - loss: 0.0017\n",
      "Epoch 22/200\n",
      "5/5 [==============================] - 0s 4ms/step - loss: 0.0016\n",
      "Epoch 23/200\n",
      "5/5 [==============================] - 0s 4ms/step - loss: 0.0016\n",
      "Epoch 24/200\n",
      "5/5 [==============================] - 0s 5ms/step - loss: 0.0015\n",
      "Epoch 25/200\n",
      "5/5 [==============================] - 0s 4ms/step - loss: 0.0014\n",
      "Epoch 26/200\n",
      "5/5 [==============================] - 0s 5ms/step - loss: 0.0014\n",
      "Epoch 27/200\n",
      "5/5 [==============================] - 0s 4ms/step - loss: 0.0013\n",
      "Epoch 28/200\n",
      "5/5 [==============================] - 0s 5ms/step - loss: 0.0013\n",
      "Epoch 29/200\n",
      "5/5 [==============================] - 0s 4ms/step - loss: 0.0012\n",
      "Epoch 30/200\n",
      "5/5 [==============================] - 0s 9ms/step - loss: 0.0012\n",
      "Epoch 31/200\n",
      "5/5 [==============================] - 0s 5ms/step - loss: 0.0011\n",
      "Epoch 32/200\n",
      "5/5 [==============================] - 0s 4ms/step - loss: 0.0011\n",
      "Epoch 33/200\n",
      "5/5 [==============================] - 0s 6ms/step - loss: 0.0011\n",
      "Epoch 34/200\n",
      "5/5 [==============================] - 0s 5ms/step - loss: 0.0010\n",
      "Epoch 35/200\n",
      "5/5 [==============================] - 0s 5ms/step - loss: 9.8565e-04\n",
      "Epoch 36/200\n",
      "5/5 [==============================] - 0s 5ms/step - loss: 9.5467e-04\n",
      "Epoch 37/200\n",
      "5/5 [==============================] - 0s 6ms/step - loss: 9.2314e-04\n",
      "Epoch 38/200\n",
      "5/5 [==============================] - 0s 6ms/step - loss: 8.9213e-04\n",
      "Epoch 39/200\n",
      "5/5 [==============================] - 0s 4ms/step - loss: 8.6520e-04\n",
      "Epoch 40/200\n",
      "5/5 [==============================] - 0s 5ms/step - loss: 8.3781e-04\n",
      "Epoch 41/200\n",
      "5/5 [==============================] - 0s 5ms/step - loss: 8.1173e-04\n",
      "Epoch 42/200\n",
      "5/5 [==============================] - 0s 5ms/step - loss: 7.8738e-04\n",
      "Epoch 43/200\n",
      "5/5 [==============================] - 0s 5ms/step - loss: 7.6408e-04\n",
      "Epoch 44/200\n",
      "5/5 [==============================] - 0s 4ms/step - loss: 7.4190e-04\n",
      "Epoch 45/200\n",
      "5/5 [==============================] - 0s 4ms/step - loss: 7.1978e-04\n",
      "Epoch 46/200\n",
      "5/5 [==============================] - 0s 5ms/step - loss: 6.9874e-04\n",
      "Epoch 47/200\n",
      "5/5 [==============================] - 0s 6ms/step - loss: 6.7845e-04\n",
      "Epoch 48/200\n",
      "5/5 [==============================] - 0s 6ms/step - loss: 6.5916e-04\n",
      "Epoch 49/200\n",
      "5/5 [==============================] - 0s 5ms/step - loss: 6.3998e-04\n",
      "Epoch 50/200\n",
      "5/5 [==============================] - 0s 4ms/step - loss: 6.2241e-04\n",
      "Epoch 51/200\n",
      "5/5 [==============================] - 0s 5ms/step - loss: 6.0522e-04\n",
      "Epoch 52/200\n",
      "5/5 [==============================] - 0s 5ms/step - loss: 5.8792e-04\n",
      "Epoch 53/200\n",
      "5/5 [==============================] - 0s 5ms/step - loss: 5.7224e-04\n",
      "Epoch 54/200\n",
      "5/5 [==============================] - 0s 4ms/step - loss: 5.5672e-04\n",
      "Epoch 55/200\n",
      "5/5 [==============================] - 0s 5ms/step - loss: 5.4166e-04\n",
      "Epoch 56/200\n",
      "5/5 [==============================] - 0s 5ms/step - loss: 5.2780e-04\n",
      "Epoch 57/200\n",
      "5/5 [==============================] - 0s 5ms/step - loss: 5.1341e-04\n",
      "Epoch 58/200\n",
      "5/5 [==============================] - 0s 4ms/step - loss: 5.0038e-04\n",
      "Epoch 59/200\n",
      "5/5 [==============================] - 0s 6ms/step - loss: 4.8801e-04\n",
      "Epoch 60/200\n",
      "5/5 [==============================] - 0s 6ms/step - loss: 4.7582e-04\n",
      "Epoch 61/200\n",
      "5/5 [==============================] - 0s 5ms/step - loss: 4.6409e-04\n",
      "Epoch 62/200\n",
      "5/5 [==============================] - 0s 6ms/step - loss: 4.5274e-04\n",
      "Epoch 63/200\n",
      "5/5 [==============================] - 0s 5ms/step - loss: 4.4142e-04\n",
      "Epoch 64/200\n",
      "5/5 [==============================] - 0s 4ms/step - loss: 4.3076e-04\n",
      "Epoch 65/200\n",
      "5/5 [==============================] - 0s 4ms/step - loss: 4.2064e-04\n",
      "Epoch 66/200\n",
      "5/5 [==============================] - 0s 5ms/step - loss: 4.1057e-04\n",
      "Epoch 67/200\n",
      "5/5 [==============================] - 0s 5ms/step - loss: 4.0047e-04\n",
      "Epoch 68/200\n",
      "5/5 [==============================] - 0s 4ms/step - loss: 3.9158e-04\n",
      "Epoch 69/200\n",
      "5/5 [==============================] - 0s 5ms/step - loss: 3.8253e-04\n",
      "Epoch 70/200\n",
      "5/5 [==============================] - 0s 4ms/step - loss: 3.7379e-04\n",
      "Epoch 71/200\n",
      "5/5 [==============================] - 0s 5ms/step - loss: 3.6539e-04\n",
      "Epoch 72/200\n",
      "5/5 [==============================] - 0s 6ms/step - loss: 3.5730e-04\n",
      "Epoch 73/200\n",
      "5/5 [==============================] - 0s 4ms/step - loss: 3.4952e-04\n",
      "Epoch 74/200\n",
      "5/5 [==============================] - 0s 4ms/step - loss: 3.4254e-04\n",
      "Epoch 75/200\n",
      "5/5 [==============================] - 0s 5ms/step - loss: 3.3484e-04\n",
      "Epoch 76/200\n",
      "5/5 [==============================] - 0s 4ms/step - loss: 3.2807e-04\n",
      "Epoch 77/200\n",
      "5/5 [==============================] - 0s 6ms/step - loss: 3.2094e-04\n",
      "Epoch 78/200\n",
      "5/5 [==============================] - 0s 5ms/step - loss: 3.1485e-04\n",
      "Epoch 79/200\n",
      "5/5 [==============================] - 0s 4ms/step - loss: 3.0811e-04\n",
      "Epoch 80/200\n",
      "5/5 [==============================] - 0s 5ms/step - loss: 3.0201e-04\n",
      "Epoch 81/200\n",
      "5/5 [==============================] - 0s 5ms/step - loss: 2.9624e-04\n",
      "Epoch 82/200\n",
      "5/5 [==============================] - 0s 5ms/step - loss: 2.9030e-04\n",
      "Epoch 83/200\n",
      "5/5 [==============================] - 0s 5ms/step - loss: 2.8475e-04\n",
      "Epoch 84/200\n",
      "5/5 [==============================] - 0s 4ms/step - loss: 2.7923e-04\n",
      "Epoch 85/200\n",
      "5/5 [==============================] - 0s 6ms/step - loss: 2.7407e-04\n",
      "Epoch 86/200\n",
      "5/5 [==============================] - 0s 5ms/step - loss: 2.6888e-04\n",
      "Epoch 87/200\n",
      "5/5 [==============================] - 0s 5ms/step - loss: 2.6384e-04\n",
      "Epoch 88/200\n",
      "5/5 [==============================] - 0s 5ms/step - loss: 2.5894e-04\n",
      "Epoch 89/200\n",
      "5/5 [==============================] - 0s 8ms/step - loss: 2.5419e-04\n",
      "Epoch 90/200\n",
      "5/5 [==============================] - 0s 5ms/step - loss: 2.4966e-04\n",
      "Epoch 91/200\n",
      "5/5 [==============================] - 0s 6ms/step - loss: 2.4505e-04\n",
      "Epoch 92/200\n",
      "5/5 [==============================] - 0s 7ms/step - loss: 2.4081e-04\n",
      "Epoch 93/200\n",
      "5/5 [==============================] - 0s 5ms/step - loss: 2.3654e-04\n",
      "Epoch 94/200\n",
      "5/5 [==============================] - 0s 7ms/step - loss: 2.3226e-04\n",
      "Epoch 95/200\n",
      "5/5 [==============================] - 0s 5ms/step - loss: 2.2817e-04\n",
      "Epoch 96/200\n",
      "5/5 [==============================] - 0s 5ms/step - loss: 2.2425e-04\n",
      "Epoch 97/200\n",
      "5/5 [==============================] - 0s 4ms/step - loss: 2.2028e-04\n",
      "Epoch 98/200\n",
      "5/5 [==============================] - 0s 6ms/step - loss: 2.1660e-04\n",
      "Epoch 99/200\n",
      "5/5 [==============================] - 0s 6ms/step - loss: 2.1286e-04\n",
      "Epoch 100/200\n",
      "5/5 [==============================] - 0s 6ms/step - loss: 2.0910e-04\n",
      "Epoch 101/200\n",
      "5/5 [==============================] - 0s 6ms/step - loss: 2.0554e-04\n",
      "Epoch 102/200\n",
      "5/5 [==============================] - 0s 4ms/step - loss: 2.0212e-04\n",
      "Epoch 103/200\n",
      "5/5 [==============================] - 0s 5ms/step - loss: 1.9869e-04\n",
      "Epoch 104/200\n",
      "5/5 [==============================] - 0s 5ms/step - loss: 1.9534e-04\n",
      "Epoch 105/200\n",
      "5/5 [==============================] - 0s 6ms/step - loss: 1.9205e-04\n",
      "Epoch 106/200\n",
      "5/5 [==============================] - 0s 6ms/step - loss: 1.8893e-04\n",
      "Epoch 107/200\n",
      "5/5 [==============================] - 0s 7ms/step - loss: 1.8568e-04\n",
      "Epoch 108/200\n",
      "5/5 [==============================] - 0s 5ms/step - loss: 1.8282e-04\n",
      "Epoch 109/200\n",
      "5/5 [==============================] - 0s 6ms/step - loss: 1.7964e-04\n",
      "Epoch 110/200\n",
      "5/5 [==============================] - 0s 6ms/step - loss: 1.7681e-04\n",
      "Epoch 111/200\n",
      "5/5 [==============================] - 0s 6ms/step - loss: 1.7390e-04\n",
      "Epoch 112/200\n",
      "5/5 [==============================] - 0s 4ms/step - loss: 1.7117e-04\n",
      "Epoch 113/200\n",
      "5/5 [==============================] - 0s 5ms/step - loss: 1.6838e-04\n",
      "Epoch 114/200\n",
      "5/5 [==============================] - 0s 5ms/step - loss: 1.6574e-04\n",
      "Epoch 115/200\n",
      "5/5 [==============================] - 0s 5ms/step - loss: 1.6301e-04\n",
      "Epoch 116/200\n",
      "5/5 [==============================] - 0s 9ms/step - loss: 1.6051e-04\n",
      "Epoch 117/200\n",
      "5/5 [==============================] - 0s 5ms/step - loss: 1.5798e-04\n",
      "Epoch 118/200\n",
      "5/5 [==============================] - 0s 6ms/step - loss: 1.5537e-04\n",
      "Epoch 119/200\n",
      "5/5 [==============================] - 0s 6ms/step - loss: 1.5312e-04\n",
      "Epoch 120/200\n",
      "5/5 [==============================] - 0s 8ms/step - loss: 1.5068e-04\n",
      "Epoch 121/200\n",
      "5/5 [==============================] - 0s 5ms/step - loss: 1.4842e-04\n",
      "Epoch 122/200\n",
      "5/5 [==============================] - 0s 5ms/step - loss: 1.4619e-04\n",
      "Epoch 123/200\n",
      "5/5 [==============================] - 0s 5ms/step - loss: 1.4402e-04\n",
      "Epoch 124/200\n",
      "5/5 [==============================] - 0s 4ms/step - loss: 1.4200e-04\n",
      "Epoch 125/200\n",
      "5/5 [==============================] - 0s 7ms/step - loss: 1.3984e-04\n",
      "Epoch 126/200\n",
      "5/5 [==============================] - 0s 5ms/step - loss: 1.3784e-04\n",
      "Epoch 127/200\n",
      "5/5 [==============================] - 0s 7ms/step - loss: 1.3578e-04\n",
      "Epoch 128/200\n",
      "5/5 [==============================] - 0s 4ms/step - loss: 1.3386e-04\n",
      "Epoch 129/200\n",
      "5/5 [==============================] - 0s 8ms/step - loss: 1.3199e-04\n",
      "Epoch 130/200\n",
      "5/5 [==============================] - 0s 5ms/step - loss: 1.3002e-04\n",
      "Epoch 131/200\n",
      "5/5 [==============================] - 0s 5ms/step - loss: 1.2831e-04\n",
      "Epoch 132/200\n",
      "5/5 [==============================] - 0s 5ms/step - loss: 1.2647e-04\n",
      "Epoch 133/200\n",
      "5/5 [==============================] - 0s 6ms/step - loss: 1.2465e-04\n",
      "Epoch 134/200\n",
      "5/5 [==============================] - 0s 4ms/step - loss: 1.2293e-04\n",
      "Epoch 135/200\n",
      "5/5 [==============================] - 0s 4ms/step - loss: 1.2127e-04\n",
      "Epoch 136/200\n",
      "5/5 [==============================] - 0s 4ms/step - loss: 1.1959e-04\n",
      "Epoch 137/200\n",
      "5/5 [==============================] - 0s 5ms/step - loss: 1.1791e-04\n",
      "Epoch 138/200\n",
      "5/5 [==============================] - 0s 4ms/step - loss: 1.1626e-04\n",
      "Epoch 139/200\n",
      "5/5 [==============================] - 0s 5ms/step - loss: 1.1469e-04\n",
      "Epoch 140/200\n",
      "5/5 [==============================] - 0s 5ms/step - loss: 1.1318e-04\n",
      "Epoch 141/200\n",
      "5/5 [==============================] - 0s 5ms/step - loss: 1.1165e-04\n",
      "Epoch 142/200\n",
      "5/5 [==============================] - 0s 5ms/step - loss: 1.1012e-04\n",
      "Epoch 143/200\n",
      "5/5 [==============================] - 0s 5ms/step - loss: 1.0862e-04\n",
      "Epoch 144/200\n",
      "5/5 [==============================] - 0s 4ms/step - loss: 1.0717e-04\n",
      "Epoch 145/200\n",
      "5/5 [==============================] - 0s 6ms/step - loss: 1.0579e-04\n",
      "Epoch 146/200\n",
      "5/5 [==============================] - 0s 5ms/step - loss: 1.0433e-04\n",
      "Epoch 147/200\n",
      "5/5 [==============================] - 0s 5ms/step - loss: 1.0301e-04\n",
      "Epoch 148/200\n",
      "5/5 [==============================] - 0s 6ms/step - loss: 1.0165e-04\n",
      "Epoch 149/200\n",
      "5/5 [==============================] - 0s 5ms/step - loss: 1.0036e-04\n",
      "Epoch 150/200\n",
      "5/5 [==============================] - 0s 5ms/step - loss: 9.9061e-05\n",
      "Epoch 151/200\n",
      "5/5 [==============================] - 0s 5ms/step - loss: 9.7729e-05\n",
      "Epoch 152/200\n",
      "5/5 [==============================] - 0s 5ms/step - loss: 9.6478e-05\n",
      "Epoch 153/200\n",
      "5/5 [==============================] - 0s 5ms/step - loss: 9.5272e-05\n",
      "Epoch 154/200\n",
      "5/5 [==============================] - 0s 5ms/step - loss: 9.4050e-05\n",
      "Epoch 155/200\n",
      "5/5 [==============================] - 0s 5ms/step - loss: 9.2844e-05\n",
      "Epoch 156/200\n",
      "5/5 [==============================] - 0s 4ms/step - loss: 9.1681e-05\n",
      "Epoch 157/200\n",
      "5/5 [==============================] - 0s 4ms/step - loss: 9.0503e-05\n",
      "Epoch 158/200\n",
      "5/5 [==============================] - 0s 5ms/step - loss: 8.9356e-05\n",
      "Epoch 159/200\n",
      "5/5 [==============================] - 0s 5ms/step - loss: 8.8286e-05\n",
      "Epoch 160/200\n",
      "5/5 [==============================] - 0s 5ms/step - loss: 8.7179e-05\n",
      "Epoch 161/200\n",
      "5/5 [==============================] - 0s 6ms/step - loss: 8.6107e-05\n",
      "Epoch 162/200\n",
      "5/5 [==============================] - 0s 5ms/step - loss: 8.5027e-05\n",
      "Epoch 163/200\n",
      "5/5 [==============================] - 0s 7ms/step - loss: 8.4005e-05\n",
      "Epoch 164/200\n",
      "5/5 [==============================] - 0s 5ms/step - loss: 8.3018e-05\n",
      "Epoch 165/200\n",
      "5/5 [==============================] - 0s 6ms/step - loss: 8.1965e-05\n",
      "Epoch 166/200\n",
      "5/5 [==============================] - 0s 5ms/step - loss: 8.0981e-05\n",
      "Epoch 167/200\n",
      "5/5 [==============================] - 0s 5ms/step - loss: 7.9997e-05\n",
      "Epoch 168/200\n",
      "5/5 [==============================] - 0s 7ms/step - loss: 7.9041e-05\n",
      "Epoch 169/200\n",
      "5/5 [==============================] - 0s 6ms/step - loss: 7.8088e-05\n",
      "Epoch 170/200\n",
      "5/5 [==============================] - 0s 6ms/step - loss: 7.7138e-05\n",
      "Epoch 171/200\n",
      "5/5 [==============================] - 0s 5ms/step - loss: 7.6192e-05\n",
      "Epoch 172/200\n",
      "5/5 [==============================] - 0s 6ms/step - loss: 7.5295e-05\n",
      "Epoch 173/200\n",
      "5/5 [==============================] - 0s 6ms/step - loss: 7.4386e-05\n",
      "Epoch 174/200\n",
      "5/5 [==============================] - 0s 5ms/step - loss: 7.3490e-05\n",
      "Epoch 175/200\n",
      "5/5 [==============================] - 0s 5ms/step - loss: 7.2667e-05\n",
      "Epoch 176/200\n",
      "5/5 [==============================] - 0s 5ms/step - loss: 7.1777e-05\n",
      "Epoch 177/200\n",
      "5/5 [==============================] - 0s 5ms/step - loss: 7.0928e-05\n",
      "Epoch 178/200\n",
      "5/5 [==============================] - 0s 4ms/step - loss: 7.0101e-05\n",
      "Epoch 179/200\n",
      "5/5 [==============================] - 0s 6ms/step - loss: 6.9284e-05\n",
      "Epoch 180/200\n",
      "5/5 [==============================] - 0s 5ms/step - loss: 6.8436e-05\n",
      "Epoch 181/200\n",
      "5/5 [==============================] - 0s 5ms/step - loss: 6.7659e-05\n",
      "Epoch 182/200\n",
      "5/5 [==============================] - 0s 5ms/step - loss: 6.6877e-05\n",
      "Epoch 183/200\n",
      "5/5 [==============================] - 0s 4ms/step - loss: 6.6101e-05\n",
      "Epoch 184/200\n",
      "5/5 [==============================] - 0s 5ms/step - loss: 6.5326e-05\n",
      "Epoch 185/200\n",
      "5/5 [==============================] - 0s 5ms/step - loss: 6.4579e-05\n",
      "Epoch 186/200\n",
      "5/5 [==============================] - 0s 5ms/step - loss: 6.3870e-05\n",
      "Epoch 187/200\n",
      "5/5 [==============================] - 0s 5ms/step - loss: 6.3135e-05\n",
      "Epoch 188/200\n",
      "5/5 [==============================] - 0s 6ms/step - loss: 6.2385e-05\n",
      "Epoch 189/200\n",
      "5/5 [==============================] - 0s 7ms/step - loss: 6.1706e-05\n",
      "Epoch 190/200\n",
      "5/5 [==============================] - 0s 5ms/step - loss: 6.0976e-05\n",
      "Epoch 191/200\n",
      "5/5 [==============================] - 0s 5ms/step - loss: 6.0315e-05\n",
      "Epoch 192/200\n",
      "5/5 [==============================] - 0s 5ms/step - loss: 5.9621e-05\n",
      "Epoch 193/200\n",
      "5/5 [==============================] - 0s 5ms/step - loss: 5.8951e-05\n",
      "Epoch 194/200\n",
      "5/5 [==============================] - 0s 7ms/step - loss: 5.8320e-05\n",
      "Epoch 195/200\n",
      "5/5 [==============================] - 0s 8ms/step - loss: 5.7643e-05\n",
      "Epoch 196/200\n",
      "5/5 [==============================] - 0s 7ms/step - loss: 5.7020e-05\n",
      "Epoch 197/200\n",
      "5/5 [==============================] - 0s 5ms/step - loss: 5.6394e-05\n",
      "Epoch 198/200\n",
      "5/5 [==============================] - 0s 5ms/step - loss: 5.5762e-05\n",
      "Epoch 199/200\n",
      "5/5 [==============================] - 0s 5ms/step - loss: 5.5150e-05\n",
      "Epoch 200/200\n",
      "5/5 [==============================] - 0s 6ms/step - loss: 5.4547e-05\n"
     ]
    }
   ],
   "source": [
    "history = model.fit(X_train, y_train, epochs=200)"
   ]
  },
  {
   "cell_type": "code",
   "execution_count": null,
   "metadata": {
    "colab": {
     "base_uri": "https://localhost:8080/"
    },
    "executionInfo": {
     "elapsed": 24,
     "status": "ok",
     "timestamp": 1648256467467,
     "user": {
      "displayName": "Likun Cao",
      "photoUrl": "https://lh3.googleusercontent.com/a/default-user=s64",
      "userId": "01917344510473464948"
     },
     "user_tz": 300
    },
    "id": "9EXENhBuamNM",
    "outputId": "39511fda-e688-41ec-c577-12bd4858df95"
   },
   "outputs": [
    {
     "data": {
      "text/plain": [
       "0.48"
      ]
     },
     "execution_count": 59,
     "metadata": {},
     "output_type": "execute_result"
    }
   ],
   "source": [
    "y_predict = np.argmax(model.predict(X_test), axis=1)\n",
    "sklearn.metrics.accuracy_score(y_test, y_predict)"
   ]
  },
  {
   "cell_type": "markdown",
   "metadata": {
    "id": "TzqUaqB3h-JA"
   },
   "source": [
    "So our deep(er) Keras model does better than the single layer Keras, and matches the PyTorch deep net."
   ]
  },
  {
   "cell_type": "markdown",
   "metadata": {
    "id": "U7USLd3V843d"
   },
   "source": [
    "### PyTorch deep net\n",
    "\n",
    "Very similar to our first example, except we add an extra hidden unit layer for the tensors to go through."
   ]
  },
  {
   "cell_type": "code",
   "execution_count": null,
   "metadata": {
    "id": "gHYXi4Ux843d"
   },
   "outputs": [],
   "source": [
    "class DeepNetwork(nn.Module):\n",
    "    def __init__(self):\n",
    "        super().__init__()\n",
    "        # Inputs to hidden layer linear transformation\n",
    "        self.hidden = nn.Linear(200, 200)\n",
    "        # Output layer\n",
    "        self.output = nn.Linear(200, 1)\n",
    "        # Define sigmoid activation and softmax output \n",
    "        self.relu = nn.ReLU()\n",
    "        self.sigmoid = nn.Sigmoid()\n",
    "\n",
    "    def forward(self, x):\n",
    "        # Pass the input tensor through each of our operations\n",
    "        x = self.hidden(x)\n",
    "        x = self.relu(x)\n",
    "        # notice how we just add another hidden unit layer\n",
    "        x = self.hidden(x)\n",
    "        x = self.relu(x)\n",
    "        x = self.output(x)\n",
    "        x = self.sigmoid(x)\n",
    "        return x"
   ]
  },
  {
   "cell_type": "code",
   "execution_count": null,
   "metadata": {
    "id": "1q3KPeQM843e"
   },
   "outputs": [],
   "source": [
    "net = DeepNetwork()\n",
    "opt = optim.Adam(net.parameters(), lr=0.001, betas=(0.9, 0.999))\n",
    "criterion = nn.BCELoss()"
   ]
  },
  {
   "cell_type": "code",
   "execution_count": null,
   "metadata": {
    "id": "kaYXB993Z8Vg"
   },
   "outputs": [],
   "source": [
    "X_train_tensor = torch.tensor(X_train)\n",
    "y_train_tensor = torch.tensor(y_train).type(torch.LongTensor).unsqueeze(1)"
   ]
  },
  {
   "cell_type": "code",
   "execution_count": null,
   "metadata": {
    "id": "GoiHhML9843e"
   },
   "outputs": [],
   "source": [
    "e_losses = []\n",
    "num_epochs = 200\n",
    "for e in range(num_epochs):\n",
    "    e_losses += train_epoch(net, opt, criterion, X_train_tensor.float(), y_train_tensor.float())"
   ]
  },
  {
   "cell_type": "code",
   "execution_count": null,
   "metadata": {
    "colab": {
     "base_uri": "https://localhost:8080/",
     "height": 295
    },
    "executionInfo": {
     "elapsed": 203,
     "status": "ok",
     "timestamp": 1648256468326,
     "user": {
      "displayName": "Likun Cao",
      "photoUrl": "https://lh3.googleusercontent.com/a/default-user=s64",
      "userId": "01917344510473464948"
     },
     "user_tz": 300
    },
    "id": "cAXJe8rUiuXH",
    "outputId": "b3a43c34-212e-401b-8b62-cd0da6bd3c82"
   },
   "outputs": [
    {
     "data": {
      "image/png": "[encoded data removed]",
      "text/plain": [
       "<Figure size 432x288 with 1 Axes>"
      ]
     },
     "metadata": {
      "needs_background": "light"
     },
     "output_type": "display_data"
    }
   ],
   "source": [
    "plt.title(\"Loss for Neural Net Training\")\n",
    "plt.xlabel(\"Number of epochs\")\n",
    "plt.ylabel(\"Loss\")\n",
    "plt.plot(e_losses)\n",
    "plt.show()"
   ]
  },
  {
   "cell_type": "code",
   "execution_count": null,
   "metadata": {
    "id": "9w4AzfR8843e"
   },
   "outputs": [],
   "source": [
    "output = net(torch.tensor(X_test).float())"
   ]
  },
  {
   "cell_type": "code",
   "execution_count": null,
   "metadata": {
    "id": "nxdnR-MCcr0B"
   },
   "outputs": [],
   "source": [
    "y_pred = (output.detach().numpy() > 0.5).astype(\"int32\")"
   ]
  },
  {
   "cell_type": "code",
   "execution_count": null,
   "metadata": {
    "colab": {
     "base_uri": "https://localhost:8080/"
    },
    "executionInfo": {
     "elapsed": 36,
     "status": "ok",
     "timestamp": 1648256468342,
     "user": {
      "displayName": "Likun Cao",
      "photoUrl": "https://lh3.googleusercontent.com/a/default-user=s64",
      "userId": "01917344510473464948"
     },
     "user_tz": 300
    },
    "id": "O_zKo9pc843f",
    "outputId": "cf1b7a67-31c4-4e3e-bc13-170b07abde3d"
   },
   "outputs": [
    {
     "data": {
      "text/plain": [
       "0.74"
      ]
     },
     "execution_count": 67,
     "metadata": {},
     "output_type": "execute_result"
    }
   ],
   "source": [
    "sklearn.metrics.accuracy_score(y_test, y_pred)"
   ]
  },
  {
   "cell_type": "markdown",
   "metadata": {
    "id": "NW27TEcp843f"
   },
   "source": [
    "Adding just one layer improved model accuracies for both our Keras and PyTorch implementations!\n",
    "Adding depth adds non-linearity and is able to capture more complex relations. Keras and PyTorch have different set ups and formats, and you would want to switch things around as you see fit. \n",
    "\n",
    "Let's try and add one more layer, and try out different optimisers and loss functions to see what happens.\n",
    "\n"
   ]
  },
  {
   "cell_type": "code",
   "execution_count": null,
   "metadata": {
    "id": "prpAwmf3igPf"
   },
   "outputs": [],
   "source": [
    "class DeeperNetwork(nn.Module):\n",
    "    def __init__(self):\n",
    "        super().__init__()\n",
    "        # Inputs to hidden layer linear transformation\n",
    "        self.hidden = nn.Linear(200, 200)\n",
    "        # Output layer\n",
    "        self.output = nn.Linear(200, 1)\n",
    "        # Define sigmoid activation and softmax output \n",
    "        self.relu = nn.ReLU()\n",
    "        self.sigmoid = nn.Sigmoid()\n",
    "        \n",
    "\n",
    "    def forward(self, x):\n",
    "        # Pass the input tensor through each of our operations\n",
    "        x = self.hidden(x)\n",
    "        x = self.relu(x)\n",
    "        # notice how we just add another hidden unit layer\n",
    "        x = self.hidden(x)\n",
    "        x = self.relu(x)\n",
    "        # adding another layer\n",
    "        x = self.hidden(x)\n",
    "        x = self.relu(x)\n",
    "\n",
    "        x = self.output(x)\n",
    "        x = self.sigmoid(x)\n",
    "        return x"
   ]
  },
  {
   "cell_type": "code",
   "execution_count": null,
   "metadata": {
    "id": "Q4d7HJQwkutV"
   },
   "outputs": [],
   "source": [
    "net = DeeperNetwork()\n",
    "opt = optim.Adagrad(net.parameters(), lr=0.01, lr_decay=0, weight_decay=0, initial_accumulator_value=0, eps=1e-10)\n",
    "criterion = nn.PoissonNLLLoss()"
   ]
  },
  {
   "cell_type": "code",
   "execution_count": null,
   "metadata": {
    "id": "qIoy_19ald5c"
   },
   "outputs": [],
   "source": [
    "e_losses = []\n",
    "num_epochs = 200\n",
    "for e in range(num_epochs):\n",
    "    e_losses += train_epoch(net, opt, criterion, X_train_tensor.float(), y_train_tensor.float())"
   ]
  },
  {
   "cell_type": "code",
   "execution_count": null,
   "metadata": {
    "colab": {
     "base_uri": "https://localhost:8080/",
     "height": 295
    },
    "executionInfo": {
     "elapsed": 219,
     "status": "ok",
     "timestamp": 1648256469219,
     "user": {
      "displayName": "Likun Cao",
      "photoUrl": "https://lh3.googleusercontent.com/a/default-user=s64",
      "userId": "01917344510473464948"
     },
     "user_tz": 300
    },
    "id": "nMB1Editlv-H",
    "outputId": "d1336733-2725-40e8-ad41-5140d9abce81"
   },
   "outputs": [
    {
     "data": {
      "image/png": "[encoded data removed]",
      "text/plain": [
       "<Figure size 432x288 with 1 Axes>"
      ]
     },
     "metadata": {
      "needs_background": "light"
     },
     "output_type": "display_data"
    }
   ],
   "source": [
    "plt.title(\"Loss for Neural Net Training\")\n",
    "plt.xlabel(\"Number of epochs\")\n",
    "plt.ylabel(\"Loss\")\n",
    "plt.plot(e_losses)\n",
    "plt.show()"
   ]
  },
  {
   "cell_type": "code",
   "execution_count": null,
   "metadata": {
    "id": "txKf4ezml1Ej"
   },
   "outputs": [],
   "source": [
    "output = net(torch.tensor(X_test).float())"
   ]
  },
  {
   "cell_type": "code",
   "execution_count": null,
   "metadata": {
    "id": "2AxY7ZMZl4Az"
   },
   "outputs": [],
   "source": [
    "y_pred = (output.detach().numpy() > 0.5).astype(\"int32\")"
   ]
  },
  {
   "cell_type": "code",
   "execution_count": null,
   "metadata": {
    "colab": {
     "base_uri": "https://localhost:8080/"
    },
    "executionInfo": {
     "elapsed": 14,
     "status": "ok",
     "timestamp": 1648256469466,
     "user": {
      "displayName": "Likun Cao",
      "photoUrl": "https://lh3.googleusercontent.com/a/default-user=s64",
      "userId": "01917344510473464948"
     },
     "user_tz": 300
    },
    "id": "rFUC99W4l6-C",
    "outputId": "5939e5d4-01aa-4050-8ee8-ffb9e800af8d"
   },
   "outputs": [
    {
     "data": {
      "text/plain": [
       "0.48"
      ]
     },
     "execution_count": 74,
     "metadata": {},
     "output_type": "execute_result"
    }
   ],
   "source": [
    "sklearn.metrics.accuracy_score(y_test, y_pred)"
   ]
  },
  {
   "cell_type": "markdown",
   "metadata": {
    "id": "OGjlRcr8n80l"
   },
   "source": [
    "Uh oh - the loss function is dramatically failing, and our Poisson experiment did not end well. Which makes absolute sense, it isn't one suited for our task at hand. Let's change our loss and see if we fare better."
   ]
  },
  {
   "cell_type": "code",
   "execution_count": null,
   "metadata": {
    "id": "140Wp3ieoPM1"
   },
   "outputs": [],
   "source": [
    "net = DeeperNetwork()\n",
    "opt = optim.Adagrad(net.parameters(), lr=0.01, lr_decay=0, weight_decay=0, initial_accumulator_value=0, eps=1e-10)\n",
    "criterion = nn.BCELoss()"
   ]
  },
  {
   "cell_type": "code",
   "execution_count": null,
   "metadata": {
    "id": "YEuhD3_Mohhu"
   },
   "outputs": [],
   "source": [
    "e_losses = []\n",
    "num_epochs = 200\n",
    "for e in range(num_epochs):\n",
    "    e_losses += train_epoch(net, opt, criterion, X_train_tensor.float(), y_train_tensor.float())"
   ]
  },
  {
   "cell_type": "code",
   "execution_count": null,
   "metadata": {
    "colab": {
     "base_uri": "https://localhost:8080/",
     "height": 295
    },
    "executionInfo": {
     "elapsed": 198,
     "status": "ok",
     "timestamp": 1648256470137,
     "user": {
      "displayName": "Likun Cao",
      "photoUrl": "https://lh3.googleusercontent.com/a/default-user=s64",
      "userId": "01917344510473464948"
     },
     "user_tz": 300
    },
    "id": "xy0jf25QouKf",
    "outputId": "9ed1c606-64cf-4d1f-8784-2ddc261a3bab"
   },
   "outputs": [
    {
     "data": {
      "image/png": "[encoded data removed]",
      "text/plain": [
       "<Figure size 432x288 with 1 Axes>"
      ]
     },
     "metadata": {
      "needs_background": "light"
     },
     "output_type": "display_data"
    }
   ],
   "source": [
    "plt.title(\"Loss for Neural Net Training\")\n",
    "plt.xlabel(\"Number of epochs\")\n",
    "plt.ylabel(\"Loss\")\n",
    "plt.plot(e_losses)\n",
    "plt.show()"
   ]
  },
  {
   "cell_type": "code",
   "execution_count": null,
   "metadata": {
    "id": "20ay6Wlbov02"
   },
   "outputs": [],
   "source": [
    "output = net(torch.tensor(X_test).float())"
   ]
  },
  {
   "cell_type": "code",
   "execution_count": null,
   "metadata": {
    "id": "uU296-VmoyH-"
   },
   "outputs": [],
   "source": [
    "y_pred = (output.detach().numpy() > 0.5).astype(\"int32\")"
   ]
  },
  {
   "cell_type": "code",
   "execution_count": null,
   "metadata": {
    "colab": {
     "base_uri": "https://localhost:8080/"
    },
    "executionInfo": {
     "elapsed": 29,
     "status": "ok",
     "timestamp": 1648256470150,
     "user": {
      "displayName": "Likun Cao",
      "photoUrl": "https://lh3.googleusercontent.com/a/default-user=s64",
      "userId": "01917344510473464948"
     },
     "user_tz": 300
    },
    "id": "qST5b9TWox7h",
    "outputId": "ad9b13cb-8177-4a8d-e407-2797c8365a05"
   },
   "outputs": [
    {
     "data": {
      "text/plain": [
       "0.66"
      ]
     },
     "execution_count": 80,
     "metadata": {},
     "output_type": "execute_result"
    }
   ],
   "source": [
    "sklearn.metrics.accuracy_score(y_test, y_pred)"
   ]
  },
  {
   "cell_type": "markdown",
   "metadata": {
    "id": "onHrGWd6o6Ij"
   },
   "source": [
    "So the loss is suited for the task, but it seems like the extra layer and Adargrad didn't necessarily do the trick. In your homework, you will experiment similarly with archistecture design and state your results, analysis, and explanations."
   ]
  },
  {
   "cell_type": "markdown",
   "metadata": {
    "id": "ULW3oWMNeDTS"
   },
   "source": [
    "###  Interpretability in Neural Networks\n",
    "Traditionally, neural networks have been taken as \"black boxes\" good at prediction but not accessible for interpretation. However, in recent years, with the development of AI, people have begun to think about the possibility of interpreting neural networks outcomes for theoretical insight. In this section, we introduce a library--Captum, which aims to interpret the outcomes of feedforward neural networks in terms of input feature importances, layers and neurons that contribute most to the ultimate prediction."
   ]
  },
  {
   "cell_type": "markdown",
   "metadata": {
    "id": "5B7gVtUPeDXX"
   },
   "source": [
    "We first install the packages. In this section, we demonstrate two examples. In the first, a deep neural network is trained on data with PyTorch, and Captum is used to understand which of the features were most important and how the network reached its prediction. In the second example, a simple DNN model trained on a sub-sample of a well-known Boston house prices dataset. Captum is used to understand important features, layers / neurons that contribute to the prediction. More details can be found in the official documentations of Captum. \n",
    "\n",
    "https://captum.ai/tutorials/\n",
    "\n",
    "Let's begin!"
   ]
  },
  {
   "cell_type": "markdown",
   "metadata": {
    "id": "L6oEWVJrnjDO"
   },
   "source": [
    "**Example 1: Titanic survival Classification**"
   ]
  },
  {
   "cell_type": "code",
   "execution_count": null,
   "metadata": {
    "colab": {
     "base_uri": "https://localhost:8080/"
    },
    "executionInfo": {
     "elapsed": 2941,
     "status": "ok",
     "timestamp": 1648256473360,
     "user": {
      "displayName": "Likun Cao",
      "photoUrl": "https://lh3.googleusercontent.com/a/default-user=s64",
      "userId": "01917344510473464948"
     },
     "user_tz": 300
    },
    "id": "RxR9qNjriyXv",
    "outputId": "c581d852-2241-47f8-c925-5154f6d56fd1"
   },
   "outputs": [
    {
     "name": "stdout",
     "output_type": "stream",
     "text": [
      "Requirement already satisfied: captum in /usr/local/lib/python3.7/dist-packages (0.5.0)\n",
      "Requirement already satisfied: torch>=1.6 in /usr/local/lib/python3.7/dist-packages (from captum) (1.10.0+cu111)\n",
      "Requirement already satisfied: numpy in /usr/local/lib/python3.7/dist-packages (from captum) (1.21.5)\n",
      "Requirement already satisfied: matplotlib in /usr/local/lib/python3.7/dist-packages (from captum) (3.2.2)\n",
      "Requirement already satisfied: typing-extensions in /usr/local/lib/python3.7/dist-packages (from torch>=1.6->captum) (3.10.0.2)\n",
      "Requirement already satisfied: python-dateutil>=2.1 in /usr/local/lib/python3.7/dist-packages (from matplotlib->captum) (2.8.2)\n",
      "Requirement already satisfied: pyparsing!=2.0.4,!=2.1.2,!=2.1.6,>=2.0.1 in /usr/local/lib/python3.7/dist-packages (from matplotlib->captum) (3.0.7)\n",
      "Requirement already satisfied: kiwisolver>=1.0.1 in /usr/local/lib/python3.7/dist-packages (from matplotlib->captum) (1.4.0)\n",
      "Requirement already satisfied: cycler>=0.10 in /usr/local/lib/python3.7/dist-packages (from matplotlib->captum) (0.11.0)\n",
      "Requirement already satisfied: six>=1.5 in /usr/local/lib/python3.7/dist-packages (from python-dateutil>=2.1->matplotlib->captum) (1.15.0)\n"
     ]
    }
   ],
   "source": [
    "!pip install captum"
   ]
  },
  {
   "cell_type": "code",
   "execution_count": null,
   "metadata": {
    "id": "buf_2E-Di9dl"
   },
   "outputs": [],
   "source": [
    "# Initial imports\n",
    "import numpy as np\n",
    "\n",
    "import torch\n",
    "\n",
    "from captum.attr import IntegratedGradients\n",
    "from captum.attr import LayerConductance\n",
    "from captum.attr import NeuronConductance\n",
    "\n",
    "import matplotlib\n",
    "import matplotlib.pyplot as plt\n",
    "%matplotlib inline\n",
    "\n",
    "from scipy import stats\n",
    "import pandas as pd"
   ]
  },
  {
   "cell_type": "markdown",
   "metadata": {
    "id": "MzVDejYAjIFo"
   },
   "source": [
    "Download the dataset from https://biostat.app.vumc.org/wiki/pub/Main/DataSets/titanic3.csv and update the cell below with the path to the dataset csv."
   ]
  },
  {
   "cell_type": "code",
   "execution_count": null,
   "metadata": {
    "id": "v5VYH2UVjAfX"
   },
   "outputs": [],
   "source": [
    "dataset_path = \"titanic3.csv\"\n",
    "titanic_data = pd.read_csv(dataset_path)\n",
    "titanic_data = pd.concat([titanic_data,\n",
    "                          pd.get_dummies(titanic_data['sex']),\n",
    "                          pd.get_dummies(titanic_data['embarked'],prefix=\"embark\"),\n",
    "                          pd.get_dummies(titanic_data['pclass'],prefix=\"class\")], axis=1)\n",
    "titanic_data[\"age\"] = titanic_data[\"age\"].fillna(titanic_data[\"age\"].mean())\n",
    "titanic_data[\"fare\"] = titanic_data[\"fare\"].fillna(titanic_data[\"fare\"].mean())\n",
    "titanic_data = titanic_data.drop(['name','ticket','cabin','boat','body','home.dest','sex','embarked','pclass'], axis=1)"
   ]
  },
  {
   "cell_type": "markdown",
   "metadata": {
    "id": "gBoBhQY1jXRK"
   },
   "source": [
    "After processing, the features we have are:\n",
    "\n",
    "Age - Passenger Age\n",
    "\n",
    "Sibsp - Number of Siblings / Spouses Aboard\n",
    "\n",
    "Parch - Number of Parents / Children Aboard\n",
    "\n",
    "Fare - Fare Amount Paid in British Pounds\n",
    "\n",
    "Female - Binary variable indicating whether passenger is female\n",
    "\n",
    "Male - Binary variable indicating whether passenger is male\n",
    "\n",
    "EmbarkC - Binary variable indicating whether passenger \n",
    "embarked at Cherbourg\n",
    "\n",
    "EmbarkQ - Binary variable indicating whether passenger embarked at Queenstown\n",
    "\n",
    "EmbarkS - Binary variable indicating whether passenger embarked at Southampton\n",
    "\n",
    "Class1 - Binary variable indicating whether passenger was in first class\n",
    "\n",
    "Class2 - Binary variable indicating whether passenger was in second class\n",
    "\n",
    "Class3 - Binary variable indicating whether passenger was in third class"
   ]
  },
  {
   "cell_type": "code",
   "execution_count": null,
   "metadata": {
    "id": "3A3s8lYOjSPH"
   },
   "outputs": [],
   "source": [
    "#We now convert the data to numpy arrays and separate the training and test sets.\n",
    "\n",
    "np.random.seed(131254)\n",
    "\n",
    "# Convert features and labels to numpy arrays.\n",
    "labels = titanic_data[\"survived\"].to_numpy()\n",
    "titanic_data = titanic_data.drop(['survived'], axis=1)\n",
    "feature_names = list(titanic_data.columns)\n",
    "data = titanic_data.to_numpy()\n",
    "\n",
    "# Separate training and test sets using \n",
    "train_indices = np.random.choice(len(labels), int(0.7*len(labels)), replace=False)\n",
    "test_indices = list(set(range(len(labels))) - set(train_indices))\n",
    "train_features = data[train_indices]\n",
    "train_labels = labels[train_indices]\n",
    "test_features = data[test_indices]\n",
    "test_labels = labels[test_indices]"
   ]
  },
  {
   "cell_type": "markdown",
   "metadata": {
    "id": "45akWcKrjtmW"
   },
   "source": [
    "Here, the authors of Captum have defined a simple architecture using 2 hidden layers, the first with 12 hidden units and the second with 8 hidden units, each with Sigmoid non-linearity. The final layer performs a softmax operation and has 2 units, corresponding to the outputs of either survived (1) or not survived (0)."
   ]
  },
  {
   "cell_type": "code",
   "execution_count": null,
   "metadata": {
    "id": "MHLyAq4VjkUS"
   },
   "outputs": [],
   "source": [
    "\n",
    "import torch\n",
    "import torch.nn as nn\n",
    "torch.manual_seed(1)  # Set seed for reproducibility.\n",
    "class TitanicSimpleNNModel(nn.Module):\n",
    "    def __init__(self):\n",
    "        super().__init__()\n",
    "        self.linear1 = nn.Linear(12, 12)\n",
    "        self.sigmoid1 = nn.Sigmoid()\n",
    "        self.linear2 = nn.Linear(12, 8)\n",
    "        self.sigmoid2 = nn.Sigmoid()\n",
    "        self.linear3 = nn.Linear(8, 2)\n",
    "        self.softmax = nn.Softmax(dim=1)\n",
    "\n",
    "    def forward(self, x):\n",
    "        lin1_out = self.linear1(x)\n",
    "        sigmoid_out1 = self.sigmoid1(lin1_out)\n",
    "        sigmoid_out2 = self.sigmoid2(self.linear2(sigmoid_out1))\n",
    "        return self.softmax(self.linear3(sigmoid_out2))"
   ]
  },
  {
   "cell_type": "markdown",
   "metadata": {
    "id": "d2u7ps2Ij3R1"
   },
   "source": [
    "The pretrained model can be downloaded here: https://github.com/pytorch/captum/blob/master/tutorials/models/titanic_model.pt"
   ]
  },
  {
   "cell_type": "code",
   "execution_count": null,
   "metadata": {
    "colab": {
     "base_uri": "https://localhost:8080/"
    },
    "executionInfo": {
     "elapsed": 496,
     "status": "ok",
     "timestamp": 1648256473982,
     "user": {
      "displayName": "Likun Cao",
      "photoUrl": "https://lh3.googleusercontent.com/a/default-user=s64",
      "userId": "01917344510473464948"
     },
     "user_tz": 300
    },
    "id": "7Vre5qvGjvXZ",
    "outputId": "7e814c89-2321-4937-90af-4d308aa21c6d"
   },
   "outputs": [
    {
     "name": "stdout",
     "output_type": "stream",
     "text": [
      "Epoch 1/200 => Loss: 0.70\n",
      "Epoch 21/200 => Loss: 0.55\n",
      "Epoch 41/200 => Loss: 0.50\n",
      "Epoch 61/200 => Loss: 0.49\n",
      "Epoch 81/200 => Loss: 0.48\n",
      "Epoch 101/200 => Loss: 0.48\n",
      "Epoch 121/200 => Loss: 0.48\n",
      "Epoch 141/200 => Loss: 0.48\n",
      "Epoch 161/200 => Loss: 0.47\n",
      "Epoch 181/200 => Loss: 0.47\n"
     ]
    }
   ],
   "source": [
    "net = TitanicSimpleNNModel()\n",
    "USE_PRETRAINED_MODEL = False\n",
    "\n",
    "if USE_PRETRAINED_MODEL:\n",
    "    net.load_state_dict(torch.load('/content/titanic_model.pt'))\n",
    "    print(\"Model Loaded!\")\n",
    "else:\n",
    "    criterion = nn.CrossEntropyLoss()\n",
    "    num_epochs = 200\n",
    "\n",
    "    optimizer = torch.optim.Adam(net.parameters(), lr=0.1)\n",
    "    input_tensor = torch.from_numpy(train_features).type(torch.FloatTensor)\n",
    "    label_tensor = torch.from_numpy(train_labels)\n",
    "    for epoch in range(num_epochs):    \n",
    "        output = net(input_tensor)\n",
    "        loss = criterion(output, label_tensor)\n",
    "        optimizer.zero_grad()\n",
    "        loss.backward()\n",
    "        optimizer.step()\n",
    "        if epoch % 20 == 0:\n",
    "            print ('Epoch {}/{} => Loss: {:.2f}'.format(epoch+1, num_epochs, loss.item()))\n",
    "\n",
    "    torch.save(net.state_dict(), '/content/titanic_model_trained.pt')"
   ]
  },
  {
   "cell_type": "code",
   "execution_count": null,
   "metadata": {
    "colab": {
     "base_uri": "https://localhost:8080/"
    },
    "executionInfo": {
     "elapsed": 18,
     "status": "ok",
     "timestamp": 1648256473983,
     "user": {
      "displayName": "Likun Cao",
      "photoUrl": "https://lh3.googleusercontent.com/a/default-user=s64",
      "userId": "01917344510473464948"
     },
     "user_tz": 300
    },
    "id": "d6HoGevkj_l4",
    "outputId": "8cb37b76-e513-480a-a2a1-b3538043c04f"
   },
   "outputs": [
    {
     "name": "stdout",
     "output_type": "stream",
     "text": [
      "Train Accuracy: 0.8427947598253275\n"
     ]
    }
   ],
   "source": [
    "# model evaluation\n",
    "out_probs = net(input_tensor).detach().numpy()\n",
    "out_classes = np.argmax(out_probs, axis=1)\n",
    "print(\"Train Accuracy:\", sum(out_classes == train_labels) / len(train_labels))"
   ]
  },
  {
   "cell_type": "code",
   "execution_count": null,
   "metadata": {
    "colab": {
     "base_uri": "https://localhost:8080/"
    },
    "executionInfo": {
     "elapsed": 17,
     "status": "ok",
     "timestamp": 1648256473984,
     "user": {
      "displayName": "Likun Cao",
      "photoUrl": "https://lh3.googleusercontent.com/a/default-user=s64",
      "userId": "01917344510473464948"
     },
     "user_tz": 300
    },
    "id": "BpO6JkfLkW57",
    "outputId": "6266e1c2-5ba0-4297-aefa-2bc9f78e65f3"
   },
   "outputs": [
    {
     "name": "stdout",
     "output_type": "stream",
     "text": [
      "Test Accuracy: 0.816793893129771\n"
     ]
    }
   ],
   "source": [
    "test_input_tensor = torch.from_numpy(test_features).type(torch.FloatTensor)\n",
    "out_probs = net(test_input_tensor).detach().numpy()\n",
    "out_classes = np.argmax(out_probs, axis=1)\n",
    "print(\"Test Accuracy:\", sum(out_classes == test_labels) / len(test_labels))"
   ]
  },
  {
   "cell_type": "markdown",
   "metadata": {
    "id": "DTB2LNXIk5G8"
   },
   "source": [
    "The first question we can ask is which of the features were actually important to the model to reach this decision? This is the first main component of Captum, the ability to obtain **Feature Attributions**. Here we apply Integrated Gradients, one of the Feature Attribution methods included in Captum, which assigns an importance score to each input feature by approximating the integral of gradients of the model’s output with respect to inputs along the straight-line path from given baselines to inputs (see https://arxiv.org/abs/1703.01365).\n",
    "\n",
    "The method takes tensor(s) of input examples (matching the forward function of the model), and returns the input attributions for the given examples. After we get the attribution for each feature, we can visualize it. "
   ]
  },
  {
   "cell_type": "code",
   "execution_count": null,
   "metadata": {
    "colab": {
     "base_uri": "https://localhost:8080/",
     "height": 631
    },
    "executionInfo": {
     "elapsed": 1681,
     "status": "ok",
     "timestamp": 1648256475656,
     "user": {
      "displayName": "Likun Cao",
      "photoUrl": "https://lh3.googleusercontent.com/a/default-user=s64",
      "userId": "01917344510473464948"
     },
     "user_tz": 300
    },
    "id": "31jX_1DylFn1",
    "outputId": "deb27293-f932-4b21-860c-cf36a49e49e6"
   },
   "outputs": [
    {
     "name": "stdout",
     "output_type": "stream",
     "text": [
      "Average Feature Importances\n",
      "age :  -0.514\n",
      "sibsp :  -0.075\n",
      "parch :  -0.001\n",
      "fare :  0.112\n",
      "female :  0.146\n",
      "male :  -0.367\n",
      "embark_C :  0.152\n",
      "embark_Q :  0.017\n",
      "embark_S :  -0.101\n",
      "class_1 :  0.068\n",
      "class_2 :  0.012\n",
      "class_3 :  -0.176\n"
     ]
    },
    {
     "data": {
      "image/png": "[encoded data removed]",
      "text/plain": [
       "<Figure size 864x432 with 1 Axes>"
      ]
     },
     "metadata": {
      "needs_background": "light"
     },
     "output_type": "display_data"
    }
   ],
   "source": [
    "ig = IntegratedGradients(net)\n",
    "test_input_tensor.requires_grad_()\n",
    "attr, delta = ig.attribute(test_input_tensor,target=1, return_convergence_delta=True)\n",
    "attr = attr.detach().numpy()\n",
    "\n",
    "def visualize_importances(feature_names, importances, title=\"Average Feature Importances\", plot=True, axis_title=\"Features\"):\n",
    "    print(title)\n",
    "    for i in range(len(feature_names)):\n",
    "        print(feature_names[i], \": \", '%.3f'%(importances[i]))\n",
    "    x_pos = (np.arange(len(feature_names)))\n",
    "    if plot:\n",
    "        plt.figure(figsize=(12,6))\n",
    "        plt.bar(x_pos, importances, align='center')\n",
    "        plt.xticks(x_pos, feature_names, wrap=True)\n",
    "        plt.xlabel(axis_title)\n",
    "        plt.title(title)\n",
    "visualize_importances(feature_names, np.mean(attr, axis=0))"
   ]
  },
  {
   "cell_type": "markdown",
   "metadata": {
    "id": "qVJq5sHnl10G"
   },
   "source": [
    "An important thing to note is that the average attributions over the test set don't necessarilly capture all information regarding feature importances. We should also look at the distribution of attributions for each feature. It is possible that features have very different attributions for different examples in the dataset.\n",
    "\n",
    "For instance, we can visualize the distribution of attributions for sibsp, the number of siblings / spouses."
   ]
  },
  {
   "cell_type": "code",
   "execution_count": null,
   "metadata": {
    "colab": {
     "base_uri": "https://localhost:8080/",
     "height": 281
    },
    "executionInfo": {
     "elapsed": 1140,
     "status": "ok",
     "timestamp": 1648256476777,
     "user": {
      "displayName": "Likun Cao",
      "photoUrl": "https://lh3.googleusercontent.com/a/default-user=s64",
      "userId": "01917344510473464948"
     },
     "user_tz": 300
    },
    "id": "QOESEZ9YlMWx",
    "outputId": "2a7e9e77-a63f-439f-c590-14f9e506a6c4"
   },
   "outputs": [
    {
     "data": {
      "image/png": "[encoded data removed]",
      "text/plain": [
       "<Figure size 432x288 with 1 Axes>"
      ]
     },
     "metadata": {
      "needs_background": "light"
     },
     "output_type": "display_data"
    }
   ],
   "source": [
    "plt.hist(attr[:,1], 100);\n",
    "plt.title(\"Distribution of Sibsp Attribution Values\");"
   ]
  },
  {
   "cell_type": "markdown",
   "metadata": {
    "id": "Gl3gyZTomTbi"
   },
   "source": [
    "Now that we have a better understanding of the importance of different input features, another question we can ask regards the function of the neural network and how different neurons in each layer work together to reach the prediction. This leads us to the second type of attributions available in Captum, Layer Attributions. Layer attributions allow us to understand the importance of all the neurons in the output of a particular layer. For this example, we will be using Layer Conductance, one of the Layer Attribution methods in Captum, which computes conductance with respect to a given layer, with returned output in the shape of the layer’s output, showing the total conductance of each hidden layer neuron.\n",
    "\n",
    "The details of the approach can be found here: https://arxiv.org/abs/1805.12233 https://arxiv.org/pdf/1807.09946.pdf\n",
    "\n",
    "LayerConductance also requires a target index for networks with mutliple outputs, defining the index of the output for which gradients are computed. Similar to feature attributions, we provide target = 1, corresponding to survival. "
   ]
  },
  {
   "cell_type": "code",
   "execution_count": null,
   "metadata": {
    "colab": {
     "base_uri": "https://localhost:8080/",
     "height": 630
    },
    "executionInfo": {
     "elapsed": 1810,
     "status": "ok",
     "timestamp": 1648256478579,
     "user": {
      "displayName": "Likun Cao",
      "photoUrl": "https://lh3.googleusercontent.com/a/default-user=s64",
      "userId": "01917344510473464948"
     },
     "user_tz": 300
    },
    "id": "yeym3aLel9t6",
    "outputId": "a8125931-7723-4d3e-c97c-2bcad94235fc"
   },
   "outputs": [
    {
     "name": "stdout",
     "output_type": "stream",
     "text": [
      "Average Neuron Importances\n",
      "0 :  0.005\n",
      "1 :  -0.188\n",
      "2 :  0.035\n",
      "3 :  0.013\n",
      "4 :  0.067\n",
      "5 :  -0.051\n",
      "6 :  0.025\n",
      "7 :  0.000\n",
      "8 :  -0.333\n",
      "9 :  -0.000\n",
      "10 :  -0.272\n",
      "11 :  0.016\n"
     ]
    },
    {
     "data": {
      "image/png": "[encoded data removed]",
      "text/plain": [
       "<Figure size 864x432 with 1 Axes>"
      ]
     },
     "metadata": {
      "needs_background": "light"
     },
     "output_type": "display_data"
    }
   ],
   "source": [
    "cond = LayerConductance(net, net.sigmoid1)\n",
    "\n",
    "cond_vals = cond.attribute(test_input_tensor,target=1)\n",
    "cond_vals = cond_vals.detach().numpy()\n",
    "\n",
    "visualize_importances(range(12),np.mean(cond_vals, axis=0),title=\"Average Neuron Importances\", axis_title=\"Neurons\")"
   ]
  },
  {
   "cell_type": "markdown",
   "metadata": {
    "id": "nvuvRLoqmypb"
   },
   "source": [
    "We can also look at the distribution of each neuron's attributions. Below we look at the distributions for neurons 7 and 9, and we can confirm that their attribution distributions are very close to 0, suggesting they are not learning substantial features."
   ]
  },
  {
   "cell_type": "code",
   "execution_count": null,
   "metadata": {
    "colab": {
     "base_uri": "https://localhost:8080/",
     "height": 545
    },
    "executionInfo": {
     "elapsed": 1816,
     "status": "ok",
     "timestamp": 1648256480387,
     "user": {
      "displayName": "Likun Cao",
      "photoUrl": "https://lh3.googleusercontent.com/a/default-user=s64",
      "userId": "01917344510473464948"
     },
     "user_tz": 300
    },
    "id": "DDQ7mNEZmcrL",
    "outputId": "129670e8-db7a-4eb1-eb92-e3d44e405e21"
   },
   "outputs": [
    {
     "data": {
      "image/png": "[encoded data removed]",
      "text/plain": [
       "<Figure size 432x288 with 1 Axes>"
      ]
     },
     "metadata": {
      "needs_background": "light"
     },
     "output_type": "display_data"
    },
    {
     "data": {
      "image/png": "[encoded data removed]",
      "text/plain": [
       "<Figure size 432x288 with 1 Axes>"
      ]
     },
     "metadata": {
      "needs_background": "light"
     },
     "output_type": "display_data"
    }
   ],
   "source": [
    "plt.hist(cond_vals[:,9], 100);\n",
    "plt.title(\"Neuron 9 Distribution\")\n",
    "plt.figure()\n",
    "plt.hist(cond_vals[:,7], 100);\n",
    "plt.title(\"Neuron 7 Distribution\");"
   ]
  },
  {
   "cell_type": "markdown",
   "metadata": {
    "id": "DoGC7-IynEgP"
   },
   "source": [
    "The third type of attributions available in Captum, Neuron Attributions.  This allows us to understand what parts of the input contribute to activating a particular input neuron and so suggest the nature of the most used variable interactions in the best performing model. "
   ]
  },
  {
   "cell_type": "code",
   "execution_count": null,
   "metadata": {
    "colab": {
     "base_uri": "https://localhost:8080/",
     "height": 631
    },
    "executionInfo": {
     "elapsed": 4396,
     "status": "ok",
     "timestamp": 1648256484777,
     "user": {
      "displayName": "Likun Cao",
      "photoUrl": "https://lh3.googleusercontent.com/a/default-user=s64",
      "userId": "01917344510473464948"
     },
     "user_tz": 300
    },
    "id": "ES0LDwGgm2Du",
    "outputId": "9bdecd39-721f-47f1-f163-ca86e1f8022e"
   },
   "outputs": [
    {
     "name": "stdout",
     "output_type": "stream",
     "text": [
      "Average Feature Importances for Neuron 0\n",
      "age :  0.003\n",
      "sibsp :  0.000\n",
      "parch :  0.000\n",
      "fare :  0.002\n",
      "female :  0.000\n",
      "male :  -0.000\n",
      "embark_C :  0.000\n",
      "embark_Q :  0.000\n",
      "embark_S :  0.000\n",
      "class_1 :  0.000\n",
      "class_2 :  0.000\n",
      "class_3 :  0.000\n"
     ]
    },
    {
     "data": {
      "image/png": "[encoded data removed]",
      "text/plain": [
       "<Figure size 864x432 with 1 Axes>"
      ]
     },
     "metadata": {
      "needs_background": "light"
     },
     "output_type": "display_data"
    }
   ],
   "source": [
    "neuron_cond = NeuronConductance(net, net.sigmoid1)\n",
    "neuron_cond_vals_0 = neuron_cond.attribute(test_input_tensor, neuron_selector=0, target=1)\n",
    "\n",
    "visualize_importances(feature_names, neuron_cond_vals_0.mean(dim=0).detach().numpy(), title=\"Average Feature Importances for Neuron 0\")"
   ]
  },
  {
   "cell_type": "markdown",
   "metadata": {
    "id": "eeS8EjarnchP"
   },
   "source": [
    "From the data above, it appears that the primary input features used by neuron 0 are age and fare, with limited importance for all other features."
   ]
  },
  {
   "cell_type": "markdown",
   "metadata": {
    "id": "2DDyKgWEntMz"
   },
   "source": [
    "**Example 2: Boston House Prices Prediction (Regression)**"
   ]
  },
  {
   "cell_type": "markdown",
   "metadata": {
    "id": "20_Z7hTjn37M"
   },
   "source": [
    "The Captum library can also be applied on regression models to understand important features. Here, a simple DNN model is trained on a sub-sample of a well-known Boston house prices dataset, and we try to use package to interpret it."
   ]
  },
  {
   "cell_type": "code",
   "execution_count": null,
   "metadata": {
    "id": "gD5kTJs4nfee"
   },
   "outputs": [],
   "source": [
    "import numpy as np\n",
    "\n",
    "from os import path\n",
    "\n",
    "\n",
    "import matplotlib.pyplot as plt\n",
    "\n",
    "#scikit-learn related imports\n",
    "import sklearn\n",
    "from sklearn.datasets import load_boston\n",
    "from sklearn.model_selection import train_test_split\n",
    "from sklearn.metrics import mean_squared_error\n",
    "\n",
    "# pytorch relates imports\n",
    "import torch\n",
    "import torch.nn as nn\n",
    "import torch.optim as optim\n",
    "\n",
    "# imports from captum library\n",
    "from captum.attr import LayerConductance, LayerActivation, LayerIntegratedGradients\n",
    "from captum.attr import IntegratedGradients, DeepLift, GradientShap, NoiseTunnel, FeatureAblation"
   ]
  },
  {
   "cell_type": "code",
   "execution_count": null,
   "metadata": {
    "colab": {
     "base_uri": "https://localhost:8080/"
    },
    "executionInfo": {
     "elapsed": 20,
     "status": "ok",
     "timestamp": 1648256484781,
     "user": {
      "displayName": "Likun Cao",
      "photoUrl": "https://lh3.googleusercontent.com/a/default-user=s64",
      "userId": "01917344510473464948"
     },
     "user_tz": 300
    },
    "id": "vI2ByaM-oLAo",
    "outputId": "67e62e8c-d76b-4ebf-b8ee-cce9d0810ffd"
   },
   "outputs": [
    {
     "name": "stderr",
     "output_type": "stream",
     "text": [
      "/usr/local/lib/python3.7/dist-packages/sklearn/utils/deprecation.py:87: FutureWarning: Function load_boston is deprecated; `load_boston` is deprecated in 1.0 and will be removed in 1.2.\n",
      "\n",
      "    The Boston housing prices dataset has an ethical problem. You can refer to\n",
      "    the documentation of this function for further details.\n",
      "\n",
      "    The scikit-learn maintainers therefore strongly discourage the use of this\n",
      "    dataset unless the purpose of the code is to study and educate about\n",
      "    ethical issues in data science and machine learning.\n",
      "\n",
      "    In this special case, you can fetch the dataset from the original\n",
      "    source::\n",
      "\n",
      "        import pandas as pd\n",
      "        import numpy as np\n",
      "\n",
      "\n",
      "        data_url = \"http://lib.stat.cmu.edu/datasets/boston\"\n",
      "        raw_df = pd.read_csv(data_url, sep=\"\\s+\", skiprows=22, header=None)\n",
      "        data = np.hstack([raw_df.values[::2, :], raw_df.values[1::2, :2]])\n",
      "        target = raw_df.values[1::2, 2]\n",
      "\n",
      "    Alternative datasets include the California housing dataset (i.e.\n",
      "    :func:`~sklearn.datasets.fetch_california_housing`) and the Ames housing\n",
      "    dataset. You can load the datasets as follows::\n",
      "\n",
      "        from sklearn.datasets import fetch_california_housing\n",
      "        housing = fetch_california_housing()\n",
      "\n",
      "    for the California housing dataset and::\n",
      "\n",
      "        from sklearn.datasets import fetch_openml\n",
      "        housing = fetch_openml(name=\"house_prices\", as_frame=True)\n",
      "\n",
      "    for the Ames housing dataset.\n",
      "    \n",
      "  warnings.warn(msg, category=FutureWarning)\n"
     ]
    }
   ],
   "source": [
    "# Data Preparation\n",
    "\n",
    "boston = load_boston()\n",
    "\n",
    "# feature_names -> ['CRIM', 'ZN', 'INDUS', 'CHAS', 'NOX', 'RM', 'AGE', 'DIS', 'RAD', 'TAX', 'PTRATIO', 'B', 'LSTAT']\n",
    "feature_names = boston.feature_names\n",
    "\n",
    "X = boston.data\n",
    "y = boston.target\n",
    "\n",
    "torch.manual_seed(1234)\n",
    "np.random.seed(1234)\n",
    "\n",
    "X_train, X_test, y_train, y_test = train_test_split(X, y, test_size=0.3, random_state=0)"
   ]
  },
  {
   "cell_type": "markdown",
   "metadata": {
    "id": "rxZUbv-3obFG"
   },
   "source": [
    "First, we can explore the data and visualize dependent variable vs. each independent variable in separate plots."
   ]
  },
  {
   "cell_type": "code",
   "execution_count": null,
   "metadata": {
    "colab": {
     "base_uri": "https://localhost:8080/",
     "height": 640
    },
    "executionInfo": {
     "elapsed": 6739,
     "status": "ok",
     "timestamp": 1648256491510,
     "user": {
      "displayName": "Likun Cao",
      "photoUrl": "https://lh3.googleusercontent.com/a/default-user=s64",
      "userId": "01917344510473464948"
     },
     "user_tz": 300
    },
    "id": "H4RdcOiMoX93",
    "outputId": "51e676d8-9626-40fa-cba1-17191c314c71"
   },
   "outputs": [
    {
     "data": {
      "image/png": "[encoded data removed]",
      "text/plain": [
       "<Figure size 2160x1440 with 15 Axes>"
      ]
     },
     "metadata": {
      "needs_background": "light"
     },
     "output_type": "display_data"
    }
   ],
   "source": [
    "fig, axs = plt.subplots(nrows = 3, ncols=5, figsize=(30, 20))\n",
    "for i, (ax, col) in enumerate(zip(axs.flat, feature_names)):\n",
    "    x = X[:,i]\n",
    "    pf = np.polyfit(x, y, 1)\n",
    "    p = np.poly1d(pf)\n",
    "\n",
    "    ax.plot(x, y, 'o')\n",
    "    ax.plot(x, p(x),\"r--\")\n",
    "\n",
    "    ax.set_title(col + ' vs Prices')\n",
    "    ax.set_xlabel(col)\n",
    "    ax.set_ylabel('Prices')"
   ]
  },
  {
   "cell_type": "markdown",
   "metadata": {
    "id": "Phd_8TSlooLX"
   },
   "source": [
    "Then, we train a neural network and try to interpret the results.\n",
    "\n",
    "If you have run all the code in this notebook, you should be able to understand each line of code in the following block."
   ]
  },
  {
   "cell_type": "code",
   "execution_count": null,
   "metadata": {
    "colab": {
     "base_uri": "https://localhost:8080/"
    },
    "executionInfo": {
     "elapsed": 17847,
     "status": "ok",
     "timestamp": 1648256509317,
     "user": {
      "displayName": "Likun Cao",
      "photoUrl": "https://lh3.googleusercontent.com/a/default-user=s64",
      "userId": "01917344510473464948"
     },
     "user_tz": 300
    },
    "id": "FpFMTIjLonuz",
    "outputId": "74d91342-23b3-4d61-e121-db230b549008"
   },
   "outputs": [
    {
     "name": "stdout",
     "output_type": "stream",
     "text": [
      "Epoch [1]/[200] running accumulative loss across all batches: 53562.252\n",
      "Epoch [21]/[200] running accumulative loss across all batches: 19221.868\n",
      "Epoch [41]/[200] running accumulative loss across all batches: 18055.469\n",
      "Epoch [61]/[200] running accumulative loss across all batches: 16208.737\n",
      "Epoch [81]/[200] running accumulative loss across all batches: 14538.289\n",
      "Epoch [101]/[200] running accumulative loss across all batches: 12580.051\n",
      "Epoch [121]/[200] running accumulative loss across all batches: 11062.757\n",
      "Epoch [141]/[200] running accumulative loss across all batches: 10054.818\n",
      "Epoch [161]/[200] running accumulative loss across all batches: 9377.320\n",
      "Epoch [181]/[200] running accumulative loss across all batches: 8883.170\n",
      "Finished training the model. Saving the model to the path: /content/boston_model.pt\n"
     ]
    }
   ],
   "source": [
    "# Model setting and training\n",
    "\n",
    "X_train = torch.tensor(X_train).float()\n",
    "y_train = torch.tensor(y_train).view(-1, 1).float()\n",
    "\n",
    "X_test = torch.tensor(X_test).float()\n",
    "y_test = torch.tensor(y_test).view(-1, 1).float()\n",
    "\n",
    "datasets = torch.utils.data.TensorDataset(X_train, y_train)\n",
    "train_iter = torch.utils.data.DataLoader(datasets, batch_size=10, shuffle=True)\n",
    "\n",
    "batch_size = 50\n",
    "num_epochs = 200\n",
    "learning_rate = 0.0001\n",
    "size_hidden1 = 100\n",
    "size_hidden2 = 50\n",
    "size_hidden3 = 10\n",
    "size_hidden4 = 1\n",
    "\n",
    "class BostonModel(nn.Module):\n",
    "    def __init__(self):\n",
    "        super().__init__()\n",
    "        self.lin1 = nn.Linear(13, size_hidden1)\n",
    "        self.relu1 = nn.ReLU()\n",
    "        self.lin2 = nn.Linear(size_hidden1, size_hidden2)\n",
    "        self.relu2 = nn.ReLU()\n",
    "        self.lin3 = nn.Linear(size_hidden2, size_hidden3)\n",
    "        self.relu3 = nn.ReLU()\n",
    "        self.lin4 = nn.Linear(size_hidden3, size_hidden4)\n",
    "\n",
    "    def forward(self, input):\n",
    "        return self.lin4(self.relu3(self.lin3(self.relu2(self.lin2(self.relu1(self.lin1(input)))))))\n",
    "\n",
    "model = BostonModel()\n",
    "model.train()\n",
    "\n",
    "criterion = nn.MSELoss(reduction='sum')\n",
    "\n",
    "def train(model_inp, num_epochs = num_epochs):\n",
    "    optimizer = torch.optim.RMSprop(model_inp.parameters(), lr=learning_rate)\n",
    "    for epoch in range(num_epochs):  # loop over the dataset multiple times\n",
    "        running_loss = 0.0\n",
    "        for inputs, labels in train_iter:\n",
    "            # forward pass\n",
    "            outputs = model_inp(inputs)\n",
    "            # defining loss\n",
    "            loss = criterion(outputs, labels)\n",
    "            # zero the parameter gradients\n",
    "            optimizer.zero_grad()\n",
    "            # computing gradients\n",
    "            loss.backward()\n",
    "            # accumulating running loss\n",
    "            running_loss += loss.item()\n",
    "            # updated weights based on computed gradients\n",
    "            optimizer.step()\n",
    "        if epoch % 20 == 0:    \n",
    "            print('Epoch [%d]/[%d] running accumulative loss across all batches: %.3f' %\n",
    "                  (epoch + 1, num_epochs, running_loss))\n",
    "        running_loss = 0.0\n",
    "\n",
    "model_path='/content/boston_model.pt'\n",
    "train(model)\n",
    "print('Finished training the model. Saving the model to the path: {}'.format(model_path))\n",
    "torch.save(model.state_dict(), model_path)"
   ]
  },
  {
   "cell_type": "code",
   "execution_count": null,
   "metadata": {
    "colab": {
     "base_uri": "https://localhost:8080/"
    },
    "executionInfo": {
     "elapsed": 32,
     "status": "ok",
     "timestamp": 1648256509320,
     "user": {
      "displayName": "Likun Cao",
      "photoUrl": "https://lh3.googleusercontent.com/a/default-user=s64",
      "userId": "01917344510473464948"
     },
     "user_tz": 300
    },
    "id": "b_8Ps9uEprwr",
    "outputId": "489de4e0-0963-4cbb-f10d-37fa73da0ee9"
   },
   "outputs": [
    {
     "name": "stdout",
     "output_type": "stream",
     "text": [
      "model err:  5.4122243\n"
     ]
    }
   ],
   "source": [
    "# model evaluation\n",
    "\n",
    "model.eval()\n",
    "outputs = model(X_test)\n",
    "err = np.sqrt(mean_squared_error(outputs.detach().numpy(), y_test.detach().numpy()))\n",
    "\n",
    "print('model err: ', err)"
   ]
  },
  {
   "cell_type": "markdown",
   "metadata": {
    "id": "iMdtNWhDqIBM"
   },
   "source": [
    "Let's compute the attributions with respect to the inputs of the model using different attribution algorithms from core Captum library and visualize them. We use test dataset defined in the cells above for this purpose. For GradientSHAP specifically we use the entire training dataset as the distribution of baselines.\n",
    "\n",
    "SHAP is short for SHapley Additive exPlanations, first described by Lundberg and Lee in 2017 (here is the original paper: https://arxiv.org/abs/1705.07874) a method to reverse-engineer the output of any predictive algorithm. GradientShap approximates SHAP values by computing the expectations of gradients by randomly sampling from the distribution of baselines/references. It adds white noise to each input sample, selects a random baseline from baselines’ distribution and a random point along the path between the baseline and the input, and computes the gradient of outputs with respect to those selected random points. The final SHAP values represent the expected values of gradients * (inputs - baselines). GradientShap makes an assumption that the input features are independent and that the explanation model is linear, meaning that the explanations are modeled through the additive composition of feature effects. Under those assumptions, SHAP value can be approximated as the expectation of gradients computed for randomly generated input samples after adding gaussian noise to each input for different baselines/references.\n",
    "\n",
    "The execution of the cell below takes half a minute."
   ]
  },
  {
   "cell_type": "code",
   "execution_count": null,
   "metadata": {
    "colab": {
     "base_uri": "https://localhost:8080/"
    },
    "executionInfo": {
     "elapsed": 5645,
     "status": "ok",
     "timestamp": 1648256514935,
     "user": {
      "displayName": "Likun Cao",
      "photoUrl": "https://lh3.googleusercontent.com/a/default-user=s64",
      "userId": "01917344510473464948"
     },
     "user_tz": 300
    },
    "id": "G3Qnbjrbp4sl",
    "outputId": "5153b79c-2498-4fbc-f6b2-91cb24d26cdc"
   },
   "outputs": [
    {
     "name": "stderr",
     "output_type": "stream",
     "text": [
      "/usr/local/lib/python3.7/dist-packages/captum/_utils/gradient.py:59: UserWarning: Input Tensor 0 did not already require gradients, required_grads has been set automatically.\n",
      "  \"required_grads has been set automatically.\" % index\n",
      "/usr/local/lib/python3.7/dist-packages/captum/attr/_core/deep_lift.py:339: UserWarning: Setting forward, backward hooks and attributes on non-linear\n",
      "               activations. The hooks and attributes will be removed\n",
      "            after the attribution is finished\n",
      "  after the attribution is finished\"\"\"\n"
     ]
    }
   ],
   "source": [
    "ig = IntegratedGradients(model)\n",
    "ig_nt = NoiseTunnel(ig)\n",
    "dl = DeepLift(model)\n",
    "gs = GradientShap(model)\n",
    "fa = FeatureAblation(model)\n",
    "\n",
    "ig_attr_test = ig.attribute(X_test, n_steps=50)\n",
    "ig_nt_attr_test = ig_nt.attribute(X_test)\n",
    "dl_attr_test = dl.attribute(X_test)\n",
    "gs_attr_test = gs.attribute(X_test, X_train)\n",
    "fa_attr_test = fa.attribute(X_test)"
   ]
  },
  {
   "cell_type": "markdown",
   "metadata": {
    "id": "AGkbalJnry1m"
   },
   "source": [
    "In the next block, we visualize attribution scores with respect to inputs (using test dataset) for our simple model in one plot. This will help us to understand how similar or different the attribution scores assigned from different attribution algorithms are. "
   ]
  },
  {
   "cell_type": "code",
   "execution_count": null,
   "metadata": {
    "colab": {
     "base_uri": "https://localhost:8080/",
     "height": 482
    },
    "executionInfo": {
     "elapsed": 802,
     "status": "ok",
     "timestamp": 1648256515731,
     "user": {
      "displayName": "Likun Cao",
      "photoUrl": "https://lh3.googleusercontent.com/a/default-user=s64",
      "userId": "01917344510473464948"
     },
     "user_tz": 300
    },
    "id": "1S3ow--GrtzL",
    "outputId": "b8abf7bd-0a27-4769-ef7f-807f7c830d7f"
   },
   "outputs": [
    {
     "data": {
      "image/png": "[encoded data removed]",
      "text/plain": [
       "<Figure size 1440x720 with 1 Axes>"
      ]
     },
     "metadata": {
      "needs_background": "light"
     },
     "output_type": "display_data"
    }
   ],
   "source": [
    "# prepare attributions for visualization\n",
    "\n",
    "x_axis_data = np.arange(X_test.shape[1])\n",
    "x_axis_data_labels = list(map(lambda idx: feature_names[idx], x_axis_data))\n",
    "\n",
    "ig_attr_test_sum = ig_attr_test.detach().numpy().sum(0)\n",
    "ig_attr_test_norm_sum = ig_attr_test_sum / np.linalg.norm(ig_attr_test_sum, ord=1)\n",
    "\n",
    "ig_nt_attr_test_sum = ig_nt_attr_test.detach().numpy().sum(0)\n",
    "ig_nt_attr_test_norm_sum = ig_nt_attr_test_sum / np.linalg.norm(ig_nt_attr_test_sum, ord=1)\n",
    "\n",
    "dl_attr_test_sum = dl_attr_test.detach().numpy().sum(0)\n",
    "dl_attr_test_norm_sum = dl_attr_test_sum / np.linalg.norm(dl_attr_test_sum, ord=1)\n",
    "\n",
    "gs_attr_test_sum = gs_attr_test.detach().numpy().sum(0)\n",
    "gs_attr_test_norm_sum = gs_attr_test_sum / np.linalg.norm(gs_attr_test_sum, ord=1)\n",
    "\n",
    "fa_attr_test_sum = fa_attr_test.detach().numpy().sum(0)\n",
    "fa_attr_test_norm_sum = fa_attr_test_sum / np.linalg.norm(fa_attr_test_sum, ord=1)\n",
    "\n",
    "lin_weight = model.lin1.weight[0].detach().numpy()\n",
    "y_axis_lin_weight = lin_weight / np.linalg.norm(lin_weight, ord=1)\n",
    "\n",
    "width = 0.14\n",
    "legends = ['Int Grads', 'Int Grads w/SmoothGrad','DeepLift', 'GradientSHAP', 'Feature Ablation', 'Weights']\n",
    "\n",
    "plt.figure(figsize=(20, 10))\n",
    "\n",
    "ax = plt.subplot()\n",
    "ax.set_title('Comparing input feature importances across multiple algorithms and learned weights')\n",
    "ax.set_ylabel('Attributions')\n",
    "\n",
    "FONT_SIZE = 16\n",
    "plt.rc('font', size=FONT_SIZE)            # fontsize of the text sizes\n",
    "plt.rc('axes', titlesize=FONT_SIZE)       # fontsize of the axes title\n",
    "plt.rc('axes', labelsize=FONT_SIZE)       # fontsize of the x and y labels\n",
    "plt.rc('legend', fontsize=FONT_SIZE - 4)  # fontsize of the legend\n",
    "\n",
    "ax.bar(x_axis_data, ig_attr_test_norm_sum, width, align='center', alpha=0.8, color='#eb5e7c')\n",
    "ax.bar(x_axis_data + width, ig_nt_attr_test_norm_sum, width, align='center', alpha=0.7, color='#A90000')\n",
    "ax.bar(x_axis_data + 2 * width, dl_attr_test_norm_sum, width, align='center', alpha=0.6, color='#34b8e0')\n",
    "ax.bar(x_axis_data + 3 * width, gs_attr_test_norm_sum, width, align='center',  alpha=0.8, color='#4260f5')\n",
    "ax.bar(x_axis_data + 4 * width, fa_attr_test_norm_sum, width, align='center', alpha=1.0, color='#49ba81')\n",
    "ax.bar(x_axis_data + 5 * width, y_axis_lin_weight, width, align='center', alpha=1.0, color='grey')\n",
    "ax.autoscale_view()\n",
    "plt.tight_layout()\n",
    "\n",
    "ax.set_xticks(x_axis_data + 0.5)\n",
    "ax.set_xticklabels(x_axis_data_labels)\n",
    "\n",
    "plt.legend(legends, loc=3)\n",
    "plt.show()"
   ]
  },
  {
   "cell_type": "markdown",
   "metadata": {
    "id": "C_2PhRtksMvo"
   },
   "source": [
    "The magnitudes of learned model weights tell us about the correlations between the dependent variable Price and each independent variable. Zero weight means no correlation, whereas positive weights indicate positive correlations and negatives the opposite. \n",
    "\n",
    "Attribution algorithms sometimes disagree on assigning importance scores and that they are not always aligned with weights. However, the top important three features: LSTAT, RM and PTRATIO are considered to be important based on both most attribution algorithms and weight scores.\n",
    "\n",
    "Captum also allows us to attribute to the layers of the model and understand which neurons appear to be more important. In the cell below, we will attribute to the inputs of the fourth hidden layer of our model. Similar to the previous case, the attribution is performed on the test dataset. "
   ]
  },
  {
   "cell_type": "code",
   "execution_count": null,
   "metadata": {
    "id": "aoD9w1cKsGiR"
   },
   "outputs": [],
   "source": [
    "# Compute the attributions of the output with respect to the inputs of the fourth linear layer\n",
    "lc = LayerConductance(model, model.lin4)\n",
    "lc_attr_test = lc.attribute(X_test, n_steps=100, attribute_to_layer_input=True)\n",
    "\n",
    "# shape: test_examples x size_hidden\n",
    "lc_attr_test = lc_attr_test[0]\n",
    "\n",
    "# weights from forth linear layer\n",
    "# shape: size_hidden4 x size_hidden3\n",
    "lin4_weight = model.lin4.weight"
   ]
  },
  {
   "cell_type": "markdown",
   "metadata": {
    "id": "plqE4N0Ys1tr"
   },
   "source": [
    "In the cell below we normalize and visualize attributions and learned model weights for all 10 neurons in the fourth hidden layer. "
   ]
  },
  {
   "cell_type": "code",
   "execution_count": null,
   "metadata": {
    "colab": {
     "base_uri": "https://localhost:8080/",
     "height": 512
    },
    "executionInfo": {
     "elapsed": 1545,
     "status": "ok",
     "timestamp": 1648256517823,
     "user": {
      "displayName": "Likun Cao",
      "photoUrl": "https://lh3.googleusercontent.com/a/default-user=s64",
      "userId": "01917344510473464948"
     },
     "user_tz": 300
    },
    "id": "7nboU4USpQrU",
    "outputId": "a1ecd684-f641-4bb6-d197-7d6d4c0d34de"
   },
   "outputs": [
    {
     "data": {
      "image/png": "[encoded data removed]",
      "text/plain": [
       "<Figure size 1080x576 with 1 Axes>"
      ]
     },
     "metadata": {
      "needs_background": "light"
     },
     "output_type": "display_data"
    }
   ],
   "source": [
    "plt.figure(figsize=(15, 8))\n",
    "\n",
    "lc = LayerConductance(model, model.lin4)\n",
    "lc_attr_test = lc.attribute(X_test, n_steps=100, attribute_to_layer_input=True)\n",
    "\n",
    "x_axis_data = np.arange(lc_attr_test.shape[1])\n",
    "\n",
    "y_axis_lc_attr_test = lc_attr_test.mean(0).detach().numpy()\n",
    "y_axis_lc_attr_test = y_axis_lc_attr_test / np.linalg.norm(y_axis_lc_attr_test, ord=1)\n",
    "\n",
    "y_axis_lin4_weight = lin4_weight[0].detach().numpy()\n",
    "y_axis_lin4_weight = y_axis_lin4_weight / np.linalg.norm(y_axis_lin4_weight, ord=1)\n",
    "\n",
    "width = 0.25\n",
    "legends = ['Attributions','Weights']\n",
    "x_axis_labels = [ 'Neuron {}'.format(i) for i in range(len(y_axis_lin4_weight))]\n",
    "\n",
    "ax = plt.subplot()\n",
    "ax.set_title('Aggregated neuron importances and learned weights in the last linear layer of the model')\n",
    "\n",
    "ax.bar(x_axis_data + width, y_axis_lc_attr_test, width, align='center', alpha=0.5, color='red')\n",
    "ax.bar(x_axis_data + 2 * width, y_axis_lin4_weight, width, align='center', alpha=0.5, color='green')\n",
    "plt.legend(legends, loc=2, prop={'size': 20})\n",
    "ax.autoscale_view()\n",
    "plt.tight_layout()\n",
    "\n",
    "ax.set_xticks(x_axis_data + 0.5)\n",
    "ax.set_xticklabels(x_axis_labels)\n",
    "\n",
    "plt.show()"
   ]
  },
  {
   "cell_type": "markdown",
   "metadata": {
    "id": "x7AtkOqltjLo"
   },
   "source": [
    "It is interesting to observe that the weights and attribution scores are well aligned for all 10 neurons in the last layer. Meaning that the neurons with negative weights also have negative attribution scores and we can observe the same for the positive weights and attributions."
   ]
  },
  {
   "cell_type": "markdown",
   "metadata": {
    "id": "RRAhu1h3DCd4"
   },
   "source": [
    "## <span style=\"color:red\">*Homework Exercise*</span>\n",
    "\n",
    "<span style=\"color:red\"> Similar to tutorial 1.1, your task here is to use the deep learning models we experimented with on synthetic data but instead using a real world dataset. \n",
    "\n",
    "Immediately below each of the following prompts, add Colab cells that:\n",
    "\n",
    "**1)** Find and load a dataset (with more than 500 data points) into both Keras and PyTorch formats, either (a) related to your research or thesis, (b) curated from a popular data repository, or (c) associated with one of the class projects that students will undertake, which explores a social scientific area of your interest  (e.g., the dataset you used for homework 1.1). [kaggle.com](https://www.kaggle.com/datasets) is a popular website for machine learning related datasets, and you can find a good resource for social science datasets [here](https://guides.emich.edu/data/free-data)."
   ]
  },
  {
   "cell_type": "markdown",
   "metadata": {
    "id": "wx8cPoZpvuSF"
   },
   "source": [
    "**2)** Perform a binary classification task (e.g., predicting the presence of absence of a certain state or code) with a ReLU activation for the hidden layers and a sigmoid activation for the output layer (as demonstrated above) using Keras & Pytorch."
   ]
  },
  {
   "cell_type": "markdown",
   "metadata": {
    "id": "Va-qxtjPv013"
   },
   "source": [
    "**2b)** Which worked better (Keras or PyTorch)?\n",
    "\n"
   ]
  },
  {
   "cell_type": "code",
   "execution_count": null,
   "metadata": {
    "id": "P_B-w8ngwERa"
   },
   "outputs": [],
   "source": [
    "winner = 'PyTorch' #@param ['Select', 'PyTorch', 'Keras']"
   ]
  },
  {
   "cell_type": "markdown",
   "metadata": {
    "id": "CpzJrEjgZVwU"
   },
   "source": [
    "**3)** Create an alternative network that uses a different loss function using whichever package performed better on **2b**."
   ]
  },
  {
   "cell_type": "markdown",
   "metadata": {
    "id": "0LIGYWCjZ7FL"
   },
   "source": [
    "**3b)** Which loss worked better?"
   ]
  },
  {
   "cell_type": "code",
   "execution_count": null,
   "metadata": {
    "id": "z4tf9WFkZx4f"
   },
   "outputs": [],
   "source": [
    "bestloss = 'value' #@param {type:\"string\"}"
   ]
  },
  {
   "cell_type": "markdown",
   "metadata": {
    "id": "BuQIY-O7x5xD"
   },
   "source": [
    "**4)** Create at least 3 alternative neural networks that use a different activation function for the hidden layers (e.g., GELU, tanh, swish) using whichever package performed better on **2b**."
   ]
  },
  {
   "cell_type": "markdown",
   "metadata": {
    "id": "ES-Nupg3yw3X"
   },
   "source": [
    "**4b)** Which activation worked best and what is your hypothesis as to why?"
   ]
  },
  {
   "cell_type": "code",
   "execution_count": null,
   "metadata": {
    "id": "v5Lwu0_Oy8ZB"
   },
   "outputs": [],
   "source": [
    "bestactivation = 'value' #@param {type:\"string\"}"
   ]
  },
  {
   "cell_type": "markdown",
   "metadata": {
    "id": "-C-yTusJxCpd"
   },
   "source": [
    "**5)** Create at least 3 *deeper* network models (between 4 and 20 layers), with more layers of whatever units performed best on **4b** (still using whatever package performed best on **2b**).  "
   ]
  },
  {
   "cell_type": "markdown",
   "metadata": {
    "id": "kzHd5AM6xtt5"
   },
   "source": [
    "**5b)** Which depth performed best?"
   ]
  },
  {
   "cell_type": "code",
   "execution_count": null,
   "metadata": {
    "id": "KT7-vNc2xhk7"
   },
   "outputs": [],
   "source": [
    "bestdepth = 0 #@param {type:\"number\"}"
   ]
  },
  {
   "cell_type": "markdown",
   "metadata": {
    "id": "Keny82CcwbKO"
   },
   "source": [
    "**6)** Perform a regression task on your data using a final linear unit, OR a multi-classification task using the softmax unit. You can use Keras OR PyTorch."
   ]
  },
  {
   "cell_type": "markdown",
   "metadata": {
    "id": "XnSeaHxzz1lB"
   },
   "source": [
    "#@markdown **6b)** Briefly explain what you are predicting, why, and your interpretation of your results.\n",
    "complexpredict = 'value' #@param {type:\"string\"}"
   ]
  },
  {
   "cell_type": "markdown",
   "metadata": {},
   "source": [
    "**7)** Use the Captum library on your model (6 above) and use it to discover the relative importance of input features for the ultimate prediction, and the combination of those features in higher-order features (e.g., neurons) within the model."
   ]
  },
  {
   "cell_type": "code",
   "execution_count": null,
   "metadata": {},
   "outputs": [],
   "source": [
    "#@markdown **7b)** Briefly explain your interpretation of what matters and why based on your Attribution results.\n",
    "complexpredict = 'value' #@param {type:\"string\"}"
   ]
  },
  {
   "cell_type": "markdown",
   "metadata": {
    "id": "7AGHPklPwwtw"
   },
   "source": [
    "## ***Hint***\n",
    "Here is a reasonably sized dataset that we load for you using pandas. You can use it for this homework, or follow the steps to load your own for use in the machine learning tasks above.\n",
    "\n",
    "Note that if using PyTorch you will be converting the values to Tensors.\n",
    "\n",
    "You can get the dataset by the link:\n",
    "\n",
    "https://drive.google.com/file/d/1XQrT4mAeOb79tmkNFFiPFIU4-N9JH7px/view?usp=sharing\n",
    "\n",
    "The dataset comes from Kaggle:\n",
    "\n",
    "https://www.kaggle.com/fedesoriano/company-bankruptcy-prediction"
   ]
  },
  {
   "cell_type": "code",
   "execution_count": null,
   "metadata": {
    "id": "PzxYiEVKuZx5"
   },
   "outputs": [],
   "source": [
    "import pandas as pd"
   ]
  },
  {
   "cell_type": "code",
   "execution_count": null,
   "metadata": {
    "id": "FzVXdGyWubfT"
   },
   "outputs": [],
   "source": [
    "bankruptcy_df = pd.read_csv(path_to_file)"
   ]
  },
  {
   "cell_type": "code",
   "execution_count": null,
   "metadata": {
    "id": "Unxhw9lbaelx"
   },
   "outputs": [],
   "source": [
    "#@markdown How many hours did it take you to complete this homework?\n",
    "hours = 1 #@param {type:\"number\"}"
   ]
  },
  {
   "cell_type": "code",
   "execution_count": null,
   "metadata": {
    "id": "2lxPrzNzakAA"
   },
   "outputs": [],
   "source": [
    "#@markdown How hard was this homework?\n",
    "too_easy_too_hard = 2.5 #@param {type:\"slider\", min:0, max:10, step:0.1}"
   ]
  }
 ],
 "metadata": {
  "accelerator": "GPU",
  "colab": {
   "collapsed_sections": [
    "RRAhu1h3DCd4"
   ],
   "name": "Tutorial_2_intro_neural_nets.ipynb",
   "provenance": [
    {
     "file_id": "18NT8eyzhlDN9h-lb6svRsbxJ6r3tPNRU",
     "timestamp": 1648166121770
    },
    {
     "file_id": "1jV7vEei7PgdQOjKcwT0r6QTf8r0OeXMA",
     "timestamp": 1617033479808
    }
   ]
  },
  "kernelspec": {
   "display_name": "Python 3 (ipykernel)",
   "language": "python",
   "name": "python3"
  },
  "language_info": {
   "codemirror_mode": {
    "name": "ipython",
    "version": 3
   },
   "file_extension": ".py",
   "mimetype": "text/x-python",
   "name": "python",
   "nbconvert_exporter": "python",
   "pygments_lexer": "ipython3",
   "version": "3.9.7"
  }
 },
 "nbformat": 4,
 "nbformat_minor": 1
}
